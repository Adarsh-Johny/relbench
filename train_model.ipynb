{
 "cells": [
  {
   "cell_type": "code",
   "execution_count": null,
   "metadata": {},
   "outputs": [],
   "source": [
    "import torch\n",
    "import pyg_lib\n",
    "\n",
    "print(\"PyTorch Version:\", torch.__version__)\n",
    "print(\"pyg-lib Version:\", pyg_lib.__version__)\n"
   ]
  },
  {
   "cell_type": "code",
   "execution_count": null,
   "metadata": {
    "colab": {
     "base_uri": "https://localhost:8080/"
    },
    "id": "zNziUzq9nTdU",
    "outputId": "edb40abf-b984-4fec-8033-1ed92fbdb128"
   },
   "outputs": [],
   "source": [
    "# # # Install required packages.\n",
    "# !pip install torch==2.6.0\n",
    "# !pip install torch-geometric torch-sparse torch-scatter torch-cluster torch-spline-conv pyg-lib -f https://data.pyg.org/whl/torch-2.4.0+cpu.html\n",
    "# !pip install pytorch_frame\n",
    "# !pip install -U sentence-transformers # we need another package for text encoding\n"
   ]
  },
  {
   "cell_type": "code",
   "execution_count": null,
   "metadata": {
    "execution": {
     "iopub.execute_input": "2024-07-26T00:05:04.397024Z",
     "iopub.status.busy": "2024-07-26T00:05:04.396612Z",
     "iopub.status.idle": "2024-07-26T00:05:05.049064Z",
     "shell.execute_reply": "2024-07-26T00:05:05.048407Z",
     "shell.execute_reply.started": "2024-07-26T00:05:04.397003Z"
    }
   },
   "outputs": [],
   "source": [
    "import os\n",
    "import math\n",
    "import numpy as np\n",
    "from tqdm import tqdm\n",
    "\n",
    "import torch\n",
    "import torch_geometric\n",
    "import torch_frame\n"
   ]
  },
  {
   "cell_type": "code",
   "execution_count": null,
   "metadata": {
    "id": "6DWB-Kf6nl2y"
   },
   "outputs": [],
   "source": [
    "\n",
    "from torch.nn import BCEWithLogitsLoss, L1Loss\n",
    "from relbench.datasets import get_dataset\n",
    "from relbench.tasks import get_task\n",
    "\n",
    "dataset = get_dataset(\"rel-f1\", download=True)\n",
    "task = get_task(\"rel-f1\", \"driver-position\", download=True)\n",
    "\n",
    "train_table = task.get_table(\"train\")\n",
    "val_table = task.get_table(\"val\")\n",
    "test_table = task.get_table(\"test\")\n",
    "\n",
    "out_channels = 1\n",
    "loss_fn = L1Loss()\n",
    "tune_metric = \"rmse\"\n",
    "higher_is_better = False"
   ]
  },
  {
   "cell_type": "markdown",
   "metadata": {
    "id": "UKFT5H51j_Um"
   },
   "source": [
    "Let's check out the training table just to make sure it looks fine."
   ]
  },
  {
   "cell_type": "code",
   "execution_count": null,
   "metadata": {
    "colab": {
     "base_uri": "https://localhost:8080/"
    },
    "id": "ABN_fdN3kAB9",
    "outputId": "03d4a31a-124d-45c7-b4dc-9713e5e4b942"
   },
   "outputs": [],
   "source": [
    "train_table"
   ]
  },
  {
   "cell_type": "markdown",
   "metadata": {
    "id": "qQhuHIdHkOxv"
   },
   "source": [
    "Note that to load the data we did not require any deep learning libraries. Now we introduce the PyTorch Frame library, which is useful for encoding individual tables into initial node features."
   ]
  },
  {
   "cell_type": "code",
   "execution_count": null,
   "metadata": {
    "colab": {
     "base_uri": "https://localhost:8080/"
    },
    "id": "qNzfdwsrkPIo",
    "outputId": "c985185e-b785-405e-bd46-ebf2f48e3ac6"
   },
   "outputs": [],
   "source": [
    "# Some book keeping\n",
    "from torch_geometric.seed import seed_everything\n",
    "\n",
    "seed_everything(42)\n",
    "\n",
    "\n",
    "device = torch.device(\"cuda\" if torch.cuda.is_available() else \"cpu\")\n",
    "print(device)  # check that it's cuda if you want it to run in reasonable time!\n",
    "root_dir = \".tutorials/data\""
   ]
  },
  {
   "cell_type": "markdown",
   "metadata": {
    "id": "0Y79g5H0kVjX"
   },
   "source": [
    "The first big move is to build a graph out of the database. Here we use our pre-prepared conversion function.\n",
    "\n",
    "The source code can be found at: https://github.com/snap-stanford/relbench/blob/main/relbench/modeling/graph.py\n",
    "\n",
    "Each node in the graph corresonds to a single row in the database. Crucially, PyTorch Frame stores whole tables as objects in a way that is compatibile with PyG minibatch sampling, meaning we can sample subgraphs as in https://arxiv.org/abs/1706.02216, and retrieve the relevant raw features.\n",
    "\n",
    "PyTorch Frame also stores the `stype` (i.e., modality) of each column, and any specialized feature encoders (e.g., text encoders) to be used later. So we need to configure the `stype` for each column, for which we use a function that tries to automatically detect the `stype`."
   ]
  },
  {
   "cell_type": "code",
   "execution_count": null,
   "metadata": {
    "colab": {
     "base_uri": "https://localhost:8080/"
    },
    "id": "kiV3TGI-kRuy",
    "outputId": "98e88ec3-ab38-4a14-8dd8-24f3ea349893"
   },
   "outputs": [],
   "source": [
    "from relbench.modeling.utils import get_stype_proposal\n",
    "\n",
    "db = dataset.get_db()\n",
    "col_to_stype_dict = get_stype_proposal(db)\n",
    "col_to_stype_dict"
   ]
  },
  {
   "cell_type": "markdown",
   "metadata": {
    "id": "Sm3uYXqXkbZt"
   },
   "source": [
    "If trying a new dataset, you should definitely check through this dict of `stype`s to check that look right, and manually change any mistakes by the auto-detection function.\n",
    "\n",
    "Next we also define our text encoding model, which we use GloVe embeddings for speed and convenience. Feel free to try alternatives here."
   ]
  },
  {
   "cell_type": "code",
   "execution_count": null,
   "metadata": {
    "colab": {
     "base_uri": "https://localhost:8080/"
    },
    "id": "QQHYmgIxkX1j",
    "outputId": "857b70dd-e7eb-4b09-a5cd-394fccef758a"
   },
   "outputs": [],
   "source": [
    "from typing import List, Optional\n",
    "from sentence_transformers import SentenceTransformer\n",
    "from torch import Tensor\n",
    "\n",
    "\n",
    "class GloveTextEmbedding:\n",
    "    def __init__(self, device: Optional[torch.device\n",
    "                                            ] = None):\n",
    "        self.model = SentenceTransformer(\n",
    "            \"sentence-transformers/average_word_embeddings_glove.6B.300d\",\n",
    "            device=device if torch.cuda.is_available() else \"cpu\"\n",
    "        )\n",
    "\n",
    "    def __call__(self, sentences: List[str]) -> Tensor:\n",
    "        return torch.from_numpy(self.model.encode(sentences))"
   ]
  },
  {
   "cell_type": "code",
   "execution_count": null,
   "metadata": {
    "colab": {
     "base_uri": "https://localhost:8080/"
    },
    "id": "L-BBpUrakdwY",
    "outputId": "b152bf13-f47d-4728-d58b-fc65f738b03d"
   },
   "outputs": [],
   "source": [
    "import os\n",
    "import pickle\n",
    "\n",
    "output_file = 'output_fi.pkl'\n",
    "cached = True\n",
    "\n",
    "if os.path.exists(output_file) and cached:\n",
    "    # File exists: load the data\n",
    "    with open(output_file, 'rb') as f:\n",
    "        data, col_stats_dict = pickle.load(f)\n",
    "    print(\"Loaded data from file.\")\n",
    "else:\n",
    "    # File does not exist: run the code and save the output\n",
    "    from torch_frame.config.text_embedder import TextEmbedderConfig\n",
    "    from relbench.modeling.graph import make_snapshot_graph\n",
    "    # Ensure GloveTextEmbedding, device, db, col_to_stype_dict, and root_dir are defined\n",
    "    text_embedder_cfg = TextEmbedderConfig(\n",
    "        text_embedder=GloveTextEmbedding(device=device), batch_size=256\n",
    "    )\n",
    "    \n",
    "    data, col_stats_dict = make_snapshot_graph(\n",
    "        db,\n",
    "        col_to_stype_dict=col_to_stype_dict,              # specified column types\n",
    "        main_table_name=\"races\",                          # use 'races' table as timestamp reference\n",
    "        interval_days=720,                                 # generate snapshots every 30 days\n",
    "        text_embedder_cfg=text_embedder_cfg,              # chosen text encoder\n",
    "        cache_dir=os.path.join(root_dir, \"rel-f1_materialized_cache\"),  # store materialized graph for convenience\n",
    "    )\n",
    "    \n",
    "    # Save the output to a file for future use\n",
    "    with open(output_file, 'wb') as f:\n",
    "        pickle.dump((data, col_stats_dict), f)\n",
    "    print(\"Data computed and saved to file.\")\n"
   ]
  },
  {
   "cell_type": "code",
   "execution_count": null,
   "metadata": {},
   "outputs": [],
   "source": [
    "import networkx as nx\n",
    "import matplotlib.pyplot as plt\n",
    "from torch_geometric.utils import to_networkx\n",
    "\n",
    "def visualize_hetero_graph(snapshot, num_nodes=10):\n",
    "    \"\"\"Visualize a small portion of a heterogeneous graph with a specific edge type.\"\"\"\n",
    "    \n",
    "    # Select the first available edge type (e.g., ('node_type1', 'relation', 'node_type2'))\n",
    "    edge_type = list(snapshot.edge_index_dict.keys())[0]\n",
    "    print(f\"Using edge type: {edge_type}\")  # Debugging\n",
    "\n",
    "    # Extract edge index for the selected edge type\n",
    "    edge_index = snapshot[edge_type].edge_index\n",
    "    \n",
    "    # Convert the selected subgraph to NetworkX\n",
    "    nx_graph = nx.Graph()  # Create an empty NetworkX graph\n",
    "\n",
    "    # Add edges from edge_index\n",
    "    for i in range(edge_index.shape[1]):\n",
    "        src = int(edge_index[0, i].item())\n",
    "        dst = int(edge_index[1, i].item())\n",
    "        if edge_index.numel() == 0:\n",
    "            print(f\"⚠️ Warning: Edge type {edge_type} has no edges! Skipping visualization.\")\n",
    "            return\n",
    "        nx_graph.add_edge(src, dst)  # Add edge to the NetworkX graph\n",
    "\n",
    "    # Get a subset of nodes\n",
    "    sampled_nodes = list(nx_graph.nodes)[:num_nodes]\n",
    "    subgraph = nx_graph.subgraph(sampled_nodes)\n",
    "    \n",
    "    # Plot the graph\n",
    "    plt.figure(figsize=(8, 6))\n",
    "    nx.draw(subgraph, with_labels=True, node_color='lightblue', edge_color='gray', node_size=500, font_size=10)\n",
    "    plt.title(f\"Visualization of {num_nodes} nodes from edge type {edge_type}\")\n",
    "    plt.show()\n",
    "\n",
    "# Select the first snapshot\n",
    "snapshot = data[1]  # Assuming data is a list of snapshots\n",
    "\n",
    "# Call the function\n",
    "visualize_hetero_graph(snapshot, num_nodes=150)\n"
   ]
  },
  {
   "cell_type": "markdown",
   "metadata": {
    "id": "mwQejmg0kzOg"
   },
   "source": [
    "We can now check out `data`, our main graph object. `data` is a heterogeneous and temporal graph, with node types given by the table it originates from."
   ]
  },
  {
   "cell_type": "code",
   "execution_count": null,
   "metadata": {
    "colab": {
     "base_uri": "https://localhost:8080/"
    },
    "id": "Gt4a8lw1kufy",
    "outputId": "4117959f-6f0d-4c31-9489-49db7d5f3c5d"
   },
   "outputs": [],
   "source": [
    "data[1]"
   ]
  },
  {
   "cell_type": "markdown",
   "metadata": {
    "id": "yd6DqCXgk41x"
   },
   "source": [
    "We can also check out the TensorFrame for one table like this:"
   ]
  },
  {
   "cell_type": "code",
   "execution_count": null,
   "metadata": {
    "colab": {
     "base_uri": "https://localhost:8080/"
    },
    "id": "-mMQTQeLk1rl",
    "outputId": "04d698af-a4f4-4a98-8321-b5f8dc6ee10d"
   },
   "outputs": [],
   "source": [
    "col_stats_dict"
   ]
  },
  {
   "cell_type": "markdown",
   "metadata": {},
   "source": []
  },
  {
   "cell_type": "markdown",
   "metadata": {
    "id": "1kbysKXMk-3X"
   },
   "source": [
    "This may be a little confusing at first, as in graph ML it is more standard to associate to the graph object `data` a tensor, e.g., `data.x` for which `data.x[idx]` is a 1D array/tensor storing all the features for node with index `idx`.\n",
    "\n",
    "But actually this `data` object behaves similarly. For a given node type, e.g., `races` again, `data['races']` stores two pieces of information\n"
   ]
  },
  {
   "cell_type": "code",
   "execution_count": null,
   "metadata": {
    "colab": {
     "base_uri": "https://localhost:8080/"
    },
    "id": "cDIcp7L5k6pU",
    "outputId": "be742ecb-02db-43e6-9c12-53fb00e51fec"
   },
   "outputs": [],
   "source": [
    "print(len(data))  # Number of snapshots created\n"
   ]
  },
  {
   "cell_type": "markdown",
   "metadata": {
    "id": "Z18qPRPllB1H"
   },
   "source": [
    "A `TensorFrame` object, and a timestamp for each node. The `TensorFrame` object acts analogously to the usual tensor of node features, and you can simply use indexing to retrieve the features of a single row (node), or group of nodes."
   ]
  },
  {
   "cell_type": "code",
   "execution_count": null,
   "metadata": {
    "colab": {
     "base_uri": "https://localhost:8080/"
    },
    "id": "eYZ28pzNlG4s",
    "outputId": "1066a167-2e3b-4ad6-d929-02acf18cad0e"
   },
   "outputs": [],
   "source": [
    "data[1][\"races\"].tf[10:20]"
   ]
  },
  {
   "cell_type": "markdown",
   "metadata": {
    "id": "Ql15svcelK3A"
   },
   "source": [
    "We can also check the edge indices between two different node types, such as `races` amd `circuits`. Note that the edges are also heterogenous, so we also need to specify which edge type we want to look at. Here we look at `f2p_curcuitId`, which are the directed edges pointing _from_ a race (the `f` stands for `foreign key`), _to_ the circuit at which te race happened (the `p` stands for `primary key`)."
   ]
  },
  {
   "cell_type": "code",
   "execution_count": null,
   "metadata": {},
   "outputs": [],
   "source": [
    "data.__sizeof__()"
   ]
  },
  {
   "cell_type": "code",
   "execution_count": null,
   "metadata": {},
   "outputs": [],
   "source": [
    "for edge_type in data[0].edge_types:\n",
    "    print(f\"Edge: {edge_type}, Shape: {data[0][edge_type].edge_index.shape}\")\n"
   ]
  },
  {
   "cell_type": "code",
   "execution_count": null,
   "metadata": {},
   "outputs": [],
   "source": [
    "for node_type in data[14].node_types:\n",
    "    print(f\"Node: {node_type}, Feature Shape: {data[14][node_type].tf}\")\n"
   ]
  },
  {
   "cell_type": "code",
   "execution_count": null,
   "metadata": {
    "colab": {
     "base_uri": "https://localhost:8080/"
    },
    "id": "TynkD36QlInL",
    "outputId": "abc2f80d-5ff4-42b1-f9e3-bd9f004d84ee"
   },
   "outputs": [],
   "source": [
    "data[1][(\"races\", \"f2p_circuitId\", \"circuits\")]"
   ]
  },
  {
   "cell_type": "markdown",
   "metadata": {
    "id": "Xx4V5KCelNxl"
   },
   "source": [
    "Now we are ready to instantiate our data loaders. For this we will need to import PyTorch Geometric, our GNN library. Whilst we're at it let's add a seed.\n"
   ]
  },
  {
   "cell_type": "code",
   "execution_count": null,
   "metadata": {
    "id": "HUHVG-g6lM-b"
   },
   "outputs": [],
   "source": [
    "from relbench.modeling.graph import get_node_train_table_input\n",
    "from torch_geometric.loader import NeighborLoader\n",
    "import torch\n",
    "\n",
    "loader_dict = {}\n",
    "for split, table in [(\"train\", train_table), (\"val\", val_table), (\"test\", test_table)]:\n",
    "    table_input = get_node_train_table_input(table=table, task=task)\n",
    "    entity_table = table_input.nodes[0]  # 'drivers'\n",
    "    loader_dict[split] = []\n",
    "\n",
    "    # Get driverIds from the table\n",
    "    driver_ids = torch.tensor(table.df['driverId'].values, dtype=torch.long)\n",
    "\n",
    "    for snapshot_idx, snapshot in enumerate(data):\n",
    "        time_attr = \"time\" if table_input.time is not None and \"time\" in snapshot.get(entity_table, {}) else None\n",
    "        if time_attr is None and 'dob' in snapshot.get(entity_table, {}):\n",
    "            time_attr = 'dob'\n",
    "\n",
    "        if snapshot[entity_table].num_nodes is None or snapshot[entity_table].num_nodes == 0:\n",
    "            print(f\"⚠️ No nodes for {entity_table}. Skipping snapshot {snapshot_idx}.\")\n",
    "            continue\n",
    "        print(f\"Available node types in snapshot {snapshot_idx}: {snapshot.node_types}\")\n",
    "        if entity_table not in snapshot.node_types:\n",
    "            print(f\"⚠️ Warning: {entity_table} not found in snapshot {snapshot_idx}. Skipping.\")\n",
    "            continue\n",
    "\n",
    "        # Map driverIds to snapshot node indices (assuming 'n_id' or similar exists)\n",
    "        if 'n_id' not in snapshot[entity_table]:\n",
    "            print(f\"⚠️ Warning: 'n_id' not found in {entity_table} for snapshot {snapshot_idx}. Assuming sequential IDs.\")\n",
    "            snapshot[entity_table].n_id = torch.arange(snapshot[entity_table].num_nodes)\n",
    "        \n",
    "        # Find indices of driverIds in the snapshot\n",
    "        snapshot_driver_ids = snapshot[entity_table].n_id\n",
    "        mask = torch.isin(snapshot_driver_ids, driver_ids)\n",
    "        input_node_indices = snapshot_driver_ids[mask]\n",
    "\n",
    "        if len(input_node_indices) == 0:\n",
    "            print(f\"⚠️ No matching {entity_table} nodes in snapshot {snapshot_idx} for {split} table.\")\n",
    "            continue\n",
    "\n",
    "        loader = NeighborLoader(\n",
    "            snapshot,\n",
    "            num_neighbors=[10, 10],\n",
    "            time_attr=time_attr,\n",
    "            input_nodes=(entity_table, input_node_indices),  # Restrict to matching nodes\n",
    "            input_time=table_input.time if time_attr is not None else None,\n",
    "            transform=table_input.transform,\n",
    "            batch_size=512,\n",
    "            temporal_strategy=\"uniform\",\n",
    "            shuffle=(split == \"train\"),\n",
    "            num_workers=0,\n",
    "            persistent_workers=False,\n",
    "        )\n",
    "        if not any(loader):\n",
    "            print(f\"⚠️ Loader for {entity_table} in snapshot {snapshot_idx} is empty!\")\n",
    "        else:\n",
    "            print(f\"Loader for snapshot {snapshot_idx} created with {len(input_node_indices)} input nodes.\")\n",
    "        loader_dict[split].append(loader)\n",
    "\n",
    "# Debug loaders\n",
    "for split in [\"train\", \"val\", \"test\"]:\n",
    "    print(f\"\\nChecking {split} loaders:\")\n",
    "    for i, snapshot_loader in enumerate(loader_dict[split]):\n",
    "        print(f\"  Snapshot {i}:\")\n",
    "        batches = list(snapshot_loader)\n",
    "        print(f\"    Number of batches: {len(batches)}\")\n",
    "        for j, batch in enumerate(batches[:2]):  # Limit to first 2 batches\n",
    "            print(f\"    Batch {j}: {batch}\")"
   ]
  },
  {
   "cell_type": "code",
   "execution_count": null,
   "metadata": {},
   "outputs": [],
   "source": [
    "print(f\"Available node types in snapshot[0]: {data[0].node_types}\")\n"
   ]
  },
  {
   "cell_type": "markdown",
   "metadata": {
    "id": "BQc8BWsGludR"
   },
   "source": [
    "Now we need our model...\n",
    "\n",
    "\n"
   ]
  },
  {
   "cell_type": "code",
   "execution_count": null,
   "metadata": {
    "id": "u3m3jEqClQnw"
   },
   "outputs": [],
   "source": [
    "from typing import Any, Dict, List\n",
    "import torch\n",
    "from torch import nn, Tensor\n",
    "from torch.nn import L1Loss, Embedding, ModuleDict\n",
    "from torch_geometric.data import HeteroData\n",
    "from torch_geometric.nn import MLP\n",
    "from torch_frame.data.stats import StatType\n",
    "from torch_geometric.typing import NodeType, EdgeType\n",
    "from relbench.modeling.nn import HeteroEncoder, HeteroGraphSAGE, LSTMBasedTemporalEncoder\n",
    "from torch_frame.nn import TabTransformer\n",
    "from torch.nn import LayerNorm, Sequential, Linear, ReLU\n",
    "from torch_frame import stype  # must be imported\n",
    "\n",
    "#############################################\n",
    "# Custom TabTransformer\n",
    "#############################################\n",
    "class CustomTabTransformer(TabTransformer):\n",
    "    def __init__(self, *args, num_encoder_out_dim=None, **kwargs):\n",
    "        self.channels = kwargs.get(\"channels\")\n",
    "        if self.channels is None:\n",
    "            raise ValueError(\"channels must be provided to CustomTabTransformer\")\n",
    "        super().__init__(*args, **kwargs)\n",
    "        if hasattr(self, 'num_encoder') and self.num_encoder is not None:\n",
    "            if num_encoder_out_dim is None:\n",
    "                num_encoder_out_dim = 1\n",
    "            self.num_proj = Linear(num_encoder_out_dim, self.channels)\n",
    "        else:\n",
    "            self.num_proj = None\n",
    "\n",
    "        # Compute the total input size from all encoders.\n",
    "        input_size = 0\n",
    "        if hasattr(self, 'cat_encoder') and self.cat_encoder is not None:\n",
    "            input_size += self.channels\n",
    "        if hasattr(self, 'num_encoder') and self.num_encoder is not None:\n",
    "            input_size += self.channels\n",
    "        if hasattr(self, 'multi_cat_encoder') and self.multi_cat_encoder is not None:\n",
    "            input_size += self.channels\n",
    "        if hasattr(self, 'text_embedded_encoder') and self.text_embedded_encoder is not None:\n",
    "            input_size += self.channels\n",
    "        if hasattr(self, 'timestamp_encoder') and self.timestamp_encoder is not None:\n",
    "            input_size += self.channels\n",
    "\n",
    "        out_channels = kwargs[\"out_channels\"]\n",
    "        self.decoder = Sequential(\n",
    "            Linear(input_size, out_channels),\n",
    "            ReLU(),\n",
    "            LayerNorm(out_channels),\n",
    "            Linear(out_channels, out_channels),\n",
    "        )\n",
    "        print(f\"Decoder input size: {input_size}, out_channels: {out_channels}\")\n",
    "\n",
    "    def forward(self, tf):\n",
    "        xs = []\n",
    "        # Process categorical features.\n",
    "        if hasattr(self, 'cat_encoder') and self.cat_encoder is not None:\n",
    "            if hasattr(tf, \"feat_dict\") and stype.categorical in tf.feat_dict:\n",
    "                cat_data = tf.feat_dict[stype.categorical]\n",
    "            else:\n",
    "                raise ValueError(\"No categorical features found in the TensorFrame using stype.categorical.\")\n",
    "            x_cat = self.cat_encoder(cat_data)\n",
    "            if x_cat.dim() == 3:\n",
    "                x_cat = x_cat.mean(dim=1)\n",
    "            xs.append(x_cat)\n",
    "        # Process numerical features.\n",
    "        if hasattr(self, 'num_encoder') and self.num_encoder is not None:\n",
    "            if hasattr(tf, \"feat_dict\") and stype.numerical in tf.feat_dict:\n",
    "                num_data = tf.feat_dict[stype.numerical]\n",
    "            else:\n",
    "                raise ValueError(\"No numerical features found in the TensorFrame using stype.numerical.\")\n",
    "            x_num = self.num_encoder(num_data)\n",
    "            if self.num_proj is not None:\n",
    "                x_num = self.num_proj(x_num)\n",
    "            if x_num.dim() == 3:\n",
    "                x_num = x_num.mean(dim=1)\n",
    "            xs.append(x_num)\n",
    "        if xs:\n",
    "            x = torch.cat(xs, dim=1)\n",
    "        else:\n",
    "            raise ValueError(\"No valid features were encoded!\")\n",
    "        out = self.decoder(x)\n",
    "        return out\n",
    "\n",
    "#############################################\n",
    "# Model Definition\n",
    "#############################################\n",
    "class Model(nn.Module):\n",
    "    def __init__(\n",
    "        self,\n",
    "        data: List[HeteroData],\n",
    "        col_to_stype_dict: Dict[str, Dict[str, 'stype']],\n",
    "        col_stats_dict: Dict[str, Dict[str, Dict[StatType, Any]]],\n",
    "        num_layers: int,\n",
    "        channels: int,\n",
    "        out_channels: int,\n",
    "        aggr: str,\n",
    "        norm: str,\n",
    "        shallow_list: List[NodeType] = [],\n",
    "        id_awareness: bool = False,\n",
    "    ):\n",
    "        super().__init__()\n",
    "        # Build mapping: node type -> {stype: [column names]}\n",
    "        node_to_col_names_dict = {}\n",
    "        for node_type, col_to_stype in col_to_stype_dict.items():\n",
    "            col_names_dict = {}\n",
    "            for col, stype_val in col_to_stype.items():\n",
    "                if stype_val not in col_names_dict:\n",
    "                    col_names_dict[stype_val] = []\n",
    "                col_names_dict[stype_val].append(col)\n",
    "            node_to_col_names_dict[node_type] = col_names_dict\n",
    "\n",
    "        self.encoder = HeteroEncoder(\n",
    "            channels=channels,\n",
    "            node_to_col_names_dict=node_to_col_names_dict,\n",
    "            node_to_col_stats=col_stats_dict,\n",
    "            col_to_stype_dict=col_to_stype_dict,\n",
    "            torch_frame_model_cls=CustomTabTransformer,\n",
    "            torch_frame_model_kwargs={\n",
    "                \"num_layers\": num_layers,\n",
    "                \"out_channels\": channels,\n",
    "                \"num_heads\": 4,\n",
    "                \"attn_dropout\": 0.1,\n",
    "                \"ffn_dropout\": 0.1,\n",
    "                \"num_encoder_out_dim\": 1,\n",
    "            },\n",
    "        )\n",
    "\n",
    "        self.temporal_encoder = LSTMBasedTemporalEncoder(\n",
    "            node_types=[node for node in data[0].node_types if \"time\" in data[0][node]],\n",
    "            channels=channels\n",
    "        )\n",
    "\n",
    "        self.gnn = HeteroGraphSAGE(\n",
    "            node_types=data[0].node_types,\n",
    "            edge_types=data[0].edge_types,\n",
    "            channels=channels,\n",
    "            aggr=aggr,\n",
    "            num_layers=num_layers,\n",
    "        )\n",
    "\n",
    "        self.head = MLP(\n",
    "            channels,\n",
    "            out_channels=out_channels,\n",
    "            norm=norm,\n",
    "            num_layers=1,\n",
    "        )\n",
    "\n",
    "        self.embedding_dict = ModuleDict({\n",
    "            node: Embedding(data[0].num_nodes_dict.get(node, 0), channels)\n",
    "            for node in shallow_list if data[0].num_nodes_dict.get(node, 0) > 0\n",
    "        })\n",
    "\n",
    "        self.id_awareness_emb = None\n",
    "        if id_awareness:\n",
    "            self.id_awareness_emb = nn.Embedding(1, channels)\n",
    "        self.reset_parameters()\n",
    "\n",
    "    def reset_parameters(self):\n",
    "        self.encoder.reset_parameters()\n",
    "        self.temporal_encoder.reset_parameters()\n",
    "        self.gnn.reset_parameters()\n",
    "        self.head.reset_parameters()\n",
    "        for emb in self.embedding_dict.values():\n",
    "            nn.init.normal_(emb.weight, std=0.1)\n",
    "        if self.id_awareness_emb is not None:\n",
    "            self.id_awareness_emb.reset_parameters()\n",
    "                    \n",
    "    def forward(self, batch: HeteroData, entity_table: NodeType) -> Tensor:\n",
    "        seed_time = batch.time_dict.get(entity_table, None)\n",
    "        # Encode features from each node type that has a TensorFrame.\n",
    "        x_dict = self.encoder({\n",
    "            node_type: batch[node_type].tf \n",
    "            for node_type in batch.node_types if hasattr(batch[node_type], 'tf')\n",
    "        })\n",
    "        # Add shallow embeddings.\n",
    "        for node_type, emb in self.embedding_dict.items():\n",
    "            if node_type not in x_dict or x_dict[node_type] is None:\n",
    "                n = batch[node_type].num_nodes if hasattr(batch[node_type], 'num_nodes') else 0\n",
    "                device = next(self.parameters()).device\n",
    "                x_dict[node_type] = emb(torch.arange(n, device=device))\n",
    "            else:\n",
    "                n = batch[node_type].num_nodes if hasattr(batch[node_type], 'num_nodes') else x_dict[node_type].size(0)\n",
    "                device = next(self.parameters()).device\n",
    "                emb_tensor = emb(torch.arange(n, device=device))\n",
    "                if x_dict[node_type].size(0) < n:\n",
    "                    pad = torch.zeros((n - x_dict[node_type].size(0), x_dict[node_type].size(1)), device=device)\n",
    "                    x_dict[node_type] = torch.cat([x_dict[node_type], pad], dim=0)\n",
    "                x_dict[node_type] = x_dict[node_type] + emb_tensor\n",
    "\n",
    "        # Ensure each node type has a feature tensor with expected number of rows.\n",
    "        for node_type in batch.node_types:\n",
    "            if not hasattr(batch[node_type], 'num_nodes'):\n",
    "                continue\n",
    "            expected = batch[node_type].num_nodes\n",
    "            if node_type not in x_dict or x_dict[node_type] is None:\n",
    "                device = next(self.parameters()).device\n",
    "                x_dict[node_type] = torch.zeros((expected, 128), device=device)\n",
    "            else:\n",
    "                if x_dict[node_type].size(0) < expected:\n",
    "                    pad = torch.zeros((expected - x_dict[node_type].size(0), x_dict[node_type].size(1)),\n",
    "                                      device=x_dict[node_type].device)\n",
    "                    x_dict[node_type] = torch.cat([x_dict[node_type], pad], dim=0)\n",
    "        \n",
    "        # Optionally apply temporal encoding.\n",
    "        rel_time_dict = {}\n",
    "        if seed_time is not None:\n",
    "            rel_time_dict = self.temporal_encoder(x_dict, batch.time_dict, batch.batch_dict)\n",
    "        for node_type, rel_time in rel_time_dict.items():\n",
    "            if node_type in x_dict:\n",
    "                x_dict[node_type] = x_dict[node_type] + rel_time\n",
    "            else:\n",
    "                x_dict[node_type] = rel_time\n",
    "\n",
    "        # Filter out edge relations with empty indices.\n",
    "        filtered_edge_index_dict = {key: value for key, value in batch.edge_index_dict.items() if value.numel() > 0}\n",
    "        \n",
    "        # IMPORTANT: Only keep node types expected by the GNN.\n",
    "        expected_node_types = set(self.gnn.norms[0].keys())\n",
    "        x_dict = {k: v for k, v in x_dict.items() if k in expected_node_types}\n",
    "\n",
    "        # Pass features through the GNN.\n",
    "        x_dict = self.gnn(x_dict, filtered_edge_index_dict)\n",
    "        n = seed_time.size(0) if seed_time is not None else x_dict[entity_table].size(0)\n",
    "        return self.head(x_dict[entity_table][:n])\n",
    "\n",
    "#############################################\n",
    "# Instantiate model, optimizer, loss, etc.\n",
    "#############################################\n",
    "# Ensure 'data', 'col_to_stype_dict', 'col_stats_dict', 'device', etc. are defined.\n",
    "model = Model(\n",
    "    data=data,\n",
    "    col_to_stype_dict=col_to_stype_dict,\n",
    "    col_stats_dict=col_stats_dict,\n",
    "    num_layers=2,\n",
    "    channels=128,\n",
    "    out_channels=1,\n",
    "    aggr=\"sum\",\n",
    "    norm=\"batch_norm\",\n",
    "    id_awareness=True,\n",
    ").to(device)\n",
    "\n",
    "optimizer = torch.optim.Adam(model.parameters(), lr=0.005)\n",
    "loss_fn = L1Loss()\n",
    "epochs = 10\n"
   ]
  },
  {
   "cell_type": "markdown",
   "metadata": {
    "id": "Vl-6So7Llb-p"
   },
   "source": [
    "We also need standard train/test loops"
   ]
  },
  {
   "cell_type": "code",
   "execution_count": null,
   "metadata": {
    "id": "SAHRIr15lVs6"
   },
   "outputs": [],
   "source": [
    "from tqdm import tqdm\n",
    "import numpy as np\n",
    "import copy\n",
    "\n",
    "def train() -> float:\n",
    "    model.train()\n",
    "    loss_accum = count_accum = 0\n",
    "    for snapshot_loader in tqdm(loader_dict[\"train\"]):\n",
    "        for batch in snapshot_loader:\n",
    "            batch = batch.to(device)\n",
    "            print(f\"Batch node types: {batch.node_types}\")\n",
    "            # Robust check for entity_table\n",
    "            if task.entity_table not in batch.node_types:\n",
    "                print(f\"Warning: {task.entity_table} not in batch.node_types. Checking batch keys: {list(batch.keys())}\")\n",
    "                if task.entity_table not in batch:\n",
    "                    raise ValueError(f\"Entity table {task.entity_table} missing in batch!\")\n",
    "            \n",
    "            optimizer.zero_grad()\n",
    "            \n",
    "            pred = model(batch, task.entity_table)\n",
    "            pred = pred.view(-1) if pred.size(1) == 1 else pred\n",
    "\n",
    "            # Ensure y is present\n",
    "            if 'y' not in batch[task.entity_table]:\n",
    "                raise ValueError(f\"'y' missing in {task.entity_table} for batch!\")\n",
    "            \n",
    "            loss = loss_fn(pred.float(), batch[task.entity_table].y.float())\n",
    "            loss.backward()\n",
    "            optimizer.step()\n",
    "\n",
    "            loss_accum += loss.detach().item() * pred.size(0)\n",
    "            count_accum += pred.size(0)\n",
    "\n",
    "    return loss_accum / count_accum if count_accum > 0 else float(\"inf\")\n",
    "\n",
    "@torch.no_grad()\n",
    "def test(loader):\n",
    "    model.eval()\n",
    "    pred_list = []\n",
    "    for snapshot_loader in loader:\n",
    "        for batch in snapshot_loader:\n",
    "            batch = batch.to(device)\n",
    "            # print(f\"Pred shape for {task.entity_table}: {pred.shape}\")\n",
    "            pred = model(batch, task.entity_table)\n",
    "            pred = pred.view(-1) if pred.size(1) == 1 else pred\n",
    "            pred_list.append(pred.detach().cpu())\n",
    "    if not pred_list:\n",
    "        raise ValueError(\"No predictions generated. Check loader or model forward pass.\")\n",
    "    return torch.cat(pred_list, dim=0).numpy()"
   ]
  },
  {
   "cell_type": "markdown",
   "metadata": {
    "id": "4s-p7dW1ledd"
   },
   "source": [
    "Now we are ready to train!"
   ]
  },
  {
   "cell_type": "code",
   "execution_count": 28,
   "metadata": {
    "colab": {
     "base_uri": "https://localhost:8080/"
    },
    "id": "yF3W68Eqlew_",
    "outputId": "a81a48dc-234a-47f3-8759-8dc9a766661c"
   },
   "outputs": [
    {
     "name": "stdout",
     "output_type": "stream",
     "text": [
      "=== Training Epoch ===\n"
     ]
    },
    {
     "name": "stderr",
     "output_type": "stream",
     "text": [
      " 13%|█▎        | 4/31 [00:00<00:00, 36.49it/s]"
     ]
    },
    {
     "name": "stdout",
     "output_type": "stream",
     "text": [
      "Batch node types: ['results', 'standings', 'races', 'drivers', 'constructors', 'circuits']\n",
      "Batch node types: ['results', 'standings', 'races', 'drivers', 'constructors', 'circuits']\n",
      "Batch node types: ['results', 'standings', 'races', 'drivers', 'constructors', 'circuits']\n",
      "Batch node types: ['results', 'standings', 'races', 'drivers', 'constructors', 'circuits']\n",
      "Batch node types: ['results', 'standings', 'races', 'drivers', 'constructors', 'circuits']\n",
      "Batch node types: ['results', 'standings', 'races', 'drivers', 'constructors', 'circuits']\n",
      "Batch node types: ['results', 'standings', 'races', 'constructor_results', 'drivers', 'constructors', 'circuits']\n",
      "Batch node types: ['results', 'standings', 'races', 'constructor_results', 'drivers', 'constructors', 'circuits']\n",
      "Batch node types: ['results', 'standings', 'races', 'constructor_results', 'constructor_standings', 'drivers', 'constructors', 'circuits']\n",
      "Batch node types: ['results', 'standings', 'races', 'constructor_results', 'constructor_standings', 'drivers', 'constructors', 'circuits']\n",
      "Batch node types: ['results', 'standings', 'races', 'constructor_results', 'constructor_standings', 'drivers', 'constructors', 'circuits']\n",
      "Batch node types: ['results', 'standings', 'races', 'constructor_results', 'constructor_standings', 'drivers', 'constructors', 'circuits']\n",
      "Batch node types: ['results', 'standings', 'races', 'constructor_results', 'constructor_standings', 'drivers', 'constructors', 'circuits']\n",
      "Batch node types: ['results', 'standings', 'races', 'constructor_results', 'constructor_standings', 'drivers', 'constructors', 'circuits']\n"
     ]
    },
    {
     "name": "stderr",
     "output_type": "stream",
     "text": [
      " 26%|██▌       | 8/31 [00:00<00:00, 28.71it/s]"
     ]
    },
    {
     "name": "stdout",
     "output_type": "stream",
     "text": [
      "Batch node types: ['results', 'standings', 'races', 'constructor_results', 'constructor_standings', 'drivers', 'constructors', 'circuits']\n",
      "Batch node types: ['results', 'standings', 'races', 'constructor_results', 'constructor_standings', 'drivers', 'constructors', 'circuits']\n",
      "Batch node types: ['results', 'standings', 'races', 'constructor_results', 'constructor_standings', 'drivers', 'constructors', 'circuits']\n",
      "Batch node types: ['results', 'standings', 'races', 'constructor_results', 'constructor_standings', 'drivers', 'constructors', 'circuits']\n",
      "Batch node types: ['results', 'standings', 'races', 'constructor_results', 'constructor_standings', 'drivers', 'constructors', 'circuits']\n",
      "Batch node types: ['results', 'standings', 'races', 'constructor_results', 'constructor_standings', 'drivers', 'constructors', 'circuits']\n",
      "Batch node types: ['results', 'standings', 'races', 'constructor_results', 'constructor_standings', 'drivers', 'constructors', 'circuits']\n",
      "Batch node types: ['results', 'standings', 'races', 'constructor_results', 'constructor_standings', 'drivers', 'constructors', 'circuits']\n"
     ]
    },
    {
     "name": "stderr",
     "output_type": "stream",
     "text": [
      " 35%|███▌      | 11/31 [00:00<00:00, 24.60it/s]"
     ]
    },
    {
     "name": "stdout",
     "output_type": "stream",
     "text": [
      "Batch node types: ['results', 'standings', 'races', 'constructor_results', 'constructor_standings', 'drivers', 'constructors', 'circuits']\n"
     ]
    },
    {
     "name": "stderr",
     "output_type": "stream",
     "text": [
      " 45%|████▌     | 14/31 [00:00<00:00, 20.19it/s]"
     ]
    },
    {
     "name": "stdout",
     "output_type": "stream",
     "text": [
      "Batch node types: ['results', 'standings', 'races', 'constructor_results', 'constructor_standings', 'drivers', 'constructors', 'circuits']\n",
      "Batch node types: ['results', 'standings', 'races', 'constructor_results', 'constructor_standings', 'drivers', 'constructors', 'circuits']\n",
      "Batch node types: ['results', 'standings', 'races', 'constructor_results', 'constructor_standings', 'drivers', 'constructors', 'circuits']\n",
      "Batch node types: ['results', 'standings', 'races', 'constructor_results', 'constructor_standings', 'drivers', 'constructors', 'circuits']\n",
      "Batch node types: ['results', 'standings', 'races', 'constructor_results', 'constructor_standings', 'drivers', 'constructors', 'circuits']\n",
      "Batch node types: ['results', 'standings', 'races', 'constructor_results', 'constructor_standings', 'drivers', 'constructors', 'circuits']\n",
      "Batch node types: ['results', 'standings', 'races', 'constructor_results', 'constructor_standings', 'drivers', 'constructors', 'circuits']\n",
      "Batch node types: ['results', 'standings', 'races', 'constructor_results', 'constructor_standings', 'drivers', 'constructors', 'circuits']\n",
      "Batch node types: ['results', 'standings', 'races', 'constructor_results', 'constructor_standings', 'drivers', 'constructors', 'circuits']\n",
      "Batch node types: ['results', 'standings', 'races', 'constructor_results', 'constructor_standings', 'drivers', 'constructors', 'circuits']\n"
     ]
    },
    {
     "name": "stderr",
     "output_type": "stream",
     "text": [
      " 55%|█████▍    | 17/31 [00:00<00:00, 14.80it/s]"
     ]
    },
    {
     "name": "stdout",
     "output_type": "stream",
     "text": [
      "Batch node types: ['results', 'standings', 'races', 'constructor_results', 'constructor_standings', 'drivers', 'constructors', 'circuits']\n",
      "Batch node types: ['results', 'standings', 'races', 'constructor_results', 'constructor_standings', 'drivers', 'constructors', 'circuits']\n",
      "Batch node types: ['results', 'standings', 'races', 'constructor_results', 'constructor_standings', 'drivers', 'constructors', 'circuits']\n",
      "Batch node types: ['results', 'standings', 'races', 'constructor_results', 'constructor_standings', 'drivers', 'constructors', 'circuits']\n"
     ]
    },
    {
     "name": "stderr",
     "output_type": "stream",
     "text": [
      " 61%|██████▏   | 19/31 [00:01<00:00, 12.43it/s]"
     ]
    },
    {
     "name": "stdout",
     "output_type": "stream",
     "text": [
      "Batch node types: ['results', 'standings', 'races', 'constructor_results', 'constructor_standings', 'drivers', 'constructors', 'circuits']\n",
      "Batch node types: ['results', 'standings', 'races', 'constructor_results', 'constructor_standings', 'drivers', 'constructors', 'circuits']\n",
      "Batch node types: ['results', 'standings', 'races', 'constructor_results', 'constructor_standings', 'drivers', 'constructors', 'circuits']\n",
      "Batch node types: ['results', 'standings', 'races', 'constructor_results', 'constructor_standings', 'drivers', 'constructors', 'circuits']\n"
     ]
    },
    {
     "name": "stderr",
     "output_type": "stream",
     "text": [
      " 68%|██████▊   | 21/31 [00:01<00:00, 11.05it/s]"
     ]
    },
    {
     "name": "stdout",
     "output_type": "stream",
     "text": [
      "Batch node types: ['results', 'standings', 'races', 'constructor_results', 'constructor_standings', 'drivers', 'constructors', 'circuits']\n",
      "Batch node types: ['results', 'standings', 'races', 'constructor_results', 'constructor_standings', 'drivers', 'constructors', 'circuits']\n",
      "Batch node types: ['results', 'standings', 'races', 'constructor_results', 'constructor_standings', 'drivers', 'constructors', 'circuits']\n",
      "Batch node types: ['results', 'standings', 'races', 'constructor_results', 'constructor_standings', 'drivers', 'constructors', 'circuits']\n"
     ]
    },
    {
     "name": "stderr",
     "output_type": "stream",
     "text": [
      " 74%|███████▍  | 23/31 [00:01<00:00,  9.78it/s]"
     ]
    },
    {
     "name": "stdout",
     "output_type": "stream",
     "text": [
      "Batch node types: ['results', 'standings', 'races', 'constructor_results', 'constructor_standings', 'drivers', 'constructors', 'circuits']\n",
      "Batch node types: ['qualifying', 'results', 'standings', 'races', 'constructor_results', 'constructor_standings', 'drivers', 'constructors', 'circuits']\n",
      "Batch node types: ['qualifying', 'results', 'standings', 'races', 'constructor_results', 'constructor_standings', 'drivers', 'constructors', 'circuits']\n",
      "Batch node types: ['qualifying', 'results', 'standings', 'races', 'constructor_results', 'constructor_standings', 'drivers', 'constructors', 'circuits']\n"
     ]
    },
    {
     "name": "stderr",
     "output_type": "stream",
     "text": [
      " 81%|████████  | 25/31 [00:01<00:00,  8.71it/s]"
     ]
    },
    {
     "name": "stdout",
     "output_type": "stream",
     "text": [
      "Batch node types: ['qualifying', 'results', 'standings', 'races', 'constructor_results', 'constructor_standings', 'drivers', 'constructors', 'circuits']\n",
      "Batch node types: ['qualifying', 'results', 'standings', 'races', 'constructor_results', 'constructor_standings', 'drivers', 'constructors', 'circuits']\n",
      "Batch node types: ['qualifying', 'results', 'standings', 'races', 'constructor_results', 'constructor_standings', 'drivers', 'constructors', 'circuits']\n"
     ]
    },
    {
     "name": "stderr",
     "output_type": "stream",
     "text": [
      " 87%|████████▋ | 27/31 [00:02<00:00,  7.60it/s]"
     ]
    },
    {
     "name": "stdout",
     "output_type": "stream",
     "text": [
      "Batch node types: ['qualifying', 'results', 'standings', 'races', 'constructor_results', 'constructor_standings', 'drivers', 'constructors', 'circuits']\n",
      "Batch node types: ['qualifying', 'results', 'standings', 'races', 'constructor_results', 'constructor_standings', 'drivers', 'constructors', 'circuits']\n",
      "Batch node types: ['qualifying', 'results', 'standings', 'races', 'constructor_results', 'constructor_standings', 'drivers', 'constructors', 'circuits']\n"
     ]
    },
    {
     "name": "stderr",
     "output_type": "stream",
     "text": [
      " 90%|█████████ | 28/31 [00:02<00:00,  7.10it/s]"
     ]
    },
    {
     "name": "stdout",
     "output_type": "stream",
     "text": [
      "Batch node types: ['qualifying', 'results', 'standings', 'races', 'constructor_results', 'constructor_standings', 'drivers', 'constructors', 'circuits']\n",
      "Batch node types: ['qualifying', 'results', 'standings', 'races', 'constructor_results', 'constructor_standings', 'drivers', 'constructors', 'circuits']\n",
      "Batch node types: ['qualifying', 'results', 'standings', 'races', 'constructor_results', 'constructor_standings', 'drivers', 'constructors', 'circuits']\n"
     ]
    },
    {
     "name": "stderr",
     "output_type": "stream",
     "text": [
      " 94%|█████████▎| 29/31 [00:02<00:00,  6.68it/s]"
     ]
    },
    {
     "name": "stdout",
     "output_type": "stream",
     "text": [
      "Batch node types: ['qualifying', 'results', 'standings', 'races', 'constructor_results', 'constructor_standings', 'drivers', 'constructors', 'circuits']\n",
      "Batch node types: ['qualifying', 'results', 'standings', 'races', 'constructor_results', 'constructor_standings', 'drivers', 'constructors', 'circuits']\n"
     ]
    },
    {
     "name": "stderr",
     "output_type": "stream",
     "text": [
      " 97%|█████████▋| 30/31 [00:02<00:00,  6.09it/s]"
     ]
    },
    {
     "name": "stdout",
     "output_type": "stream",
     "text": [
      "Batch node types: ['qualifying', 'results', 'standings', 'races', 'constructor_results', 'constructor_standings', 'drivers', 'constructors', 'circuits']\n",
      "Batch node types: ['qualifying', 'results', 'standings', 'races', 'constructor_results', 'constructor_standings', 'drivers', 'constructors', 'circuits']\n"
     ]
    },
    {
     "name": "stderr",
     "output_type": "stream",
     "text": [
      "100%|██████████| 31/31 [00:03<00:00, 10.07it/s]\n"
     ]
    },
    {
     "name": "stdout",
     "output_type": "stream",
     "text": [
      "Epoch 1 Training Loss: 5.4992\n",
      "Epoch 1 Validation Prediction Shape: (1457,)\n",
      "Sample Predictions: [13.422823 13.424911 13.112688 15.323542 15.323559]\n",
      "Batch Summary:\n",
      "  results: num_nodes = 20323\n",
      "  standings: num_nodes = 28115\n",
      "  races: num_nodes = 820\n",
      "  drivers: num_nodes = 857\n",
      "  constructors: num_nodes = 211\n",
      "  circuits: num_nodes = 77\n",
      "Edge Index Summary:\n",
      "  ('results', 'f2p_raceId', 'races'): shape = torch.Size([2, 23])\n",
      "  ('results', 'f2p_driverId', 'drivers'): shape = torch.Size([2, 20323])\n",
      "  ('results', 'f2p_constructorId', 'constructors'): shape = torch.Size([2, 20323])\n",
      "  ('standings', 'f2p_raceId', 'races'): shape = torch.Size([2, 23])\n",
      "  ('standings', 'f2p_driverId', 'drivers'): shape = torch.Size([2, 28115])\n",
      "  ('races', 'f2p_circuitId', 'circuits'): shape = torch.Size([2, 820])\n"
     ]
    },
    {
     "name": "stderr",
     "output_type": "stream",
     "text": [
      " 16%|█▌        | 5/31 [00:00<00:00, 42.14it/s]"
     ]
    },
    {
     "name": "stdout",
     "output_type": "stream",
     "text": [
      "Batch node types: ['results', 'standings', 'races', 'drivers', 'constructors', 'circuits']\n",
      "Batch node types: ['results', 'standings', 'races', 'drivers', 'constructors', 'circuits']\n",
      "Batch node types: ['results', 'standings', 'races', 'drivers', 'constructors', 'circuits']\n",
      "Batch node types: ['results', 'standings', 'races', 'drivers', 'constructors', 'circuits']\n",
      "Batch node types: ['results', 'standings', 'races', 'drivers', 'constructors', 'circuits']\n",
      "Batch node types: ['results', 'standings', 'races', 'drivers', 'constructors', 'circuits']\n",
      "Batch node types: ['results', 'standings', 'races', 'constructor_results', 'drivers', 'constructors', 'circuits']\n",
      "Batch node types: ['results', 'standings', 'races', 'constructor_results', 'drivers', 'constructors', 'circuits']\n",
      "Batch node types: ['results', 'standings', 'races', 'constructor_results', 'constructor_standings', 'drivers', 'constructors', 'circuits']\n",
      "Batch node types: ['results', 'standings', 'races', 'constructor_results', 'constructor_standings', 'drivers', 'constructors', 'circuits']\n",
      "Batch node types: ['results', 'standings', 'races', 'constructor_results', 'constructor_standings', 'drivers', 'constructors', 'circuits']\n",
      "Batch node types: ['results', 'standings', 'races', 'constructor_results', 'constructor_standings', 'drivers', 'constructors', 'circuits']\n",
      "Batch node types: ['results', 'standings', 'races', 'constructor_results', 'constructor_standings', 'drivers', 'constructors', 'circuits']\n",
      "Batch node types: ['results', 'standings', 'races', 'constructor_results', 'constructor_standings', 'drivers', 'constructors', 'circuits']\n",
      "Batch node types: ['results', 'standings', 'races', 'constructor_results', 'constructor_standings', 'drivers', 'constructors', 'circuits']\n"
     ]
    },
    {
     "name": "stderr",
     "output_type": "stream",
     "text": [
      " 32%|███▏      | 10/31 [00:00<00:00, 29.75it/s]"
     ]
    },
    {
     "name": "stdout",
     "output_type": "stream",
     "text": [
      "Batch node types: ['results', 'standings', 'races', 'constructor_results', 'constructor_standings', 'drivers', 'constructors', 'circuits']\n",
      "Batch node types: ['results', 'standings', 'races', 'constructor_results', 'constructor_standings', 'drivers', 'constructors', 'circuits']\n",
      "Batch node types: ['results', 'standings', 'races', 'constructor_results', 'constructor_standings', 'drivers', 'constructors', 'circuits']\n",
      "Batch node types: ['results', 'standings', 'races', 'constructor_results', 'constructor_standings', 'drivers', 'constructors', 'circuits']\n",
      "Batch node types: ['results', 'standings', 'races', 'constructor_results', 'constructor_standings', 'drivers', 'constructors', 'circuits']\n",
      "Batch node types: ['results', 'standings', 'races', 'constructor_results', 'constructor_standings', 'drivers', 'constructors', 'circuits']\n",
      "Batch node types: ['results', 'standings', 'races', 'constructor_results', 'constructor_standings', 'drivers', 'constructors', 'circuits']\n",
      "Batch node types: ['results', 'standings', 'races', 'constructor_results', 'constructor_standings', 'drivers', 'constructors', 'circuits']\n"
     ]
    },
    {
     "name": "stderr",
     "output_type": "stream",
     "text": [
      " 45%|████▌     | 14/31 [00:00<00:00, 21.10it/s]"
     ]
    },
    {
     "name": "stdout",
     "output_type": "stream",
     "text": [
      "Batch node types: ['results', 'standings', 'races', 'constructor_results', 'constructor_standings', 'drivers', 'constructors', 'circuits']\n",
      "Batch node types: ['results', 'standings', 'races', 'constructor_results', 'constructor_standings', 'drivers', 'constructors', 'circuits']\n",
      "Batch node types: ['results', 'standings', 'races', 'constructor_results', 'constructor_standings', 'drivers', 'constructors', 'circuits']\n",
      "Batch node types: ['results', 'standings', 'races', 'constructor_results', 'constructor_standings', 'drivers', 'constructors', 'circuits']\n",
      "Batch node types: ['results', 'standings', 'races', 'constructor_results', 'constructor_standings', 'drivers', 'constructors', 'circuits']\n",
      "Batch node types: ['results', 'standings', 'races', 'constructor_results', 'constructor_standings', 'drivers', 'constructors', 'circuits']\n",
      "Batch node types: ['results', 'standings', 'races', 'constructor_results', 'constructor_standings', 'drivers', 'constructors', 'circuits']\n",
      "Batch node types: ['results', 'standings', 'races', 'constructor_results', 'constructor_standings', 'drivers', 'constructors', 'circuits']\n",
      "Batch node types: ['results', 'standings', 'races', 'constructor_results', 'constructor_standings', 'drivers', 'constructors', 'circuits']\n",
      "Batch node types: ['results', 'standings', 'races', 'constructor_results', 'constructor_standings', 'drivers', 'constructors', 'circuits']\n",
      "Batch node types: ['results', 'standings', 'races', 'constructor_results', 'constructor_standings', 'drivers', 'constructors', 'circuits']\n"
     ]
    },
    {
     "name": "stderr",
     "output_type": "stream",
     "text": [
      " 61%|██████▏   | 19/31 [00:01<00:00, 14.91it/s]"
     ]
    },
    {
     "name": "stdout",
     "output_type": "stream",
     "text": [
      "Batch node types: ['results', 'standings', 'races', 'constructor_results', 'constructor_standings', 'drivers', 'constructors', 'circuits']\n",
      "Batch node types: ['results', 'standings', 'races', 'constructor_results', 'constructor_standings', 'drivers', 'constructors', 'circuits']\n",
      "Batch node types: ['results', 'standings', 'races', 'constructor_results', 'constructor_standings', 'drivers', 'constructors', 'circuits']\n",
      "Batch node types: ['results', 'standings', 'races', 'constructor_results', 'constructor_standings', 'drivers', 'constructors', 'circuits']\n",
      "Batch node types: ['results', 'standings', 'races', 'constructor_results', 'constructor_standings', 'drivers', 'constructors', 'circuits']\n"
     ]
    },
    {
     "name": "stderr",
     "output_type": "stream",
     "text": [
      " 68%|██████▊   | 21/31 [00:01<00:00, 13.00it/s]"
     ]
    },
    {
     "name": "stdout",
     "output_type": "stream",
     "text": [
      "Batch node types: ['results', 'standings', 'races', 'constructor_results', 'constructor_standings', 'drivers', 'constructors', 'circuits']\n",
      "Batch node types: ['results', 'standings', 'races', 'constructor_results', 'constructor_standings', 'drivers', 'constructors', 'circuits']\n",
      "Batch node types: ['results', 'standings', 'races', 'constructor_results', 'constructor_standings', 'drivers', 'constructors', 'circuits']\n",
      "Batch node types: ['results', 'standings', 'races', 'constructor_results', 'constructor_standings', 'drivers', 'constructors', 'circuits']\n"
     ]
    },
    {
     "name": "stderr",
     "output_type": "stream",
     "text": [
      " 74%|███████▍  | 23/31 [00:01<00:00, 11.19it/s]"
     ]
    },
    {
     "name": "stdout",
     "output_type": "stream",
     "text": [
      "Batch node types: ['results', 'standings', 'races', 'constructor_results', 'constructor_standings', 'drivers', 'constructors', 'circuits']\n",
      "Batch node types: ['results', 'standings', 'races', 'constructor_results', 'constructor_standings', 'drivers', 'constructors', 'circuits']\n",
      "Batch node types: ['results', 'standings', 'races', 'constructor_results', 'constructor_standings', 'drivers', 'constructors', 'circuits']\n",
      "Batch node types: ['qualifying', 'results', 'standings', 'races', 'constructor_results', 'constructor_standings', 'drivers', 'constructors', 'circuits']\n",
      "Batch node types: ['qualifying', 'results', 'standings', 'races', 'constructor_results', 'constructor_standings', 'drivers', 'constructors', 'circuits']\n",
      "Batch node types: ['qualifying', 'results', 'standings', 'races', 'constructor_results', 'constructor_standings', 'drivers', 'constructors', 'circuits']\n",
      "Batch node types: ['qualifying', 'results', 'standings', 'races', 'constructor_results', 'constructor_standings', 'drivers', 'constructors', 'circuits']\n"
     ]
    },
    {
     "name": "stderr",
     "output_type": "stream",
     "text": [
      " 81%|████████  | 25/31 [00:01<00:00,  9.58it/s]"
     ]
    },
    {
     "name": "stdout",
     "output_type": "stream",
     "text": [
      "Batch node types: ['qualifying', 'results', 'standings', 'races', 'constructor_results', 'constructor_standings', 'drivers', 'constructors', 'circuits']\n",
      "Batch node types: ['qualifying', 'results', 'standings', 'races', 'constructor_results', 'constructor_standings', 'drivers', 'constructors', 'circuits']\n",
      "Batch node types: ['qualifying', 'results', 'standings', 'races', 'constructor_results', 'constructor_standings', 'drivers', 'constructors', 'circuits']\n"
     ]
    },
    {
     "name": "stderr",
     "output_type": "stream",
     "text": [
      " 87%|████████▋ | 27/31 [00:02<00:00,  8.28it/s]"
     ]
    },
    {
     "name": "stdout",
     "output_type": "stream",
     "text": [
      "Batch node types: ['qualifying', 'results', 'standings', 'races', 'constructor_results', 'constructor_standings', 'drivers', 'constructors', 'circuits']\n",
      "Batch node types: ['qualifying', 'results', 'standings', 'races', 'constructor_results', 'constructor_standings', 'drivers', 'constructors', 'circuits']\n",
      "Batch node types: ['qualifying', 'results', 'standings', 'races', 'constructor_results', 'constructor_standings', 'drivers', 'constructors', 'circuits']\n"
     ]
    },
    {
     "name": "stderr",
     "output_type": "stream",
     "text": [
      " 94%|█████████▎| 29/31 [00:02<00:00,  7.28it/s]"
     ]
    },
    {
     "name": "stdout",
     "output_type": "stream",
     "text": [
      "Batch node types: ['qualifying', 'results', 'standings', 'races', 'constructor_results', 'constructor_standings', 'drivers', 'constructors', 'circuits']\n",
      "Batch node types: ['qualifying', 'results', 'standings', 'races', 'constructor_results', 'constructor_standings', 'drivers', 'constructors', 'circuits']\n",
      "Batch node types: ['qualifying', 'results', 'standings', 'races', 'constructor_results', 'constructor_standings', 'drivers', 'constructors', 'circuits']\n"
     ]
    },
    {
     "name": "stderr",
     "output_type": "stream",
     "text": [
      " 97%|█████████▋| 30/31 [00:02<00:00,  6.39it/s]"
     ]
    },
    {
     "name": "stdout",
     "output_type": "stream",
     "text": [
      "Batch node types: ['qualifying', 'results', 'standings', 'races', 'constructor_results', 'constructor_standings', 'drivers', 'constructors', 'circuits']\n",
      "Batch node types: ['qualifying', 'results', 'standings', 'races', 'constructor_results', 'constructor_standings', 'drivers', 'constructors', 'circuits']\n"
     ]
    },
    {
     "name": "stderr",
     "output_type": "stream",
     "text": [
      "100%|██████████| 31/31 [00:02<00:00, 10.64it/s]"
     ]
    },
    {
     "name": "stdout",
     "output_type": "stream",
     "text": [
      "Batch node types: ['qualifying', 'results', 'standings', 'races', 'constructor_results', 'constructor_standings', 'drivers', 'constructors', 'circuits']\n",
      "Epoch 2 Training Loss: 5.5193\n"
     ]
    },
    {
     "name": "stderr",
     "output_type": "stream",
     "text": [
      "\n"
     ]
    },
    {
     "name": "stdout",
     "output_type": "stream",
     "text": [
      "Epoch 2 Validation Prediction Shape: (1457,)\n",
      "Sample Predictions: [14.114119 14.074749 13.84943  15.023447 15.02347 ]\n",
      "Batch Summary:\n",
      "  results: num_nodes = 20323\n",
      "  standings: num_nodes = 28115\n",
      "  races: num_nodes = 820\n",
      "  drivers: num_nodes = 857\n",
      "  constructors: num_nodes = 211\n",
      "  circuits: num_nodes = 77\n",
      "Edge Index Summary:\n",
      "  ('results', 'f2p_raceId', 'races'): shape = torch.Size([2, 23])\n",
      "  ('results', 'f2p_driverId', 'drivers'): shape = torch.Size([2, 20323])\n",
      "  ('results', 'f2p_constructorId', 'constructors'): shape = torch.Size([2, 20323])\n",
      "  ('standings', 'f2p_raceId', 'races'): shape = torch.Size([2, 23])\n",
      "  ('standings', 'f2p_driverId', 'drivers'): shape = torch.Size([2, 28115])\n",
      "  ('races', 'f2p_circuitId', 'circuits'): shape = torch.Size([2, 820])\n"
     ]
    },
    {
     "name": "stderr",
     "output_type": "stream",
     "text": [
      " 16%|█▌        | 5/31 [00:00<00:00, 41.62it/s]"
     ]
    },
    {
     "name": "stdout",
     "output_type": "stream",
     "text": [
      "Batch node types: ['results', 'standings', 'races', 'drivers', 'constructors', 'circuits']\n",
      "Batch node types: ['results', 'standings', 'races', 'drivers', 'constructors', 'circuits']\n",
      "Batch node types: ['results', 'standings', 'races', 'drivers', 'constructors', 'circuits']\n",
      "Batch node types: ['results', 'standings', 'races', 'drivers', 'constructors', 'circuits']\n",
      "Batch node types: ['results', 'standings', 'races', 'drivers', 'constructors', 'circuits']\n",
      "Batch node types: ['results', 'standings', 'races', 'drivers', 'constructors', 'circuits']\n",
      "Batch node types: ['results', 'standings', 'races', 'constructor_results', 'drivers', 'constructors', 'circuits']\n",
      "Batch node types: ['results', 'standings', 'races', 'constructor_results', 'drivers', 'constructors', 'circuits']\n",
      "Batch node types: ['results', 'standings', 'races', 'constructor_results', 'constructor_standings', 'drivers', 'constructors', 'circuits']\n",
      "Batch node types: ['results', 'standings', 'races', 'constructor_results', 'constructor_standings', 'drivers', 'constructors', 'circuits']\n",
      "Batch node types: ['results', 'standings', 'races', 'constructor_results', 'constructor_standings', 'drivers', 'constructors', 'circuits']\n",
      "Batch node types: ['results', 'standings', 'races', 'constructor_results', 'constructor_standings', 'drivers', 'constructors', 'circuits']\n",
      "Batch node types: ['results', 'standings', 'races', 'constructor_results', 'constructor_standings', 'drivers', 'constructors', 'circuits']\n",
      "Batch node types: ['results', 'standings', 'races', 'constructor_results', 'constructor_standings', 'drivers', 'constructors', 'circuits']\n",
      "Batch node types: ['results', 'standings', 'races', 'constructor_results', 'constructor_standings', 'drivers', 'constructors', 'circuits']\n"
     ]
    },
    {
     "name": "stderr",
     "output_type": "stream",
     "text": [
      " 32%|███▏      | 10/31 [00:00<00:00, 28.86it/s]"
     ]
    },
    {
     "name": "stdout",
     "output_type": "stream",
     "text": [
      "Batch node types: ['results', 'standings', 'races', 'constructor_results', 'constructor_standings', 'drivers', 'constructors', 'circuits']\n",
      "Batch node types: ['results', 'standings', 'races', 'constructor_results', 'constructor_standings', 'drivers', 'constructors', 'circuits']\n",
      "Batch node types: ['results', 'standings', 'races', 'constructor_results', 'constructor_standings', 'drivers', 'constructors', 'circuits']\n",
      "Batch node types: ['results', 'standings', 'races', 'constructor_results', 'constructor_standings', 'drivers', 'constructors', 'circuits']\n",
      "Batch node types: ['results', 'standings', 'races', 'constructor_results', 'constructor_standings', 'drivers', 'constructors', 'circuits']\n",
      "Batch node types: ['results', 'standings', 'races', 'constructor_results', 'constructor_standings', 'drivers', 'constructors', 'circuits']\n",
      "Batch node types: ['results', 'standings', 'races', 'constructor_results', 'constructor_standings', 'drivers', 'constructors', 'circuits']\n",
      "Batch node types: ['results', 'standings', 'races', 'constructor_results', 'constructor_standings', 'drivers', 'constructors', 'circuits']\n",
      "Batch node types: ['results', 'standings', 'races', 'constructor_results', 'constructor_standings', 'drivers', 'constructors', 'circuits']\n"
     ]
    },
    {
     "name": "stderr",
     "output_type": "stream",
     "text": [
      " 45%|████▌     | 14/31 [00:00<00:00, 21.33it/s]"
     ]
    },
    {
     "name": "stdout",
     "output_type": "stream",
     "text": [
      "Batch node types: ['results', 'standings', 'races', 'constructor_results', 'constructor_standings', 'drivers', 'constructors', 'circuits']\n",
      "Batch node types: ['results', 'standings', 'races', 'constructor_results', 'constructor_standings', 'drivers', 'constructors', 'circuits']\n",
      "Batch node types: ['results', 'standings', 'races', 'constructor_results', 'constructor_standings', 'drivers', 'constructors', 'circuits']\n",
      "Batch node types: ['results', 'standings', 'races', 'constructor_results', 'constructor_standings', 'drivers', 'constructors', 'circuits']\n",
      "Batch node types: ['results', 'standings', 'races', 'constructor_results', 'constructor_standings', 'drivers', 'constructors', 'circuits']\n",
      "Batch node types: ['results', 'standings', 'races', 'constructor_results', 'constructor_standings', 'drivers', 'constructors', 'circuits']\n"
     ]
    },
    {
     "name": "stderr",
     "output_type": "stream",
     "text": [
      " 55%|█████▍    | 17/31 [00:00<00:00, 17.03it/s]"
     ]
    },
    {
     "name": "stdout",
     "output_type": "stream",
     "text": [
      "Batch node types: ['results', 'standings', 'races', 'constructor_results', 'constructor_standings', 'drivers', 'constructors', 'circuits']\n",
      "Batch node types: ['results', 'standings', 'races', 'constructor_results', 'constructor_standings', 'drivers', 'constructors', 'circuits']\n",
      "Batch node types: ['results', 'standings', 'races', 'constructor_results', 'constructor_standings', 'drivers', 'constructors', 'circuits']\n",
      "Batch node types: ['results', 'standings', 'races', 'constructor_results', 'constructor_standings', 'drivers', 'constructors', 'circuits']\n",
      "Batch node types: ['results', 'standings', 'races', 'constructor_results', 'constructor_standings', 'drivers', 'constructors', 'circuits']\n"
     ]
    },
    {
     "name": "stderr",
     "output_type": "stream",
     "text": [
      " 61%|██████▏   | 19/31 [00:01<00:00, 14.51it/s]"
     ]
    },
    {
     "name": "stdout",
     "output_type": "stream",
     "text": [
      "Batch node types: ['results', 'standings', 'races', 'constructor_results', 'constructor_standings', 'drivers', 'constructors', 'circuits']\n",
      "Batch node types: ['results', 'standings', 'races', 'constructor_results', 'constructor_standings', 'drivers', 'constructors', 'circuits']\n",
      "Batch node types: ['results', 'standings', 'races', 'constructor_results', 'constructor_standings', 'drivers', 'constructors', 'circuits']\n",
      "Batch node types: ['results', 'standings', 'races', 'constructor_results', 'constructor_standings', 'drivers', 'constructors', 'circuits']\n"
     ]
    },
    {
     "name": "stderr",
     "output_type": "stream",
     "text": [
      " 68%|██████▊   | 21/31 [00:01<00:00, 12.57it/s]"
     ]
    },
    {
     "name": "stdout",
     "output_type": "stream",
     "text": [
      "Batch node types: ['results', 'standings', 'races', 'constructor_results', 'constructor_standings', 'drivers', 'constructors', 'circuits']\n",
      "Batch node types: ['results', 'standings', 'races', 'constructor_results', 'constructor_standings', 'drivers', 'constructors', 'circuits']\n",
      "Batch node types: ['results', 'standings', 'races', 'constructor_results', 'constructor_standings', 'drivers', 'constructors', 'circuits']\n",
      "Batch node types: ['results', 'standings', 'races', 'constructor_results', 'constructor_standings', 'drivers', 'constructors', 'circuits']\n"
     ]
    },
    {
     "name": "stderr",
     "output_type": "stream",
     "text": [
      " 74%|███████▍  | 23/31 [00:01<00:00, 10.77it/s]"
     ]
    },
    {
     "name": "stdout",
     "output_type": "stream",
     "text": [
      "Batch node types: ['results', 'standings', 'races', 'constructor_results', 'constructor_standings', 'drivers', 'constructors', 'circuits']\n",
      "Batch node types: ['results', 'standings', 'races', 'constructor_results', 'constructor_standings', 'drivers', 'constructors', 'circuits']\n",
      "Batch node types: ['results', 'standings', 'races', 'constructor_results', 'constructor_standings', 'drivers', 'constructors', 'circuits']\n",
      "Batch node types: ['qualifying', 'results', 'standings', 'races', 'constructor_results', 'constructor_standings', 'drivers', 'constructors', 'circuits']\n",
      "Batch node types: ['qualifying', 'results', 'standings', 'races', 'constructor_results', 'constructor_standings', 'drivers', 'constructors', 'circuits']\n",
      "Batch node types: ['qualifying', 'results', 'standings', 'races', 'constructor_results', 'constructor_standings', 'drivers', 'constructors', 'circuits']\n",
      "Batch node types: ['qualifying', 'results', 'standings', 'races', 'constructor_results', 'constructor_standings', 'drivers', 'constructors', 'circuits']\n"
     ]
    },
    {
     "name": "stderr",
     "output_type": "stream",
     "text": [
      " 84%|████████▍ | 26/31 [00:02<00:00,  8.06it/s]"
     ]
    },
    {
     "name": "stdout",
     "output_type": "stream",
     "text": [
      "Batch node types: ['qualifying', 'results', 'standings', 'races', 'constructor_results', 'constructor_standings', 'drivers', 'constructors', 'circuits']\n",
      "Batch node types: ['qualifying', 'results', 'standings', 'races', 'constructor_results', 'constructor_standings', 'drivers', 'constructors', 'circuits']\n",
      "Batch node types: ['qualifying', 'results', 'standings', 'races', 'constructor_results', 'constructor_standings', 'drivers', 'constructors', 'circuits']\n"
     ]
    },
    {
     "name": "stderr",
     "output_type": "stream",
     "text": [
      " 87%|████████▋ | 27/31 [00:02<00:00,  7.37it/s]"
     ]
    },
    {
     "name": "stdout",
     "output_type": "stream",
     "text": [
      "Batch node types: ['qualifying', 'results', 'standings', 'races', 'constructor_results', 'constructor_standings', 'drivers', 'constructors', 'circuits']\n",
      "Batch node types: ['qualifying', 'results', 'standings', 'races', 'constructor_results', 'constructor_standings', 'drivers', 'constructors', 'circuits']\n",
      "Batch node types: ['qualifying', 'results', 'standings', 'races', 'constructor_results', 'constructor_standings', 'drivers', 'constructors', 'circuits']\n"
     ]
    },
    {
     "name": "stderr",
     "output_type": "stream",
     "text": [
      " 94%|█████████▎| 29/31 [00:02<00:00,  6.41it/s]"
     ]
    },
    {
     "name": "stdout",
     "output_type": "stream",
     "text": [
      "Batch node types: ['qualifying', 'results', 'standings', 'races', 'constructor_results', 'constructor_standings', 'drivers', 'constructors', 'circuits']\n",
      "Batch node types: ['qualifying', 'results', 'standings', 'races', 'constructor_results', 'constructor_standings', 'drivers', 'constructors', 'circuits']\n",
      "Batch node types: ['qualifying', 'results', 'standings', 'races', 'constructor_results', 'constructor_standings', 'drivers', 'constructors', 'circuits']\n"
     ]
    },
    {
     "name": "stderr",
     "output_type": "stream",
     "text": [
      " 97%|█████████▋| 30/31 [00:02<00:00,  5.71it/s]"
     ]
    },
    {
     "name": "stdout",
     "output_type": "stream",
     "text": [
      "Batch node types: ['qualifying', 'results', 'standings', 'races', 'constructor_results', 'constructor_standings', 'drivers', 'constructors', 'circuits']\n",
      "Batch node types: ['qualifying', 'results', 'standings', 'races', 'constructor_results', 'constructor_standings', 'drivers', 'constructors', 'circuits']\n"
     ]
    },
    {
     "name": "stderr",
     "output_type": "stream",
     "text": [
      "100%|██████████| 31/31 [00:03<00:00, 10.08it/s]"
     ]
    },
    {
     "name": "stdout",
     "output_type": "stream",
     "text": [
      "Batch node types: ['qualifying', 'results', 'standings', 'races', 'constructor_results', 'constructor_standings', 'drivers', 'constructors', 'circuits']\n",
      "Epoch 3 Training Loss: 5.4911\n"
     ]
    },
    {
     "name": "stderr",
     "output_type": "stream",
     "text": [
      "\n"
     ]
    },
    {
     "name": "stdout",
     "output_type": "stream",
     "text": [
      "Epoch 3 Validation Prediction Shape: (1457,)\n",
      "Sample Predictions: [13.822147 13.830175 13.740114 13.166824 13.16679 ]\n",
      "Batch Summary:\n",
      "  results: num_nodes = 20323\n",
      "  standings: num_nodes = 28115\n",
      "  races: num_nodes = 820\n",
      "  drivers: num_nodes = 857\n",
      "  constructors: num_nodes = 211\n",
      "  circuits: num_nodes = 77\n",
      "Edge Index Summary:\n",
      "  ('results', 'f2p_raceId', 'races'): shape = torch.Size([2, 23])\n",
      "  ('results', 'f2p_driverId', 'drivers'): shape = torch.Size([2, 20323])\n",
      "  ('results', 'f2p_constructorId', 'constructors'): shape = torch.Size([2, 20323])\n",
      "  ('standings', 'f2p_raceId', 'races'): shape = torch.Size([2, 23])\n",
      "  ('standings', 'f2p_driverId', 'drivers'): shape = torch.Size([2, 28115])\n",
      "  ('races', 'f2p_circuitId', 'circuits'): shape = torch.Size([2, 820])\n"
     ]
    },
    {
     "name": "stderr",
     "output_type": "stream",
     "text": [
      " 16%|█▌        | 5/31 [00:00<00:00, 39.23it/s]"
     ]
    },
    {
     "name": "stdout",
     "output_type": "stream",
     "text": [
      "Batch node types: ['results', 'standings', 'races', 'drivers', 'constructors', 'circuits']\n",
      "Batch node types: ['results', 'standings', 'races', 'drivers', 'constructors', 'circuits']\n",
      "Batch node types: ['results', 'standings', 'races', 'drivers', 'constructors', 'circuits']\n",
      "Batch node types: ['results', 'standings', 'races', 'drivers', 'constructors', 'circuits']\n",
      "Batch node types: ['results', 'standings', 'races', 'drivers', 'constructors', 'circuits']\n",
      "Batch node types: ['results', 'standings', 'races', 'drivers', 'constructors', 'circuits']\n",
      "Batch node types: ['results', 'standings', 'races', 'constructor_results', 'drivers', 'constructors', 'circuits']\n",
      "Batch node types: ['results', 'standings', 'races', 'constructor_results', 'drivers', 'constructors', 'circuits']\n",
      "Batch node types: ['results', 'standings', 'races', 'constructor_results', 'constructor_standings', 'drivers', 'constructors', 'circuits']\n",
      "Batch node types: ['results', 'standings', 'races', 'constructor_results', 'constructor_standings', 'drivers', 'constructors', 'circuits']\n",
      "Batch node types: ['results', 'standings', 'races', 'constructor_results', 'constructor_standings', 'drivers', 'constructors', 'circuits']\n",
      "Batch node types: ['results', 'standings', 'races', 'constructor_results', 'constructor_standings', 'drivers', 'constructors', 'circuits']\n",
      "Batch node types: ['results', 'standings', 'races', 'constructor_results', 'constructor_standings', 'drivers', 'constructors', 'circuits']\n",
      "Batch node types: ['results', 'standings', 'races', 'constructor_results', 'constructor_standings', 'drivers', 'constructors', 'circuits']\n"
     ]
    },
    {
     "name": "stderr",
     "output_type": "stream",
     "text": [
      " 29%|██▉       | 9/31 [00:00<00:00, 28.75it/s]"
     ]
    },
    {
     "name": "stdout",
     "output_type": "stream",
     "text": [
      "Batch node types: ['results', 'standings', 'races', 'constructor_results', 'constructor_standings', 'drivers', 'constructors', 'circuits']\n",
      "Batch node types: ['results', 'standings', 'races', 'constructor_results', 'constructor_standings', 'drivers', 'constructors', 'circuits']\n",
      "Batch node types: ['results', 'standings', 'races', 'constructor_results', 'constructor_standings', 'drivers', 'constructors', 'circuits']\n",
      "Batch node types: ['results', 'standings', 'races', 'constructor_results', 'constructor_standings', 'drivers', 'constructors', 'circuits']\n",
      "Batch node types: ['results', 'standings', 'races', 'constructor_results', 'constructor_standings', 'drivers', 'constructors', 'circuits']\n",
      "Batch node types: ['results', 'standings', 'races', 'constructor_results', 'constructor_standings', 'drivers', 'constructors', 'circuits']\n",
      "Batch node types: ['results', 'standings', 'races', 'constructor_results', 'constructor_standings', 'drivers', 'constructors', 'circuits']\n",
      "Batch node types: ['results', 'standings', 'races', 'constructor_results', 'constructor_standings', 'drivers', 'constructors', 'circuits']\n",
      "Batch node types: ['results', 'standings', 'races', 'constructor_results', 'constructor_standings', 'drivers', 'constructors', 'circuits']\n"
     ]
    },
    {
     "name": "stderr",
     "output_type": "stream",
     "text": [
      " 39%|███▊      | 12/31 [00:00<00:00, 23.72it/s]"
     ]
    },
    {
     "name": "stdout",
     "output_type": "stream",
     "text": [
      "Batch node types: ['results', 'standings', 'races', 'constructor_results', 'constructor_standings', 'drivers', 'constructors', 'circuits']\n",
      "Batch node types: ['results', 'standings', 'races', 'constructor_results', 'constructor_standings', 'drivers', 'constructors', 'circuits']\n",
      "Batch node types: ['results', 'standings', 'races', 'constructor_results', 'constructor_standings', 'drivers', 'constructors', 'circuits']\n",
      "Batch node types: ['results', 'standings', 'races', 'constructor_results', 'constructor_standings', 'drivers', 'constructors', 'circuits']\n",
      "Batch node types: ['results', 'standings', 'races', 'constructor_results', 'constructor_standings', 'drivers', 'constructors', 'circuits']\n",
      "Batch node types: ['results', 'standings', 'races', 'constructor_results', 'constructor_standings', 'drivers', 'constructors', 'circuits']\n"
     ]
    },
    {
     "name": "stderr",
     "output_type": "stream",
     "text": [
      " 48%|████▊     | 15/31 [00:00<00:00, 18.51it/s]"
     ]
    },
    {
     "name": "stdout",
     "output_type": "stream",
     "text": [
      "Batch node types: ['results', 'standings', 'races', 'constructor_results', 'constructor_standings', 'drivers', 'constructors', 'circuits']\n",
      "Batch node types: ['results', 'standings', 'races', 'constructor_results', 'constructor_standings', 'drivers', 'constructors', 'circuits']\n",
      "Batch node types: ['results', 'standings', 'races', 'constructor_results', 'constructor_standings', 'drivers', 'constructors', 'circuits']\n",
      "Batch node types: ['results', 'standings', 'races', 'constructor_results', 'constructor_standings', 'drivers', 'constructors', 'circuits']\n",
      "Batch node types: ['results', 'standings', 'races', 'constructor_results', 'constructor_standings', 'drivers', 'constructors', 'circuits']\n"
     ]
    },
    {
     "name": "stderr",
     "output_type": "stream",
     "text": [
      " 61%|██████▏   | 19/31 [00:01<00:00, 13.77it/s]"
     ]
    },
    {
     "name": "stdout",
     "output_type": "stream",
     "text": [
      "Batch node types: ['results', 'standings', 'races', 'constructor_results', 'constructor_standings', 'drivers', 'constructors', 'circuits']\n",
      "Batch node types: ['results', 'standings', 'races', 'constructor_results', 'constructor_standings', 'drivers', 'constructors', 'circuits']\n",
      "Batch node types: ['results', 'standings', 'races', 'constructor_results', 'constructor_standings', 'drivers', 'constructors', 'circuits']\n",
      "Batch node types: ['results', 'standings', 'races', 'constructor_results', 'constructor_standings', 'drivers', 'constructors', 'circuits']\n",
      "Batch node types: ['results', 'standings', 'races', 'constructor_results', 'constructor_standings', 'drivers', 'constructors', 'circuits']\n"
     ]
    },
    {
     "name": "stderr",
     "output_type": "stream",
     "text": [
      " 68%|██████▊   | 21/31 [00:01<00:00, 11.89it/s]"
     ]
    },
    {
     "name": "stdout",
     "output_type": "stream",
     "text": [
      "Batch node types: ['results', 'standings', 'races', 'constructor_results', 'constructor_standings', 'drivers', 'constructors', 'circuits']\n",
      "Batch node types: ['results', 'standings', 'races', 'constructor_results', 'constructor_standings', 'drivers', 'constructors', 'circuits']\n",
      "Batch node types: ['results', 'standings', 'races', 'constructor_results', 'constructor_standings', 'drivers', 'constructors', 'circuits']\n",
      "Batch node types: ['results', 'standings', 'races', 'constructor_results', 'constructor_standings', 'drivers', 'constructors', 'circuits']\n"
     ]
    },
    {
     "name": "stderr",
     "output_type": "stream",
     "text": [
      " 74%|███████▍  | 23/31 [00:01<00:00, 10.37it/s]"
     ]
    },
    {
     "name": "stdout",
     "output_type": "stream",
     "text": [
      "Batch node types: ['results', 'standings', 'races', 'constructor_results', 'constructor_standings', 'drivers', 'constructors', 'circuits']\n",
      "Batch node types: ['results', 'standings', 'races', 'constructor_results', 'constructor_standings', 'drivers', 'constructors', 'circuits']\n",
      "Batch node types: ['results', 'standings', 'races', 'constructor_results', 'constructor_standings', 'drivers', 'constructors', 'circuits']\n",
      "Batch node types: ['qualifying', 'results', 'standings', 'races', 'constructor_results', 'constructor_standings', 'drivers', 'constructors', 'circuits']\n",
      "Batch node types: ['qualifying', 'results', 'standings', 'races', 'constructor_results', 'constructor_standings', 'drivers', 'constructors', 'circuits']\n",
      "Batch node types: ['qualifying', 'results', 'standings', 'races', 'constructor_results', 'constructor_standings', 'drivers', 'constructors', 'circuits']\n",
      "Batch node types: ['qualifying', 'results', 'standings', 'races', 'constructor_results', 'constructor_standings', 'drivers', 'constructors', 'circuits']\n"
     ]
    },
    {
     "name": "stderr",
     "output_type": "stream",
     "text": [
      " 84%|████████▍ | 26/31 [00:02<00:00,  8.25it/s]"
     ]
    },
    {
     "name": "stdout",
     "output_type": "stream",
     "text": [
      "Batch node types: ['qualifying', 'results', 'standings', 'races', 'constructor_results', 'constructor_standings', 'drivers', 'constructors', 'circuits']\n",
      "Batch node types: ['qualifying', 'results', 'standings', 'races', 'constructor_results', 'constructor_standings', 'drivers', 'constructors', 'circuits']\n",
      "Batch node types: ['qualifying', 'results', 'standings', 'races', 'constructor_results', 'constructor_standings', 'drivers', 'constructors', 'circuits']\n"
     ]
    },
    {
     "name": "stderr",
     "output_type": "stream",
     "text": [
      " 87%|████████▋ | 27/31 [00:02<00:00,  7.80it/s]"
     ]
    },
    {
     "name": "stdout",
     "output_type": "stream",
     "text": [
      "Batch node types: ['qualifying', 'results', 'standings', 'races', 'constructor_results', 'constructor_standings', 'drivers', 'constructors', 'circuits']\n",
      "Batch node types: ['qualifying', 'results', 'standings', 'races', 'constructor_results', 'constructor_standings', 'drivers', 'constructors', 'circuits']\n",
      "Batch node types: ['qualifying', 'results', 'standings', 'races', 'constructor_results', 'constructor_standings', 'drivers', 'constructors', 'circuits']\n"
     ]
    },
    {
     "name": "stderr",
     "output_type": "stream",
     "text": [
      " 94%|█████████▎| 29/31 [00:02<00:00,  6.70it/s]"
     ]
    },
    {
     "name": "stdout",
     "output_type": "stream",
     "text": [
      "Batch node types: ['qualifying', 'results', 'standings', 'races', 'constructor_results', 'constructor_standings', 'drivers', 'constructors', 'circuits']\n",
      "Batch node types: ['qualifying', 'results', 'standings', 'races', 'constructor_results', 'constructor_standings', 'drivers', 'constructors', 'circuits']\n",
      "Batch node types: ['qualifying', 'results', 'standings', 'races', 'constructor_results', 'constructor_standings', 'drivers', 'constructors', 'circuits']\n"
     ]
    },
    {
     "name": "stderr",
     "output_type": "stream",
     "text": [
      " 97%|█████████▋| 30/31 [00:02<00:00,  6.02it/s]"
     ]
    },
    {
     "name": "stdout",
     "output_type": "stream",
     "text": [
      "Batch node types: ['qualifying', 'results', 'standings', 'races', 'constructor_results', 'constructor_standings', 'drivers', 'constructors', 'circuits']\n",
      "Batch node types: ['qualifying', 'results', 'standings', 'races', 'constructor_results', 'constructor_standings', 'drivers', 'constructors', 'circuits']\n"
     ]
    },
    {
     "name": "stderr",
     "output_type": "stream",
     "text": [
      "100%|██████████| 31/31 [00:02<00:00, 10.36it/s]"
     ]
    },
    {
     "name": "stdout",
     "output_type": "stream",
     "text": [
      "Batch node types: ['qualifying', 'results', 'standings', 'races', 'constructor_results', 'constructor_standings', 'drivers', 'constructors', 'circuits']\n",
      "Epoch 4 Training Loss: 5.4597\n"
     ]
    },
    {
     "name": "stderr",
     "output_type": "stream",
     "text": [
      "\n"
     ]
    },
    {
     "name": "stdout",
     "output_type": "stream",
     "text": [
      "Epoch 4 Validation Prediction Shape: (1457,)\n",
      "Sample Predictions: [13.229389 13.214757 12.374174 14.381294 14.381224]\n",
      "Batch Summary:\n",
      "  results: num_nodes = 20323\n",
      "  standings: num_nodes = 28115\n",
      "  races: num_nodes = 820\n",
      "  drivers: num_nodes = 857\n",
      "  constructors: num_nodes = 211\n",
      "  circuits: num_nodes = 77\n",
      "Edge Index Summary:\n",
      "  ('results', 'f2p_raceId', 'races'): shape = torch.Size([2, 23])\n",
      "  ('results', 'f2p_driverId', 'drivers'): shape = torch.Size([2, 20323])\n",
      "  ('results', 'f2p_constructorId', 'constructors'): shape = torch.Size([2, 20323])\n",
      "  ('standings', 'f2p_raceId', 'races'): shape = torch.Size([2, 23])\n",
      "  ('standings', 'f2p_driverId', 'drivers'): shape = torch.Size([2, 28115])\n",
      "  ('races', 'f2p_circuitId', 'circuits'): shape = torch.Size([2, 820])\n"
     ]
    },
    {
     "name": "stderr",
     "output_type": "stream",
     "text": [
      " 16%|█▌        | 5/31 [00:00<00:00, 42.14it/s]"
     ]
    },
    {
     "name": "stdout",
     "output_type": "stream",
     "text": [
      "Batch node types: ['results', 'standings', 'races', 'drivers', 'constructors', 'circuits']\n",
      "Batch node types: ['results', 'standings', 'races', 'drivers', 'constructors', 'circuits']\n",
      "Batch node types: ['results', 'standings', 'races', 'drivers', 'constructors', 'circuits']\n",
      "Batch node types: ['results', 'standings', 'races', 'drivers', 'constructors', 'circuits']\n",
      "Batch node types: ['results', 'standings', 'races', 'drivers', 'constructors', 'circuits']\n",
      "Batch node types: ['results', 'standings', 'races', 'drivers', 'constructors', 'circuits']\n",
      "Batch node types: ['results', 'standings', 'races', 'constructor_results', 'drivers', 'constructors', 'circuits']\n",
      "Batch node types: ['results', 'standings', 'races', 'constructor_results', 'drivers', 'constructors', 'circuits']\n",
      "Batch node types: ['results', 'standings', 'races', 'constructor_results', 'constructor_standings', 'drivers', 'constructors', 'circuits']\n",
      "Batch node types: ['results', 'standings', 'races', 'constructor_results', 'constructor_standings', 'drivers', 'constructors', 'circuits']\n",
      "Batch node types: ['results', 'standings', 'races', 'constructor_results', 'constructor_standings', 'drivers', 'constructors', 'circuits']\n",
      "Batch node types: ['results', 'standings', 'races', 'constructor_results', 'constructor_standings', 'drivers', 'constructors', 'circuits']\n",
      "Batch node types: ['results', 'standings', 'races', 'constructor_results', 'constructor_standings', 'drivers', 'constructors', 'circuits']\n",
      "Batch node types: ['results', 'standings', 'races', 'constructor_results', 'constructor_standings', 'drivers', 'constructors', 'circuits']\n"
     ]
    },
    {
     "name": "stderr",
     "output_type": "stream",
     "text": [
      " 32%|███▏      | 10/31 [00:00<00:00, 28.12it/s]"
     ]
    },
    {
     "name": "stdout",
     "output_type": "stream",
     "text": [
      "Batch node types: ['results', 'standings', 'races', 'constructor_results', 'constructor_standings', 'drivers', 'constructors', 'circuits']\n",
      "Batch node types: ['results', 'standings', 'races', 'constructor_results', 'constructor_standings', 'drivers', 'constructors', 'circuits']\n",
      "Batch node types: ['results', 'standings', 'races', 'constructor_results', 'constructor_standings', 'drivers', 'constructors', 'circuits']\n",
      "Batch node types: ['results', 'standings', 'races', 'constructor_results', 'constructor_standings', 'drivers', 'constructors', 'circuits']\n",
      "Batch node types: ['results', 'standings', 'races', 'constructor_results', 'constructor_standings', 'drivers', 'constructors', 'circuits']\n",
      "Batch node types: ['results', 'standings', 'races', 'constructor_results', 'constructor_standings', 'drivers', 'constructors', 'circuits']\n",
      "Batch node types: ['results', 'standings', 'races', 'constructor_results', 'constructor_standings', 'drivers', 'constructors', 'circuits']\n",
      "Batch node types: ['results', 'standings', 'races', 'constructor_results', 'constructor_standings', 'drivers', 'constructors', 'circuits']\n",
      "Batch node types: ['results', 'standings', 'races', 'constructor_results', 'constructor_standings', 'drivers', 'constructors', 'circuits']\n"
     ]
    },
    {
     "name": "stderr",
     "output_type": "stream",
     "text": [
      " 45%|████▌     | 14/31 [00:00<00:00, 21.06it/s]"
     ]
    },
    {
     "name": "stdout",
     "output_type": "stream",
     "text": [
      "Batch node types: ['results', 'standings', 'races', 'constructor_results', 'constructor_standings', 'drivers', 'constructors', 'circuits']\n",
      "Batch node types: ['results', 'standings', 'races', 'constructor_results', 'constructor_standings', 'drivers', 'constructors', 'circuits']\n",
      "Batch node types: ['results', 'standings', 'races', 'constructor_results', 'constructor_standings', 'drivers', 'constructors', 'circuits']\n",
      "Batch node types: ['results', 'standings', 'races', 'constructor_results', 'constructor_standings', 'drivers', 'constructors', 'circuits']\n",
      "Batch node types: ['results', 'standings', 'races', 'constructor_results', 'constructor_standings', 'drivers', 'constructors', 'circuits']\n",
      "Batch node types: ['results', 'standings', 'races', 'constructor_results', 'constructor_standings', 'drivers', 'constructors', 'circuits']\n",
      "Batch node types: ['results', 'standings', 'races', 'constructor_results', 'constructor_standings', 'drivers', 'constructors', 'circuits']\n",
      "Batch node types: ['results', 'standings', 'races', 'constructor_results', 'constructor_standings', 'drivers', 'constructors', 'circuits']\n",
      "Batch node types: ['results', 'standings', 'races', 'constructor_results', 'constructor_standings', 'drivers', 'constructors', 'circuits']\n",
      "Batch node types: ['results', 'standings', 'races', 'constructor_results', 'constructor_standings', 'drivers', 'constructors', 'circuits']\n",
      "Batch node types: ['results', 'standings', 'races', 'constructor_results', 'constructor_standings', 'drivers', 'constructors', 'circuits']\n"
     ]
    },
    {
     "name": "stderr",
     "output_type": "stream",
     "text": [
      " 61%|██████▏   | 19/31 [00:01<00:00, 14.76it/s]"
     ]
    },
    {
     "name": "stdout",
     "output_type": "stream",
     "text": [
      "Batch node types: ['results', 'standings', 'races', 'constructor_results', 'constructor_standings', 'drivers', 'constructors', 'circuits']\n",
      "Batch node types: ['results', 'standings', 'races', 'constructor_results', 'constructor_standings', 'drivers', 'constructors', 'circuits']\n",
      "Batch node types: ['results', 'standings', 'races', 'constructor_results', 'constructor_standings', 'drivers', 'constructors', 'circuits']\n",
      "Batch node types: ['results', 'standings', 'races', 'constructor_results', 'constructor_standings', 'drivers', 'constructors', 'circuits']\n",
      "Batch node types: ['results', 'standings', 'races', 'constructor_results', 'constructor_standings', 'drivers', 'constructors', 'circuits']\n"
     ]
    },
    {
     "name": "stderr",
     "output_type": "stream",
     "text": [
      " 68%|██████▊   | 21/31 [00:01<00:00, 12.70it/s]"
     ]
    },
    {
     "name": "stdout",
     "output_type": "stream",
     "text": [
      "Batch node types: ['results', 'standings', 'races', 'constructor_results', 'constructor_standings', 'drivers', 'constructors', 'circuits']\n",
      "Batch node types: ['results', 'standings', 'races', 'constructor_results', 'constructor_standings', 'drivers', 'constructors', 'circuits']\n",
      "Batch node types: ['results', 'standings', 'races', 'constructor_results', 'constructor_standings', 'drivers', 'constructors', 'circuits']\n",
      "Batch node types: ['results', 'standings', 'races', 'constructor_results', 'constructor_standings', 'drivers', 'constructors', 'circuits']\n"
     ]
    },
    {
     "name": "stderr",
     "output_type": "stream",
     "text": [
      " 74%|███████▍  | 23/31 [00:01<00:00, 10.56it/s]"
     ]
    },
    {
     "name": "stdout",
     "output_type": "stream",
     "text": [
      "Batch node types: ['results', 'standings', 'races', 'constructor_results', 'constructor_standings', 'drivers', 'constructors', 'circuits']\n",
      "Batch node types: ['results', 'standings', 'races', 'constructor_results', 'constructor_standings', 'drivers', 'constructors', 'circuits']\n",
      "Batch node types: ['results', 'standings', 'races', 'constructor_results', 'constructor_standings', 'drivers', 'constructors', 'circuits']\n",
      "Batch node types: ['qualifying', 'results', 'standings', 'races', 'constructor_results', 'constructor_standings', 'drivers', 'constructors', 'circuits']\n",
      "Batch node types: ['qualifying', 'results', 'standings', 'races', 'constructor_results', 'constructor_standings', 'drivers', 'constructors', 'circuits']\n",
      "Batch node types: ['qualifying', 'results', 'standings', 'races', 'constructor_results', 'constructor_standings', 'drivers', 'constructors', 'circuits']\n",
      "Batch node types: ['qualifying', 'results', 'standings', 'races', 'constructor_results', 'constructor_standings', 'drivers', 'constructors', 'circuits']\n"
     ]
    },
    {
     "name": "stderr",
     "output_type": "stream",
     "text": [
      " 84%|████████▍ | 26/31 [00:02<00:00,  8.55it/s]"
     ]
    },
    {
     "name": "stdout",
     "output_type": "stream",
     "text": [
      "Batch node types: ['qualifying', 'results', 'standings', 'races', 'constructor_results', 'constructor_standings', 'drivers', 'constructors', 'circuits']\n",
      "Batch node types: ['qualifying', 'results', 'standings', 'races', 'constructor_results', 'constructor_standings', 'drivers', 'constructors', 'circuits']\n",
      "Batch node types: ['qualifying', 'results', 'standings', 'races', 'constructor_results', 'constructor_standings', 'drivers', 'constructors', 'circuits']\n"
     ]
    },
    {
     "name": "stderr",
     "output_type": "stream",
     "text": [
      " 87%|████████▋ | 27/31 [00:02<00:00,  7.73it/s]"
     ]
    },
    {
     "name": "stdout",
     "output_type": "stream",
     "text": [
      "Batch node types: ['qualifying', 'results', 'standings', 'races', 'constructor_results', 'constructor_standings', 'drivers', 'constructors', 'circuits']\n",
      "Batch node types: ['qualifying', 'results', 'standings', 'races', 'constructor_results', 'constructor_standings', 'drivers', 'constructors', 'circuits']\n",
      "Batch node types: ['qualifying', 'results', 'standings', 'races', 'constructor_results', 'constructor_standings', 'drivers', 'constructors', 'circuits']\n"
     ]
    },
    {
     "name": "stderr",
     "output_type": "stream",
     "text": [
      " 94%|█████████▎| 29/31 [00:02<00:00,  6.81it/s]"
     ]
    },
    {
     "name": "stdout",
     "output_type": "stream",
     "text": [
      "Batch node types: ['qualifying', 'results', 'standings', 'races', 'constructor_results', 'constructor_standings', 'drivers', 'constructors', 'circuits']\n",
      "Batch node types: ['qualifying', 'results', 'standings', 'races', 'constructor_results', 'constructor_standings', 'drivers', 'constructors', 'circuits']\n",
      "Batch node types: ['qualifying', 'results', 'standings', 'races', 'constructor_results', 'constructor_standings', 'drivers', 'constructors', 'circuits']\n"
     ]
    },
    {
     "name": "stderr",
     "output_type": "stream",
     "text": [
      " 97%|█████████▋| 30/31 [00:02<00:00,  6.12it/s]"
     ]
    },
    {
     "name": "stdout",
     "output_type": "stream",
     "text": [
      "Batch node types: ['qualifying', 'results', 'standings', 'races', 'constructor_results', 'constructor_standings', 'drivers', 'constructors', 'circuits']\n",
      "Batch node types: ['qualifying', 'results', 'standings', 'races', 'constructor_results', 'constructor_standings', 'drivers', 'constructors', 'circuits']\n"
     ]
    },
    {
     "name": "stderr",
     "output_type": "stream",
     "text": [
      "100%|██████████| 31/31 [00:02<00:00, 10.44it/s]"
     ]
    },
    {
     "name": "stdout",
     "output_type": "stream",
     "text": [
      "Batch node types: ['qualifying', 'results', 'standings', 'races', 'constructor_results', 'constructor_standings', 'drivers', 'constructors', 'circuits']\n",
      "Epoch 5 Training Loss: 5.4458\n"
     ]
    },
    {
     "name": "stderr",
     "output_type": "stream",
     "text": [
      "\n"
     ]
    },
    {
     "name": "stdout",
     "output_type": "stream",
     "text": [
      "Epoch 5 Validation Prediction Shape: (1457,)\n",
      "Sample Predictions: [13.88957  13.868418 13.785192 15.701796 15.701672]\n",
      "Batch Summary:\n",
      "  results: num_nodes = 20323\n",
      "  standings: num_nodes = 28115\n",
      "  races: num_nodes = 820\n",
      "  drivers: num_nodes = 857\n",
      "  constructors: num_nodes = 211\n",
      "  circuits: num_nodes = 77\n",
      "Edge Index Summary:\n",
      "  ('results', 'f2p_raceId', 'races'): shape = torch.Size([2, 23])\n",
      "  ('results', 'f2p_driverId', 'drivers'): shape = torch.Size([2, 20323])\n",
      "  ('results', 'f2p_constructorId', 'constructors'): shape = torch.Size([2, 20323])\n",
      "  ('standings', 'f2p_raceId', 'races'): shape = torch.Size([2, 23])\n",
      "  ('standings', 'f2p_driverId', 'drivers'): shape = torch.Size([2, 28115])\n",
      "  ('races', 'f2p_circuitId', 'circuits'): shape = torch.Size([2, 820])\n"
     ]
    },
    {
     "name": "stderr",
     "output_type": "stream",
     "text": [
      " 16%|█▌        | 5/31 [00:00<00:00, 39.82it/s]"
     ]
    },
    {
     "name": "stdout",
     "output_type": "stream",
     "text": [
      "Batch node types: ['results', 'standings', 'races', 'drivers', 'constructors', 'circuits']\n",
      "Batch node types: ['results', 'standings', 'races', 'drivers', 'constructors', 'circuits']\n",
      "Batch node types: ['results', 'standings', 'races', 'drivers', 'constructors', 'circuits']\n",
      "Batch node types: ['results', 'standings', 'races', 'drivers', 'constructors', 'circuits']\n",
      "Batch node types: ['results', 'standings', 'races', 'drivers', 'constructors', 'circuits']\n",
      "Batch node types: ['results', 'standings', 'races', 'drivers', 'constructors', 'circuits']\n",
      "Batch node types: ['results', 'standings', 'races', 'constructor_results', 'drivers', 'constructors', 'circuits']\n",
      "Batch node types: ['results', 'standings', 'races', 'constructor_results', 'drivers', 'constructors', 'circuits']\n",
      "Batch node types: ['results', 'standings', 'races', 'constructor_results', 'constructor_standings', 'drivers', 'constructors', 'circuits']\n",
      "Batch node types: ['results', 'standings', 'races', 'constructor_results', 'constructor_standings', 'drivers', 'constructors', 'circuits']\n",
      "Batch node types: ['results', 'standings', 'races', 'constructor_results', 'constructor_standings', 'drivers', 'constructors', 'circuits']\n",
      "Batch node types: ['results', 'standings', 'races', 'constructor_results', 'constructor_standings', 'drivers', 'constructors', 'circuits']\n",
      "Batch node types: ['results', 'standings', 'races', 'constructor_results', 'constructor_standings', 'drivers', 'constructors', 'circuits']\n",
      "Batch node types: ['results', 'standings', 'races', 'constructor_results', 'constructor_standings', 'drivers', 'constructors', 'circuits']\n"
     ]
    },
    {
     "name": "stderr",
     "output_type": "stream",
     "text": [
      " 29%|██▉       | 9/31 [00:00<00:00, 28.71it/s]"
     ]
    },
    {
     "name": "stdout",
     "output_type": "stream",
     "text": [
      "Batch node types: ['results', 'standings', 'races', 'constructor_results', 'constructor_standings', 'drivers', 'constructors', 'circuits']\n",
      "Batch node types: ['results', 'standings', 'races', 'constructor_results', 'constructor_standings', 'drivers', 'constructors', 'circuits']\n",
      "Batch node types: ['results', 'standings', 'races', 'constructor_results', 'constructor_standings', 'drivers', 'constructors', 'circuits']\n",
      "Batch node types: ['results', 'standings', 'races', 'constructor_results', 'constructor_standings', 'drivers', 'constructors', 'circuits']\n",
      "Batch node types: ['results', 'standings', 'races', 'constructor_results', 'constructor_standings', 'drivers', 'constructors', 'circuits']\n",
      "Batch node types: ['results', 'standings', 'races', 'constructor_results', 'constructor_standings', 'drivers', 'constructors', 'circuits']\n",
      "Batch node types: ['results', 'standings', 'races', 'constructor_results', 'constructor_standings', 'drivers', 'constructors', 'circuits']\n",
      "Batch node types: ['results', 'standings', 'races', 'constructor_results', 'constructor_standings', 'drivers', 'constructors', 'circuits']\n"
     ]
    },
    {
     "name": "stderr",
     "output_type": "stream",
     "text": [
      " 39%|███▊      | 12/31 [00:00<00:00, 22.85it/s]"
     ]
    },
    {
     "name": "stdout",
     "output_type": "stream",
     "text": [
      "Batch node types: ['results', 'standings', 'races', 'constructor_results', 'constructor_standings', 'drivers', 'constructors', 'circuits']\n",
      "Batch node types: ['results', 'standings', 'races', 'constructor_results', 'constructor_standings', 'drivers', 'constructors', 'circuits']\n",
      "Batch node types: ['results', 'standings', 'races', 'constructor_results', 'constructor_standings', 'drivers', 'constructors', 'circuits']\n",
      "Batch node types: ['results', 'standings', 'races', 'constructor_results', 'constructor_standings', 'drivers', 'constructors', 'circuits']\n",
      "Batch node types: ['results', 'standings', 'races', 'constructor_results', 'constructor_standings', 'drivers', 'constructors', 'circuits']\n",
      "Batch node types: ['results', 'standings', 'races', 'constructor_results', 'constructor_standings', 'drivers', 'constructors', 'circuits']\n"
     ]
    },
    {
     "name": "stderr",
     "output_type": "stream",
     "text": [
      " 48%|████▊     | 15/31 [00:00<00:00, 18.54it/s]"
     ]
    },
    {
     "name": "stdout",
     "output_type": "stream",
     "text": [
      "Batch node types: ['results', 'standings', 'races', 'constructor_results', 'constructor_standings', 'drivers', 'constructors', 'circuits']\n",
      "Batch node types: ['results', 'standings', 'races', 'constructor_results', 'constructor_standings', 'drivers', 'constructors', 'circuits']\n",
      "Batch node types: ['results', 'standings', 'races', 'constructor_results', 'constructor_standings', 'drivers', 'constructors', 'circuits']\n",
      "Batch node types: ['results', 'standings', 'races', 'constructor_results', 'constructor_standings', 'drivers', 'constructors', 'circuits']\n",
      "Batch node types: ['results', 'standings', 'races', 'constructor_results', 'constructor_standings', 'drivers', 'constructors', 'circuits']\n"
     ]
    },
    {
     "name": "stderr",
     "output_type": "stream",
     "text": [
      " 55%|█████▍    | 17/31 [00:00<00:00, 15.59it/s]"
     ]
    },
    {
     "name": "stdout",
     "output_type": "stream",
     "text": [
      "Batch node types: ['results', 'standings', 'races', 'constructor_results', 'constructor_standings', 'drivers', 'constructors', 'circuits']\n",
      "Batch node types: ['results', 'standings', 'races', 'constructor_results', 'constructor_standings', 'drivers', 'constructors', 'circuits']\n",
      "Batch node types: ['results', 'standings', 'races', 'constructor_results', 'constructor_standings', 'drivers', 'constructors', 'circuits']\n",
      "Batch node types: ['results', 'standings', 'races', 'constructor_results', 'constructor_standings', 'drivers', 'constructors', 'circuits']\n",
      "Batch node types: ['results', 'standings', 'races', 'constructor_results', 'constructor_standings', 'drivers', 'constructors', 'circuits']\n"
     ]
    },
    {
     "name": "stderr",
     "output_type": "stream",
     "text": [
      " 61%|██████▏   | 19/31 [00:01<00:00, 13.56it/s]"
     ]
    },
    {
     "name": "stdout",
     "output_type": "stream",
     "text": [
      "Batch node types: ['results', 'standings', 'races', 'constructor_results', 'constructor_standings', 'drivers', 'constructors', 'circuits']\n",
      "Batch node types: ['results', 'standings', 'races', 'constructor_results', 'constructor_standings', 'drivers', 'constructors', 'circuits']\n",
      "Batch node types: ['results', 'standings', 'races', 'constructor_results', 'constructor_standings', 'drivers', 'constructors', 'circuits']\n",
      "Batch node types: ['results', 'standings', 'races', 'constructor_results', 'constructor_standings', 'drivers', 'constructors', 'circuits']\n"
     ]
    },
    {
     "name": "stderr",
     "output_type": "stream",
     "text": [
      " 68%|██████▊   | 21/31 [00:01<00:00, 11.93it/s]"
     ]
    },
    {
     "name": "stdout",
     "output_type": "stream",
     "text": [
      "Batch node types: ['results', 'standings', 'races', 'constructor_results', 'constructor_standings', 'drivers', 'constructors', 'circuits']\n",
      "Batch node types: ['results', 'standings', 'races', 'constructor_results', 'constructor_standings', 'drivers', 'constructors', 'circuits']\n",
      "Batch node types: ['results', 'standings', 'races', 'constructor_results', 'constructor_standings', 'drivers', 'constructors', 'circuits']\n",
      "Batch node types: ['results', 'standings', 'races', 'constructor_results', 'constructor_standings', 'drivers', 'constructors', 'circuits']\n"
     ]
    },
    {
     "name": "stderr",
     "output_type": "stream",
     "text": [
      " 74%|███████▍  | 23/31 [00:01<00:00, 10.30it/s]"
     ]
    },
    {
     "name": "stdout",
     "output_type": "stream",
     "text": [
      "Batch node types: ['qualifying', 'results', 'standings', 'races', 'constructor_results', 'constructor_standings', 'drivers', 'constructors', 'circuits']\n",
      "Batch node types: ['qualifying', 'results', 'standings', 'races', 'constructor_results', 'constructor_standings', 'drivers', 'constructors', 'circuits']\n",
      "Batch node types: ['qualifying', 'results', 'standings', 'races', 'constructor_results', 'constructor_standings', 'drivers', 'constructors', 'circuits']\n"
     ]
    },
    {
     "name": "stderr",
     "output_type": "stream",
     "text": [
      " 81%|████████  | 25/31 [00:01<00:00,  8.99it/s]"
     ]
    },
    {
     "name": "stdout",
     "output_type": "stream",
     "text": [
      "Batch node types: ['qualifying', 'results', 'standings', 'races', 'constructor_results', 'constructor_standings', 'drivers', 'constructors', 'circuits']\n",
      "Batch node types: ['qualifying', 'results', 'standings', 'races', 'constructor_results', 'constructor_standings', 'drivers', 'constructors', 'circuits']\n",
      "Batch node types: ['qualifying', 'results', 'standings', 'races', 'constructor_results', 'constructor_standings', 'drivers', 'constructors', 'circuits']\n"
     ]
    },
    {
     "name": "stderr",
     "output_type": "stream",
     "text": [
      " 87%|████████▋ | 27/31 [00:02<00:00,  7.81it/s]"
     ]
    },
    {
     "name": "stdout",
     "output_type": "stream",
     "text": [
      "Batch node types: ['qualifying', 'results', 'standings', 'races', 'constructor_results', 'constructor_standings', 'drivers', 'constructors', 'circuits']\n",
      "Batch node types: ['qualifying', 'results', 'standings', 'races', 'constructor_results', 'constructor_standings', 'drivers', 'constructors', 'circuits']\n",
      "Batch node types: ['qualifying', 'results', 'standings', 'races', 'constructor_results', 'constructor_standings', 'drivers', 'constructors', 'circuits']\n"
     ]
    },
    {
     "name": "stderr",
     "output_type": "stream",
     "text": [
      " 90%|█████████ | 28/31 [00:02<00:00,  7.33it/s]"
     ]
    },
    {
     "name": "stdout",
     "output_type": "stream",
     "text": [
      "Batch node types: ['qualifying', 'results', 'standings', 'races', 'constructor_results', 'constructor_standings', 'drivers', 'constructors', 'circuits']\n",
      "Batch node types: ['qualifying', 'results', 'standings', 'races', 'constructor_results', 'constructor_standings', 'drivers', 'constructors', 'circuits']\n",
      "Batch node types: ['qualifying', 'results', 'standings', 'races', 'constructor_results', 'constructor_standings', 'drivers', 'constructors', 'circuits']\n"
     ]
    },
    {
     "name": "stderr",
     "output_type": "stream",
     "text": [
      " 94%|█████████▎| 29/31 [00:02<00:00,  6.68it/s]"
     ]
    },
    {
     "name": "stdout",
     "output_type": "stream",
     "text": [
      "Batch node types: ['qualifying', 'results', 'standings', 'races', 'constructor_results', 'constructor_standings', 'drivers', 'constructors', 'circuits']\n",
      "Batch node types: ['qualifying', 'results', 'standings', 'races', 'constructor_results', 'constructor_standings', 'drivers', 'constructors', 'circuits']\n"
     ]
    },
    {
     "name": "stderr",
     "output_type": "stream",
     "text": [
      " 97%|█████████▋| 30/31 [00:02<00:00,  6.04it/s]"
     ]
    },
    {
     "name": "stdout",
     "output_type": "stream",
     "text": [
      "Batch node types: ['qualifying', 'results', 'standings', 'races', 'constructor_results', 'constructor_standings', 'drivers', 'constructors', 'circuits']\n",
      "Batch node types: ['qualifying', 'results', 'standings', 'races', 'constructor_results', 'constructor_standings', 'drivers', 'constructors', 'circuits']\n"
     ]
    },
    {
     "name": "stderr",
     "output_type": "stream",
     "text": [
      "100%|██████████| 31/31 [00:02<00:00, 10.40it/s]\n"
     ]
    },
    {
     "name": "stdout",
     "output_type": "stream",
     "text": [
      "Epoch 6 Training Loss: 5.4276\n",
      "Epoch 6 Validation Prediction Shape: (1457,)\n",
      "Sample Predictions: [13.641094  13.636665  14.0676365 14.330734  14.330532 ]\n",
      "Batch Summary:\n",
      "  results: num_nodes = 20323\n",
      "  standings: num_nodes = 28115\n",
      "  races: num_nodes = 820\n",
      "  drivers: num_nodes = 857\n",
      "  constructors: num_nodes = 211\n",
      "  circuits: num_nodes = 77\n",
      "Edge Index Summary:\n",
      "  ('results', 'f2p_raceId', 'races'): shape = torch.Size([2, 23])\n",
      "  ('results', 'f2p_driverId', 'drivers'): shape = torch.Size([2, 20323])\n",
      "  ('results', 'f2p_constructorId', 'constructors'): shape = torch.Size([2, 20323])\n",
      "  ('standings', 'f2p_raceId', 'races'): shape = torch.Size([2, 23])\n",
      "  ('standings', 'f2p_driverId', 'drivers'): shape = torch.Size([2, 28115])\n",
      "  ('races', 'f2p_circuitId', 'circuits'): shape = torch.Size([2, 820])\n"
     ]
    },
    {
     "name": "stderr",
     "output_type": "stream",
     "text": [
      " 16%|█▌        | 5/31 [00:00<00:00, 41.46it/s]"
     ]
    },
    {
     "name": "stdout",
     "output_type": "stream",
     "text": [
      "Batch node types: ['results', 'standings', 'races', 'drivers', 'constructors', 'circuits']\n",
      "Batch node types: ['results', 'standings', 'races', 'drivers', 'constructors', 'circuits']\n",
      "Batch node types: ['results', 'standings', 'races', 'drivers', 'constructors', 'circuits']\n",
      "Batch node types: ['results', 'standings', 'races', 'drivers', 'constructors', 'circuits']\n",
      "Batch node types: ['results', 'standings', 'races', 'drivers', 'constructors', 'circuits']\n",
      "Batch node types: ['results', 'standings', 'races', 'drivers', 'constructors', 'circuits']\n",
      "Batch node types: ['results', 'standings', 'races', 'constructor_results', 'drivers', 'constructors', 'circuits']\n",
      "Batch node types: ['results', 'standings', 'races', 'constructor_results', 'drivers', 'constructors', 'circuits']\n",
      "Batch node types: ['results', 'standings', 'races', 'constructor_results', 'constructor_standings', 'drivers', 'constructors', 'circuits']\n",
      "Batch node types: ['results', 'standings', 'races', 'constructor_results', 'constructor_standings', 'drivers', 'constructors', 'circuits']\n",
      "Batch node types: ['results', 'standings', 'races', 'constructor_results', 'constructor_standings', 'drivers', 'constructors', 'circuits']\n",
      "Batch node types: ['results', 'standings', 'races', 'constructor_results', 'constructor_standings', 'drivers', 'constructors', 'circuits']\n",
      "Batch node types: ['results', 'standings', 'races', 'constructor_results', 'constructor_standings', 'drivers', 'constructors', 'circuits']\n",
      "Batch node types: ['results', 'standings', 'races', 'constructor_results', 'constructor_standings', 'drivers', 'constructors', 'circuits']\n",
      "Batch node types: ['results', 'standings', 'races', 'constructor_results', 'constructor_standings', 'drivers', 'constructors', 'circuits']\n"
     ]
    },
    {
     "name": "stderr",
     "output_type": "stream",
     "text": [
      " 32%|███▏      | 10/31 [00:00<00:00, 28.03it/s]"
     ]
    },
    {
     "name": "stdout",
     "output_type": "stream",
     "text": [
      "Batch node types: ['results', 'standings', 'races', 'constructor_results', 'constructor_standings', 'drivers', 'constructors', 'circuits']\n",
      "Batch node types: ['results', 'standings', 'races', 'constructor_results', 'constructor_standings', 'drivers', 'constructors', 'circuits']\n",
      "Batch node types: ['results', 'standings', 'races', 'constructor_results', 'constructor_standings', 'drivers', 'constructors', 'circuits']\n",
      "Batch node types: ['results', 'standings', 'races', 'constructor_results', 'constructor_standings', 'drivers', 'constructors', 'circuits']\n",
      "Batch node types: ['results', 'standings', 'races', 'constructor_results', 'constructor_standings', 'drivers', 'constructors', 'circuits']\n",
      "Batch node types: ['results', 'standings', 'races', 'constructor_results', 'constructor_standings', 'drivers', 'constructors', 'circuits']\n",
      "Batch node types: ['results', 'standings', 'races', 'constructor_results', 'constructor_standings', 'drivers', 'constructors', 'circuits']\n",
      "Batch node types: ['results', 'standings', 'races', 'constructor_results', 'constructor_standings', 'drivers', 'constructors', 'circuits']\n"
     ]
    },
    {
     "name": "stderr",
     "output_type": "stream",
     "text": [
      " 45%|████▌     | 14/31 [00:00<00:00, 21.12it/s]"
     ]
    },
    {
     "name": "stdout",
     "output_type": "stream",
     "text": [
      "Batch node types: ['results', 'standings', 'races', 'constructor_results', 'constructor_standings', 'drivers', 'constructors', 'circuits']\n",
      "Batch node types: ['results', 'standings', 'races', 'constructor_results', 'constructor_standings', 'drivers', 'constructors', 'circuits']\n",
      "Batch node types: ['results', 'standings', 'races', 'constructor_results', 'constructor_standings', 'drivers', 'constructors', 'circuits']\n",
      "Batch node types: ['results', 'standings', 'races', 'constructor_results', 'constructor_standings', 'drivers', 'constructors', 'circuits']\n",
      "Batch node types: ['results', 'standings', 'races', 'constructor_results', 'constructor_standings', 'drivers', 'constructors', 'circuits']\n",
      "Batch node types: ['results', 'standings', 'races', 'constructor_results', 'constructor_standings', 'drivers', 'constructors', 'circuits']\n",
      "Batch node types: ['results', 'standings', 'races', 'constructor_results', 'constructor_standings', 'drivers', 'constructors', 'circuits']\n",
      "Batch node types: ['results', 'standings', 'races', 'constructor_results', 'constructor_standings', 'drivers', 'constructors', 'circuits']\n",
      "Batch node types: ['results', 'standings', 'races', 'constructor_results', 'constructor_standings', 'drivers', 'constructors', 'circuits']\n",
      "Batch node types: ['results', 'standings', 'races', 'constructor_results', 'constructor_standings', 'drivers', 'constructors', 'circuits']\n",
      "Batch node types: ['results', 'standings', 'races', 'constructor_results', 'constructor_standings', 'drivers', 'constructors', 'circuits']\n"
     ]
    },
    {
     "name": "stderr",
     "output_type": "stream",
     "text": [
      " 61%|██████▏   | 19/31 [00:01<00:00, 14.75it/s]"
     ]
    },
    {
     "name": "stdout",
     "output_type": "stream",
     "text": [
      "Batch node types: ['results', 'standings', 'races', 'constructor_results', 'constructor_standings', 'drivers', 'constructors', 'circuits']\n",
      "Batch node types: ['results', 'standings', 'races', 'constructor_results', 'constructor_standings', 'drivers', 'constructors', 'circuits']\n",
      "Batch node types: ['results', 'standings', 'races', 'constructor_results', 'constructor_standings', 'drivers', 'constructors', 'circuits']\n",
      "Batch node types: ['results', 'standings', 'races', 'constructor_results', 'constructor_standings', 'drivers', 'constructors', 'circuits']\n",
      "Batch node types: ['results', 'standings', 'races', 'constructor_results', 'constructor_standings', 'drivers', 'constructors', 'circuits']\n"
     ]
    },
    {
     "name": "stderr",
     "output_type": "stream",
     "text": [
      " 68%|██████▊   | 21/31 [00:01<00:00, 12.78it/s]"
     ]
    },
    {
     "name": "stdout",
     "output_type": "stream",
     "text": [
      "Batch node types: ['results', 'standings', 'races', 'constructor_results', 'constructor_standings', 'drivers', 'constructors', 'circuits']\n",
      "Batch node types: ['results', 'standings', 'races', 'constructor_results', 'constructor_standings', 'drivers', 'constructors', 'circuits']\n",
      "Batch node types: ['results', 'standings', 'races', 'constructor_results', 'constructor_standings', 'drivers', 'constructors', 'circuits']\n",
      "Batch node types: ['results', 'standings', 'races', 'constructor_results', 'constructor_standings', 'drivers', 'constructors', 'circuits']\n"
     ]
    },
    {
     "name": "stderr",
     "output_type": "stream",
     "text": [
      " 74%|███████▍  | 23/31 [00:01<00:00, 10.68it/s]"
     ]
    },
    {
     "name": "stdout",
     "output_type": "stream",
     "text": [
      "Batch node types: ['results', 'standings', 'races', 'constructor_results', 'constructor_standings', 'drivers', 'constructors', 'circuits']\n",
      "Batch node types: ['results', 'standings', 'races', 'constructor_results', 'constructor_standings', 'drivers', 'constructors', 'circuits']\n",
      "Batch node types: ['results', 'standings', 'races', 'constructor_results', 'constructor_standings', 'drivers', 'constructors', 'circuits']\n",
      "Batch node types: ['qualifying', 'results', 'standings', 'races', 'constructor_results', 'constructor_standings', 'drivers', 'constructors', 'circuits']\n",
      "Batch node types: ['qualifying', 'results', 'standings', 'races', 'constructor_results', 'constructor_standings', 'drivers', 'constructors', 'circuits']\n",
      "Batch node types: ['qualifying', 'results', 'standings', 'races', 'constructor_results', 'constructor_standings', 'drivers', 'constructors', 'circuits']\n",
      "Batch node types: ['qualifying', 'results', 'standings', 'races', 'constructor_results', 'constructor_standings', 'drivers', 'constructors', 'circuits']\n"
     ]
    },
    {
     "name": "stderr",
     "output_type": "stream",
     "text": [
      " 84%|████████▍ | 26/31 [00:02<00:00,  8.59it/s]"
     ]
    },
    {
     "name": "stdout",
     "output_type": "stream",
     "text": [
      "Batch node types: ['qualifying', 'results', 'standings', 'races', 'constructor_results', 'constructor_standings', 'drivers', 'constructors', 'circuits']\n",
      "Batch node types: ['qualifying', 'results', 'standings', 'races', 'constructor_results', 'constructor_standings', 'drivers', 'constructors', 'circuits']\n",
      "Batch node types: ['qualifying', 'results', 'standings', 'races', 'constructor_results', 'constructor_standings', 'drivers', 'constructors', 'circuits']\n"
     ]
    },
    {
     "name": "stderr",
     "output_type": "stream",
     "text": [
      " 87%|████████▋ | 27/31 [00:02<00:00,  8.06it/s]"
     ]
    },
    {
     "name": "stdout",
     "output_type": "stream",
     "text": [
      "Batch node types: ['qualifying', 'results', 'standings', 'races', 'constructor_results', 'constructor_standings', 'drivers', 'constructors', 'circuits']\n",
      "Batch node types: ['qualifying', 'results', 'standings', 'races', 'constructor_results', 'constructor_standings', 'drivers', 'constructors', 'circuits']\n",
      "Batch node types: ['qualifying', 'results', 'standings', 'races', 'constructor_results', 'constructor_standings', 'drivers', 'constructors', 'circuits']\n"
     ]
    },
    {
     "name": "stderr",
     "output_type": "stream",
     "text": [
      " 94%|█████████▎| 29/31 [00:02<00:00,  7.06it/s]"
     ]
    },
    {
     "name": "stdout",
     "output_type": "stream",
     "text": [
      "Batch node types: ['qualifying', 'results', 'standings', 'races', 'constructor_results', 'constructor_standings', 'drivers', 'constructors', 'circuits']\n",
      "Batch node types: ['qualifying', 'results', 'standings', 'races', 'constructor_results', 'constructor_standings', 'drivers', 'constructors', 'circuits']\n",
      "Batch node types: ['qualifying', 'results', 'standings', 'races', 'constructor_results', 'constructor_standings', 'drivers', 'constructors', 'circuits']\n"
     ]
    },
    {
     "name": "stderr",
     "output_type": "stream",
     "text": [
      " 97%|█████████▋| 30/31 [00:02<00:00,  6.20it/s]"
     ]
    },
    {
     "name": "stdout",
     "output_type": "stream",
     "text": [
      "Batch node types: ['qualifying', 'results', 'standings', 'races', 'constructor_results', 'constructor_standings', 'drivers', 'constructors', 'circuits']\n",
      "Batch node types: ['qualifying', 'results', 'standings', 'races', 'constructor_results', 'constructor_standings', 'drivers', 'constructors', 'circuits']\n"
     ]
    },
    {
     "name": "stderr",
     "output_type": "stream",
     "text": [
      "100%|██████████| 31/31 [00:02<00:00, 10.55it/s]"
     ]
    },
    {
     "name": "stdout",
     "output_type": "stream",
     "text": [
      "Batch node types: ['qualifying', 'results', 'standings', 'races', 'constructor_results', 'constructor_standings', 'drivers', 'constructors', 'circuits']\n",
      "Epoch 7 Training Loss: 5.4171\n"
     ]
    },
    {
     "name": "stderr",
     "output_type": "stream",
     "text": [
      "\n"
     ]
    },
    {
     "name": "stdout",
     "output_type": "stream",
     "text": [
      "Epoch 7 Validation Prediction Shape: (1457,)\n",
      "Sample Predictions: [13.622066 13.617777 14.323255 13.429321 13.428473]\n",
      "Batch Summary:\n",
      "  results: num_nodes = 20323\n",
      "  standings: num_nodes = 28115\n",
      "  races: num_nodes = 820\n",
      "  drivers: num_nodes = 857\n",
      "  constructors: num_nodes = 211\n",
      "  circuits: num_nodes = 77\n",
      "Edge Index Summary:\n",
      "  ('results', 'f2p_raceId', 'races'): shape = torch.Size([2, 23])\n",
      "  ('results', 'f2p_driverId', 'drivers'): shape = torch.Size([2, 20323])\n",
      "  ('results', 'f2p_constructorId', 'constructors'): shape = torch.Size([2, 20323])\n",
      "  ('standings', 'f2p_raceId', 'races'): shape = torch.Size([2, 23])\n",
      "  ('standings', 'f2p_driverId', 'drivers'): shape = torch.Size([2, 28115])\n",
      "  ('races', 'f2p_circuitId', 'circuits'): shape = torch.Size([2, 820])\n"
     ]
    },
    {
     "name": "stderr",
     "output_type": "stream",
     "text": [
      " 16%|█▌        | 5/31 [00:00<00:00, 39.61it/s]"
     ]
    },
    {
     "name": "stdout",
     "output_type": "stream",
     "text": [
      "Batch node types: ['results', 'standings', 'races', 'drivers', 'constructors', 'circuits']\n",
      "Batch node types: ['results', 'standings', 'races', 'drivers', 'constructors', 'circuits']\n",
      "Batch node types: ['results', 'standings', 'races', 'drivers', 'constructors', 'circuits']\n",
      "Batch node types: ['results', 'standings', 'races', 'drivers', 'constructors', 'circuits']\n",
      "Batch node types: ['results', 'standings', 'races', 'drivers', 'constructors', 'circuits']\n",
      "Batch node types: ['results', 'standings', 'races', 'drivers', 'constructors', 'circuits']\n",
      "Batch node types: ['results', 'standings', 'races', 'constructor_results', 'drivers', 'constructors', 'circuits']\n",
      "Batch node types: ['results', 'standings', 'races', 'constructor_results', 'drivers', 'constructors', 'circuits']\n",
      "Batch node types: ['results', 'standings', 'races', 'constructor_results', 'constructor_standings', 'drivers', 'constructors', 'circuits']\n",
      "Batch node types: ['results', 'standings', 'races', 'constructor_results', 'constructor_standings', 'drivers', 'constructors', 'circuits']\n",
      "Batch node types: ['results', 'standings', 'races', 'constructor_results', 'constructor_standings', 'drivers', 'constructors', 'circuits']\n",
      "Batch node types: ['results', 'standings', 'races', 'constructor_results', 'constructor_standings', 'drivers', 'constructors', 'circuits']\n",
      "Batch node types: ['results', 'standings', 'races', 'constructor_results', 'constructor_standings', 'drivers', 'constructors', 'circuits']\n",
      "Batch node types: ['results', 'standings', 'races', 'constructor_results', 'constructor_standings', 'drivers', 'constructors', 'circuits']\n"
     ]
    },
    {
     "name": "stderr",
     "output_type": "stream",
     "text": [
      " 29%|██▉       | 9/31 [00:00<00:00, 27.64it/s]"
     ]
    },
    {
     "name": "stdout",
     "output_type": "stream",
     "text": [
      "Batch node types: ['results', 'standings', 'races', 'constructor_results', 'constructor_standings', 'drivers', 'constructors', 'circuits']\n",
      "Batch node types: ['results', 'standings', 'races', 'constructor_results', 'constructor_standings', 'drivers', 'constructors', 'circuits']\n",
      "Batch node types: ['results', 'standings', 'races', 'constructor_results', 'constructor_standings', 'drivers', 'constructors', 'circuits']\n",
      "Batch node types: ['results', 'standings', 'races', 'constructor_results', 'constructor_standings', 'drivers', 'constructors', 'circuits']\n",
      "Batch node types: ['results', 'standings', 'races', 'constructor_results', 'constructor_standings', 'drivers', 'constructors', 'circuits']\n",
      "Batch node types: ['results', 'standings', 'races', 'constructor_results', 'constructor_standings', 'drivers', 'constructors', 'circuits']\n",
      "Batch node types: ['results', 'standings', 'races', 'constructor_results', 'constructor_standings', 'drivers', 'constructors', 'circuits']\n",
      "Batch node types: ['results', 'standings', 'races', 'constructor_results', 'constructor_standings', 'drivers', 'constructors', 'circuits']\n",
      "Batch node types: ['results', 'standings', 'races', 'constructor_results', 'constructor_standings', 'drivers', 'constructors', 'circuits']\n"
     ]
    },
    {
     "name": "stderr",
     "output_type": "stream",
     "text": [
      " 39%|███▊      | 12/31 [00:00<00:00, 22.46it/s]"
     ]
    },
    {
     "name": "stdout",
     "output_type": "stream",
     "text": [
      "Batch node types: ['results', 'standings', 'races', 'constructor_results', 'constructor_standings', 'drivers', 'constructors', 'circuits']\n",
      "Batch node types: ['results', 'standings', 'races', 'constructor_results', 'constructor_standings', 'drivers', 'constructors', 'circuits']\n",
      "Batch node types: ['results', 'standings', 'races', 'constructor_results', 'constructor_standings', 'drivers', 'constructors', 'circuits']\n",
      "Batch node types: ['results', 'standings', 'races', 'constructor_results', 'constructor_standings', 'drivers', 'constructors', 'circuits']\n",
      "Batch node types: ['results', 'standings', 'races', 'constructor_results', 'constructor_standings', 'drivers', 'constructors', 'circuits']\n",
      "Batch node types: ['results', 'standings', 'races', 'constructor_results', 'constructor_standings', 'drivers', 'constructors', 'circuits']\n"
     ]
    },
    {
     "name": "stderr",
     "output_type": "stream",
     "text": [
      " 48%|████▊     | 15/31 [00:00<00:00, 18.24it/s]"
     ]
    },
    {
     "name": "stdout",
     "output_type": "stream",
     "text": [
      "Batch node types: ['results', 'standings', 'races', 'constructor_results', 'constructor_standings', 'drivers', 'constructors', 'circuits']\n",
      "Batch node types: ['results', 'standings', 'races', 'constructor_results', 'constructor_standings', 'drivers', 'constructors', 'circuits']\n",
      "Batch node types: ['results', 'standings', 'races', 'constructor_results', 'constructor_standings', 'drivers', 'constructors', 'circuits']\n",
      "Batch node types: ['results', 'standings', 'races', 'constructor_results', 'constructor_standings', 'drivers', 'constructors', 'circuits']\n",
      "Batch node types: ['results', 'standings', 'races', 'constructor_results', 'constructor_standings', 'drivers', 'constructors', 'circuits']\n"
     ]
    },
    {
     "name": "stderr",
     "output_type": "stream",
     "text": [
      " 61%|██████▏   | 19/31 [00:01<00:00, 13.81it/s]"
     ]
    },
    {
     "name": "stdout",
     "output_type": "stream",
     "text": [
      "Batch node types: ['results', 'standings', 'races', 'constructor_results', 'constructor_standings', 'drivers', 'constructors', 'circuits']\n",
      "Batch node types: ['results', 'standings', 'races', 'constructor_results', 'constructor_standings', 'drivers', 'constructors', 'circuits']\n",
      "Batch node types: ['results', 'standings', 'races', 'constructor_results', 'constructor_standings', 'drivers', 'constructors', 'circuits']\n",
      "Batch node types: ['results', 'standings', 'races', 'constructor_results', 'constructor_standings', 'drivers', 'constructors', 'circuits']\n",
      "Batch node types: ['results', 'standings', 'races', 'constructor_results', 'constructor_standings', 'drivers', 'constructors', 'circuits']\n"
     ]
    },
    {
     "name": "stderr",
     "output_type": "stream",
     "text": [
      " 68%|██████▊   | 21/31 [00:01<00:00, 12.02it/s]"
     ]
    },
    {
     "name": "stdout",
     "output_type": "stream",
     "text": [
      "Batch node types: ['results', 'standings', 'races', 'constructor_results', 'constructor_standings', 'drivers', 'constructors', 'circuits']\n",
      "Batch node types: ['results', 'standings', 'races', 'constructor_results', 'constructor_standings', 'drivers', 'constructors', 'circuits']\n",
      "Batch node types: ['results', 'standings', 'races', 'constructor_results', 'constructor_standings', 'drivers', 'constructors', 'circuits']\n",
      "Batch node types: ['results', 'standings', 'races', 'constructor_results', 'constructor_standings', 'drivers', 'constructors', 'circuits']\n"
     ]
    },
    {
     "name": "stderr",
     "output_type": "stream",
     "text": [
      " 74%|███████▍  | 23/31 [00:01<00:00, 10.32it/s]"
     ]
    },
    {
     "name": "stdout",
     "output_type": "stream",
     "text": [
      "Batch node types: ['results', 'standings', 'races', 'constructor_results', 'constructor_standings', 'drivers', 'constructors', 'circuits']\n",
      "Batch node types: ['results', 'standings', 'races', 'constructor_results', 'constructor_standings', 'drivers', 'constructors', 'circuits']\n",
      "Batch node types: ['results', 'standings', 'races', 'constructor_results', 'constructor_standings', 'drivers', 'constructors', 'circuits']\n",
      "Batch node types: ['qualifying', 'results', 'standings', 'races', 'constructor_results', 'constructor_standings', 'drivers', 'constructors', 'circuits']\n",
      "Batch node types: ['qualifying', 'results', 'standings', 'races', 'constructor_results', 'constructor_standings', 'drivers', 'constructors', 'circuits']\n",
      "Batch node types: ['qualifying', 'results', 'standings', 'races', 'constructor_results', 'constructor_standings', 'drivers', 'constructors', 'circuits']\n",
      "Batch node types: ['qualifying', 'results', 'standings', 'races', 'constructor_results', 'constructor_standings', 'drivers', 'constructors', 'circuits']\n"
     ]
    },
    {
     "name": "stderr",
     "output_type": "stream",
     "text": [
      " 84%|████████▍ | 26/31 [00:02<00:00,  8.26it/s]"
     ]
    },
    {
     "name": "stdout",
     "output_type": "stream",
     "text": [
      "Batch node types: ['qualifying', 'results', 'standings', 'races', 'constructor_results', 'constructor_standings', 'drivers', 'constructors', 'circuits']\n",
      "Batch node types: ['qualifying', 'results', 'standings', 'races', 'constructor_results', 'constructor_standings', 'drivers', 'constructors', 'circuits']\n",
      "Batch node types: ['qualifying', 'results', 'standings', 'races', 'constructor_results', 'constructor_standings', 'drivers', 'constructors', 'circuits']\n"
     ]
    },
    {
     "name": "stderr",
     "output_type": "stream",
     "text": [
      " 87%|████████▋ | 27/31 [00:02<00:00,  7.79it/s]"
     ]
    },
    {
     "name": "stdout",
     "output_type": "stream",
     "text": [
      "Batch node types: ['qualifying', 'results', 'standings', 'races', 'constructor_results', 'constructor_standings', 'drivers', 'constructors', 'circuits']\n",
      "Batch node types: ['qualifying', 'results', 'standings', 'races', 'constructor_results', 'constructor_standings', 'drivers', 'constructors', 'circuits']\n",
      "Batch node types: ['qualifying', 'results', 'standings', 'races', 'constructor_results', 'constructor_standings', 'drivers', 'constructors', 'circuits']\n"
     ]
    },
    {
     "name": "stderr",
     "output_type": "stream",
     "text": [
      " 94%|█████████▎| 29/31 [00:02<00:00,  6.92it/s]"
     ]
    },
    {
     "name": "stdout",
     "output_type": "stream",
     "text": [
      "Batch node types: ['qualifying', 'results', 'standings', 'races', 'constructor_results', 'constructor_standings', 'drivers', 'constructors', 'circuits']\n",
      "Batch node types: ['qualifying', 'results', 'standings', 'races', 'constructor_results', 'constructor_standings', 'drivers', 'constructors', 'circuits']\n",
      "Batch node types: ['qualifying', 'results', 'standings', 'races', 'constructor_results', 'constructor_standings', 'drivers', 'constructors', 'circuits']\n"
     ]
    },
    {
     "name": "stderr",
     "output_type": "stream",
     "text": [
      " 97%|█████████▋| 30/31 [00:02<00:00,  5.99it/s]"
     ]
    },
    {
     "name": "stdout",
     "output_type": "stream",
     "text": [
      "Batch node types: ['qualifying', 'results', 'standings', 'races', 'constructor_results', 'constructor_standings', 'drivers', 'constructors', 'circuits']\n",
      "Batch node types: ['qualifying', 'results', 'standings', 'races', 'constructor_results', 'constructor_standings', 'drivers', 'constructors', 'circuits']\n"
     ]
    },
    {
     "name": "stderr",
     "output_type": "stream",
     "text": [
      "100%|██████████| 31/31 [00:02<00:00, 10.39it/s]"
     ]
    },
    {
     "name": "stdout",
     "output_type": "stream",
     "text": [
      "Batch node types: ['qualifying', 'results', 'standings', 'races', 'constructor_results', 'constructor_standings', 'drivers', 'constructors', 'circuits']\n",
      "Epoch 8 Training Loss: 5.3642\n"
     ]
    },
    {
     "name": "stderr",
     "output_type": "stream",
     "text": [
      "\n"
     ]
    },
    {
     "name": "stdout",
     "output_type": "stream",
     "text": [
      "Epoch 8 Validation Prediction Shape: (1457,)\n",
      "Sample Predictions: [13.580353 13.579609 15.262609 15.097348 15.098209]\n",
      "Batch Summary:\n",
      "  results: num_nodes = 20323\n",
      "  standings: num_nodes = 28115\n",
      "  races: num_nodes = 820\n",
      "  drivers: num_nodes = 857\n",
      "  constructors: num_nodes = 211\n",
      "  circuits: num_nodes = 77\n",
      "Edge Index Summary:\n",
      "  ('results', 'f2p_raceId', 'races'): shape = torch.Size([2, 23])\n",
      "  ('results', 'f2p_driverId', 'drivers'): shape = torch.Size([2, 20323])\n",
      "  ('results', 'f2p_constructorId', 'constructors'): shape = torch.Size([2, 20323])\n",
      "  ('standings', 'f2p_raceId', 'races'): shape = torch.Size([2, 23])\n",
      "  ('standings', 'f2p_driverId', 'drivers'): shape = torch.Size([2, 28115])\n",
      "  ('races', 'f2p_circuitId', 'circuits'): shape = torch.Size([2, 820])\n"
     ]
    },
    {
     "name": "stderr",
     "output_type": "stream",
     "text": [
      " 16%|█▌        | 5/31 [00:00<00:00, 40.39it/s]"
     ]
    },
    {
     "name": "stdout",
     "output_type": "stream",
     "text": [
      "Batch node types: ['results', 'standings', 'races', 'drivers', 'constructors', 'circuits']\n",
      "Batch node types: ['results', 'standings', 'races', 'drivers', 'constructors', 'circuits']\n",
      "Batch node types: ['results', 'standings', 'races', 'drivers', 'constructors', 'circuits']\n",
      "Batch node types: ['results', 'standings', 'races', 'drivers', 'constructors', 'circuits']\n",
      "Batch node types: ['results', 'standings', 'races', 'drivers', 'constructors', 'circuits']\n",
      "Batch node types: ['results', 'standings', 'races', 'drivers', 'constructors', 'circuits']\n",
      "Batch node types: ['results', 'standings', 'races', 'constructor_results', 'drivers', 'constructors', 'circuits']\n",
      "Batch node types: ['results', 'standings', 'races', 'constructor_results', 'drivers', 'constructors', 'circuits']\n",
      "Batch node types: ['results', 'standings', 'races', 'constructor_results', 'constructor_standings', 'drivers', 'constructors', 'circuits']\n",
      "Batch node types: ['results', 'standings', 'races', 'constructor_results', 'constructor_standings', 'drivers', 'constructors', 'circuits']\n",
      "Batch node types: ['results', 'standings', 'races', 'constructor_results', 'constructor_standings', 'drivers', 'constructors', 'circuits']\n",
      "Batch node types: ['results', 'standings', 'races', 'constructor_results', 'constructor_standings', 'drivers', 'constructors', 'circuits']\n",
      "Batch node types: ['results', 'standings', 'races', 'constructor_results', 'constructor_standings', 'drivers', 'constructors', 'circuits']\n",
      "Batch node types: ['results', 'standings', 'races', 'constructor_results', 'constructor_standings', 'drivers', 'constructors', 'circuits']\n"
     ]
    },
    {
     "name": "stderr",
     "output_type": "stream",
     "text": [
      " 32%|███▏      | 10/31 [00:00<00:00, 28.26it/s]"
     ]
    },
    {
     "name": "stdout",
     "output_type": "stream",
     "text": [
      "Batch node types: ['results', 'standings', 'races', 'constructor_results', 'constructor_standings', 'drivers', 'constructors', 'circuits']\n",
      "Batch node types: ['results', 'standings', 'races', 'constructor_results', 'constructor_standings', 'drivers', 'constructors', 'circuits']\n",
      "Batch node types: ['results', 'standings', 'races', 'constructor_results', 'constructor_standings', 'drivers', 'constructors', 'circuits']\n",
      "Batch node types: ['results', 'standings', 'races', 'constructor_results', 'constructor_standings', 'drivers', 'constructors', 'circuits']\n",
      "Batch node types: ['results', 'standings', 'races', 'constructor_results', 'constructor_standings', 'drivers', 'constructors', 'circuits']\n",
      "Batch node types: ['results', 'standings', 'races', 'constructor_results', 'constructor_standings', 'drivers', 'constructors', 'circuits']\n",
      "Batch node types: ['results', 'standings', 'races', 'constructor_results', 'constructor_standings', 'drivers', 'constructors', 'circuits']\n",
      "Batch node types: ['results', 'standings', 'races', 'constructor_results', 'constructor_standings', 'drivers', 'constructors', 'circuits']\n",
      "Batch node types: ['results', 'standings', 'races', 'constructor_results', 'constructor_standings', 'drivers', 'constructors', 'circuits']\n"
     ]
    },
    {
     "name": "stderr",
     "output_type": "stream",
     "text": [
      " 45%|████▌     | 14/31 [00:00<00:00, 21.66it/s]"
     ]
    },
    {
     "name": "stdout",
     "output_type": "stream",
     "text": [
      "Batch node types: ['results', 'standings', 'races', 'constructor_results', 'constructor_standings', 'drivers', 'constructors', 'circuits']\n",
      "Batch node types: ['results', 'standings', 'races', 'constructor_results', 'constructor_standings', 'drivers', 'constructors', 'circuits']\n",
      "Batch node types: ['results', 'standings', 'races', 'constructor_results', 'constructor_standings', 'drivers', 'constructors', 'circuits']\n",
      "Batch node types: ['results', 'standings', 'races', 'constructor_results', 'constructor_standings', 'drivers', 'constructors', 'circuits']\n",
      "Batch node types: ['results', 'standings', 'races', 'constructor_results', 'constructor_standings', 'drivers', 'constructors', 'circuits']\n",
      "Batch node types: ['results', 'standings', 'races', 'constructor_results', 'constructor_standings', 'drivers', 'constructors', 'circuits']\n",
      "Batch node types: ['results', 'standings', 'races', 'constructor_results', 'constructor_standings', 'drivers', 'constructors', 'circuits']\n",
      "Batch node types: ['results', 'standings', 'races', 'constructor_results', 'constructor_standings', 'drivers', 'constructors', 'circuits']\n",
      "Batch node types: ['results', 'standings', 'races', 'constructor_results', 'constructor_standings', 'drivers', 'constructors', 'circuits']\n",
      "Batch node types: ['results', 'standings', 'races', 'constructor_results', 'constructor_standings', 'drivers', 'constructors', 'circuits']\n",
      "Batch node types: ['results', 'standings', 'races', 'constructor_results', 'constructor_standings', 'drivers', 'constructors', 'circuits']\n"
     ]
    },
    {
     "name": "stderr",
     "output_type": "stream",
     "text": [
      " 61%|██████▏   | 19/31 [00:01<00:00, 15.01it/s]"
     ]
    },
    {
     "name": "stdout",
     "output_type": "stream",
     "text": [
      "Batch node types: ['results', 'standings', 'races', 'constructor_results', 'constructor_standings', 'drivers', 'constructors', 'circuits']\n",
      "Batch node types: ['results', 'standings', 'races', 'constructor_results', 'constructor_standings', 'drivers', 'constructors', 'circuits']\n",
      "Batch node types: ['results', 'standings', 'races', 'constructor_results', 'constructor_standings', 'drivers', 'constructors', 'circuits']\n",
      "Batch node types: ['results', 'standings', 'races', 'constructor_results', 'constructor_standings', 'drivers', 'constructors', 'circuits']\n",
      "Batch node types: ['results', 'standings', 'races', 'constructor_results', 'constructor_standings', 'drivers', 'constructors', 'circuits']\n"
     ]
    },
    {
     "name": "stderr",
     "output_type": "stream",
     "text": [
      " 68%|██████▊   | 21/31 [00:01<00:00, 12.87it/s]"
     ]
    },
    {
     "name": "stdout",
     "output_type": "stream",
     "text": [
      "Batch node types: ['results', 'standings', 'races', 'constructor_results', 'constructor_standings', 'drivers', 'constructors', 'circuits']\n",
      "Batch node types: ['results', 'standings', 'races', 'constructor_results', 'constructor_standings', 'drivers', 'constructors', 'circuits']\n",
      "Batch node types: ['results', 'standings', 'races', 'constructor_results', 'constructor_standings', 'drivers', 'constructors', 'circuits']\n",
      "Batch node types: ['results', 'standings', 'races', 'constructor_results', 'constructor_standings', 'drivers', 'constructors', 'circuits']\n",
      "Batch node types: ['results', 'standings', 'races', 'constructor_results', 'constructor_standings', 'drivers', 'constructors', 'circuits']\n",
      "Batch node types: ['results', 'standings', 'races', 'constructor_results', 'constructor_standings', 'drivers', 'constructors', 'circuits']\n",
      "Batch node types: ['results', 'standings', 'races', 'constructor_results', 'constructor_standings', 'drivers', 'constructors', 'circuits']\n"
     ]
    },
    {
     "name": "stderr",
     "output_type": "stream",
     "text": [
      " 74%|███████▍  | 23/31 [00:01<00:00, 10.76it/s]"
     ]
    },
    {
     "name": "stdout",
     "output_type": "stream",
     "text": [
      "Batch node types: ['qualifying', 'results', 'standings', 'races', 'constructor_results', 'constructor_standings', 'drivers', 'constructors', 'circuits']\n",
      "Batch node types: ['qualifying', 'results', 'standings', 'races', 'constructor_results', 'constructor_standings', 'drivers', 'constructors', 'circuits']\n",
      "Batch node types: ['qualifying', 'results', 'standings', 'races', 'constructor_results', 'constructor_standings', 'drivers', 'constructors', 'circuits']\n"
     ]
    },
    {
     "name": "stderr",
     "output_type": "stream",
     "text": [
      " 81%|████████  | 25/31 [00:01<00:00,  9.36it/s]"
     ]
    },
    {
     "name": "stdout",
     "output_type": "stream",
     "text": [
      "Batch node types: ['qualifying', 'results', 'standings', 'races', 'constructor_results', 'constructor_standings', 'drivers', 'constructors', 'circuits']\n",
      "Batch node types: ['qualifying', 'results', 'standings', 'races', 'constructor_results', 'constructor_standings', 'drivers', 'constructors', 'circuits']\n",
      "Batch node types: ['qualifying', 'results', 'standings', 'races', 'constructor_results', 'constructor_standings', 'drivers', 'constructors', 'circuits']\n"
     ]
    },
    {
     "name": "stderr",
     "output_type": "stream",
     "text": [
      " 87%|████████▋ | 27/31 [00:02<00:00,  8.25it/s]"
     ]
    },
    {
     "name": "stdout",
     "output_type": "stream",
     "text": [
      "Batch node types: ['qualifying', 'results', 'standings', 'races', 'constructor_results', 'constructor_standings', 'drivers', 'constructors', 'circuits']\n",
      "Batch node types: ['qualifying', 'results', 'standings', 'races', 'constructor_results', 'constructor_standings', 'drivers', 'constructors', 'circuits']\n",
      "Batch node types: ['qualifying', 'results', 'standings', 'races', 'constructor_results', 'constructor_standings', 'drivers', 'constructors', 'circuits']\n"
     ]
    },
    {
     "name": "stderr",
     "output_type": "stream",
     "text": [
      " 90%|█████████ | 28/31 [00:02<00:00,  7.77it/s]"
     ]
    },
    {
     "name": "stdout",
     "output_type": "stream",
     "text": [
      "Batch node types: ['qualifying', 'results', 'standings', 'races', 'constructor_results', 'constructor_standings', 'drivers', 'constructors', 'circuits']\n",
      "Batch node types: ['qualifying', 'results', 'standings', 'races', 'constructor_results', 'constructor_standings', 'drivers', 'constructors', 'circuits']\n",
      "Batch node types: ['qualifying', 'results', 'standings', 'races', 'constructor_results', 'constructor_standings', 'drivers', 'constructors', 'circuits']\n"
     ]
    },
    {
     "name": "stderr",
     "output_type": "stream",
     "text": [
      " 94%|█████████▎| 29/31 [00:02<00:00,  7.24it/s]"
     ]
    },
    {
     "name": "stdout",
     "output_type": "stream",
     "text": [
      "Batch node types: ['qualifying', 'results', 'standings', 'races', 'constructor_results', 'constructor_standings', 'drivers', 'constructors', 'circuits']\n",
      "Batch node types: ['qualifying', 'results', 'standings', 'races', 'constructor_results', 'constructor_standings', 'drivers', 'constructors', 'circuits']\n"
     ]
    },
    {
     "name": "stderr",
     "output_type": "stream",
     "text": [
      " 97%|█████████▋| 30/31 [00:02<00:00,  6.51it/s]"
     ]
    },
    {
     "name": "stdout",
     "output_type": "stream",
     "text": [
      "Batch node types: ['qualifying', 'results', 'standings', 'races', 'constructor_results', 'constructor_standings', 'drivers', 'constructors', 'circuits']\n",
      "Batch node types: ['qualifying', 'results', 'standings', 'races', 'constructor_results', 'constructor_standings', 'drivers', 'constructors', 'circuits']\n"
     ]
    },
    {
     "name": "stderr",
     "output_type": "stream",
     "text": [
      "100%|██████████| 31/31 [00:02<00:00, 10.65it/s]\n"
     ]
    },
    {
     "name": "stdout",
     "output_type": "stream",
     "text": [
      "Epoch 9 Training Loss: 5.3524\n",
      "Epoch 9 Validation Prediction Shape: (1457,)\n",
      "Sample Predictions: [13.317337 13.320276 14.078329 11.557695 11.554366]\n",
      "Batch Summary:\n",
      "  results: num_nodes = 20323\n",
      "  standings: num_nodes = 28115\n",
      "  races: num_nodes = 820\n",
      "  drivers: num_nodes = 857\n",
      "  constructors: num_nodes = 211\n",
      "  circuits: num_nodes = 77\n",
      "Edge Index Summary:\n",
      "  ('results', 'f2p_raceId', 'races'): shape = torch.Size([2, 23])\n",
      "  ('results', 'f2p_driverId', 'drivers'): shape = torch.Size([2, 20323])\n",
      "  ('results', 'f2p_constructorId', 'constructors'): shape = torch.Size([2, 20323])\n",
      "  ('standings', 'f2p_raceId', 'races'): shape = torch.Size([2, 23])\n",
      "  ('standings', 'f2p_driverId', 'drivers'): shape = torch.Size([2, 28115])\n",
      "  ('races', 'f2p_circuitId', 'circuits'): shape = torch.Size([2, 820])\n"
     ]
    },
    {
     "name": "stderr",
     "output_type": "stream",
     "text": [
      " 16%|█▌        | 5/31 [00:00<00:00, 39.82it/s]"
     ]
    },
    {
     "name": "stdout",
     "output_type": "stream",
     "text": [
      "Batch node types: ['results', 'standings', 'races', 'drivers', 'constructors', 'circuits']\n",
      "Batch node types: ['results', 'standings', 'races', 'drivers', 'constructors', 'circuits']\n",
      "Batch node types: ['results', 'standings', 'races', 'drivers', 'constructors', 'circuits']\n",
      "Batch node types: ['results', 'standings', 'races', 'drivers', 'constructors', 'circuits']\n",
      "Batch node types: ['results', 'standings', 'races', 'drivers', 'constructors', 'circuits']\n",
      "Batch node types: ['results', 'standings', 'races', 'drivers', 'constructors', 'circuits']\n",
      "Batch node types: ['results', 'standings', 'races', 'constructor_results', 'drivers', 'constructors', 'circuits']\n",
      "Batch node types: ['results', 'standings', 'races', 'constructor_results', 'drivers', 'constructors', 'circuits']\n",
      "Batch node types: ['results', 'standings', 'races', 'constructor_results', 'constructor_standings', 'drivers', 'constructors', 'circuits']\n",
      "Batch node types: ['results', 'standings', 'races', 'constructor_results', 'constructor_standings', 'drivers', 'constructors', 'circuits']\n",
      "Batch node types: ['results', 'standings', 'races', 'constructor_results', 'constructor_standings', 'drivers', 'constructors', 'circuits']\n",
      "Batch node types: ['results', 'standings', 'races', 'constructor_results', 'constructor_standings', 'drivers', 'constructors', 'circuits']\n",
      "Batch node types: ['results', 'standings', 'races', 'constructor_results', 'constructor_standings', 'drivers', 'constructors', 'circuits']\n",
      "Batch node types: ['results', 'standings', 'races', 'constructor_results', 'constructor_standings', 'drivers', 'constructors', 'circuits']\n",
      "Batch node types: ['results', 'standings', 'races', 'constructor_results', 'constructor_standings', 'drivers', 'constructors', 'circuits']\n"
     ]
    },
    {
     "name": "stderr",
     "output_type": "stream",
     "text": [
      " 29%|██▉       | 9/31 [00:00<00:00, 29.87it/s]"
     ]
    },
    {
     "name": "stdout",
     "output_type": "stream",
     "text": [
      "Batch node types: ['results', 'standings', 'races', 'constructor_results', 'constructor_standings', 'drivers', 'constructors', 'circuits']\n",
      "Batch node types: ['results', 'standings', 'races', 'constructor_results', 'constructor_standings', 'drivers', 'constructors', 'circuits']\n",
      "Batch node types: ['results', 'standings', 'races', 'constructor_results', 'constructor_standings', 'drivers', 'constructors', 'circuits']\n",
      "Batch node types: ['results', 'standings', 'races', 'constructor_results', 'constructor_standings', 'drivers', 'constructors', 'circuits']\n",
      "Batch node types: ['results', 'standings', 'races', 'constructor_results', 'constructor_standings', 'drivers', 'constructors', 'circuits']\n",
      "Batch node types: ['results', 'standings', 'races', 'constructor_results', 'constructor_standings', 'drivers', 'constructors', 'circuits']\n",
      "Batch node types: ['results', 'standings', 'races', 'constructor_results', 'constructor_standings', 'drivers', 'constructors', 'circuits']\n",
      "Batch node types: ['results', 'standings', 'races', 'constructor_results', 'constructor_standings', 'drivers', 'constructors', 'circuits']\n"
     ]
    },
    {
     "name": "stderr",
     "output_type": "stream",
     "text": [
      " 42%|████▏     | 13/31 [00:00<00:00, 21.35it/s]"
     ]
    },
    {
     "name": "stdout",
     "output_type": "stream",
     "text": [
      "Batch node types: ['results', 'standings', 'races', 'constructor_results', 'constructor_standings', 'drivers', 'constructors', 'circuits']\n",
      "Batch node types: ['results', 'standings', 'races', 'constructor_results', 'constructor_standings', 'drivers', 'constructors', 'circuits']\n",
      "Batch node types: ['results', 'standings', 'races', 'constructor_results', 'constructor_standings', 'drivers', 'constructors', 'circuits']\n",
      "Batch node types: ['results', 'standings', 'races', 'constructor_results', 'constructor_standings', 'drivers', 'constructors', 'circuits']\n",
      "Batch node types: ['results', 'standings', 'races', 'constructor_results', 'constructor_standings', 'drivers', 'constructors', 'circuits']\n",
      "Batch node types: ['results', 'standings', 'races', 'constructor_results', 'constructor_standings', 'drivers', 'constructors', 'circuits']\n"
     ]
    },
    {
     "name": "stderr",
     "output_type": "stream",
     "text": [
      " 52%|█████▏    | 16/31 [00:00<00:00, 17.09it/s]"
     ]
    },
    {
     "name": "stdout",
     "output_type": "stream",
     "text": [
      "Batch node types: ['results', 'standings', 'races', 'constructor_results', 'constructor_standings', 'drivers', 'constructors', 'circuits']\n",
      "Batch node types: ['results', 'standings', 'races', 'constructor_results', 'constructor_standings', 'drivers', 'constructors', 'circuits']\n",
      "Batch node types: ['results', 'standings', 'races', 'constructor_results', 'constructor_standings', 'drivers', 'constructors', 'circuits']\n",
      "Batch node types: ['results', 'standings', 'races', 'constructor_results', 'constructor_standings', 'drivers', 'constructors', 'circuits']\n",
      "Batch node types: ['results', 'standings', 'races', 'constructor_results', 'constructor_standings', 'drivers', 'constructors', 'circuits']\n"
     ]
    },
    {
     "name": "stderr",
     "output_type": "stream",
     "text": [
      " 58%|█████▊    | 18/31 [00:00<00:00, 14.91it/s]"
     ]
    },
    {
     "name": "stdout",
     "output_type": "stream",
     "text": [
      "Batch node types: ['results', 'standings', 'races', 'constructor_results', 'constructor_standings', 'drivers', 'constructors', 'circuits']\n",
      "Batch node types: ['results', 'standings', 'races', 'constructor_results', 'constructor_standings', 'drivers', 'constructors', 'circuits']\n",
      "Batch node types: ['results', 'standings', 'races', 'constructor_results', 'constructor_standings', 'drivers', 'constructors', 'circuits']\n",
      "Batch node types: ['results', 'standings', 'races', 'constructor_results', 'constructor_standings', 'drivers', 'constructors', 'circuits']\n",
      "Batch node types: ['results', 'standings', 'races', 'constructor_results', 'constructor_standings', 'drivers', 'constructors', 'circuits']\n"
     ]
    },
    {
     "name": "stderr",
     "output_type": "stream",
     "text": [
      " 65%|██████▍   | 20/31 [00:01<00:00, 12.88it/s]"
     ]
    },
    {
     "name": "stdout",
     "output_type": "stream",
     "text": [
      "Batch node types: ['results', 'standings', 'races', 'constructor_results', 'constructor_standings', 'drivers', 'constructors', 'circuits']\n",
      "Batch node types: ['results', 'standings', 'races', 'constructor_results', 'constructor_standings', 'drivers', 'constructors', 'circuits']\n",
      "Batch node types: ['results', 'standings', 'races', 'constructor_results', 'constructor_standings', 'drivers', 'constructors', 'circuits']\n",
      "Batch node types: ['results', 'standings', 'races', 'constructor_results', 'constructor_standings', 'drivers', 'constructors', 'circuits']\n"
     ]
    },
    {
     "name": "stderr",
     "output_type": "stream",
     "text": [
      " 71%|███████   | 22/31 [00:01<00:00, 11.24it/s]"
     ]
    },
    {
     "name": "stdout",
     "output_type": "stream",
     "text": [
      "Batch node types: ['results', 'standings', 'races', 'constructor_results', 'constructor_standings', 'drivers', 'constructors', 'circuits']\n",
      "Batch node types: ['results', 'standings', 'races', 'constructor_results', 'constructor_standings', 'drivers', 'constructors', 'circuits']\n",
      "Batch node types: ['results', 'standings', 'races', 'constructor_results', 'constructor_standings', 'drivers', 'constructors', 'circuits']\n",
      "Batch node types: ['qualifying', 'results', 'standings', 'races', 'constructor_results', 'constructor_standings', 'drivers', 'constructors', 'circuits']\n"
     ]
    },
    {
     "name": "stderr",
     "output_type": "stream",
     "text": [
      " 77%|███████▋  | 24/31 [00:01<00:00,  9.78it/s]"
     ]
    },
    {
     "name": "stdout",
     "output_type": "stream",
     "text": [
      "Batch node types: ['qualifying', 'results', 'standings', 'races', 'constructor_results', 'constructor_standings', 'drivers', 'constructors', 'circuits']\n",
      "Batch node types: ['qualifying', 'results', 'standings', 'races', 'constructor_results', 'constructor_standings', 'drivers', 'constructors', 'circuits']\n",
      "Batch node types: ['qualifying', 'results', 'standings', 'races', 'constructor_results', 'constructor_standings', 'drivers', 'constructors', 'circuits']\n"
     ]
    },
    {
     "name": "stderr",
     "output_type": "stream",
     "text": [
      " 84%|████████▍ | 26/31 [00:02<00:00,  8.54it/s]"
     ]
    },
    {
     "name": "stdout",
     "output_type": "stream",
     "text": [
      "Batch node types: ['qualifying', 'results', 'standings', 'races', 'constructor_results', 'constructor_standings', 'drivers', 'constructors', 'circuits']\n",
      "Batch node types: ['qualifying', 'results', 'standings', 'races', 'constructor_results', 'constructor_standings', 'drivers', 'constructors', 'circuits']\n",
      "Batch node types: ['qualifying', 'results', 'standings', 'races', 'constructor_results', 'constructor_standings', 'drivers', 'constructors', 'circuits']\n"
     ]
    },
    {
     "name": "stderr",
     "output_type": "stream",
     "text": [
      " 87%|████████▋ | 27/31 [00:02<00:00,  8.09it/s]"
     ]
    },
    {
     "name": "stdout",
     "output_type": "stream",
     "text": [
      "Batch node types: ['qualifying', 'results', 'standings', 'races', 'constructor_results', 'constructor_standings', 'drivers', 'constructors', 'circuits']\n",
      "Batch node types: ['qualifying', 'results', 'standings', 'races', 'constructor_results', 'constructor_standings', 'drivers', 'constructors', 'circuits']\n",
      "Batch node types: ['qualifying', 'results', 'standings', 'races', 'constructor_results', 'constructor_standings', 'drivers', 'constructors', 'circuits']\n"
     ]
    },
    {
     "name": "stderr",
     "output_type": "stream",
     "text": [
      " 94%|█████████▎| 29/31 [00:02<00:00,  6.96it/s]"
     ]
    },
    {
     "name": "stdout",
     "output_type": "stream",
     "text": [
      "Batch node types: ['qualifying', 'results', 'standings', 'races', 'constructor_results', 'constructor_standings', 'drivers', 'constructors', 'circuits']\n",
      "Batch node types: ['qualifying', 'results', 'standings', 'races', 'constructor_results', 'constructor_standings', 'drivers', 'constructors', 'circuits']\n",
      "Batch node types: ['qualifying', 'results', 'standings', 'races', 'constructor_results', 'constructor_standings', 'drivers', 'constructors', 'circuits']\n"
     ]
    },
    {
     "name": "stderr",
     "output_type": "stream",
     "text": [
      " 97%|█████████▋| 30/31 [00:02<00:00,  6.19it/s]"
     ]
    },
    {
     "name": "stdout",
     "output_type": "stream",
     "text": [
      "Batch node types: ['qualifying', 'results', 'standings', 'races', 'constructor_results', 'constructor_standings', 'drivers', 'constructors', 'circuits']\n",
      "Batch node types: ['qualifying', 'results', 'standings', 'races', 'constructor_results', 'constructor_standings', 'drivers', 'constructors', 'circuits']\n"
     ]
    },
    {
     "name": "stderr",
     "output_type": "stream",
     "text": [
      "100%|██████████| 31/31 [00:02<00:00, 10.40it/s]"
     ]
    },
    {
     "name": "stdout",
     "output_type": "stream",
     "text": [
      "Batch node types: ['qualifying', 'results', 'standings', 'races', 'constructor_results', 'constructor_standings', 'drivers', 'constructors', 'circuits']\n",
      "Epoch 10 Training Loss: 5.3573\n"
     ]
    },
    {
     "name": "stderr",
     "output_type": "stream",
     "text": [
      "\n"
     ]
    },
    {
     "name": "stdout",
     "output_type": "stream",
     "text": [
      "Epoch 10 Validation Prediction Shape: (1457,)\n",
      "Sample Predictions: [13.305592 13.315838 15.026462 16.480076 16.481104]\n",
      "Batch Summary:\n",
      "  results: num_nodes = 20323\n",
      "  standings: num_nodes = 28115\n",
      "  races: num_nodes = 820\n",
      "  drivers: num_nodes = 857\n",
      "  constructors: num_nodes = 211\n",
      "  circuits: num_nodes = 77\n",
      "Edge Index Summary:\n",
      "  ('results', 'f2p_raceId', 'races'): shape = torch.Size([2, 23])\n",
      "  ('results', 'f2p_driverId', 'drivers'): shape = torch.Size([2, 20323])\n",
      "  ('results', 'f2p_constructorId', 'constructors'): shape = torch.Size([2, 20323])\n",
      "  ('standings', 'f2p_raceId', 'races'): shape = torch.Size([2, 23])\n",
      "  ('standings', 'f2p_driverId', 'drivers'): shape = torch.Size([2, 28115])\n",
      "  ('races', 'f2p_circuitId', 'circuits'): shape = torch.Size([2, 820])\n"
     ]
    }
   ],
   "source": [
    "print(\"=== Training Epoch ===\")\n",
    "for epoch in range(epochs):\n",
    "    train_loss = train()  # your train() function\n",
    "    print(f\"Epoch {epoch+1} Training Loss: {train_loss:.4f}\")\n",
    "    \n",
    "    # Evaluate on validation set.\n",
    "    val_pred = test(loader_dict[\"val\"])  # your test() function\n",
    "    print(f\"Epoch {epoch+1} Validation Prediction Shape: {val_pred.shape}\")\n",
    "    \n",
    "    # Optionally, print a few sample predictions.\n",
    "    print(\"Sample Predictions:\", val_pred[:5])\n",
    "    \n",
    "    # Optionally, print a summary of one batch.\n",
    "    for batch in loader_dict[\"val\"]:\n",
    "        print(\"Batch Summary:\")\n",
    "        for node in batch.data.node_types:\n",
    "            print(f\"  {node}: num_nodes = {batch.data[node].num_nodes}\")\n",
    "        print(\"Edge Index Summary:\")\n",
    "        for edge_type, edge_index in batch.data.edge_index_dict.items():\n",
    "            print(f\"  {edge_type}: shape = {edge_index.shape}\")\n",
    "        break  # print summary for first batch only\n",
    "\n",
    "# Test the model.\n",
    "test_pred = test(loader_dict[\"test\"])\n"
   ]
  },
  {
   "cell_type": "code",
   "execution_count": 29,
   "metadata": {},
   "outputs": [
    {
     "name": "stdout",
     "output_type": "stream",
     "text": [
      "Sample Predictions: [13.305592 13.315838 15.026462 16.480076 16.481104]\n"
     ]
    }
   ],
   "source": [
    "print(\"Sample Predictions:\", val_pred[:5])\n"
   ]
  },
  {
   "cell_type": "code",
   "execution_count": 30,
   "metadata": {},
   "outputs": [
    {
     "name": "stdout",
     "output_type": "stream",
     "text": [
      "Sample Predictions: [13.305592 13.315838 15.026462 16.480076 16.481104]\n"
     ]
    }
   ],
   "source": [
    "print(\"Sample Predictions:\", torch.tensor(val_pred[:5]).cpu().detach().numpy())\n"
   ]
  }
 ],
 "metadata": {
  "accelerator": "GPU",
  "colab": {
   "gpuType": "T4",
   "provenance": []
  },
  "kernelspec": {
   "display_name": "pyg_env",
   "language": "python",
   "name": "python3"
  },
  "language_info": {
   "codemirror_mode": {
    "name": "ipython",
    "version": 3
   },
   "file_extension": ".py",
   "mimetype": "text/x-python",
   "name": "python",
   "nbconvert_exporter": "python",
   "pygments_lexer": "ipython3",
   "version": "3.12.2"
  }
 },
 "nbformat": 4,
 "nbformat_minor": 4
}
