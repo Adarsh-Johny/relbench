{
 "cells": [
  {
   "cell_type": "code",
   "execution_count": 1,
   "metadata": {
    "colab": {
     "base_uri": "https://localhost:8080/"
    },
    "id": "zNziUzq9nTdU",
    "outputId": "edb40abf-b984-4fec-8033-1ed92fbdb128"
   },
   "outputs": [],
   "source": [
    "# # # Install required packages.\n",
    "# !pip install torch==2.6.0\n",
    "# !pip install torch-geometric torch-sparse torch-scatter torch-cluster torch-spline-conv pyg-lib -f https://data.pyg.org/whl/torch-2.4.0+cpu.html\n",
    "# !pip install pytorch_frame\n",
    "# !pip install -U sentence-transformers # we need another package for text encoding\n"
   ]
  },
  {
   "cell_type": "code",
   "execution_count": 2,
   "metadata": {
    "execution": {
     "iopub.execute_input": "2024-07-26T00:05:04.397024Z",
     "iopub.status.busy": "2024-07-26T00:05:04.396612Z",
     "iopub.status.idle": "2024-07-26T00:05:05.049064Z",
     "shell.execute_reply": "2024-07-26T00:05:05.048407Z",
     "shell.execute_reply.started": "2024-07-26T00:05:04.397003Z"
    }
   },
   "outputs": [
    {
     "data": {
      "text/plain": [
       "'9.9.9'"
      ]
     },
     "execution_count": 2,
     "metadata": {},
     "output_type": "execute_result"
    }
   ],
   "source": [
    "import os\n",
    "import torch\n",
    "import relbench\n",
    "\n",
    "relbench.__version__"
   ]
  },
  {
   "cell_type": "code",
   "execution_count": 3,
   "metadata": {
    "id": "6DWB-Kf6nl2y"
   },
   "outputs": [],
   "source": [
    "import numpy as np\n",
    "\n",
    "from torch.nn import BCEWithLogitsLoss, L1Loss\n",
    "from relbench.datasets import get_dataset\n",
    "from relbench.tasks import get_task\n",
    "\n",
    "dataset = get_dataset(\"rel-f1\", download=True)\n",
    "task = get_task(\"rel-f1\", \"driver-position\", download=True)\n",
    "\n",
    "train_table = task.get_table(\"train\")\n",
    "val_table = task.get_table(\"val\")\n",
    "test_table = task.get_table(\"test\")\n",
    "\n",
    "out_channels = 1\n",
    "loss_fn = L1Loss()\n",
    "tune_metric = \"mae\"\n",
    "higher_is_better = False"
   ]
  },
  {
   "cell_type": "markdown",
   "metadata": {
    "id": "UKFT5H51j_Um"
   },
   "source": [
    "Let's check out the training table just to make sure it looks fine."
   ]
  },
  {
   "cell_type": "code",
   "execution_count": 4,
   "metadata": {
    "colab": {
     "base_uri": "https://localhost:8080/"
    },
    "id": "ABN_fdN3kAB9",
    "outputId": "03d4a31a-124d-45c7-b4dc-9713e5e4b942"
   },
   "outputs": [
    {
     "data": {
      "text/plain": [
       "Table(df=\n",
       "           date  driverId  position\n",
       "0    2004-07-05        10     10.75\n",
       "1    2004-07-05        47     12.00\n",
       "2    2004-03-07         7     15.00\n",
       "3    2004-01-07        10      9.00\n",
       "4    2003-09-09        52     13.00\n",
       "...         ...       ...       ...\n",
       "7448 1995-08-22        96     15.75\n",
       "7449 1975-06-08       228      8.00\n",
       "7450 1965-05-31       418     16.00\n",
       "7451 1961-08-20       467     37.00\n",
       "7452 1954-05-29       677     30.00\n",
       "\n",
       "[7453 rows x 3 columns],\n",
       "  fkey_col_to_pkey_table={'driverId': 'drivers'},\n",
       "  pkey_col=None,\n",
       "  time_col=date)"
      ]
     },
     "execution_count": 4,
     "metadata": {},
     "output_type": "execute_result"
    }
   ],
   "source": [
    "train_table"
   ]
  },
  {
   "cell_type": "markdown",
   "metadata": {
    "id": "qQhuHIdHkOxv"
   },
   "source": [
    "Note that to load the data we did not require any deep learning libraries. Now we introduce the PyTorch Frame library, which is useful for encoding individual tables into initial node features."
   ]
  },
  {
   "cell_type": "code",
   "execution_count": 5,
   "metadata": {
    "colab": {
     "base_uri": "https://localhost:8080/"
    },
    "id": "qNzfdwsrkPIo",
    "outputId": "c985185e-b785-405e-bd46-ebf2f48e3ac6"
   },
   "outputs": [
    {
     "name": "stderr",
     "output_type": "stream",
     "text": [
      "/Users/adarshjohny/Personal/Studies/Trento /Advanced ML/Project/ML/relbench/pyg_env/lib/python3.12/site-packages/torch_geometric/typing.py:86: UserWarning: An issue occurred while importing 'torch-scatter'. Disabling its usage. Stacktrace: dlopen(/Users/adarshjohny/Personal/Studies/Trento /Advanced ML/Project/ML/relbench/pyg_env/lib/python3.12/site-packages/torch_scatter/_scatter_cpu.so, 0x0006): Symbol not found: __ZN2at4_ops16div__Tensor_mode4callERNS_6TensorERKS2_NSt3__18optionalIN3c1017basic_string_viewIcEEEE\n",
      "  Referenced from: <89BF9F3A-CF6A-35E2-9DBC-B6C14BE88568> /Users/adarshjohny/Personal/Studies/Trento /Advanced ML/Project/ML/relbench/pyg_env/lib/python3.12/site-packages/torch_scatter/_scatter_cpu.so\n",
      "  Expected in:     <DA215AD3-6EAE-3755-B6A5-A8EB4EF952B0> /Users/adarshjohny/Personal/Studies/Trento /Advanced ML/Project/ML/relbench/pyg_env/lib/python3.12/site-packages/torch/lib/libtorch_cpu.dylib\n",
      "  warnings.warn(f\"An issue occurred while importing 'torch-scatter'. \"\n",
      "/Users/adarshjohny/Personal/Studies/Trento /Advanced ML/Project/ML/relbench/pyg_env/lib/python3.12/site-packages/torch_geometric/typing.py:113: UserWarning: An issue occurred while importing 'torch-spline-conv'. Disabling its usage. Stacktrace: dlopen(/Users/adarshjohny/Personal/Studies/Trento /Advanced ML/Project/ML/relbench/pyg_env/lib/python3.12/site-packages/torch_spline_conv/_basis_cpu.so, 0x0006): Symbol not found: __ZN5torch8autograd12VariableInfoC1ERKN2at6TensorE\n",
      "  Referenced from: <A0522F33-53FE-3BF1-831B-27FF4FA39D6E> /Users/adarshjohny/Personal/Studies/Trento /Advanced ML/Project/ML/relbench/pyg_env/lib/python3.12/site-packages/torch_spline_conv/_basis_cpu.so\n",
      "  Expected in:     <DA215AD3-6EAE-3755-B6A5-A8EB4EF952B0> /Users/adarshjohny/Personal/Studies/Trento /Advanced ML/Project/ML/relbench/pyg_env/lib/python3.12/site-packages/torch/lib/libtorch_cpu.dylib\n",
      "  warnings.warn(\n",
      "/Users/adarshjohny/Personal/Studies/Trento /Advanced ML/Project/ML/relbench/pyg_env/lib/python3.12/site-packages/torch_geometric/typing.py:124: UserWarning: An issue occurred while importing 'torch-sparse'. Disabling its usage. Stacktrace: dlopen(/Users/adarshjohny/Personal/Studies/Trento /Advanced ML/Project/ML/relbench/pyg_env/lib/python3.12/site-packages/torch_sparse/_spmm_cpu.so, 0x0006): Symbol not found: __ZN5torch8autograd12VariableInfoC1ERKN2at6TensorE\n",
      "  Referenced from: <FF683506-A462-3633-853F-480DB5B75AC7> /Users/adarshjohny/Personal/Studies/Trento /Advanced ML/Project/ML/relbench/pyg_env/lib/python3.12/site-packages/torch_sparse/_spmm_cpu.so\n",
      "  Expected in:     <DA215AD3-6EAE-3755-B6A5-A8EB4EF952B0> /Users/adarshjohny/Personal/Studies/Trento /Advanced ML/Project/ML/relbench/pyg_env/lib/python3.12/site-packages/torch/lib/libtorch_cpu.dylib\n",
      "  warnings.warn(f\"An issue occurred while importing 'torch-sparse'. \"\n"
     ]
    },
    {
     "name": "stdout",
     "output_type": "stream",
     "text": [
      "cpu\n"
     ]
    },
    {
     "name": "stderr",
     "output_type": "stream",
     "text": [
      "/Users/adarshjohny/Personal/Studies/Trento /Advanced ML/Project/ML/relbench/pyg_env/lib/python3.12/site-packages/tqdm/auto.py:21: TqdmWarning: IProgress not found. Please update jupyter and ipywidgets. See https://ipywidgets.readthedocs.io/en/stable/user_install.html\n",
      "  from .autonotebook import tqdm as notebook_tqdm\n"
     ]
    }
   ],
   "source": [
    "import os\n",
    "import math\n",
    "import numpy as np\n",
    "from tqdm import tqdm\n",
    "\n",
    "import torch\n",
    "import torch_geometric\n",
    "import torch_frame\n",
    "\n",
    "# Some book keeping\n",
    "from torch_geometric.seed import seed_everything\n",
    "\n",
    "seed_everything(42)\n",
    "\n",
    "\n",
    "device = torch.device(\"cuda\" if torch.cuda.is_available() else \"cpu\")\n",
    "print(device)  # check that it's cuda if you want it to run in reasonable time!\n",
    "root_dir = \"./data\""
   ]
  },
  {
   "cell_type": "markdown",
   "metadata": {
    "id": "0Y79g5H0kVjX"
   },
   "source": [
    "The first big move is to build a graph out of the database. Here we use our pre-prepared conversion function.\n",
    "\n",
    "The source code can be found at: https://github.com/snap-stanford/relbench/blob/main/relbench/modeling/graph.py\n",
    "\n",
    "Each node in the graph corresonds to a single row in the database. Crucially, PyTorch Frame stores whole tables as objects in a way that is compatibile with PyG minibatch sampling, meaning we can sample subgraphs as in https://arxiv.org/abs/1706.02216, and retrieve the relevant raw features.\n",
    "\n",
    "PyTorch Frame also stores the `stype` (i.e., modality) of each column, and any specialized feature encoders (e.g., text encoders) to be used later. So we need to configure the `stype` for each column, for which we use a function that tries to automatically detect the `stype`."
   ]
  },
  {
   "cell_type": "code",
   "execution_count": 6,
   "metadata": {
    "colab": {
     "base_uri": "https://localhost:8080/"
    },
    "id": "kiV3TGI-kRuy",
    "outputId": "98e88ec3-ab38-4a14-8dd8-24f3ea349893"
   },
   "outputs": [
    {
     "name": "stdout",
     "output_type": "stream",
     "text": [
      "Loading Database object from /Users/adarshjohny/Library/Caches/relbench/rel-f1/db...\n",
      "Done in 0.02 seconds.\n"
     ]
    },
    {
     "data": {
      "text/plain": [
       "{'qualifying': {'qualifyId': <stype.numerical: 'numerical'>,\n",
       "  'raceId': <stype.numerical: 'numerical'>,\n",
       "  'driverId': <stype.numerical: 'numerical'>,\n",
       "  'constructorId': <stype.numerical: 'numerical'>,\n",
       "  'number': <stype.numerical: 'numerical'>,\n",
       "  'position': <stype.numerical: 'numerical'>,\n",
       "  'date': <stype.timestamp: 'timestamp'>},\n",
       " 'drivers': {'driverId': <stype.numerical: 'numerical'>,\n",
       "  'driverRef': <stype.text_embedded: 'text_embedded'>,\n",
       "  'code': <stype.text_embedded: 'text_embedded'>,\n",
       "  'forename': <stype.text_embedded: 'text_embedded'>,\n",
       "  'surname': <stype.text_embedded: 'text_embedded'>,\n",
       "  'dob': <stype.timestamp: 'timestamp'>,\n",
       "  'nationality': <stype.text_embedded: 'text_embedded'>},\n",
       " 'results': {'resultId': <stype.numerical: 'numerical'>,\n",
       "  'raceId': <stype.numerical: 'numerical'>,\n",
       "  'driverId': <stype.numerical: 'numerical'>,\n",
       "  'constructorId': <stype.numerical: 'numerical'>,\n",
       "  'number': <stype.numerical: 'numerical'>,\n",
       "  'grid': <stype.numerical: 'numerical'>,\n",
       "  'position': <stype.numerical: 'numerical'>,\n",
       "  'positionOrder': <stype.numerical: 'numerical'>,\n",
       "  'points': <stype.numerical: 'numerical'>,\n",
       "  'laps': <stype.numerical: 'numerical'>,\n",
       "  'milliseconds': <stype.numerical: 'numerical'>,\n",
       "  'fastestLap': <stype.numerical: 'numerical'>,\n",
       "  'rank': <stype.numerical: 'numerical'>,\n",
       "  'statusId': <stype.numerical: 'numerical'>,\n",
       "  'date': <stype.timestamp: 'timestamp'>},\n",
       " 'standings': {'driverStandingsId': <stype.numerical: 'numerical'>,\n",
       "  'raceId': <stype.numerical: 'numerical'>,\n",
       "  'driverId': <stype.numerical: 'numerical'>,\n",
       "  'points': <stype.numerical: 'numerical'>,\n",
       "  'position': <stype.numerical: 'numerical'>,\n",
       "  'wins': <stype.numerical: 'numerical'>,\n",
       "  'date': <stype.timestamp: 'timestamp'>},\n",
       " 'races': {'raceId': <stype.numerical: 'numerical'>,\n",
       "  'year': <stype.categorical: 'categorical'>,\n",
       "  'round': <stype.numerical: 'numerical'>,\n",
       "  'circuitId': <stype.numerical: 'numerical'>,\n",
       "  'name': <stype.text_embedded: 'text_embedded'>,\n",
       "  'date': <stype.timestamp: 'timestamp'>,\n",
       "  'time': <stype.timestamp: 'timestamp'>},\n",
       " 'constructors': {'constructorId': <stype.numerical: 'numerical'>,\n",
       "  'constructorRef': <stype.text_embedded: 'text_embedded'>,\n",
       "  'name': <stype.text_embedded: 'text_embedded'>,\n",
       "  'nationality': <stype.text_embedded: 'text_embedded'>},\n",
       " 'constructor_results': {'constructorResultsId': <stype.numerical: 'numerical'>,\n",
       "  'raceId': <stype.numerical: 'numerical'>,\n",
       "  'constructorId': <stype.numerical: 'numerical'>,\n",
       "  'points': <stype.numerical: 'numerical'>,\n",
       "  'date': <stype.timestamp: 'timestamp'>},\n",
       " 'circuits': {'circuitId': <stype.numerical: 'numerical'>,\n",
       "  'circuitRef': <stype.text_embedded: 'text_embedded'>,\n",
       "  'name': <stype.text_embedded: 'text_embedded'>,\n",
       "  'location': <stype.text_embedded: 'text_embedded'>,\n",
       "  'country': <stype.text_embedded: 'text_embedded'>,\n",
       "  'lat': <stype.numerical: 'numerical'>,\n",
       "  'lng': <stype.numerical: 'numerical'>,\n",
       "  'alt': <stype.numerical: 'numerical'>},\n",
       " 'constructor_standings': {'constructorStandingsId': <stype.numerical: 'numerical'>,\n",
       "  'raceId': <stype.numerical: 'numerical'>,\n",
       "  'constructorId': <stype.numerical: 'numerical'>,\n",
       "  'points': <stype.numerical: 'numerical'>,\n",
       "  'position': <stype.numerical: 'numerical'>,\n",
       "  'wins': <stype.numerical: 'numerical'>,\n",
       "  'date': <stype.timestamp: 'timestamp'>}}"
      ]
     },
     "execution_count": 6,
     "metadata": {},
     "output_type": "execute_result"
    }
   ],
   "source": [
    "from relbench.modeling.utils import get_stype_proposal\n",
    "\n",
    "db = dataset.get_db()\n",
    "col_to_stype_dict = get_stype_proposal(db)\n",
    "col_to_stype_dict"
   ]
  },
  {
   "cell_type": "markdown",
   "metadata": {
    "id": "Sm3uYXqXkbZt"
   },
   "source": [
    "If trying a new dataset, you should definitely check through this dict of `stype`s to check that look right, and manually change any mistakes by the auto-detection function.\n",
    "\n",
    "Next we also define our text encoding model, which we use GloVe embeddings for speed and convenience. Feel free to try alternatives here."
   ]
  },
  {
   "cell_type": "code",
   "execution_count": 7,
   "metadata": {
    "colab": {
     "base_uri": "https://localhost:8080/"
    },
    "id": "QQHYmgIxkX1j",
    "outputId": "857b70dd-e7eb-4b09-a5cd-394fccef758a"
   },
   "outputs": [],
   "source": [
    "# !pip install -U sentence-transformers # we need another package for text encoding\n",
    "from typing import List, Optional\n",
    "# from sentence_transformers import SentenceTransformer\n",
    "# from torch import Tensor\n",
    "\n",
    "from sentence_transformers import SentenceTransformer\n",
    "from torch import Tensor\n",
    "\n",
    "class GloveTextEmbedding:\n",
    "    def __init__(self, device: Optional[torch.device\n",
    "                                       ] = None):\n",
    "        self.model = SentenceTransformer(\n",
    "            \"sentence-transformers/average_word_embeddings_glove.6B.300d\",\n",
    "            device=device,\n",
    "        )\n",
    "\n",
    "    def __call__(self, sentences: List[str]) -> Tensor:\n",
    "        return torch.from_numpy(self.model.encode(sentences))\n",
    "\n"
   ]
  },
  {
   "cell_type": "code",
   "execution_count": 8,
   "metadata": {
    "colab": {
     "base_uri": "https://localhost:8080/"
    },
    "id": "L-BBpUrakdwY",
    "outputId": "b152bf13-f47d-4728-d58b-fc65f738b03d"
   },
   "outputs": [
    {
     "name": "stderr",
     "output_type": "stream",
     "text": [
      "/Users/adarshjohny/Personal/Studies/Trento /Advanced ML/Project/ML/relbench/pyg_env/lib/python3.12/site-packages/torch_frame/utils/io.py:113: UserWarning: Weights only load failed. Please file an issue to make `torch.load(weights_only=True)` compatible in your case. Please use `torch.serialization.add_safe_globals([scalar])` to allowlist this global.\n",
      "  warnings.warn(f\"{warn_msg} Please use \"\n",
      "/Users/adarshjohny/Personal/Studies/Trento /Advanced ML/Project/ML/relbench/pyg_env/lib/python3.12/site-packages/torch_frame/utils/io.py:113: UserWarning: Weights only load failed. Please file an issue to make `torch.load(weights_only=True)` compatible in your case. Please use `torch.serialization.add_safe_globals([scalar])` to allowlist this global.\n",
      "  warnings.warn(f\"{warn_msg} Please use \"\n",
      "/Users/adarshjohny/Personal/Studies/Trento /Advanced ML/Project/ML/relbench/pyg_env/lib/python3.12/site-packages/torch_frame/utils/io.py:113: UserWarning: Weights only load failed. Please file an issue to make `torch.load(weights_only=True)` compatible in your case. Please use `torch.serialization.add_safe_globals([scalar])` to allowlist this global.\n",
      "  warnings.warn(f\"{warn_msg} Please use \"\n",
      "/Users/adarshjohny/Personal/Studies/Trento /Advanced ML/Project/ML/relbench/pyg_env/lib/python3.12/site-packages/torch_frame/utils/io.py:113: UserWarning: Weights only load failed. Please file an issue to make `torch.load(weights_only=True)` compatible in your case. Please use `torch.serialization.add_safe_globals([scalar])` to allowlist this global.\n",
      "  warnings.warn(f\"{warn_msg} Please use \"\n",
      "/Users/adarshjohny/Personal/Studies/Trento /Advanced ML/Project/ML/relbench/pyg_env/lib/python3.12/site-packages/torch_frame/utils/io.py:113: UserWarning: Weights only load failed. Please file an issue to make `torch.load(weights_only=True)` compatible in your case. Please use `torch.serialization.add_safe_globals([scalar])` to allowlist this global.\n",
      "  warnings.warn(f\"{warn_msg} Please use \"\n",
      "/Users/adarshjohny/Personal/Studies/Trento /Advanced ML/Project/ML/relbench/pyg_env/lib/python3.12/site-packages/torch_frame/utils/io.py:113: UserWarning: Weights only load failed. Please file an issue to make `torch.load(weights_only=True)` compatible in your case. Please use `torch.serialization.add_safe_globals([scalar])` to allowlist this global.\n",
      "  warnings.warn(f\"{warn_msg} Please use \"\n",
      "/Users/adarshjohny/Personal/Studies/Trento /Advanced ML/Project/ML/relbench/pyg_env/lib/python3.12/site-packages/torch_frame/utils/io.py:113: UserWarning: Weights only load failed. Please file an issue to make `torch.load(weights_only=True)` compatible in your case. Please use `torch.serialization.add_safe_globals([scalar])` to allowlist this global.\n",
      "  warnings.warn(f\"{warn_msg} Please use \"\n"
     ]
    }
   ],
   "source": [
    "from torch_frame.config.text_embedder import TextEmbedderConfig\n",
    "from relbench.modeling.graph import make_pkey_fkey_graph\n",
    "\n",
    "text_embedder_cfg = TextEmbedderConfig(\n",
    "    text_embedder=GloveTextEmbedding(device=device), batch_size=256\n",
    ")\n",
    "\n",
    "data, col_stats_dict = make_pkey_fkey_graph(\n",
    "    db,\n",
    "    col_to_stype_dict=col_to_stype_dict,  # speficied column types\n",
    "    text_embedder_cfg=text_embedder_cfg,  # our chosen text encoder\n",
    "    cache_dir=os.path.join(\n",
    "        root_dir, f\"rel-f1_materialized_cache\"\n",
    "    ),  # store materialized graph for convenience\n",
    ")"
   ]
  },
  {
   "cell_type": "markdown",
   "metadata": {
    "id": "mwQejmg0kzOg"
   },
   "source": [
    "We can now check out `data`, our main graph object. `data` is a heterogeneous and temporal graph, with node types given by the table it originates from."
   ]
  },
  {
   "cell_type": "code",
   "execution_count": 9,
   "metadata": {
    "colab": {
     "base_uri": "https://localhost:8080/"
    },
    "id": "Gt4a8lw1kufy",
    "outputId": "4117959f-6f0d-4c31-9489-49db7d5f3c5d"
   },
   "outputs": [
    {
     "data": {
      "text/plain": [
       "HeteroData(\n",
       "  qualifying={\n",
       "    tf=TensorFrame([4082, 3]),\n",
       "    time=[4082],\n",
       "  },\n",
       "  drivers={ tf=TensorFrame([857, 6]) },\n",
       "  results={\n",
       "    tf=TensorFrame([20323, 11]),\n",
       "    time=[20323],\n",
       "  },\n",
       "  standings={\n",
       "    tf=TensorFrame([28115, 4]),\n",
       "    time=[28115],\n",
       "  },\n",
       "  races={\n",
       "    tf=TensorFrame([820, 5]),\n",
       "    time=[820],\n",
       "  },\n",
       "  constructors={ tf=TensorFrame([211, 3]) },\n",
       "  constructor_results={\n",
       "    tf=TensorFrame([9408, 2]),\n",
       "    time=[9408],\n",
       "  },\n",
       "  circuits={ tf=TensorFrame([77, 7]) },\n",
       "  constructor_standings={\n",
       "    tf=TensorFrame([10170, 4]),\n",
       "    time=[10170],\n",
       "  },\n",
       "  (qualifying, f2p_raceId, races)={ edge_index=[2, 4082] },\n",
       "  (races, rev_f2p_raceId, qualifying)={ edge_index=[2, 4082] },\n",
       "  (qualifying, f2p_driverId, drivers)={ edge_index=[2, 4082] },\n",
       "  (drivers, rev_f2p_driverId, qualifying)={ edge_index=[2, 4082] },\n",
       "  (qualifying, f2p_constructorId, constructors)={ edge_index=[2, 4082] },\n",
       "  (constructors, rev_f2p_constructorId, qualifying)={ edge_index=[2, 4082] },\n",
       "  (results, f2p_raceId, races)={ edge_index=[2, 20323] },\n",
       "  (races, rev_f2p_raceId, results)={ edge_index=[2, 20323] },\n",
       "  (results, f2p_driverId, drivers)={ edge_index=[2, 20323] },\n",
       "  (drivers, rev_f2p_driverId, results)={ edge_index=[2, 20323] },\n",
       "  (results, f2p_constructorId, constructors)={ edge_index=[2, 20323] },\n",
       "  (constructors, rev_f2p_constructorId, results)={ edge_index=[2, 20323] },\n",
       "  (standings, f2p_raceId, races)={ edge_index=[2, 28115] },\n",
       "  (races, rev_f2p_raceId, standings)={ edge_index=[2, 28115] },\n",
       "  (standings, f2p_driverId, drivers)={ edge_index=[2, 28115] },\n",
       "  (drivers, rev_f2p_driverId, standings)={ edge_index=[2, 28115] },\n",
       "  (races, f2p_circuitId, circuits)={ edge_index=[2, 820] },\n",
       "  (circuits, rev_f2p_circuitId, races)={ edge_index=[2, 820] },\n",
       "  (constructor_results, f2p_raceId, races)={ edge_index=[2, 9408] },\n",
       "  (races, rev_f2p_raceId, constructor_results)={ edge_index=[2, 9408] },\n",
       "  (constructor_results, f2p_constructorId, constructors)={ edge_index=[2, 9408] },\n",
       "  (constructors, rev_f2p_constructorId, constructor_results)={ edge_index=[2, 9408] },\n",
       "  (constructor_standings, f2p_raceId, races)={ edge_index=[2, 10170] },\n",
       "  (races, rev_f2p_raceId, constructor_standings)={ edge_index=[2, 10170] },\n",
       "  (constructor_standings, f2p_constructorId, constructors)={ edge_index=[2, 10170] },\n",
       "  (constructors, rev_f2p_constructorId, constructor_standings)={ edge_index=[2, 10170] }\n",
       ")"
      ]
     },
     "execution_count": 9,
     "metadata": {},
     "output_type": "execute_result"
    }
   ],
   "source": [
    "data"
   ]
  },
  {
   "cell_type": "markdown",
   "metadata": {
    "id": "yd6DqCXgk41x"
   },
   "source": [
    "We can also check out the TensorFrame for one table like this:"
   ]
  },
  {
   "cell_type": "code",
   "execution_count": 10,
   "metadata": {
    "colab": {
     "base_uri": "https://localhost:8080/"
    },
    "id": "-mMQTQeLk1rl",
    "outputId": "04d698af-a4f4-4a98-8321-b5f8dc6ee10d"
   },
   "outputs": [
    {
     "data": {
      "text/plain": [
       "TensorFrame(\n",
       "  num_cols=5,\n",
       "  num_rows=820,\n",
       "  categorical (1): ['year'],\n",
       "  numerical (1): ['round'],\n",
       "  timestamp (2): ['date', 'time'],\n",
       "  embedding (1): ['name'],\n",
       "  has_target=False,\n",
       "  device='cpu',\n",
       ")"
      ]
     },
     "execution_count": 10,
     "metadata": {},
     "output_type": "execute_result"
    }
   ],
   "source": [
    "data[\"races\"].tf"
   ]
  },
  {
   "cell_type": "markdown",
   "metadata": {
    "id": "1kbysKXMk-3X"
   },
   "source": [
    "This may be a little confusing at first, as in graph ML it is more standard to associate to the graph object `data` a tensor, e.g., `data.x` for which `data.x[idx]` is a 1D array/tensor storing all the features for node with index `idx`.\n",
    "\n",
    "But actually this `data` object behaves similarly. For a given node type, e.g., `races` again, `data['races']` stores two pieces of information\n"
   ]
  },
  {
   "cell_type": "code",
   "execution_count": 11,
   "metadata": {
    "colab": {
     "base_uri": "https://localhost:8080/"
    },
    "id": "cDIcp7L5k6pU",
    "outputId": "be742ecb-02db-43e6-9c12-53fb00e51fec"
   },
   "outputs": [
    {
     "data": {
      "text/plain": [
       "['tf', 'time']"
      ]
     },
     "execution_count": 11,
     "metadata": {},
     "output_type": "execute_result"
    }
   ],
   "source": [
    "list(data[\"races\"].keys())"
   ]
  },
  {
   "cell_type": "markdown",
   "metadata": {
    "id": "Z18qPRPllB1H"
   },
   "source": [
    "A `TensorFrame` object, and a timestamp for each node. The `TensorFrame` object acts analogously to the usual tensor of node features, and you can simply use indexing to retrieve the features of a single row (node), or group of nodes."
   ]
  },
  {
   "cell_type": "code",
   "execution_count": 12,
   "metadata": {
    "colab": {
     "base_uri": "https://localhost:8080/"
    },
    "id": "Im8bhNh5lFG6",
    "outputId": "7ae1e0bd-746a-4164-fc95-124e302c816d"
   },
   "outputs": [
    {
     "data": {
      "text/plain": [
       "TensorFrame(\n",
       "  num_cols=5,\n",
       "  num_rows=1,\n",
       "  categorical (1): ['year'],\n",
       "  numerical (1): ['round'],\n",
       "  timestamp (2): ['date', 'time'],\n",
       "  embedding (1): ['name'],\n",
       "  has_target=False,\n",
       "  device='cpu',\n",
       ")"
      ]
     },
     "execution_count": 12,
     "metadata": {},
     "output_type": "execute_result"
    }
   ],
   "source": [
    "data[\"races\"].tf[10]"
   ]
  },
  {
   "cell_type": "code",
   "execution_count": 13,
   "metadata": {
    "colab": {
     "base_uri": "https://localhost:8080/"
    },
    "id": "eYZ28pzNlG4s",
    "outputId": "1066a167-2e3b-4ad6-d929-02acf18cad0e"
   },
   "outputs": [
    {
     "data": {
      "text/plain": [
       "TensorFrame(\n",
       "  num_cols=5,\n",
       "  num_rows=10,\n",
       "  categorical (1): ['year'],\n",
       "  numerical (1): ['round'],\n",
       "  timestamp (2): ['date', 'time'],\n",
       "  embedding (1): ['name'],\n",
       "  has_target=False,\n",
       "  device='cpu',\n",
       ")"
      ]
     },
     "execution_count": 13,
     "metadata": {},
     "output_type": "execute_result"
    }
   ],
   "source": [
    "data[\"races\"].tf[10:20]"
   ]
  },
  {
   "cell_type": "markdown",
   "metadata": {
    "id": "Ql15svcelK3A"
   },
   "source": [
    "We can also check the edge indices between two different node types, such as `races` amd `circuits`. Note that the edges are also heterogenous, so we also need to specify which edge type we want to look at. Here we look at `f2p_curcuitId`, which are the directed edges pointing _from_ a race (the `f` stands for `foreign key`), _to_ the circuit at which te race happened (the `p` stands for `primary key`)."
   ]
  },
  {
   "cell_type": "code",
   "execution_count": 14,
   "metadata": {
    "colab": {
     "base_uri": "https://localhost:8080/"
    },
    "id": "TynkD36QlInL",
    "outputId": "abc2f80d-5ff4-42b1-f9e3-bd9f004d84ee"
   },
   "outputs": [
    {
     "data": {
      "text/plain": [
       "{'edge_index': tensor([[  0,   1,   2,  ..., 817, 818, 819],\n",
       "        [  8,   5,  18,  ...,  21,  17,  23]])}"
      ]
     },
     "execution_count": 14,
     "metadata": {},
     "output_type": "execute_result"
    }
   ],
   "source": [
    "data[(\"races\", \"f2p_circuitId\", \"circuits\")]"
   ]
  },
  {
   "cell_type": "markdown",
   "metadata": {
    "id": "Xx4V5KCelNxl"
   },
   "source": [
    "Now we are ready to instantiate our data loaders. For this we will need to import PyTorch Geometric, our GNN library. Whilst we're at it let's add a seed.\n"
   ]
  },
  {
   "cell_type": "code",
   "execution_count": 15,
   "metadata": {
    "id": "HUHVG-g6lM-b"
   },
   "outputs": [],
   "source": [
    "from relbench.modeling.graph import get_node_train_table_input, make_pkey_fkey_graph\n",
    "from torch_geometric.loader import NeighborLoader\n",
    "\n",
    "loader_dict = {}\n",
    "\n",
    "for split, table in [\n",
    "    (\"train\", train_table),\n",
    "    (\"val\", val_table),\n",
    "    (\"test\", test_table),\n",
    "]:\n",
    "    table_input = get_node_train_table_input(\n",
    "        table=table,\n",
    "        task=task,\n",
    "    )\n",
    "    entity_table = table_input.nodes[0]\n",
    "    loader_dict[split] = NeighborLoader(\n",
    "        data,\n",
    "        num_neighbors=[\n",
    "            128 for i in range(2)\n",
    "        ],  # we sample subgraphs of depth 2, 128 neighbors per node.\n",
    "        time_attr=\"time\",\n",
    "        input_nodes=table_input.nodes,\n",
    "        input_time=table_input.time,\n",
    "        transform=table_input.transform,\n",
    "        batch_size=512,\n",
    "        temporal_strategy=\"uniform\",\n",
    "        shuffle=split == \"train\",\n",
    "        num_workers=0,\n",
    "        persistent_workers=False,\n",
    "    )"
   ]
  },
  {
   "cell_type": "markdown",
   "metadata": {
    "id": "BQc8BWsGludR"
   },
   "source": [
    "Now we need our model...\n",
    "\n",
    "\n"
   ]
  },
  {
   "cell_type": "code",
   "execution_count": 16,
   "metadata": {
    "id": "u3m3jEqClQnw"
   },
   "outputs": [],
   "source": [
    "from torch.nn import BCEWithLogitsLoss\n",
    "import copy\n",
    "from typing import Any, Dict, List\n",
    "\n",
    "import torch\n",
    "from torch import Tensor\n",
    "from torch.nn import Embedding, ModuleDict\n",
    "from torch_frame.data.stats import StatType\n",
    "from torch_geometric.data import HeteroData\n",
    "from torch_geometric.nn import MLP\n",
    "from torch_geometric.typing import NodeType\n",
    "\n",
    "from relbench.modeling.nn import HeteroEncoder, HeteroGraphSAGE, HeteroTemporalEncoder\n",
    "\n",
    "\n",
    "class Model(torch.nn.Module):\n",
    "\n",
    "    def __init__(\n",
    "        self,\n",
    "        data: HeteroData,\n",
    "        col_stats_dict: Dict[str, Dict[str, Dict[StatType, Any]]],\n",
    "        num_layers: int,\n",
    "        channels: int,\n",
    "        out_channels: int,\n",
    "        aggr: str,\n",
    "        norm: str,\n",
    "        # List of node types to add shallow embeddings to input\n",
    "        shallow_list: List[NodeType] = [],\n",
    "        # ID awareness\n",
    "        id_awareness: bool = False,\n",
    "    ):\n",
    "        super().__init__()\n",
    "\n",
    "        self.encoder = HeteroEncoder(\n",
    "            channels=channels,\n",
    "            node_to_col_names_dict={\n",
    "                node_type: data[node_type].tf.col_names_dict\n",
    "                for node_type in data.node_types\n",
    "            },\n",
    "            node_to_col_stats=col_stats_dict,\n",
    "        )\n",
    "        self.temporal_encoder = HeteroTemporalEncoder(\n",
    "            node_types=[\n",
    "                node_type for node_type in data.node_types if \"time\" in data[node_type]\n",
    "            ],\n",
    "            channels=channels,\n",
    "        )\n",
    "        self.gnn = HeteroGraphSAGE(\n",
    "            node_types=data.node_types,\n",
    "            edge_types=data.edge_types,\n",
    "            channels=channels,\n",
    "            aggr=aggr,\n",
    "            num_layers=num_layers,\n",
    "        )\n",
    "        self.head = MLP(\n",
    "            channels,\n",
    "            out_channels=out_channels,\n",
    "            norm=norm,\n",
    "            num_layers=1,\n",
    "        )\n",
    "        self.embedding_dict = ModuleDict(\n",
    "            {\n",
    "                node: Embedding(data.num_nodes_dict[node], channels)\n",
    "                for node in shallow_list\n",
    "            }\n",
    "        )\n",
    "\n",
    "        self.id_awareness_emb = None\n",
    "        if id_awareness:\n",
    "            self.id_awareness_emb = torch.nn.Embedding(1, channels)\n",
    "        self.reset_parameters()\n",
    "\n",
    "    def reset_parameters(self):\n",
    "        self.encoder.reset_parameters()\n",
    "        self.temporal_encoder.reset_parameters()\n",
    "        self.gnn.reset_parameters()\n",
    "        self.head.reset_parameters()\n",
    "        for embedding in self.embedding_dict.values():\n",
    "            torch.nn.init.normal_(embedding.weight, std=0.1)\n",
    "        if self.id_awareness_emb is not None:\n",
    "            self.id_awareness_emb.reset_parameters()\n",
    "\n",
    "    def forward(\n",
    "        self,\n",
    "        batch: HeteroData,\n",
    "        entity_table: NodeType,\n",
    "    ) -> Tensor:\n",
    "        seed_time = batch[entity_table].seed_time\n",
    "        x_dict = self.encoder(batch.tf_dict)\n",
    "\n",
    "        rel_time_dict = self.temporal_encoder(\n",
    "            seed_time, batch.time_dict, batch.batch_dict\n",
    "        )\n",
    "\n",
    "        for node_type, rel_time in rel_time_dict.items():\n",
    "            x_dict[node_type] = x_dict[node_type] + rel_time\n",
    "\n",
    "        for node_type, embedding in self.embedding_dict.items():\n",
    "            x_dict[node_type] = x_dict[node_type] + embedding(batch[node_type].n_id)\n",
    "\n",
    "        x_dict = self.gnn(\n",
    "            x_dict,\n",
    "            batch.edge_index_dict,\n",
    "            batch.num_sampled_nodes_dict,\n",
    "            batch.num_sampled_edges_dict,\n",
    "        )\n",
    "\n",
    "        return self.head(x_dict[entity_table][: seed_time.size(0)])\n",
    "\n",
    "    def forward_dst_readout(\n",
    "        self,\n",
    "        batch: HeteroData,\n",
    "        entity_table: NodeType,\n",
    "        dst_table: NodeType,\n",
    "    ) -> Tensor:\n",
    "        if self.id_awareness_emb is None:\n",
    "            raise RuntimeError(\n",
    "                \"id_awareness must be set True to use forward_dst_readout\"\n",
    "            )\n",
    "        seed_time = batch[entity_table].seed_time\n",
    "        x_dict = self.encoder(batch.tf_dict)\n",
    "        # Add ID-awareness to the root node\n",
    "        x_dict[entity_table][: seed_time.size(0)] += self.id_awareness_emb.weight\n",
    "\n",
    "        rel_time_dict = self.temporal_encoder(\n",
    "            seed_time, batch.time_dict, batch.batch_dict\n",
    "        )\n",
    "\n",
    "        for node_type, rel_time in rel_time_dict.items():\n",
    "            x_dict[node_type] = x_dict[node_type] + rel_time\n",
    "\n",
    "        for node_type, embedding in self.embedding_dict.items():\n",
    "            x_dict[node_type] = x_dict[node_type] + embedding(batch[node_type].n_id)\n",
    "\n",
    "        x_dict = self.gnn(\n",
    "            x_dict,\n",
    "            batch.edge_index_dict,\n",
    "        )\n",
    "\n",
    "        return self.head(x_dict[dst_table])\n",
    "\n",
    "\n",
    "model = Model(\n",
    "    data=data,\n",
    "    col_stats_dict=col_stats_dict,\n",
    "    num_layers=2,\n",
    "    channels=128,\n",
    "    out_channels=1,\n",
    "    aggr=\"sum\",\n",
    "    norm=\"batch_norm\",\n",
    ").to(device)\n",
    "\n",
    "\n",
    "# if you try out different RelBench tasks you will need to change these\n",
    "optimizer = torch.optim.Adam(model.parameters(), lr=0.005)\n",
    "epochs = 10"
   ]
  },
  {
   "cell_type": "markdown",
   "metadata": {
    "id": "Vl-6So7Llb-p"
   },
   "source": [
    "We also need standard train/test loops"
   ]
  },
  {
   "cell_type": "code",
   "execution_count": 17,
   "metadata": {
    "id": "SAHRIr15lVs6"
   },
   "outputs": [],
   "source": [
    "def train() -> float:\n",
    "    model.train()\n",
    "\n",
    "    loss_accum = count_accum = 0\n",
    "    for batch in tqdm(loader_dict[\"train\"]):\n",
    "        batch = batch.to(device)\n",
    "\n",
    "        optimizer.zero_grad()\n",
    "        pred = model(\n",
    "            batch,\n",
    "            task.entity_table,\n",
    "        )\n",
    "        pred = pred.view(-1) if pred.size(1) == 1 else pred\n",
    "\n",
    "        loss = loss_fn(pred.float(), batch[entity_table].y.float())\n",
    "        loss.backward()\n",
    "        optimizer.step()\n",
    "\n",
    "        loss_accum += loss.detach().item() * pred.size(0)\n",
    "        count_accum += pred.size(0)\n",
    "\n",
    "    return loss_accum / count_accum\n",
    "\n",
    "\n",
    "@torch.no_grad()\n",
    "def test(loader: NeighborLoader) -> np.ndarray:\n",
    "    model.eval()\n",
    "\n",
    "    pred_list = []\n",
    "    for batch in loader:\n",
    "        batch = batch.to(device)\n",
    "        pred = model(\n",
    "            batch,\n",
    "            task.entity_table,\n",
    "        )\n",
    "        pred = pred.view(-1) if pred.size(1) == 1 else pred\n",
    "        pred_list.append(pred.detach().cpu())\n",
    "    return torch.cat(pred_list, dim=0).numpy()"
   ]
  },
  {
   "cell_type": "markdown",
   "metadata": {
    "id": "4s-p7dW1ledd"
   },
   "source": [
    "Now we are ready to train!"
   ]
  },
  {
   "cell_type": "code",
   "execution_count": 18,
   "metadata": {
    "colab": {
     "base_uri": "https://localhost:8080/"
    },
    "id": "yF3W68Eqlew_",
    "outputId": "a81a48dc-234a-47f3-8759-8dc9a766661c"
   },
   "outputs": [
    {
     "name": "stderr",
     "output_type": "stream",
     "text": [
      "100%|██████████| 15/15 [00:18<00:00,  1.20s/it]\n"
     ]
    },
    {
     "name": "stdout",
     "output_type": "stream",
     "text": [
      "Epoch: 01, Train loss: 9.067716151359944, Val metrics: {'r2': -0.22846293654756944, 'mae': 4.325721015879211, 'rmse': 5.138440342006327}\n"
     ]
    },
    {
     "name": "stderr",
     "output_type": "stream",
     "text": [
      "100%|██████████| 15/15 [00:17<00:00,  1.15s/it]\n"
     ]
    },
    {
     "name": "stdout",
     "output_type": "stream",
     "text": [
      "Epoch: 02, Train loss: 5.914882335345505, Val metrics: {'r2': -0.37584008923601964, 'mae': 4.34054780232564, 'rmse': 5.437938222777034}\n"
     ]
    },
    {
     "name": "stderr",
     "output_type": "stream",
     "text": [
      "100%|██████████| 15/15 [00:17<00:00,  1.19s/it]\n"
     ]
    },
    {
     "name": "stdout",
     "output_type": "stream",
     "text": [
      "Epoch: 03, Train loss: 5.554960235627437, Val metrics: {'r2': 0.036970510407263735, 'mae': 3.786538213654686, 'rmse': 4.549567184173263}\n"
     ]
    },
    {
     "name": "stderr",
     "output_type": "stream",
     "text": [
      "100%|██████████| 15/15 [00:17<00:00,  1.18s/it]\n"
     ]
    },
    {
     "name": "stdout",
     "output_type": "stream",
     "text": [
      "Epoch: 04, Train loss: 5.435754828655878, Val metrics: {'r2': 0.056866930225164425, 'mae': 3.7339608210918507, 'rmse': 4.50232432482148}\n"
     ]
    },
    {
     "name": "stderr",
     "output_type": "stream",
     "text": [
      "100%|██████████| 15/15 [00:17<00:00,  1.18s/it]\n"
     ]
    },
    {
     "name": "stdout",
     "output_type": "stream",
     "text": [
      "Epoch: 05, Train loss: 5.3643593615403065, Val metrics: {'r2': 0.1659470761592834, 'mae': 3.4272183366672313, 'rmse': 4.233963348463041}\n"
     ]
    },
    {
     "name": "stderr",
     "output_type": "stream",
     "text": [
      "100%|██████████| 15/15 [00:17<00:00,  1.20s/it]\n"
     ]
    },
    {
     "name": "stdout",
     "output_type": "stream",
     "text": [
      "Epoch: 06, Train loss: 5.053047269682716, Val metrics: {'r2': 0.25203921227288895, 'mae': 3.18414753988415, 'rmse': 4.009495263676442}\n"
     ]
    },
    {
     "name": "stderr",
     "output_type": "stream",
     "text": [
      "100%|██████████| 15/15 [00:18<00:00,  1.21s/it]\n"
     ]
    },
    {
     "name": "stdout",
     "output_type": "stream",
     "text": [
      "Epoch: 07, Train loss: 4.900669420867515, Val metrics: {'r2': 0.17962429167225769, 'mae': 3.4643094673105774, 'rmse': 4.199104529130651}\n"
     ]
    },
    {
     "name": "stderr",
     "output_type": "stream",
     "text": [
      "100%|██████████| 15/15 [00:17<00:00,  1.19s/it]\n"
     ]
    },
    {
     "name": "stdout",
     "output_type": "stream",
     "text": [
      "Epoch: 08, Train loss: 4.837193872502198, Val metrics: {'r2': 0.23671616880291013, 'mae': 3.241867650566534, 'rmse': 4.050357160507085}\n"
     ]
    },
    {
     "name": "stderr",
     "output_type": "stream",
     "text": [
      "100%|██████████| 15/15 [00:18<00:00,  1.20s/it]\n"
     ]
    },
    {
     "name": "stdout",
     "output_type": "stream",
     "text": [
      "Epoch: 09, Train loss: 4.767323167151642, Val metrics: {'r2': 0.22339974668092022, 'mae': 3.250219893981077, 'rmse': 4.085536111902899}\n"
     ]
    },
    {
     "name": "stderr",
     "output_type": "stream",
     "text": [
      "100%|██████████| 15/15 [00:17<00:00,  1.19s/it]\n"
     ]
    },
    {
     "name": "stdout",
     "output_type": "stream",
     "text": [
      "Epoch: 10, Train loss: 4.768332223995858, Val metrics: {'r2': 0.2417119095595619, 'mae': 3.270576850939529, 'rmse': 4.037080479285374}\n",
      "Best Val metrics: {'r2': 0.2516605540203789, 'mae': 3.1873873712543492, 'rmse': 4.010510047065596}\n",
      "Best test metrics: {'r2': 0.16630437643710827, 'mae': 3.921243961024702, 'rmse': 4.757443252710381}\n"
     ]
    }
   ],
   "source": [
    "state_dict = None\n",
    "best_val_metric = -math.inf if higher_is_better else math.inf\n",
    "for epoch in range(1, epochs + 1):\n",
    "    train_loss = train()\n",
    "    val_pred = test(loader_dict[\"val\"])\n",
    "    val_metrics = task.evaluate(val_pred, val_table)\n",
    "    print(f\"Epoch: {epoch:02d}, Train loss: {train_loss}, Val metrics: {val_metrics}\")\n",
    "\n",
    "    if (higher_is_better and val_metrics[tune_metric] > best_val_metric) or (\n",
    "        not higher_is_better and val_metrics[tune_metric] < best_val_metric\n",
    "    ):\n",
    "        best_val_metric = val_metrics[tune_metric]\n",
    "        state_dict = copy.deepcopy(model.state_dict())\n",
    "\n",
    "\n",
    "model.load_state_dict(state_dict)\n",
    "val_pred = test(loader_dict[\"val\"])\n",
    "val_metrics = task.evaluate(val_pred, val_table)\n",
    "print(f\"Best Val metrics: {val_metrics}\")\n",
    "\n",
    "test_pred = test(loader_dict[\"test\"])\n",
    "test_metrics = task.evaluate(test_pred)\n",
    "print(f\"Best test metrics: {test_metrics}\")"
   ]
  },
  {
   "cell_type": "code",
   "execution_count": 20,
   "metadata": {},
   "outputs": [
    {
     "data": {
      "text/plain": [
       "array([ 7.7005014, 14.065205 ,  7.705201 , 14.2371025, 11.531049 ,\n",
       "       12.433832 , 11.154852 ,  8.604059 , 12.920704 , 12.673399 ,\n",
       "       14.998701 , 13.892904 , 15.009402 , 13.526651 ,  7.7627172,\n",
       "       15.089238 , 13.132332 , 14.653072 ,  9.72784  , 13.246126 ,\n",
       "        8.321857 , 12.549605 , 12.92413  , 14.14374  , 14.605149 ,\n",
       "        9.724869 ,  8.267668 , 11.191271 , 12.127593 , 14.858283 ,\n",
       "       11.257212 , 15.087653 ,  9.526318 ,  9.69001  , 14.649666 ,\n",
       "       14.169178 , 11.553173 ,  8.497561 , 11.0964985, 12.877499 ,\n",
       "        9.283276 , 10.52349  , 14.027686 , 13.111446 ,  8.711744 ,\n",
       "        9.647038 ,  8.204012 ,  9.948122 , 13.761746 , 15.129421 ,\n",
       "        9.665695 , 12.3145485, 10.977867 ,  7.7100296, 13.891818 ,\n",
       "       10.386449 , 15.167743 , 15.460954 , 11.51956  , 15.225132 ,\n",
       "        9.95606  , 15.696505 ,  9.871149 , 11.300142 ,  7.6750636,\n",
       "        9.634693 , 10.68418  , 13.789482 ,  8.50836  ,  6.5536094,\n",
       "       12.0048065, 15.122067 ,  7.118562 ,  8.362755 , 13.26775  ,\n",
       "        9.763178 ,  7.990419 , 11.981016 , 10.651393 , 14.893968 ,\n",
       "       13.104246 ,  9.446372 , 12.685541 , 14.029675 , 11.148317 ,\n",
       "       15.170607 , 11.783052 , 11.926487 , 15.022845 ,  7.2105904,\n",
       "        9.662159 , 12.109521 , 10.61125  , 11.006476 , 14.107787 ,\n",
       "       12.204509 , 13.976783 ,  7.2010274, 13.811184 ,  7.476573 ,\n",
       "       13.139531 ,  8.474138 , 14.29466  , 10.310688 , 10.330643 ,\n",
       "        9.052872 ,  9.584536 ,  8.548624 , 15.110648 ,  8.572056 ,\n",
       "        9.341409 , 12.218222 , 10.520941 ,  9.8411255, 11.36079  ,\n",
       "       15.3329115, 15.079821 , 15.751147 , 11.7636795, 15.580992 ,\n",
       "        9.855075 , 13.873242 ,  8.450602 , 13.58772  , 10.053194 ,\n",
       "        7.2627597, 14.797995 , 10.6857815, 14.465353 ,  7.713364 ,\n",
       "       13.116309 , 10.305092 , 13.288408 ,  9.637119 , 12.706169 ,\n",
       "        9.149955 ,  8.307162 ,  7.976322 , 12.658516 ,  9.605035 ,\n",
       "       15.009334 ,  7.501216 ,  9.887136 , 15.503028 ,  9.700356 ,\n",
       "       10.007543 ,  7.931981 , 14.382314 ,  9.458218 , 12.536058 ,\n",
       "       11.410814 ,  9.585789 ,  7.7575345, 10.9001465, 14.265879 ,\n",
       "       13.6611805, 10.9478445, 13.9867935, 14.014363 ,  9.661118 ,\n",
       "       14.263912 ,  7.855405 , 14.957804 , 13.757477 , 11.864949 ,\n",
       "       14.424282 , 10.432475 , 13.225893 , 14.776097 , 13.387868 ,\n",
       "       11.908517 , 10.536745 ,  7.987818 ,  8.306516 ,  9.547966 ,\n",
       "       14.137196 , 11.174336 , 12.981573 , 11.130379 ,  9.650316 ,\n",
       "        9.772945 , 16.159233 , 13.991666 , 11.072129 , 15.63624  ,\n",
       "        8.334815 , 12.334755 , 10.58167  , 13.733911 ,  6.75078  ,\n",
       "       15.162976 ,  6.800259 , 11.568789 ,  9.045266 ,  8.6663885,\n",
       "        8.450761 , 12.196442 , 10.474331 ,  9.418023 ,  8.11096  ,\n",
       "       14.861955 , 10.128915 ,  7.823118 , 11.3575735, 11.560172 ,\n",
       "       15.29244  , 15.427893 , 13.873692 ,  7.4492536, 14.632038 ,\n",
       "        9.624285 , 14.072679 , 11.746906 , 15.675562 ,  8.683601 ,\n",
       "       11.293223 ,  6.70216  , 14.595252 , 10.327232 ,  6.581615 ,\n",
       "       10.833407 , 10.167049 , 15.113714 , 14.036102 , 11.7539215,\n",
       "       13.316874 , 12.548131 ,  9.680703 ,  7.971386 , 12.31181  ,\n",
       "       11.048956 ,  8.408598 , 15.244497 , 15.266873 , 11.706158 ,\n",
       "       11.851437 , 11.98995  , 14.611479 ,  8.002501 , 12.045267 ,\n",
       "       14.699595 , 11.548706 , 11.411865 , 14.385765 , 12.872699 ,\n",
       "        9.774733 , 10.634465 ,  9.961002 , 10.63812  ,  8.498861 ,\n",
       "       14.601963 , 10.293686 ,  8.572262 ,  8.956081 ,  9.944966 ,\n",
       "        8.890975 , 12.519748 ,  7.9068303,  9.729574 ,  9.732441 ,\n",
       "       11.059727 , 12.610133 ,  7.6369467, 14.509672 , 15.1278   ,\n",
       "       15.555548 , 15.04353  ,  7.097086 ,  7.302438 , 15.546068 ,\n",
       "        9.654312 ,  9.893469 , 14.396801 ,  9.2238655,  7.910937 ,\n",
       "        7.812256 , 10.235493 , 14.738043 ,  8.370454 , 15.187247 ,\n",
       "        8.416224 , 10.710894 , 10.139724 , 11.626255 , 10.149108 ,\n",
       "       10.6401205,  6.7328568, 15.134566 , 12.186381 , 11.1031685,\n",
       "       10.850906 ,  9.563652 , 13.718695 ,  8.900013 , 15.36737  ,\n",
       "       15.742622 ,  9.166819 , 10.755291 , 16.867628 , 11.158894 ,\n",
       "       11.836375 , 15.118816 , 14.057955 , 12.135829 ,  7.091144 ,\n",
       "       15.336113 ,  8.4436245, 13.833664 , 12.179106 , 11.262039 ,\n",
       "       10.806239 ,  7.726629 , 12.659355 ,  8.627126 ,  8.796878 ,\n",
       "       14.932945 , 13.787135 , 14.091507 ,  9.75284  ,  7.816302 ,\n",
       "       10.057357 ,  9.38529  , 13.759646 ,  8.822822 ,  7.829312 ,\n",
       "       12.530318 , 12.845158 ,  8.232838 , 13.823671 , 10.719618 ,\n",
       "       10.160869 , 10.378906 , 15.214115 , 15.111317 ,  7.380443 ,\n",
       "        6.722477 ,  9.710335 , 10.188168 ,  9.60984  , 11.536955 ,\n",
       "       11.165178 , 13.670188 , 12.976177 ,  7.424342 , 13.731893 ,\n",
       "        6.8718987,  8.93474  , 13.016634 ,  7.680081 , 11.975117 ,\n",
       "       14.540133 ,  9.354378 ,  7.7726355, 14.207535 , 11.241316 ,\n",
       "       13.712095 ,  8.688501 , 11.153296 ,  9.656781 , 15.157143 ,\n",
       "       10.850212 , 10.272267 , 11.400901 , 15.223794 , 11.336258 ,\n",
       "        7.4201937,  7.7808847,  9.394686 , 13.648287 ,  8.472324 ,\n",
       "        6.8991218, 14.079999 , 10.802215 , 10.309095 , 11.513843 ,\n",
       "       10.149199 , 10.326909 , 11.821848 , 11.1065235, 10.076723 ,\n",
       "       12.355409 ,  8.9923   , 11.5692215, 10.352853 , 15.135445 ,\n",
       "       13.113979 ,  8.022302 , 10.299926 , 11.3922825, 15.288211 ,\n",
       "        7.4700494, 11.640442 , 15.162235 ,  6.9548316,  9.431891 ,\n",
       "       11.147697 , 14.495733 ,  8.609239 , 14.80541  , 11.496853 ,\n",
       "        9.554468 , 12.776869 , 11.221022 , 11.518155 , 10.232517 ,\n",
       "       14.084656 ,  6.7156687,  8.487419 ,  9.759219 ,  8.775517 ,\n",
       "        9.472433 , 11.291135 , 10.508084 , 14.421167 , 13.587034 ,\n",
       "       11.999022 , 12.664436 ,  8.101119 , 15.151344 , 10.675787 ,\n",
       "       15.206128 , 11.723719 , 14.997599 , 15.081916 , 11.612355 ,\n",
       "       14.090502 ,  6.59138  ,  9.657921 , 11.38669  ,  9.522734 ,\n",
       "       11.601488 , 14.17709  ,  7.2730236,  9.930654 , 14.494677 ,\n",
       "       10.2038555,  7.3829165,  7.712887 , 15.476019 , 10.542786 ,\n",
       "       14.33046  ,  8.62622  , 14.442397 ,  7.7225633, 14.99043  ,\n",
       "       13.281487 , 14.363571 , 11.587481 , 10.681646 ,  7.809868 ,\n",
       "        8.961823 , 10.094918 ,  7.818358 , 12.77654  , 11.115689 ,\n",
       "        9.402001 , 14.430062 ,  6.992111 , 15.12493  ,  7.197701 ,\n",
       "       12.653782 ,  9.953564 ,  9.336443 , 10.253719 , 12.1466465,\n",
       "        8.35305  , 14.050777 , 13.802614 ,  9.182595 , 13.040817 ,\n",
       "       14.189484 , 11.138874 ,  7.665331 ,  7.6424766,  9.9415245,\n",
       "        7.585744 , 14.503471 ,  7.712702 , 12.732641 ,  9.650114 ,\n",
       "       13.053711 ,  9.220566 , 10.303521 , 14.078744 , 10.508306 ,\n",
       "       14.644039 , 11.694334 ,  9.906179 , 15.08093  , 15.734581 ,\n",
       "        7.568466 , 13.274513 ,  7.141938 , 15.76493  , 11.716909 ,\n",
       "       13.929762 ,  9.782488 , 15.731865 ,  9.565212 ], dtype=float32)"
      ]
     },
     "execution_count": 20,
     "metadata": {},
     "output_type": "execute_result"
    }
   ],
   "source": [
    "val_pred"
   ]
  },
  {
   "cell_type": "code",
   "execution_count": 19,
   "metadata": {
    "id": "58i-5Z508liB"
   },
   "outputs": [
    {
     "data": {
      "text/plain": [
       "array([17.141058 ,  8.887733 , 14.122117 , 13.810187 , 16.943539 ,\n",
       "       14.069967 , 11.24355  , 16.881453 , 14.581174 , 14.669321 ,\n",
       "        9.815285 , 14.080549 , 14.007114 , 14.007114 , 14.911607 ,\n",
       "       17.185656 , 14.581174 , 14.430941 ,  8.722987 , 14.122117 ,\n",
       "       14.669321 , 14.911607 , 17.185656 , 14.581174 ,  8.189882 ,\n",
       "       10.965824 , 12.135651 ,  7.976818 , 13.955597 , 15.054401 ,\n",
       "        9.694079 , 14.394936 , 14.069966 ,  9.524328 , 14.34886  ,\n",
       "       11.38689  , 14.059719 , 14.34886  ,  7.627442 , 12.071724 ,\n",
       "       11.198803 , 11.391085 , 13.955597 ,  9.569551 , 14.123133 ,\n",
       "       13.955597 , 14.124794 ,  9.559857 ,  7.954548 , 14.958933 ,\n",
       "       11.215878 ,  9.611536 , 11.045715 , 11.124403 , 16.943539 ,\n",
       "       14.069967 , 14.080549 ,  9.850225 , 17.141058 , 12.11549  ,\n",
       "       12.098444 , 14.007114 , 14.430941 , 14.122117 ,  8.676285 ,\n",
       "       14.581174 , 14.581174 , 14.007114 , 14.669321 , 14.080549 ,\n",
       "        9.755417 , 14.430941 , 14.007114 ,  8.177047 , 12.001265 ,\n",
       "       11.250869 , 14.172892 ,  8.703423 , 14.84317  , 14.758359 ,\n",
       "       11.345713 ,  9.507954 , 14.3962   , 14.069967 , 12.09084  ,\n",
       "       11.184775 ,  8.062162 , 10.628544 , 14.883575 , 14.006746 ,\n",
       "       14.122117 ,  8.5139675, 14.122117 , 14.006746 , 14.913414 ,\n",
       "        8.633135 , 14.34886  , 14.059719 , 11.347817 , 14.972227 ,\n",
       "        9.895005 , 11.079178 , 13.810187 , 14.122117 ,  8.897614 ,\n",
       "       17.141058 , 14.080549 ,  9.8570175, 14.007114 , 11.431368 ,\n",
       "       14.125883 , 14.007114 , 14.242672 ,  8.085466 , 17.178549 ,\n",
       "       12.073387 ,  8.035748 , 17.178549 , 15.739109 , 14.069967 ,\n",
       "       12.055166 , 11.341226 , 14.157823 ,  7.9882245, 12.0457115,\n",
       "       12.101627 , 11.267989 , 14.007114 , 14.399432 ,  9.531857 ,\n",
       "       14.069967 , 15.054401 ,  9.675418 , 13.955597 , 14.059719 ,\n",
       "       14.34886  ,  8.62495  , 14.893538 , 14.744055 ,  8.085728 ,\n",
       "       12.0709715, 11.393704 , 13.220242 ,  9.415991 , 14.413546 ,\n",
       "        9.418215 , 14.425985 , 11.201246 , 14.34886  , 14.059719 ,\n",
       "       14.964075 ,  9.957575 , 11.098674 , 11.131948 ,  9.855886 ,\n",
       "       14.080549 , 16.943539 , 14.069967 ,  8.725504 , 13.810187 ,\n",
       "       14.122117 , 16.881453 ,  8.1257925, 17.178549 , 16.881453 ,\n",
       "        8.333984 , 15.840377 , 14.158213 , 11.38735  , 14.148201 ,\n",
       "       11.385868 , 12.07854  , 12.07521  ,  7.982465 , 14.069967 ,\n",
       "       14.197392 , 11.35078  , 12.135103 , 11.263683 ,  8.202559 ,\n",
       "       14.911607 , 14.042631 , 14.581174 ,  8.632568 , 14.890803 ,\n",
       "       14.059719 , 14.34886  , 11.259043 , 15.054401 ,  9.666676 ,\n",
       "        8.01738  , 14.416152 , 11.1497135,  8.622509 , 12.058527 ,\n",
       "       11.518038 , 14.963405 , 11.32877  , 11.152542 ,  9.703776 ,\n",
       "       11.146862 , 14.669321 ,  8.125719 , 17.178549 , 14.242672 ,\n",
       "       16.943539 , 14.069967 , 14.900478 , 14.242672 , 14.007114 ,\n",
       "       14.17526  , 11.388822 , 11.515348 , 11.386723 , 15.325367 ,\n",
       "       14.069967 ,  7.9699993, 15.325367 , 12.041895 , 14.007114 ,\n",
       "       14.754084 , 14.122117 ,  8.687381 , 11.22376  , 14.403311 ,\n",
       "       10.416772 , 14.34886  , 14.34886  ,  7.7293444, 11.643038 ,\n",
       "       14.042631 ,  8.588337 , 14.432091 , 11.146233 , 11.14245  ,\n",
       "        8.577318 , 14.461214 , 12.0079775,  7.565978 , 11.187556 ,\n",
       "       11.203751 , 14.155706 , 11.432373 , 14.669321 , 15.840377 ,\n",
       "        8.283144 ,  8.309161 , 15.840377 , 16.88145  , 14.900478 ,\n",
       "       16.943539 , 14.069967 , 11.5440645, 14.069967 ,  8.074013 ,\n",
       "       17.178549 , 15.325367 , 15.325367 , 11.217887 , 14.161258 ,\n",
       "       11.3136215, 14.069967 , 11.603214 , 14.042631 , 14.911607 ,\n",
       "       14.581174 , 12.001535 ,  8.1442585, 14.116688 , 13.955597 ,\n",
       "        9.723499 , 14.239489 , 14.34886  , 14.34886  , 14.059719 ,\n",
       "       14.34886  , 14.059719 ,  7.637723 , 11.374731 , 10.516565 ,\n",
       "       11.9679165, 14.042631 ,  9.466859 , 14.4136095,  7.522469 ,\n",
       "       11.213124 , 14.007114 , 14.843897 , 17.190746 ,  8.814504 ,\n",
       "       13.810187 , 14.122117 , 14.122117 , 13.810187 ,  8.842607 ,\n",
       "       11.360502 , 14.069966 , 11.484071 , 12.064562 , 14.069967 ,\n",
       "        9.607725 , 15.325367 , 11.418297 , 14.069967 , 14.2083645,\n",
       "       11.283043 ,  7.938149 , 14.751345 ,  8.732155 , 14.122117 ,\n",
       "       11.963652 , 14.042631 , 14.34886  , 14.34886  , 14.34886  ,\n",
       "       14.059719 , 14.007114 , 10.133612 , 11.406875 , 12.059774 ,\n",
       "       11.235559 , 11.977081 , 11.972116 , 14.483782 ,  8.564409 ,\n",
       "       11.135892 ,  9.789925 , 11.072427 , 15.480765 , 11.168603 ,\n",
       "       12.122885 , 14.007114 ,  9.805945 , 14.080549 , 11.374018 ,\n",
       "        9.82645  , 14.080549 , 15.325367 , 14.069967 , 14.069967 ,\n",
       "       11.213549 , 12.018487 , 15.325367 ,  7.9186344, 14.17351  ,\n",
       "       11.264341 , 14.138092 , 13.955597 ,  9.728914 ,  8.1543455,\n",
       "       14.007114 , 14.34886  , 14.059719 , 14.34886  , 11.251199 ,\n",
       "        7.6323137, 14.042631 , 11.389374 , 14.42825  , 11.197169 ,\n",
       "       10.242794 , 13.897136 ,  7.577704 ,  7.5537834, 11.258914 ,\n",
       "       14.242672 ,  8.167709 , 17.178549 , 16.88145  , 17.178549 ,\n",
       "        8.130493 , 14.007114 , 14.430941 , 14.007114 , 15.840377 ,\n",
       "        8.309721 , 14.41992  , 14.669321 , 14.669321 , 14.430941 ,\n",
       "       14.581174 , 17.185656 , 14.911607 , 14.007114 , 14.430941 ,\n",
       "       14.107244 , 13.955597 ,  9.747704 , 14.754879 ,  8.686089 ,\n",
       "       14.122117 ,  8.065437 ,  8.13021  , 14.583225 , 14.940468 ,\n",
       "        7.7210245, 11.288752 , 12.076548 , 11.26563  ,  9.530135 ,\n",
       "       14.398238 , 14.069967 , 14.838196 , 14.742697 ,  8.625361 ,\n",
       "        7.976404 ,  7.978713 , 13.955597 , 14.128197 ,  9.574656 ,\n",
       "       14.34886  , 14.059719 , 11.290434 , 11.334998 ,  9.717331 ,\n",
       "       11.086082 ,  8.3284645, 15.840377 , 14.41992  , 11.471178 ,\n",
       "       11.384497 , 14.145521 , 14.007114 , 11.424458 , 14.156141 ,\n",
       "       14.900478 , 16.943539 , 14.069967 , 16.881453 , 14.669321 ,\n",
       "       14.581174 , 14.430941 , 14.430941 , 14.669321 , 14.007114 ,\n",
       "        8.217015 , 17.185656 , 14.911607 , 14.581174 , 14.669321 ,\n",
       "       14.757209 ,  8.640314 , 14.122117 ,  9.58358  , 14.069967 ,\n",
       "       14.1078205, 13.955597 ,  9.7288   , 14.161273 , 11.253823 ,\n",
       "       12.005937 , 12.08761  , 11.220734 , 14.936878 , 11.216655 ,\n",
       "       14.952744 , 14.34886  , 14.059719 , 15.054401 ,  9.642746 ,\n",
       "       14.4098215,  9.513628 , 14.042631 , 14.006746 , 14.122117 ,\n",
       "       14.909533 ,  8.504568 , 14.973074 , 14.968565 ,  9.714663 ,\n",
       "       11.078214 , 17.178549 ,  8.1504755, 14.669321 , 14.1722145,\n",
       "       11.433712 , 11.626585 ,  9.812897 , 14.080549 , 11.386753 ,\n",
       "        8.791139 , 14.122117 , 13.810187 ,  8.270935 , 14.41992  ,\n",
       "       15.840377 ,  8.665971 , 14.122117 , 14.430941 ,  8.223219 ,\n",
       "        9.75267  , 14.080549 , 14.669321 , 14.122117 ,  8.785173 ,\n",
       "        8.211418 , 14.042631 , 14.911607 , 14.581174 , 14.007114 ,\n",
       "       12.107756 , 11.519315 , 10.407551 , 11.179503 , 14.4228325,\n",
       "       14.34886  , 14.34886  , 14.935024 , 14.937786 , 11.562898 ,\n",
       "       11.28933  ,  7.602561 , 14.059719 , 14.34886  , 11.980424 ,\n",
       "       14.006746 ,  8.585211 , 14.122117 , 14.873705 , 10.924164 ,\n",
       "       10.593088 , 14.042631 ,  7.48697  , 13.897136 , 11.130566 ,\n",
       "       14.136011 , 11.431747 , 17.178549 ,  7.981534 , 14.122117 ,\n",
       "       13.810187 ,  8.85667  , 12.12187  ,  9.812786 , 14.080549 ,\n",
       "       14.080549 ,  9.784181 , 14.669321 , 15.840377 ,  8.268723 ,\n",
       "       14.41992  ,  8.271387 , 15.840377 , 14.41992  , 14.122117 ,\n",
       "        8.771718 , 14.430941 , 14.080549 ,  9.765316 , 14.007114 ,\n",
       "       11.989528 , 14.911607 , 14.581174 , 14.042631 ,  9.573867 ,\n",
       "       14.069967 , 14.942333 , 14.940256 , 14.941218 , 11.202033 ,\n",
       "       14.424525 , 14.042631 , 11.96711  , 13.955597 ,  9.608395 ,\n",
       "       14.119783 ,  7.696904 , 14.242672 , 11.407671 , 15.840377 ,\n",
       "       14.41992  ,  8.331231 , 12.085014 ,  8.745468 , 14.122117 ,\n",
       "       13.810187 , 11.390505 , 14.149012 , 15.325367 , 17.178549 ,\n",
       "        8.090902 ,  8.0793   , 17.178549 , 14.148021 , 11.336321 ,\n",
       "       12.0518055, 11.06328  , 11.333865 , 14.182757 , 14.069967 ,\n",
       "        9.663622 , 14.759791 , 14.122117 ,  8.646445 , 14.007114 ,\n",
       "        8.086626 , 14.583225 , 14.059719 , 14.34886  , 11.198128 ,\n",
       "       15.054401 ,  9.662695 , 14.107891 , 14.006746 , 14.122117 ,\n",
       "       14.880496 ,  8.478235 , 14.424253 ,  9.429641 , 14.955841 ,\n",
       "        7.593163 , 15.840377 , 14.41992  ,  8.364515 , 14.242672 ,\n",
       "       14.080549 ,  9.837644 , 12.109545 , 17.178549 ,  8.026739 ,\n",
       "       12.052795 , 11.4229965, 14.165164 , 11.342285 , 11.370535 ,\n",
       "       14.14237  ,  7.9094353, 15.325367 , 12.035524 ,  8.09762  ,\n",
       "       14.117104 , 13.955597 ,  9.736225 , 15.054401 ,  9.583864 ,\n",
       "       14.069967 , 14.042631 , 14.911607 , 14.581174 , 12.109419 ,\n",
       "       11.39155  , 14.583225 , 14.34886  , 14.34886  , 14.059719 ,\n",
       "       14.955829 ,  8.07985  ,  8.5221815, 14.743365 , 14.885868 ,\n",
       "       14.069967 , 14.407    ,  9.50322  , 13.955597 ,  9.633139 ,\n",
       "       11.953222 , 12.066869 , 11.364098 , 12.046635 , 11.439569 ,\n",
       "       11.135962 , 15.4803   ,  9.514446 , 11.099949 ,  9.494595 ,\n",
       "       11.136198 , 11.204952 ,  9.508066 , 11.072509 , 14.843897 ,\n",
       "       14.007114 , 12.150633 , 15.840377 ,  8.304586 , 17.178549 ,\n",
       "        8.116334 , 14.242672 , 14.080549 ,  9.75569  , 14.581174 ,\n",
       "       14.122117 ,  8.774521 , 14.122117 ,  8.771751 , 14.080549 ,\n",
       "        9.7616825,  8.233053 , 14.007114 , 14.080549 ,  9.772409 ,\n",
       "        7.9889865, 12.129583 , 11.017309 , 14.042631 , 11.996999 ,\n",
       "       14.239489 , 14.938271 , 11.406958 , 14.943241 , 14.059719 ,\n",
       "       14.34886  , 11.192884 , 14.433692 , 11.626623 , 13.205175 ,\n",
       "       14.042631 , 14.042631 , 10.538118 ,  7.6295204, 14.96402  ,\n",
       "       13.897136 , 13.897136 , 11.093201 , 12.11367  , 14.843897 ,\n",
       "       16.943539 , 14.900478 , 14.069967 , 14.242672 , 14.069967 ,\n",
       "       14.900478 , 16.943539 , 14.160881 , 11.441219 , 15.840377 ,\n",
       "        8.306976 , 14.41992  , 14.122117 ,  8.718897 , 15.840377 ,\n",
       "       14.41992  ,  8.261654 , 14.007114 ,  9.811635 , 14.080549 ,\n",
       "        9.801689 , 14.080549 ,  8.723668 , 14.122117 , 14.911607 ,\n",
       "       14.581174 , 17.185656 ,  8.233629 ,  8.726309 , 14.122117 ,\n",
       "       11.285009 , 14.169706 ,  9.564214 , 14.069967 , 14.007114 ,\n",
       "       14.936468 , 11.340534 ,  7.612878 , 11.948223 , 10.626775 ,\n",
       "       14.413824 , 11.1606865,  8.64049  ,  8.012348 , 11.3015   ],\n",
       "      dtype=float32)"
      ]
     },
     "execution_count": 19,
     "metadata": {},
     "output_type": "execute_result"
    }
   ],
   "source": [
    "test_pred"
   ]
  }
 ],
 "metadata": {
  "accelerator": "GPU",
  "colab": {
   "gpuType": "T4",
   "provenance": []
  },
  "kernelspec": {
   "display_name": "pyg_env",
   "language": "python",
   "name": "python3"
  },
  "language_info": {
   "codemirror_mode": {
    "name": "ipython",
    "version": 3
   },
   "file_extension": ".py",
   "mimetype": "text/x-python",
   "name": "python",
   "nbconvert_exporter": "python",
   "pygments_lexer": "ipython3",
   "version": "3.12.2"
  }
 },
 "nbformat": 4,
 "nbformat_minor": 4
}
