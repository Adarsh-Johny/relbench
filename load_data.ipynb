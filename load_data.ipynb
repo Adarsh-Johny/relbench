{
 "cells": [
  {
   "cell_type": "markdown",
   "metadata": {
    "id": "9hVIN7QW2etU"
   },
   "source": [
    "First, `pip install`"
   ]
  },
  {
   "cell_type": "code",
   "execution_count": 1,
   "metadata": {
    "colab": {
     "base_uri": "https://localhost:8080/"
    },
    "id": "QkzAsRon2ZIw",
    "outputId": "4dca4023-9f6b-4124-a629-3b9257844ba8"
   },
   "outputs": [
    {
     "name": "stdout",
     "output_type": "stream",
     "text": [
      "\u001b[33mDEPRECATION: Loading egg at /Users/adarshjohny/Personal/Studies/Trento /Advanced ML/Project/ML/relbench/pyg_env/lib/python3.12/site-packages/pyg_lib-0.4.0-py3.12-macosx-11.0-arm64.egg is deprecated. pip 25.1 will enforce this behaviour change. A possible replacement is to use pip for package installation. Discussion can be found at https://github.com/pypa/pip/issues/12330\u001b[0m\u001b[33m\n",
      "\u001b[0mCollecting relbench\n",
      "  Using cached relbench-1.1.0-py3-none-any.whl.metadata (12 kB)\n",
      "Requirement already satisfied: pandas in ./pyg_env/lib/python3.12/site-packages (from relbench) (2.2.3)\n",
      "Requirement already satisfied: pooch in ./pyg_env/lib/python3.12/site-packages (from relbench) (1.8.2)\n",
      "Requirement already satisfied: pyarrow in ./pyg_env/lib/python3.12/site-packages (from relbench) (19.0.1)\n",
      "Requirement already satisfied: numpy in ./pyg_env/lib/python3.12/site-packages (from relbench) (2.2.3)\n",
      "Requirement already satisfied: duckdb in ./pyg_env/lib/python3.12/site-packages (from relbench) (1.2.0)\n",
      "Requirement already satisfied: scikit-learn in ./pyg_env/lib/python3.12/site-packages (from relbench) (1.6.1)\n",
      "Requirement already satisfied: typing-extensions in ./pyg_env/lib/python3.12/site-packages (from relbench) (4.12.2)\n",
      "Requirement already satisfied: python-dateutil>=2.8.2 in ./pyg_env/lib/python3.12/site-packages (from pandas->relbench) (2.9.0.post0)\n",
      "Requirement already satisfied: pytz>=2020.1 in ./pyg_env/lib/python3.12/site-packages (from pandas->relbench) (2025.1)\n",
      "Requirement already satisfied: tzdata>=2022.7 in ./pyg_env/lib/python3.12/site-packages (from pandas->relbench) (2025.1)\n",
      "Requirement already satisfied: platformdirs>=2.5.0 in ./pyg_env/lib/python3.12/site-packages (from pooch->relbench) (4.3.6)\n",
      "Requirement already satisfied: packaging>=20.0 in ./pyg_env/lib/python3.12/site-packages (from pooch->relbench) (24.2)\n",
      "Requirement already satisfied: requests>=2.19.0 in ./pyg_env/lib/python3.12/site-packages (from pooch->relbench) (2.32.3)\n",
      "Requirement already satisfied: scipy>=1.6.0 in ./pyg_env/lib/python3.12/site-packages (from scikit-learn->relbench) (1.15.2)\n",
      "Requirement already satisfied: joblib>=1.2.0 in ./pyg_env/lib/python3.12/site-packages (from scikit-learn->relbench) (1.4.2)\n",
      "Requirement already satisfied: threadpoolctl>=3.1.0 in ./pyg_env/lib/python3.12/site-packages (from scikit-learn->relbench) (3.5.0)\n",
      "Requirement already satisfied: six>=1.5 in ./pyg_env/lib/python3.12/site-packages (from python-dateutil>=2.8.2->pandas->relbench) (1.17.0)\n",
      "Requirement already satisfied: charset-normalizer<4,>=2 in ./pyg_env/lib/python3.12/site-packages (from requests>=2.19.0->pooch->relbench) (3.4.1)\n",
      "Requirement already satisfied: idna<4,>=2.5 in ./pyg_env/lib/python3.12/site-packages (from requests>=2.19.0->pooch->relbench) (3.10)\n",
      "Requirement already satisfied: urllib3<3,>=1.21.1 in ./pyg_env/lib/python3.12/site-packages (from requests>=2.19.0->pooch->relbench) (2.3.0)\n",
      "Requirement already satisfied: certifi>=2017.4.17 in ./pyg_env/lib/python3.12/site-packages (from requests>=2.19.0->pooch->relbench) (2025.1.31)\n",
      "Using cached relbench-1.1.0-py3-none-any.whl (58 kB)\n",
      "Installing collected packages: relbench\n",
      "Successfully installed relbench-1.1.0\n"
     ]
    }
   ],
   "source": [
    "!pip install relbench"
   ]
  },
  {
   "cell_type": "code",
   "execution_count": 2,
   "metadata": {
    "execution": {
     "iopub.execute_input": "2024-07-26T00:05:49.632075Z",
     "iopub.status.busy": "2024-07-26T00:05:49.631608Z",
     "iopub.status.idle": "2024-07-26T00:05:50.292148Z",
     "shell.execute_reply": "2024-07-26T00:05:50.291507Z",
     "shell.execute_reply.started": "2024-07-26T00:05:49.632018Z"
    }
   },
   "outputs": [
    {
     "data": {
      "text/plain": [
       "'1.1.0'"
      ]
     },
     "execution_count": 2,
     "metadata": {},
     "output_type": "execute_result"
    }
   ],
   "source": [
    "import relbench\n",
    "\n",
    "relbench.__version__"
   ]
  },
  {
   "cell_type": "markdown",
   "metadata": {
    "id": "yLfAfxNO-LBV"
   },
   "source": [
    "To start we can check all of the databases currently available in RelBench by printing:"
   ]
  },
  {
   "cell_type": "code",
   "execution_count": 3,
   "metadata": {
    "colab": {
     "base_uri": "https://localhost:8080/"
    },
    "id": "ApqEZu5--HJy",
    "outputId": "f45a7623-ce90-4dd9-c088-004290d6519a"
   },
   "outputs": [
    {
     "data": {
      "text/plain": [
       "['rel-amazon',\n",
       " 'rel-avito',\n",
       " 'rel-event',\n",
       " 'rel-f1',\n",
       " 'rel-hm',\n",
       " 'rel-stack',\n",
       " 'rel-trial']"
      ]
     },
     "execution_count": 3,
     "metadata": {},
     "output_type": "execute_result"
    }
   ],
   "source": [
    "from relbench.datasets import get_dataset_names\n",
    "\n",
    "get_dataset_names()"
   ]
  },
  {
   "cell_type": "markdown",
   "metadata": {
    "id": "foOR0gDJ2j1s"
   },
   "source": [
    "# Get dataset\n",
    "\n",
    "Let's start with the F1 dataset since it's the smallest and is easy to work with. All it takes is one line!\n"
   ]
  },
  {
   "cell_type": "code",
   "execution_count": 4,
   "metadata": {
    "colab": {
     "base_uri": "https://localhost:8080/"
    },
    "id": "RsAPkjOk2hDn",
    "outputId": "837cbd40-167b-4bb1-968e-7120de1fa028"
   },
   "outputs": [],
   "source": [
    "from relbench.datasets import get_dataset\n",
    "\n",
    "dataset = get_dataset(name=\"rel-f1\", download=True)"
   ]
  },
  {
   "cell_type": "markdown",
   "metadata": {
    "id": "M3dJVd8A2sOt"
   },
   "source": [
    "Use `download=True` the first time you load a patricular dataset to automatically download the data from the RelBench server onto your machine.\n",
    "\n",
    "Now we have loaded the database, let's start poking around to see what's inside."
   ]
  },
  {
   "cell_type": "markdown",
   "metadata": {
    "id": "lgeqc7x82596"
   },
   "source": [
    "# Val / Test cutoffs\n",
    "\n",
    "We can check the val/test time cutoffs as follows:"
   ]
  },
  {
   "cell_type": "code",
   "execution_count": 5,
   "metadata": {
    "colab": {
     "base_uri": "https://localhost:8080/"
    },
    "id": "239e0MQB2yMO",
    "outputId": "07b2cf05-a8d4-4c6c-b5cd-a755617a5baa"
   },
   "outputs": [
    {
     "data": {
      "text/plain": [
       "(Timestamp('2005-01-01 00:00:00'), Timestamp('2010-01-01 00:00:00'))"
      ]
     },
     "execution_count": 5,
     "metadata": {},
     "output_type": "execute_result"
    }
   ],
   "source": [
    "dataset.val_timestamp, dataset.test_timestamp"
   ]
  },
  {
   "cell_type": "markdown",
   "metadata": {
    "id": "-75pIuTV3Ae6"
   },
   "source": [
    "This means that information upto 2005 can be used for training, and upto 2010 can be used for validation.\n",
    "\n",
    "Note that it is a RelBench design choice to make the validation and test cutoffs a dataset property, _not_ a task-specific property. In other words, all tasks for a given database use the same time splits.\n",
    "\n",
    "\n",
    "# Load database\n",
    "\n",
    "Next we check out the database itself..."
   ]
  },
  {
   "cell_type": "code",
   "execution_count": 6,
   "metadata": {
    "id": "dm1f8YDF273p"
   },
   "outputs": [
    {
     "name": "stdout",
     "output_type": "stream",
     "text": [
      "Loading Database object from /Users/adarshjohny/Library/Caches/relbench/rel-f1/db...\n",
      "Done in 0.08 seconds.\n"
     ]
    }
   ],
   "source": [
    "db = dataset.get_db()"
   ]
  },
  {
   "cell_type": "markdown",
   "metadata": {
    "id": "kpBRvvqb3FXQ"
   },
   "source": [
    "*This* returns a RelBench `Database` object. By default, the rows with timestamp > test_timestamp are excluded to prevent accidental test set leakage.\n",
    "The complete database can be loaded with `database.get_db(upto_test_timestamp=False)`."
   ]
  },
  {
   "cell_type": "markdown",
   "metadata": {
    "id": "H9mRPjk33JfQ"
   },
   "source": [
    "With this we can double check the full timespan of the database:"
   ]
  },
  {
   "cell_type": "code",
   "execution_count": 7,
   "metadata": {
    "colab": {
     "base_uri": "https://localhost:8080/"
    },
    "id": "Ahk12agU3HLA",
    "outputId": "6d93a289-6063-4cd6-fc66-72076c7a8bd1"
   },
   "outputs": [
    {
     "data": {
      "text/plain": [
       "(Timestamp('1950-05-13 00:00:00'), Timestamp('2009-11-01 11:00:00'))"
      ]
     },
     "execution_count": 7,
     "metadata": {},
     "output_type": "execute_result"
    }
   ],
   "source": [
    "db.min_timestamp, db.max_timestamp"
   ]
  },
  {
   "cell_type": "markdown",
   "metadata": {
    "id": "oKmC3R-H3OIU"
   },
   "source": [
    "1950 is the first season for F1! So we have data for the full history of F1. Note that the `max_timestamp` is the same as `test_timestamp`."
   ]
  },
  {
   "cell_type": "markdown",
   "metadata": {
    "id": "zmGcKvxX3SO5"
   },
   "source": [
    "Next let's check out the tables in the database.\n",
    "\n",
    "More info on the schemas for F1 and all other datasets can be found at https://relbench.stanford.edu/."
   ]
  },
  {
   "cell_type": "markdown",
   "metadata": {
    "id": "7RobvEoY3XQt"
   },
   "source": [
    "We have the following tables:"
   ]
  },
  {
   "cell_type": "code",
   "execution_count": 8,
   "metadata": {
    "colab": {
     "base_uri": "https://localhost:8080/"
    },
    "id": "LyAdmIry3UFl",
    "outputId": "dde952af-3953-47d5-8831-98676018cc65"
   },
   "outputs": [
    {
     "data": {
      "text/plain": [
       "dict_keys(['qualifying', 'drivers', 'results', 'standings', 'races', 'constructors', 'constructor_results', 'circuits', 'constructor_standings'])"
      ]
     },
     "execution_count": 8,
     "metadata": {},
     "output_type": "execute_result"
    }
   ],
   "source": [
    "db.table_dict.keys()"
   ]
  },
  {
   "cell_type": "markdown",
   "metadata": {
    "id": "3sdJ6OgukDrL"
   },
   "source": [
    "That's 9 tables total! Let's look more closely at one of them."
   ]
  },
  {
   "cell_type": "code",
   "execution_count": 9,
   "metadata": {
    "colab": {
     "base_uri": "https://localhost:8080/"
    },
    "id": "n0OGtbMy3Y2n",
    "outputId": "42f6ee62-f1ba-4519-bfec-32808baba1f3"
   },
   "outputs": [
    {
     "data": {
      "text/plain": [
       "Table(df=\n",
       "     driverId        driverRef code  forename     surname        dob  \\\n",
       "0           0         hamilton  HAM     Lewis    Hamilton 1985-01-07   \n",
       "1           1         heidfeld  HEI      Nick    Heidfeld 1977-05-10   \n",
       "2           2          rosberg  ROS      Nico     Rosberg 1985-06-27   \n",
       "3           3           alonso  ALO  Fernando      Alonso 1981-07-29   \n",
       "4           4       kovalainen  KOV    Heikki  Kovalainen 1981-10-19   \n",
       "..        ...              ...  ...       ...         ...        ...   \n",
       "852       852  mick_schumacher  MSC      Mick  Schumacher 1999-03-22   \n",
       "853       853             zhou  ZHO    Guanyu        Zhou 1999-05-30   \n",
       "854       854         de_vries  DEV      Nyck    de Vries 1995-02-06   \n",
       "855       855          piastri  PIA     Oscar     Piastri 2001-04-06   \n",
       "856       856         sargeant  SAR     Logan    Sargeant 2000-12-31   \n",
       "\n",
       "    nationality  \n",
       "0       British  \n",
       "1        German  \n",
       "2        German  \n",
       "3       Spanish  \n",
       "4       Finnish  \n",
       "..          ...  \n",
       "852      German  \n",
       "853     Chinese  \n",
       "854       Dutch  \n",
       "855  Australian  \n",
       "856    American  \n",
       "\n",
       "[857 rows x 7 columns],\n",
       "  fkey_col_to_pkey_table={},\n",
       "  pkey_col=driverId,\n",
       "  time_col=None)"
      ]
     },
     "execution_count": 9,
     "metadata": {},
     "output_type": "execute_result"
    }
   ],
   "source": [
    "table = db.table_dict[\"drivers\"]\n",
    "table"
   ]
  },
  {
   "cell_type": "markdown",
   "metadata": {
    "id": "ZPEZo1TNkMaU"
   },
   "source": [
    "The `drivers` table stores information on all F1 drivers that ever competed in a race. Note that the table comes with multiple bits of information:\n",
    "- The table itself, `table.df` which is simply a Pandas DataFrame.\n",
    "- The primary key column, `table.pkey_col`, which indicates that the `driverId` column holds the primary key for this particular table in the database.\n",
    "- The primary time column, `table.time_col` which, if the entity is an event, records the time an event happened. In the case of drivers, they are non-temporal entities, so `table.time_col=None`.\n",
    "- The other tables that foreign keys points to `table.fkey_col_to_pkey_table`. If the table has any foreign key columns, then this dict indicates which table we foreign key corresponds to. Again in the case of drivers this is not applicable.\n",
    "\n",
    "We can start to explore the data a little, e.g., check out the oldest and youngest ever F1 drivers, spanning 3 centuries!"
   ]
  },
  {
   "cell_type": "code",
   "execution_count": 10,
   "metadata": {
    "colab": {
     "base_uri": "https://localhost:8080/"
    },
    "id": "paE62mcKkDCF",
    "outputId": "f6535bd4-059f-4f87-bb60-b5ac05cc3889"
   },
   "outputs": [
    {
     "data": {
      "text/plain": [
       "driverId                       855\n",
       "driverRef                  piastri\n",
       "code                           PIA\n",
       "forename                     Oscar\n",
       "surname                    Piastri\n",
       "dob            2001-04-06 00:00:00\n",
       "nationality             Australian\n",
       "Name: 855, dtype: object"
      ]
     },
     "execution_count": 10,
     "metadata": {},
     "output_type": "execute_result"
    }
   ],
   "source": [
    "table.df.iloc[table.df[\"dob\"].idxmax()]"
   ]
  },
  {
   "cell_type": "code",
   "execution_count": 11,
   "metadata": {
    "colab": {
     "base_uri": "https://localhost:8080/"
    },
    "id": "pqxywakH29js",
    "outputId": "a5c2d066-3700-43da-83c1-0fd6828ceca8"
   },
   "outputs": [
    {
     "data": {
      "text/plain": [
       "driverId                       741\n",
       "driverRef                etancelin\n",
       "code                            \\N\n",
       "forename                  Philippe\n",
       "surname                  Étancelin\n",
       "dob            1896-12-28 00:00:00\n",
       "nationality                 French\n",
       "Name: 741, dtype: object"
      ]
     },
     "execution_count": 11,
     "metadata": {},
     "output_type": "execute_result"
    }
   ],
   "source": [
    "table.df.iloc[table.df[\"dob\"].idxmin()]"
   ]
  },
  {
   "cell_type": "markdown",
   "metadata": {
    "id": "VJ3Se_Irkff1"
   },
   "source": [
    "Going back to the `table.time_col` and `table.fkey_col_to_pkey_table`, the `results` table contains a non-trivial example."
   ]
  },
  {
   "cell_type": "code",
   "execution_count": 12,
   "metadata": {
    "colab": {
     "base_uri": "https://localhost:8080/",
     "height": 791
    },
    "id": "DSmDQc3Pke5c",
    "outputId": "726f3491-5436-4a95-a905-607279afd7b6"
   },
   "outputs": [
    {
     "data": {
      "text/html": [
       "<div>\n",
       "<style scoped>\n",
       "    .dataframe tbody tr th:only-of-type {\n",
       "        vertical-align: middle;\n",
       "    }\n",
       "\n",
       "    .dataframe tbody tr th {\n",
       "        vertical-align: top;\n",
       "    }\n",
       "\n",
       "    .dataframe thead th {\n",
       "        text-align: right;\n",
       "    }\n",
       "</style>\n",
       "<table border=\"1\" class=\"dataframe\">\n",
       "  <thead>\n",
       "    <tr style=\"text-align: right;\">\n",
       "      <th></th>\n",
       "      <th>resultId</th>\n",
       "      <th>raceId</th>\n",
       "      <th>driverId</th>\n",
       "      <th>constructorId</th>\n",
       "      <th>number</th>\n",
       "      <th>grid</th>\n",
       "      <th>position</th>\n",
       "      <th>positionOrder</th>\n",
       "      <th>points</th>\n",
       "      <th>laps</th>\n",
       "      <th>milliseconds</th>\n",
       "      <th>fastestLap</th>\n",
       "      <th>rank</th>\n",
       "      <th>statusId</th>\n",
       "      <th>date</th>\n",
       "    </tr>\n",
       "  </thead>\n",
       "  <tbody>\n",
       "    <tr>\n",
       "      <th>0</th>\n",
       "      <td>0</td>\n",
       "      <td>0</td>\n",
       "      <td>660</td>\n",
       "      <td>152</td>\n",
       "      <td>18.0</td>\n",
       "      <td>21</td>\n",
       "      <td>11.0</td>\n",
       "      <td>11</td>\n",
       "      <td>0.0</td>\n",
       "      <td>64</td>\n",
       "      <td>NaN</td>\n",
       "      <td>NaN</td>\n",
       "      <td>NaN</td>\n",
       "      <td>16</td>\n",
       "      <td>1950-05-13 00:00:00</td>\n",
       "    </tr>\n",
       "    <tr>\n",
       "      <th>1</th>\n",
       "      <td>1</td>\n",
       "      <td>0</td>\n",
       "      <td>790</td>\n",
       "      <td>149</td>\n",
       "      <td>8.0</td>\n",
       "      <td>12</td>\n",
       "      <td>NaN</td>\n",
       "      <td>21</td>\n",
       "      <td>0.0</td>\n",
       "      <td>2</td>\n",
       "      <td>NaN</td>\n",
       "      <td>NaN</td>\n",
       "      <td>NaN</td>\n",
       "      <td>126</td>\n",
       "      <td>1950-05-13 00:00:00</td>\n",
       "    </tr>\n",
       "    <tr>\n",
       "      <th>2</th>\n",
       "      <td>2</td>\n",
       "      <td>0</td>\n",
       "      <td>579</td>\n",
       "      <td>49</td>\n",
       "      <td>1.0</td>\n",
       "      <td>3</td>\n",
       "      <td>NaN</td>\n",
       "      <td>12</td>\n",
       "      <td>0.0</td>\n",
       "      <td>62</td>\n",
       "      <td>NaN</td>\n",
       "      <td>NaN</td>\n",
       "      <td>NaN</td>\n",
       "      <td>44</td>\n",
       "      <td>1950-05-13 00:00:00</td>\n",
       "    </tr>\n",
       "    <tr>\n",
       "      <th>3</th>\n",
       "      <td>3</td>\n",
       "      <td>0</td>\n",
       "      <td>661</td>\n",
       "      <td>149</td>\n",
       "      <td>9.0</td>\n",
       "      <td>10</td>\n",
       "      <td>NaN</td>\n",
       "      <td>20</td>\n",
       "      <td>0.0</td>\n",
       "      <td>5</td>\n",
       "      <td>NaN</td>\n",
       "      <td>NaN</td>\n",
       "      <td>NaN</td>\n",
       "      <td>6</td>\n",
       "      <td>1950-05-13 00:00:00</td>\n",
       "    </tr>\n",
       "    <tr>\n",
       "      <th>4</th>\n",
       "      <td>4</td>\n",
       "      <td>0</td>\n",
       "      <td>789</td>\n",
       "      <td>152</td>\n",
       "      <td>17.0</td>\n",
       "      <td>7</td>\n",
       "      <td>NaN</td>\n",
       "      <td>19</td>\n",
       "      <td>0.0</td>\n",
       "      <td>8</td>\n",
       "      <td>NaN</td>\n",
       "      <td>NaN</td>\n",
       "      <td>NaN</td>\n",
       "      <td>51</td>\n",
       "      <td>1950-05-13 00:00:00</td>\n",
       "    </tr>\n",
       "    <tr>\n",
       "      <th>...</th>\n",
       "      <td>...</td>\n",
       "      <td>...</td>\n",
       "      <td>...</td>\n",
       "      <td>...</td>\n",
       "      <td>...</td>\n",
       "      <td>...</td>\n",
       "      <td>...</td>\n",
       "      <td>...</td>\n",
       "      <td>...</td>\n",
       "      <td>...</td>\n",
       "      <td>...</td>\n",
       "      <td>...</td>\n",
       "      <td>...</td>\n",
       "      <td>...</td>\n",
       "      <td>...</td>\n",
       "    </tr>\n",
       "    <tr>\n",
       "      <th>20318</th>\n",
       "      <td>20318</td>\n",
       "      <td>819</td>\n",
       "      <td>1</td>\n",
       "      <td>1</td>\n",
       "      <td>6.0</td>\n",
       "      <td>8</td>\n",
       "      <td>5.0</td>\n",
       "      <td>5</td>\n",
       "      <td>4.0</td>\n",
       "      <td>55</td>\n",
       "      <td>5669667.0</td>\n",
       "      <td>54.0</td>\n",
       "      <td>7.0</td>\n",
       "      <td>1</td>\n",
       "      <td>2009-11-01 11:00:00</td>\n",
       "    </tr>\n",
       "    <tr>\n",
       "      <th>20319</th>\n",
       "      <td>20319</td>\n",
       "      <td>819</td>\n",
       "      <td>21</td>\n",
       "      <td>22</td>\n",
       "      <td>23.0</td>\n",
       "      <td>4</td>\n",
       "      <td>4.0</td>\n",
       "      <td>4</td>\n",
       "      <td>5.0</td>\n",
       "      <td>55</td>\n",
       "      <td>5666149.0</td>\n",
       "      <td>54.0</td>\n",
       "      <td>4.0</td>\n",
       "      <td>1</td>\n",
       "      <td>2009-11-01 11:00:00</td>\n",
       "    </tr>\n",
       "    <tr>\n",
       "      <th>20320</th>\n",
       "      <td>20320</td>\n",
       "      <td>819</td>\n",
       "      <td>17</td>\n",
       "      <td>22</td>\n",
       "      <td>22.0</td>\n",
       "      <td>5</td>\n",
       "      <td>3.0</td>\n",
       "      <td>3</td>\n",
       "      <td>6.0</td>\n",
       "      <td>55</td>\n",
       "      <td>5661881.0</td>\n",
       "      <td>49.0</td>\n",
       "      <td>6.0</td>\n",
       "      <td>1</td>\n",
       "      <td>2009-11-01 11:00:00</td>\n",
       "    </tr>\n",
       "    <tr>\n",
       "      <th>20321</th>\n",
       "      <td>20321</td>\n",
       "      <td>819</td>\n",
       "      <td>16</td>\n",
       "      <td>8</td>\n",
       "      <td>14.0</td>\n",
       "      <td>3</td>\n",
       "      <td>2.0</td>\n",
       "      <td>2</td>\n",
       "      <td>8.0</td>\n",
       "      <td>55</td>\n",
       "      <td>5661271.0</td>\n",
       "      <td>14.0</td>\n",
       "      <td>5.0</td>\n",
       "      <td>1</td>\n",
       "      <td>2009-11-01 11:00:00</td>\n",
       "    </tr>\n",
       "    <tr>\n",
       "      <th>20322</th>\n",
       "      <td>20322</td>\n",
       "      <td>819</td>\n",
       "      <td>2</td>\n",
       "      <td>2</td>\n",
       "      <td>16.0</td>\n",
       "      <td>9</td>\n",
       "      <td>9.0</td>\n",
       "      <td>9</td>\n",
       "      <td>0.0</td>\n",
       "      <td>55</td>\n",
       "      <td>5689355.0</td>\n",
       "      <td>49.0</td>\n",
       "      <td>15.0</td>\n",
       "      <td>1</td>\n",
       "      <td>2009-11-01 11:00:00</td>\n",
       "    </tr>\n",
       "  </tbody>\n",
       "</table>\n",
       "<p>20323 rows × 15 columns</p>\n",
       "</div>"
      ],
      "text/plain": [
       "       resultId  raceId  driverId  constructorId  number  grid  position  \\\n",
       "0             0       0       660            152    18.0    21      11.0   \n",
       "1             1       0       790            149     8.0    12       NaN   \n",
       "2             2       0       579             49     1.0     3       NaN   \n",
       "3             3       0       661            149     9.0    10       NaN   \n",
       "4             4       0       789            152    17.0     7       NaN   \n",
       "...         ...     ...       ...            ...     ...   ...       ...   \n",
       "20318     20318     819         1              1     6.0     8       5.0   \n",
       "20319     20319     819        21             22    23.0     4       4.0   \n",
       "20320     20320     819        17             22    22.0     5       3.0   \n",
       "20321     20321     819        16              8    14.0     3       2.0   \n",
       "20322     20322     819         2              2    16.0     9       9.0   \n",
       "\n",
       "       positionOrder  points  laps  milliseconds  fastestLap  rank  statusId  \\\n",
       "0                 11     0.0    64           NaN         NaN   NaN        16   \n",
       "1                 21     0.0     2           NaN         NaN   NaN       126   \n",
       "2                 12     0.0    62           NaN         NaN   NaN        44   \n",
       "3                 20     0.0     5           NaN         NaN   NaN         6   \n",
       "4                 19     0.0     8           NaN         NaN   NaN        51   \n",
       "...              ...     ...   ...           ...         ...   ...       ...   \n",
       "20318              5     4.0    55     5669667.0        54.0   7.0         1   \n",
       "20319              4     5.0    55     5666149.0        54.0   4.0         1   \n",
       "20320              3     6.0    55     5661881.0        49.0   6.0         1   \n",
       "20321              2     8.0    55     5661271.0        14.0   5.0         1   \n",
       "20322              9     0.0    55     5689355.0        49.0  15.0         1   \n",
       "\n",
       "                     date  \n",
       "0     1950-05-13 00:00:00  \n",
       "1     1950-05-13 00:00:00  \n",
       "2     1950-05-13 00:00:00  \n",
       "3     1950-05-13 00:00:00  \n",
       "4     1950-05-13 00:00:00  \n",
       "...                   ...  \n",
       "20318 2009-11-01 11:00:00  \n",
       "20319 2009-11-01 11:00:00  \n",
       "20320 2009-11-01 11:00:00  \n",
       "20321 2009-11-01 11:00:00  \n",
       "20322 2009-11-01 11:00:00  \n",
       "\n",
       "[20323 rows x 15 columns]"
      ]
     },
     "execution_count": 12,
     "metadata": {},
     "output_type": "execute_result"
    }
   ],
   "source": [
    "table = db.table_dict[\"results\"]\n",
    "table.df"
   ]
  },
  {
   "cell_type": "markdown",
   "metadata": {
    "id": "pc23JvAykj7c"
   },
   "source": [
    "Here we start to notice certain data artifacts that might be good to keep in mind for later when doing ML modeling. For instance, the `milliseconds` and `fastestLap` columns seem to only have been collected for more recent races, with `NaN` features for earlier races."
   ]
  },
  {
   "cell_type": "markdown",
   "metadata": {
    "id": "NBzQPRJvkqUh"
   },
   "source": [
    "# Loading a task\n",
    "\n",
    "Each RelBench dataset comes with multiple pre-defined predictive tasks. For any given RelBench dataset, you can check all the associated tasks with:"
   ]
  },
  {
   "cell_type": "code",
   "execution_count": 13,
   "metadata": {
    "colab": {
     "base_uri": "https://localhost:8080/"
    },
    "id": "TyHERgUAkjU8",
    "outputId": "b53a58ec-c657-4403-ab66-0735499b31b6"
   },
   "outputs": [
    {
     "data": {
      "text/plain": [
       "['driver-position', 'driver-dnf', 'driver-top3']"
      ]
     },
     "execution_count": 13,
     "metadata": {},
     "output_type": "execute_result"
    }
   ],
   "source": [
    "from relbench.tasks import get_task_names, get_task\n",
    "\n",
    "get_task_names(\"rel-f1\")"
   ]
  },
  {
   "cell_type": "markdown",
   "metadata": {
    "id": "aV6Ks72nku6y"
   },
   "source": [
    "Check out https://relbench.stanford.edu/ for detailed descriptions of what each task is. As an example, let's use `driver-top3` where the task is, for a given driver and a given timestamp, to predict whether that driver will finish in the top 3 in some race in the next 30 days.\n",
    "\n",
    "The task itself is instantiated by calling:"
   ]
  },
  {
   "cell_type": "code",
   "execution_count": 14,
   "metadata": {
    "colab": {
     "base_uri": "https://localhost:8080/"
    },
    "id": "IbVQxxdxktyU",
    "outputId": "540d4d51-421d-45b8-ddf1-e93b413a970e"
   },
   "outputs": [],
   "source": [
    "task = get_task(\"rel-f1\", \"driver-top3\", download=True)"
   ]
  },
  {
   "cell_type": "markdown",
   "metadata": {
    "id": "hkyvGxbSk0Tr"
   },
   "source": [
    "Next we load the train / val / test labels. Each task table contains triples (timestamp, Id, label) indicating the entity the label is associated to, the timepoint at which the prediction is made, an the label itself. The task table also indicates which database table it is \"attached\" to - in this case the the `drivers` table."
   ]
  },
  {
   "cell_type": "code",
   "execution_count": 15,
   "metadata": {
    "colab": {
     "base_uri": "https://localhost:8080/"
    },
    "id": "k90T-Oq1kx89",
    "outputId": "63462965-c459-4d90-e945-f4a53ea39939"
   },
   "outputs": [
    {
     "data": {
      "text/plain": [
       "Table(df=\n",
       "           date  driverId  qualifying\n",
       "0    2004-08-04        12           0\n",
       "1    2004-08-04        20           0\n",
       "2    2004-07-05        10           0\n",
       "3    2004-07-05        47           0\n",
       "4    2004-06-05        31           0\n",
       "...         ...       ...         ...\n",
       "1348 1994-03-30        80           0\n",
       "1349 1994-03-30        48           0\n",
       "1350 1994-03-30        77           0\n",
       "1351 1994-02-28        43           0\n",
       "1352 1994-02-28        56           0\n",
       "\n",
       "[1353 rows x 3 columns],\n",
       "  fkey_col_to_pkey_table={'driverId': 'drivers'},\n",
       "  pkey_col=None,\n",
       "  time_col=date)"
      ]
     },
     "execution_count": 15,
     "metadata": {},
     "output_type": "execute_result"
    }
   ],
   "source": [
    "task.get_table(\"train\")"
   ]
  },
  {
   "cell_type": "markdown",
   "metadata": {
    "id": "-GuWKV6Hk4Pz"
   },
   "source": [
    "The test table is handled differently, with the labels being hidden by default to prevent accidental test set leakage."
   ]
  },
  {
   "cell_type": "code",
   "execution_count": 16,
   "metadata": {
    "colab": {
     "base_uri": "https://localhost:8080/"
    },
    "id": "o3m1ROIDk2NC",
    "outputId": "656ed6c9-11f1-42e8-d1bd-16fd091f6ac9"
   },
   "outputs": [
    {
     "data": {
      "text/plain": [
       "Table(df=\n",
       "          date  driverId\n",
       "0   2013-03-16       814\n",
       "1   2012-11-16         9\n",
       "2   2012-11-16        17\n",
       "3   2012-10-17         0\n",
       "4   2012-09-17       816\n",
       "..         ...       ...\n",
       "721 2010-07-30        14\n",
       "722 2010-06-30       154\n",
       "723 2010-06-30        14\n",
       "724 2010-05-01        14\n",
       "725 2010-05-01       154\n",
       "\n",
       "[726 rows x 2 columns],\n",
       "  fkey_col_to_pkey_table={'driverId': 'drivers'},\n",
       "  pkey_col=None,\n",
       "  time_col=date)"
      ]
     },
     "execution_count": 16,
     "metadata": {},
     "output_type": "execute_result"
    }
   ],
   "source": [
    "task.get_table(\"test\")"
   ]
  },
  {
   "cell_type": "markdown",
   "metadata": {
    "id": "QgnTWc2Kk9gY"
   },
   "source": [
    "If strictly needed, test labels can be retrieved by calling:"
   ]
  },
  {
   "cell_type": "code",
   "execution_count": 17,
   "metadata": {
    "colab": {
     "base_uri": "https://localhost:8080/"
    },
    "id": "dhh0H7rBk6GL",
    "outputId": "5651517f-ba75-4e01-d3d2-71d0536181db"
   },
   "outputs": [
    {
     "data": {
      "text/plain": [
       "Table(df=\n",
       "          date  driverId  qualifying\n",
       "0   2013-03-16       814           0\n",
       "1   2012-11-16         9           0\n",
       "2   2012-11-16        17           1\n",
       "3   2012-10-17         0           1\n",
       "4   2012-09-17       816           0\n",
       "..         ...       ...         ...\n",
       "721 2010-07-30        14           0\n",
       "722 2010-06-30       154           0\n",
       "723 2010-06-30        14           0\n",
       "724 2010-05-01        14           0\n",
       "725 2010-05-01       154           0\n",
       "\n",
       "[726 rows x 3 columns],\n",
       "  fkey_col_to_pkey_table={'driverId': 'drivers'},\n",
       "  pkey_col=None,\n",
       "  time_col=date)"
      ]
     },
     "execution_count": 17,
     "metadata": {},
     "output_type": "execute_result"
    }
   ],
   "source": [
    "task.get_table(\"test\", mask_input_cols=False)"
   ]
  },
  {
   "cell_type": "code",
   "execution_count": null,
   "metadata": {
    "id": "XCyVAj1Q6E0Z"
   },
   "outputs": [],
   "source": []
  }
 ],
 "metadata": {
  "colab": {
   "provenance": []
  },
  "kernelspec": {
   "display_name": "pyg_env",
   "language": "python",
   "name": "python3"
  },
  "language_info": {
   "codemirror_mode": {
    "name": "ipython",
    "version": 3
   },
   "file_extension": ".py",
   "mimetype": "text/x-python",
   "name": "python",
   "nbconvert_exporter": "python",
   "pygments_lexer": "ipython3",
   "version": "3.12.2"
  }
 },
 "nbformat": 4,
 "nbformat_minor": 4
}
