{
 "cells": [
  {
   "cell_type": "code",
   "execution_count": 1,
   "id": "2a845de0-1200-4d41-a280-dc0d48c81824",
   "metadata": {
    "execution": {
     "iopub.execute_input": "2023-11-16T01:47:29.058945Z",
     "iopub.status.busy": "2023-11-16T01:47:29.058525Z",
     "iopub.status.idle": "2023-11-16T01:47:29.084195Z",
     "shell.execute_reply": "2023-11-16T01:47:29.083344Z",
     "shell.execute_reply.started": "2023-11-16T01:47:29.058907Z"
    }
   },
   "outputs": [],
   "source": [
    "%load_ext autoreload\n",
    "%autoreload 2"
   ]
  },
  {
   "cell_type": "code",
   "execution_count": 2,
   "id": "dfbbd9e5-64d4-4eb8-9c78-b5cd1ebeee7d",
   "metadata": {
    "execution": {
     "iopub.execute_input": "2023-11-16T01:47:29.879100Z",
     "iopub.status.busy": "2023-11-16T01:47:29.878733Z",
     "iopub.status.idle": "2023-11-16T01:47:30.350373Z",
     "shell.execute_reply": "2023-11-16T01:47:30.349816Z",
     "shell.execute_reply.started": "2023-11-16T01:47:29.879065Z"
    }
   },
   "outputs": [],
   "source": [
    "import pandas as pd\n",
    "\n",
    "from rtb.datasets.fake import FakeProductDataset"
   ]
  },
  {
   "cell_type": "code",
   "execution_count": 5,
   "id": "ded9a336-30b5-4823-bb02-ef83d1def772",
   "metadata": {
    "execution": {
     "iopub.execute_input": "2023-11-16T01:48:24.377507Z",
     "iopub.status.busy": "2023-11-16T01:48:24.377114Z",
     "iopub.status.idle": "2023-11-16T01:48:24.492414Z",
     "shell.execute_reply": "2023-11-16T01:48:24.491655Z",
     "shell.execute_reply.started": "2023-11-16T01:48:24.377471Z"
    }
   },
   "outputs": [
    {
     "name": "stdout",
     "output_type": "stream",
     "text": [
      "processing db...\n",
      "processing db took 0.00 seconds.\n",
      "reindexing pkeys and fkeys...\n",
      "reindexing pkeys and fkeys took 0.00 seconds.\n",
      "saving table product...\n",
      "done in 0.00 seconds.\n",
      "saving table customer...\n",
      "done in 0.00 seconds.\n",
      "saving table review...\n",
      "done in 0.00 seconds.\n"
     ]
    }
   ],
   "source": [
    "ds = FakeProductDataset(root=\"../../data\", process=True)"
   ]
  },
  {
   "cell_type": "code",
   "execution_count": 6,
   "id": "44f17d0e-d462-4916-8d1a-0615c6a4c511",
   "metadata": {
    "execution": {
     "iopub.execute_input": "2023-11-16T01:48:29.252528Z",
     "iopub.status.busy": "2023-11-16T01:48:29.251636Z",
     "iopub.status.idle": "2023-11-16T01:48:29.268773Z",
     "shell.execute_reply": "2023-11-16T01:48:29.267952Z",
     "shell.execute_reply.started": "2023-11-16T01:48:29.252488Z"
    }
   },
   "outputs": [],
   "source": [
    "db = ds._db"
   ]
  },
  {
   "cell_type": "code",
   "execution_count": 7,
   "id": "740db031-cf43-4504-9a96-aa0a96b329f1",
   "metadata": {
    "execution": {
     "iopub.execute_input": "2023-11-16T01:48:30.457903Z",
     "iopub.status.busy": "2023-11-16T01:48:30.457714Z",
     "iopub.status.idle": "2023-11-16T01:48:30.475133Z",
     "shell.execute_reply": "2023-11-16T01:48:30.474552Z",
     "shell.execute_reply.started": "2023-11-16T01:48:30.457886Z"
    }
   },
   "outputs": [
    {
     "data": {
      "text/plain": [
       "Table(df=\n",
       "    product_id       category    title     price\n",
       "0            0           None  title_1  2.805066\n",
       "1            1             []  title_2  3.572515\n",
       "2            2  [toy, health]  title_3  9.536285\n",
       "3            3           None  title_1  7.892769\n",
       "4            4             []  title_2  7.939176\n",
       "5            5  [toy, health]  title_3  5.600530\n",
       "6            6           None  title_1  2.623404\n",
       "7            7             []  title_2  7.499772\n",
       "8            8  [toy, health]  title_3  4.886093\n",
       "9            9           None  title_1  3.392486\n",
       "10          10             []  title_2  1.634771\n",
       "11          11  [toy, health]  title_3  4.823230\n",
       "12          12           None  title_1  0.677217\n",
       "13          13             []  title_2  8.961570\n",
       "14          14  [toy, health]  title_3  7.799550\n",
       "15          15           None  title_1  3.694195\n",
       "16          16             []  title_2  7.092430\n",
       "17          17  [toy, health]  title_3  9.470107\n",
       "18          18           None  title_1  7.002363\n",
       "19          19             []  title_2  6.191729\n",
       "20          20  [toy, health]  title_3  9.519565\n",
       "21          21           None  title_1  7.051714\n",
       "22          22             []  title_2  1.356749\n",
       "23          23  [toy, health]  title_3  9.477949\n",
       "24          24           None  title_1  9.357703\n",
       "25          25             []  title_2  2.316398\n",
       "26          26  [toy, health]  title_3  0.194380\n",
       "27          27           None  title_1  2.313546\n",
       "28          28             []  title_2  2.737640\n",
       "29          29  [toy, health]  title_3  5.752961,\n",
       "  fkey_col_to_pkey_table={},\n",
       "  pkey_col=product_id,\n",
       "  time_col=None)"
      ]
     },
     "execution_count": 7,
     "metadata": {},
     "output_type": "execute_result"
    }
   ],
   "source": [
    "db.tables[\"product\"]"
   ]
  },
  {
   "cell_type": "code",
   "execution_count": 9,
   "id": "1f9f4d59-133a-4b87-a026-4bab923c488e",
   "metadata": {
    "execution": {
     "iopub.execute_input": "2023-11-16T01:48:53.539451Z",
     "iopub.status.busy": "2023-11-16T01:48:53.539014Z",
     "iopub.status.idle": "2023-11-16T01:48:53.560696Z",
     "shell.execute_reply": "2023-11-16T01:48:53.559982Z",
     "shell.execute_reply.started": "2023-11-16T01:48:53.539413Z"
    }
   },
   "outputs": [
    {
     "data": {
      "text/plain": [
       "Table(df=\n",
       "     customer_id  product_id review_time  rating\n",
       "0           <NA>           0  1970-01-01       2\n",
       "1             73          20  1970-01-11       2\n",
       "2             76          26  1970-01-21       4\n",
       "3             13          23  1970-01-31       1\n",
       "4             11           8  1970-02-10       2\n",
       "..           ...         ...         ...     ...\n",
       "495            6          10  1983-07-22       5\n",
       "496         <NA>           0  1983-08-01       1\n",
       "497           55          21  1983-08-11       5\n",
       "498           92          19  1983-08-21       2\n",
       "499           84           2  1983-08-31       4\n",
       "\n",
       "[500 rows x 4 columns],\n",
       "  fkey_col_to_pkey_table={'customer_id': 'customer', 'product_id': 'product'},\n",
       "  pkey_col=None,\n",
       "  time_col=review_time)"
      ]
     },
     "execution_count": 9,
     "metadata": {},
     "output_type": "execute_result"
    }
   ],
   "source": [
    "db.tables[\"review\"]"
   ]
  },
  {
   "cell_type": "code",
   "execution_count": 10,
   "id": "a5ba5d73-4961-4eb0-8e42-a5070d018b3f",
   "metadata": {
    "execution": {
     "iopub.execute_input": "2023-11-16T01:49:43.438553Z",
     "iopub.status.busy": "2023-11-16T01:49:43.438137Z",
     "iopub.status.idle": "2023-11-16T01:49:43.458607Z",
     "shell.execute_reply": "2023-11-16T01:49:43.457890Z",
     "shell.execute_reply.started": "2023-11-16T01:49:43.438516Z"
    }
   },
   "outputs": [
    {
     "data": {
      "text/plain": [
       "Table(df=\n",
       "    customer_id  age  gender\n",
       "0             0   20    male\n",
       "1             1   20  female\n",
       "2             2   29    male\n",
       "3             3   26  female\n",
       "4             4   49    male\n",
       "..          ...  ...     ...\n",
       "95           95   43  female\n",
       "96           96   13    male\n",
       "97           97   22  female\n",
       "98           98   48    male\n",
       "99           99   15  female\n",
       "\n",
       "[100 rows x 3 columns],\n",
       "  fkey_col_to_pkey_table={},\n",
       "  pkey_col=customer_id,\n",
       "  time_col=None)"
      ]
     },
     "execution_count": 10,
     "metadata": {},
     "output_type": "execute_result"
    }
   ],
   "source": [
    "db.tables[\"customer\"]"
   ]
  },
  {
   "cell_type": "markdown",
   "id": "0a566b8b-0b96-43a6-a6cd-73bc0a58fd11",
   "metadata": {},
   "source": [
    "## LTV"
   ]
  },
  {
   "cell_type": "code",
   "execution_count": 16,
   "id": "558bd883-2ae3-42b1-924b-9932cabc61c3",
   "metadata": {
    "execution": {
     "iopub.execute_input": "2023-11-16T01:53:19.746921Z",
     "iopub.status.busy": "2023-11-16T01:53:19.746526Z",
     "iopub.status.idle": "2023-11-16T01:53:19.787411Z",
     "shell.execute_reply": "2023-11-16T01:53:19.786330Z",
     "shell.execute_reply.started": "2023-11-16T01:53:19.746886Z"
    }
   },
   "outputs": [
    {
     "data": {
      "text/plain": [
       "Timedelta('364 days 00:00:00')"
      ]
     },
     "execution_count": 16,
     "metadata": {},
     "output_type": "execute_result"
    }
   ],
   "source": [
    "window_size = ds.tasks[\"ltv\"].window_sizes[0]\n",
    "window_size"
   ]
  },
  {
   "cell_type": "code",
   "execution_count": 18,
   "id": "2728fda6-1523-4988-bfc8-86d47133f58f",
   "metadata": {
    "execution": {
     "iopub.execute_input": "2023-11-16T01:53:58.820285Z",
     "iopub.status.busy": "2023-11-16T01:53:58.819863Z",
     "iopub.status.idle": "2023-11-16T01:53:58.865456Z",
     "shell.execute_reply": "2023-11-16T01:53:58.864590Z",
     "shell.execute_reply.started": "2023-11-16T01:53:58.820249Z"
    }
   },
   "outputs": [
    {
     "data": {
      "text/plain": [
       "Table(df=\n",
       "        window_min_time     window_max_time  customer_id       ltv  count\n",
       "0   1970-01-01 00:00:01 1970-12-31 00:00:01            0  2.313546      1\n",
       "1   1970-01-01 00:00:01 1970-12-31 00:00:01            1  8.961570      1\n",
       "2   1970-01-01 00:00:01 1970-12-31 00:00:01            2  0.000000      0\n",
       "3   1970-01-01 00:00:01 1970-12-31 00:00:01            3  0.000000      0\n",
       "4   1970-01-01 00:00:01 1970-12-31 00:00:01            5  0.000000      0\n",
       "..                  ...                 ...          ...       ...    ...\n",
       "995 1978-12-21 00:00:01 1979-12-20 00:00:01           42  0.000000      0\n",
       "996 1978-12-21 00:00:01 1979-12-20 00:00:01           61  0.000000      0\n",
       "997 1978-12-21 00:00:01 1979-12-20 00:00:01           81  0.000000      0\n",
       "998 1970-01-01 00:00:01 1970-12-31 00:00:01           26  0.000000      0\n",
       "999 1970-12-31 00:00:01 1971-12-30 00:00:01           95  2.737640      1\n",
       "\n",
       "[1000 rows x 5 columns],\n",
       "  fkey_col_to_pkey_table={'customer_id': 'customer'},\n",
       "  pkey_col=None,\n",
       "  time_col=window_min_time)"
      ]
     },
     "execution_count": 18,
     "metadata": {},
     "output_type": "execute_result"
    }
   ],
   "source": [
    "train_table = ds.make_train_table(\"ltv\", window_size)\n",
    "train_table"
   ]
  },
  {
   "cell_type": "code",
   "execution_count": 19,
   "id": "31303937-30c3-4a94-b6c9-06c301a5b8bb",
   "metadata": {
    "execution": {
     "iopub.execute_input": "2023-11-16T01:54:08.389407Z",
     "iopub.status.busy": "2023-11-16T01:54:08.388711Z",
     "iopub.status.idle": "2023-11-16T01:54:08.427250Z",
     "shell.execute_reply": "2023-11-16T01:54:08.426552Z",
     "shell.execute_reply.started": "2023-11-16T01:54:08.389367Z"
    }
   },
   "outputs": [
    {
     "data": {
      "text/plain": [
       "Table(df=\n",
       "       window_min_time window_max_time  customer_id  count\n",
       "0  1982-04-19 00:00:01      1983-04-18            0      0\n",
       "1  1982-04-19 00:00:01      1983-04-18            1      0\n",
       "2  1982-04-19 00:00:01      1983-04-18            2      0\n",
       "3  1982-04-19 00:00:01      1983-04-18            3      0\n",
       "4  1982-04-19 00:00:01      1983-04-18            4      0\n",
       "..                 ...             ...          ...    ...\n",
       "95 1982-04-19 00:00:01      1983-04-18           98      1\n",
       "96 1982-04-19 00:00:01      1983-04-18           99      2\n",
       "97 1982-04-19 00:00:01      1983-04-18           53      0\n",
       "98 1982-04-19 00:00:01      1983-04-18           59      1\n",
       "99 1982-04-19 00:00:01      1983-04-18           79      0\n",
       "\n",
       "[100 rows x 4 columns],\n",
       "  fkey_col_to_pkey_table={'customer_id': 'customer'},\n",
       "  pkey_col=None,\n",
       "  time_col=window_min_time)"
      ]
     },
     "execution_count": 19,
     "metadata": {},
     "output_type": "execute_result"
    }
   ],
   "source": [
    "test_table = ds.make_test_table(\"ltv\", window_size)\n",
    "test_table"
   ]
  },
  {
   "cell_type": "markdown",
   "id": "bb1d62c7-577c-4646-9e08-31c035562c7c",
   "metadata": {},
   "source": [
    "## Churn"
   ]
  },
  {
   "cell_type": "code",
   "execution_count": 20,
   "id": "77998437-c439-4cdb-b7ac-7091684800f1",
   "metadata": {
    "execution": {
     "iopub.execute_input": "2023-11-16T01:54:27.565594Z",
     "iopub.status.busy": "2023-11-16T01:54:27.565110Z",
     "iopub.status.idle": "2023-11-16T01:54:27.582780Z",
     "shell.execute_reply": "2023-11-16T01:54:27.582093Z",
     "shell.execute_reply.started": "2023-11-16T01:54:27.565556Z"
    }
   },
   "outputs": [
    {
     "data": {
      "text/plain": [
       "Timedelta('364 days 00:00:00')"
      ]
     },
     "execution_count": 20,
     "metadata": {},
     "output_type": "execute_result"
    }
   ],
   "source": [
    "window_size = ds.tasks[\"churn\"].window_sizes[0]\n",
    "window_size"
   ]
  },
  {
   "cell_type": "code",
   "execution_count": 21,
   "id": "436f098a-6c86-4068-95e9-f5a027440940",
   "metadata": {
    "execution": {
     "iopub.execute_input": "2023-11-16T01:54:57.414617Z",
     "iopub.status.busy": "2023-11-16T01:54:57.413773Z",
     "iopub.status.idle": "2023-11-16T01:54:57.443339Z",
     "shell.execute_reply": "2023-11-16T01:54:57.442611Z",
     "shell.execute_reply.started": "2023-11-16T01:54:57.414576Z"
    }
   },
   "outputs": [
    {
     "data": {
      "text/plain": [
       "Table(df=\n",
       "        window_min_time     window_max_time  customer_id  churn\n",
       "0   1970-01-01 00:00:01 1970-12-31 00:00:01            0  False\n",
       "1   1970-01-01 00:00:01 1970-12-31 00:00:01            1  False\n",
       "2   1970-01-01 00:00:01 1970-12-31 00:00:01            2   True\n",
       "3   1970-01-01 00:00:01 1970-12-31 00:00:01            3   True\n",
       "4   1970-01-01 00:00:01 1970-12-31 00:00:01            4   True\n",
       "..                  ...                 ...          ...    ...\n",
       "995 1978-12-21 00:00:01 1979-12-20 00:00:01           95   True\n",
       "996 1978-12-21 00:00:01 1979-12-20 00:00:01           96   True\n",
       "997 1978-12-21 00:00:01 1979-12-20 00:00:01           97   True\n",
       "998 1978-12-21 00:00:01 1979-12-20 00:00:01           98   True\n",
       "999 1978-12-21 00:00:01 1979-12-20 00:00:01           99   True\n",
       "\n",
       "[1000 rows x 4 columns],\n",
       "  fkey_col_to_pkey_table={'customer_id': 'customer'},\n",
       "  pkey_col=None,\n",
       "  time_col=window_min_time)"
      ]
     },
     "execution_count": 21,
     "metadata": {},
     "output_type": "execute_result"
    }
   ],
   "source": [
    "train_table = ds.make_train_table(\"churn\", window_size)\n",
    "train_table"
   ]
  },
  {
   "cell_type": "code",
   "execution_count": 22,
   "id": "3f5b5702-199f-4e78-8c2a-47452e2227e2",
   "metadata": {
    "execution": {
     "iopub.execute_input": "2023-11-16T01:55:15.817340Z",
     "iopub.status.busy": "2023-11-16T01:55:15.816938Z",
     "iopub.status.idle": "2023-11-16T01:55:15.844788Z",
     "shell.execute_reply": "2023-11-16T01:55:15.844307Z",
     "shell.execute_reply.started": "2023-11-16T01:55:15.817303Z"
    }
   },
   "outputs": [
    {
     "data": {
      "text/plain": [
       "Table(df=\n",
       "       window_min_time window_max_time  customer_id\n",
       "0  1982-04-19 00:00:01      1983-04-18            0\n",
       "1  1982-04-19 00:00:01      1983-04-18            1\n",
       "2  1982-04-19 00:00:01      1983-04-18            2\n",
       "3  1982-04-19 00:00:01      1983-04-18            3\n",
       "4  1982-04-19 00:00:01      1983-04-18            4\n",
       "..                 ...             ...          ...\n",
       "95 1982-04-19 00:00:01      1983-04-18           95\n",
       "96 1982-04-19 00:00:01      1983-04-18           96\n",
       "97 1982-04-19 00:00:01      1983-04-18           97\n",
       "98 1982-04-19 00:00:01      1983-04-18           98\n",
       "99 1982-04-19 00:00:01      1983-04-18           99\n",
       "\n",
       "[100 rows x 3 columns],\n",
       "  fkey_col_to_pkey_table={'customer_id': 'customer'},\n",
       "  pkey_col=None,\n",
       "  time_col=window_min_time)"
      ]
     },
     "execution_count": 22,
     "metadata": {},
     "output_type": "execute_result"
    }
   ],
   "source": [
    "test_table = ds.make_test_table(\"churn\", window_size)\n",
    "test_table"
   ]
  },
  {
   "cell_type": "code",
   "execution_count": null,
   "id": "0e52661f-48d0-44bc-afe4-5afaa6602e7a",
   "metadata": {},
   "outputs": [],
   "source": []
  }
 ],
 "metadata": {
  "kernelspec": {
   "display_name": "Python [conda env:rtb]",
   "language": "python",
   "name": "conda-env-rtb-py"
  },
  "language_info": {
   "codemirror_mode": {
    "name": "ipython",
    "version": 3
   },
   "file_extension": ".py",
   "mimetype": "text/x-python",
   "name": "python",
   "nbconvert_exporter": "python",
   "pygments_lexer": "ipython3",
   "version": "3.10.13"
  }
 },
 "nbformat": 4,
 "nbformat_minor": 5
}
