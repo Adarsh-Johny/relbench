{
 "cells": [
  {
   "cell_type": "code",
   "execution_count": 1,
   "id": "3a3a9690-ed7b-47f2-b1f7-38099acfa2f8",
   "metadata": {},
   "outputs": [],
   "source": [
    "import sys\n",
    "sys.path.append('../../')\n",
    "from relbench.datasets import dataset_names, get_dataset"
   ]
  },
  {
   "cell_type": "code",
   "execution_count": 2,
   "id": "cadaa335-890b-4cb5-a26f-80ca1be79373",
   "metadata": {},
   "outputs": [
    {
     "data": {
      "text/plain": [
       "['rel-amazon', 'rel-stackex', 'fake_reviews']"
      ]
     },
     "execution_count": 2,
     "metadata": {},
     "output_type": "execute_result"
    }
   ],
   "source": [
    "dataset_names"
   ]
  },
  {
   "cell_type": "code",
   "execution_count": 3,
   "id": "fff4b53a-c57b-4b3c-a501-aba49df242e1",
   "metadata": {},
   "outputs": [
    {
     "ename": "ValueError",
     "evalue": "File 'rel-stackex/db.zip' is not in the registry.",
     "output_type": "error",
     "traceback": [
      "\u001b[0;31m---------------------------------------------------------------------------\u001b[0m",
      "\u001b[0;31mValueError\u001b[0m                                Traceback (most recent call last)",
      "Cell \u001b[0;32mIn[3], line 1\u001b[0m\n\u001b[0;32m----> 1\u001b[0m dataset \u001b[38;5;241m=\u001b[39m \u001b[43mget_dataset\u001b[49m\u001b[43m(\u001b[49m\n\u001b[1;32m      2\u001b[0m \u001b[43m    \u001b[49m\u001b[43mname\u001b[49m\u001b[38;5;241;43m=\u001b[39;49m\u001b[38;5;124;43m\"\u001b[39;49m\u001b[38;5;124;43mrel-stackex\u001b[39;49m\u001b[38;5;124;43m\"\u001b[39;49m\u001b[43m,\u001b[49m\n\u001b[1;32m      3\u001b[0m \u001b[43m)\u001b[49m\n\u001b[1;32m      4\u001b[0m dataset\n",
      "File \u001b[0;32m/dfs/user/kexinh/rtb/examples/stack_exchange/../../relbench/datasets/__init__.py:18\u001b[0m, in \u001b[0;36mget_dataset\u001b[0;34m(name, *args, **kwargs)\u001b[0m\n\u001b[1;32m     16\u001b[0m \u001b[38;5;28;01mdef\u001b[39;00m \u001b[38;5;21mget_dataset\u001b[39m(name: \u001b[38;5;28mstr\u001b[39m, \u001b[38;5;241m*\u001b[39margs, \u001b[38;5;241m*\u001b[39m\u001b[38;5;241m*\u001b[39mkwargs) \u001b[38;5;241m-\u001b[39m\u001b[38;5;241m>\u001b[39m \u001b[38;5;124m\"\u001b[39m\u001b[38;5;124mDataset\u001b[39m\u001b[38;5;124m\"\u001b[39m:\n\u001b[1;32m     17\u001b[0m \u001b[38;5;250m    \u001b[39m\u001b[38;5;124mr\u001b[39m\u001b[38;5;124;03m\"\"\"Returns a dataset by name.\"\"\"\u001b[39;00m\n\u001b[0;32m---> 18\u001b[0m     \u001b[38;5;28;01mreturn\u001b[39;00m \u001b[43mdataset_cls_dict\u001b[49m\u001b[43m[\u001b[49m\u001b[43mname\u001b[49m\u001b[43m]\u001b[49m\u001b[43m(\u001b[49m\u001b[38;5;241;43m*\u001b[39;49m\u001b[43margs\u001b[49m\u001b[43m,\u001b[49m\u001b[43m \u001b[49m\u001b[38;5;241;43m*\u001b[39;49m\u001b[38;5;241;43m*\u001b[39;49m\u001b[43mkwargs\u001b[49m\u001b[43m)\u001b[49m\n",
      "File \u001b[0;32m/dfs/user/kexinh/rtb/examples/stack_exchange/../../relbench/datasets/stackex.py:25\u001b[0m, in \u001b[0;36mStackExDataset.__init__\u001b[0;34m(self, process)\u001b[0m\n\u001b[1;32m     19\u001b[0m \u001b[38;5;28;01mdef\u001b[39;00m \u001b[38;5;21m__init__\u001b[39m(\n\u001b[1;32m     20\u001b[0m     \u001b[38;5;28mself\u001b[39m,\n\u001b[1;32m     21\u001b[0m     \u001b[38;5;241m*\u001b[39m,\n\u001b[1;32m     22\u001b[0m     process: \u001b[38;5;28mbool\u001b[39m \u001b[38;5;241m=\u001b[39m \u001b[38;5;28;01mFalse\u001b[39;00m,\n\u001b[1;32m     23\u001b[0m ):\n\u001b[1;32m     24\u001b[0m     \u001b[38;5;28mself\u001b[39m\u001b[38;5;241m.\u001b[39mname \u001b[38;5;241m=\u001b[39m \u001b[38;5;124mf\u001b[39m\u001b[38;5;124m\"\u001b[39m\u001b[38;5;132;01m{\u001b[39;00m\u001b[38;5;28mself\u001b[39m\u001b[38;5;241m.\u001b[39mname\u001b[38;5;132;01m}\u001b[39;00m\u001b[38;5;124m\"\u001b[39m\n\u001b[0;32m---> 25\u001b[0m     \u001b[38;5;28;43msuper\u001b[39;49m\u001b[43m(\u001b[49m\u001b[43m)\u001b[49m\u001b[38;5;241;43m.\u001b[39;49m\u001b[38;5;21;43m__init__\u001b[39;49m\u001b[43m(\u001b[49m\u001b[43mprocess\u001b[49m\u001b[38;5;241;43m=\u001b[39;49m\u001b[43mprocess\u001b[49m\u001b[43m)\u001b[49m\n",
      "File \u001b[0;32m/dfs/user/kexinh/rtb/examples/stack_exchange/../../relbench/data/dataset.py:67\u001b[0m, in \u001b[0;36mRelBenchDataset.__init__\u001b[0;34m(self, process)\u001b[0m\n\u001b[1;32m     64\u001b[0m     \u001b[38;5;28mprint\u001b[39m(\u001b[38;5;124mf\u001b[39m\u001b[38;5;124m\"\u001b[39m\u001b[38;5;124mdone in \u001b[39m\u001b[38;5;132;01m{\u001b[39;00mtoc\u001b[38;5;250m \u001b[39m\u001b[38;5;241m-\u001b[39m\u001b[38;5;250m \u001b[39mtic\u001b[38;5;132;01m:\u001b[39;00m\u001b[38;5;124m.2f\u001b[39m\u001b[38;5;132;01m}\u001b[39;00m\u001b[38;5;124m seconds.\u001b[39m\u001b[38;5;124m\"\u001b[39m)\n\u001b[1;32m     66\u001b[0m \u001b[38;5;28;01melse\u001b[39;00m:\n\u001b[0;32m---> 67\u001b[0m     db_path \u001b[38;5;241m=\u001b[39m \u001b[43m_pooch\u001b[49m\u001b[38;5;241;43m.\u001b[39;49m\u001b[43mfetch\u001b[49m\u001b[43m(\u001b[49m\n\u001b[1;32m     68\u001b[0m \u001b[43m        \u001b[49m\u001b[38;5;124;43mf\u001b[39;49m\u001b[38;5;124;43m\"\u001b[39;49m\u001b[38;5;132;43;01m{\u001b[39;49;00m\u001b[38;5;28;43mself\u001b[39;49m\u001b[38;5;241;43m.\u001b[39;49m\u001b[43mname\u001b[49m\u001b[38;5;132;43;01m}\u001b[39;49;00m\u001b[38;5;124;43m/\u001b[39;49m\u001b[38;5;132;43;01m{\u001b[39;49;00m\u001b[38;5;28;43mself\u001b[39;49m\u001b[38;5;241;43m.\u001b[39;49m\u001b[43mdb_dir\u001b[49m\u001b[38;5;132;43;01m}\u001b[39;49;00m\u001b[38;5;124;43m.zip\u001b[39;49m\u001b[38;5;124;43m\"\u001b[39;49m\u001b[43m,\u001b[49m\n\u001b[1;32m     69\u001b[0m \u001b[43m        \u001b[49m\u001b[43mprocessor\u001b[49m\u001b[38;5;241;43m=\u001b[39;49m\u001b[43munzip_processor\u001b[49m\u001b[43m,\u001b[49m\n\u001b[1;32m     70\u001b[0m \u001b[43m        \u001b[49m\u001b[43mprogressbar\u001b[49m\u001b[38;5;241;43m=\u001b[39;49m\u001b[38;5;28;43;01mTrue\u001b[39;49;00m\u001b[43m,\u001b[49m\n\u001b[1;32m     71\u001b[0m \u001b[43m    \u001b[49m\u001b[43m)\u001b[49m\n\u001b[1;32m     72\u001b[0m     db \u001b[38;5;241m=\u001b[39m Database\u001b[38;5;241m.\u001b[39mload(db_path)\n\u001b[1;32m     74\u001b[0m \u001b[38;5;28msuper\u001b[39m()\u001b[38;5;241m.\u001b[39m\u001b[38;5;21m__init__\u001b[39m(\n\u001b[1;32m     75\u001b[0m     db, \u001b[38;5;28mself\u001b[39m\u001b[38;5;241m.\u001b[39mval_timestamp, \u001b[38;5;28mself\u001b[39m\u001b[38;5;241m.\u001b[39mtest_timestamp, \u001b[38;5;28mself\u001b[39m\u001b[38;5;241m.\u001b[39mtask_cls_list\n\u001b[1;32m     76\u001b[0m )\n",
      "File \u001b[0;32m/dfs/user/kexinh/miniconda3/envs/rtb/lib/python3.10/site-packages/pooch/core.py:561\u001b[0m, in \u001b[0;36mPooch.fetch\u001b[0;34m(self, fname, processor, downloader, progressbar)\u001b[0m\n\u001b[1;32m    510\u001b[0m \u001b[38;5;28;01mdef\u001b[39;00m \u001b[38;5;21mfetch\u001b[39m(\u001b[38;5;28mself\u001b[39m, fname, processor\u001b[38;5;241m=\u001b[39m\u001b[38;5;28;01mNone\u001b[39;00m, downloader\u001b[38;5;241m=\u001b[39m\u001b[38;5;28;01mNone\u001b[39;00m, progressbar\u001b[38;5;241m=\u001b[39m\u001b[38;5;28;01mFalse\u001b[39;00m):\n\u001b[1;32m    511\u001b[0m \u001b[38;5;250m    \u001b[39m\u001b[38;5;124;03m\"\"\"\u001b[39;00m\n\u001b[1;32m    512\u001b[0m \u001b[38;5;124;03m    Get the absolute path to a file in the local storage.\u001b[39;00m\n\u001b[1;32m    513\u001b[0m \n\u001b[0;32m   (...)\u001b[0m\n\u001b[1;32m    559\u001b[0m \n\u001b[1;32m    560\u001b[0m \u001b[38;5;124;03m    \"\"\"\u001b[39;00m\n\u001b[0;32m--> 561\u001b[0m     \u001b[38;5;28;43mself\u001b[39;49m\u001b[38;5;241;43m.\u001b[39;49m\u001b[43m_assert_file_in_registry\u001b[49m\u001b[43m(\u001b[49m\u001b[43mfname\u001b[49m\u001b[43m)\u001b[49m\n\u001b[1;32m    563\u001b[0m     url \u001b[38;5;241m=\u001b[39m \u001b[38;5;28mself\u001b[39m\u001b[38;5;241m.\u001b[39mget_url(fname)\n\u001b[1;32m    564\u001b[0m     full_path \u001b[38;5;241m=\u001b[39m \u001b[38;5;28mself\u001b[39m\u001b[38;5;241m.\u001b[39mabspath \u001b[38;5;241m/\u001b[39m fname\n",
      "File \u001b[0;32m/dfs/user/kexinh/miniconda3/envs/rtb/lib/python3.10/site-packages/pooch/core.py:609\u001b[0m, in \u001b[0;36mPooch._assert_file_in_registry\u001b[0;34m(self, fname)\u001b[0m\n\u001b[1;32m    604\u001b[0m \u001b[38;5;250m\u001b[39m\u001b[38;5;124;03m\"\"\"\u001b[39;00m\n\u001b[1;32m    605\u001b[0m \u001b[38;5;124;03mCheck if a file is in the registry and raise :class:`ValueError` if\u001b[39;00m\n\u001b[1;32m    606\u001b[0m \u001b[38;5;124;03mit's not.\u001b[39;00m\n\u001b[1;32m    607\u001b[0m \u001b[38;5;124;03m\"\"\"\u001b[39;00m\n\u001b[1;32m    608\u001b[0m \u001b[38;5;28;01mif\u001b[39;00m fname \u001b[38;5;129;01mnot\u001b[39;00m \u001b[38;5;129;01min\u001b[39;00m \u001b[38;5;28mself\u001b[39m\u001b[38;5;241m.\u001b[39mregistry:\n\u001b[0;32m--> 609\u001b[0m     \u001b[38;5;28;01mraise\u001b[39;00m \u001b[38;5;167;01mValueError\u001b[39;00m(\u001b[38;5;124mf\u001b[39m\u001b[38;5;124m\"\u001b[39m\u001b[38;5;124mFile \u001b[39m\u001b[38;5;124m'\u001b[39m\u001b[38;5;132;01m{\u001b[39;00mfname\u001b[38;5;132;01m}\u001b[39;00m\u001b[38;5;124m'\u001b[39m\u001b[38;5;124m is not in the registry.\u001b[39m\u001b[38;5;124m\"\u001b[39m)\n",
      "\u001b[0;31mValueError\u001b[0m: File 'rel-stackex/db.zip' is not in the registry."
     ]
    }
   ],
   "source": [
    "dataset = get_dataset(\n",
    "    name=\"rel-stackex\",\n",
    ")\n",
    "dataset"
   ]
  },
  {
   "cell_type": "code",
   "execution_count": null,
   "id": "b31102d7-540c-48dd-994e-2e5db58755c1",
   "metadata": {},
   "outputs": [],
   "source": [
    "dataset.val_timestamp, dataset.test_timestamp"
   ]
  },
  {
   "cell_type": "code",
   "execution_count": null,
   "id": "536d0ef8-c6b9-485b-b161-e8fef56b5e4a",
   "metadata": {},
   "outputs": [],
   "source": [
    "dataset.db.table_dict.keys()"
   ]
  },
  {
   "cell_type": "code",
   "execution_count": null,
   "id": "5eab4b9e-8f6a-4af1-91ba-fc6436fa3985",
   "metadata": {},
   "outputs": [],
   "source": [
    "dataset.db.table_dict[\"posts\"].df"
   ]
  },
  {
   "cell_type": "code",
   "execution_count": null,
   "id": "e000941e-72d7-467e-92b3-df3999dd72a0",
   "metadata": {},
   "outputs": [],
   "source": [
    "dataset.task_names"
   ]
  },
  {
   "cell_type": "code",
   "execution_count": null,
   "id": "be517d68-feb3-4657-947b-f2c38ef7e997",
   "metadata": {},
   "outputs": [],
   "source": [
    "task = dataset.get_task(\"rel-stackex-engage\")"
   ]
  },
  {
   "cell_type": "code",
   "execution_count": null,
   "id": "774f34e4-31d7-48ca-a41a-ea5ec7061c8f",
   "metadata": {},
   "outputs": [],
   "source": [
    "task.train_table"
   ]
  },
  {
   "cell_type": "code",
   "execution_count": null,
   "id": "95970074-1eeb-4e90-8f8f-e44127780fb1",
   "metadata": {},
   "outputs": [],
   "source": [
    "task.train_table.df"
   ]
  },
  {
   "cell_type": "code",
   "execution_count": null,
   "id": "b9a5d559-02ec-4c4e-b0a7-c040db468fae",
   "metadata": {},
   "outputs": [],
   "source": [
    "task.val_table.df"
   ]
  },
  {
   "cell_type": "code",
   "execution_count": null,
   "id": "b70aed07-0900-44c9-a364-0c70511731a9",
   "metadata": {},
   "outputs": [],
   "source": [
    "task.test_table.df"
   ]
  },
  {
   "cell_type": "code",
   "execution_count": null,
   "id": "13ea2e50-1b31-4930-9f68-a82a9134ee26",
   "metadata": {},
   "outputs": [],
   "source": [
    "import numpy as np\n",
    "\n",
    "pred = np.array([0] * len(task.test_table.df))\n",
    "task.evaluate(pred)"
   ]
  },
  {
   "cell_type": "code",
   "execution_count": null,
   "id": "c47d409e-869f-4b44-a1bd-06405354add1",
   "metadata": {},
   "outputs": [],
   "source": []
  },
  {
   "cell_type": "code",
   "execution_count": null,
   "id": "dce60f8f-5cb6-4f65-833d-ac9c70b64d52",
   "metadata": {},
   "outputs": [],
   "source": []
  }
 ],
 "metadata": {
  "kernelspec": {
   "display_name": "Python 3 (ipykernel)",
   "language": "python",
   "name": "python3"
  },
  "language_info": {
   "codemirror_mode": {
    "name": "ipython",
    "version": 3
   },
   "file_extension": ".py",
   "mimetype": "text/x-python",
   "name": "python",
   "nbconvert_exporter": "python",
   "pygments_lexer": "ipython3",
   "version": "3.10.13"
  }
 },
 "nbformat": 4,
 "nbformat_minor": 5
}
