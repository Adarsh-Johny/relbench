{
 "cells": [
  {
   "cell_type": "code",
   "execution_count": 1,
   "id": "461a9e35-de88-4f50-91a1-c637d65c94b2",
   "metadata": {},
   "outputs": [],
   "source": [
    "from relbench.datasets import get_dataset"
   ]
  },
  {
   "cell_type": "code",
   "execution_count": 2,
   "id": "d8503e12-ec0f-4730-b31c-6daccd5680be",
   "metadata": {},
   "outputs": [],
   "source": [
    "dataset = get_dataset(\n",
    "    name=\"stack_exchange\",\n",
    "    process=True\n",
    ")"
   ]
  },
  {
   "cell_type": "code",
   "execution_count": 3,
   "id": "1995fc26-7229-453a-9fe8-b5acbf924bca",
   "metadata": {},
   "outputs": [
    {
     "data": {
      "text/plain": [
       "StackExchangeDataset()"
      ]
     },
     "execution_count": 3,
     "metadata": {},
     "output_type": "execute_result"
    }
   ],
   "source": [
    "dataset"
   ]
  },
  {
   "cell_type": "code",
   "execution_count": 4,
   "id": "0e69c47a-ad81-4405-b6c7-dab3b50b79c7",
   "metadata": {},
   "outputs": [
    {
     "name": "stdout",
     "output_type": "stream",
     "text": [
      "saving Database object to /tmp/tmpwicwtafb/db...\n"
     ]
    },
    {
     "name": "stderr",
     "output_type": "stream",
     "text": [
      "/dfs/user/kexinh/miniconda3/envs/rtb/lib/python3.10/site-packages/pyarrow/pandas_compat.py:373: FutureWarning: is_sparse is deprecated and will be removed in a future version. Check `isinstance(dtype, pd.SparseDtype)` instead.\n",
      "  if _pandas_api.is_sparse(col):\n"
     ]
    },
    {
     "name": "stdout",
     "output_type": "stream",
     "text": [
      "done in 10.02 seconds.\n",
      "making zip archive for db...\n",
      "done in 49.83 seconds.\n",
      "upload: /tmp/staging_data/stack_exchange/db.zip\n",
      "sha256: b46e996d6659819fb4fd54cac5cba71fb3bfd8a5b2705fc44580603c0d2fe0e9\n"
     ]
    }
   ],
   "source": [
    "dataset.pack_db(\"/tmp/staging_data\")"
   ]
  },
  {
   "cell_type": "code",
   "execution_count": 4,
   "id": "99ffa198-a0a9-4c9c-a678-0fc8061eb1f5",
   "metadata": {},
   "outputs": [
    {
     "data": {
      "text/plain": [
       "QuestionPopularityTask(dataset=StackExchangeDataset())"
      ]
     },
     "execution_count": 4,
     "metadata": {},
     "output_type": "execute_result"
    }
   ],
   "source": [
    "task = dataset.get_task(\"question_popularity\", process=True)\n",
    "task"
   ]
  },
  {
   "cell_type": "code",
   "execution_count": 11,
   "id": "40a68e98-292b-4407-8c77-fd8a04b59575",
   "metadata": {},
   "outputs": [
    {
     "data": {
      "text/plain": [
       "Timestamp('2019-03-16 00:00:00')"
      ]
     },
     "execution_count": 11,
     "metadata": {},
     "output_type": "execute_result"
    }
   ],
   "source": [
    "task.train_table.df.timestamp.max()"
   ]
  },
  {
   "cell_type": "code",
   "execution_count": 7,
   "id": "d1ac3372-dbdb-4d6b-95aa-063b825d78fb",
   "metadata": {},
   "outputs": [
    {
     "name": "stderr",
     "output_type": "stream",
     "text": [
      "100%|██████████████████████████████████████████████████████████████████████████████████████████████████████████| 1/1 [00:00<00:00,  1.35it/s]\n"
     ]
    },
    {
     "data": {
      "text/plain": [
       "Table(df=\n",
       "       PostId  timestamp  popularity\n",
       "0      204043 2019-09-12           0\n",
       "1      204044 2019-09-12           0\n",
       "2      204051 2019-09-12           0\n",
       "3      204053 2019-09-12           0\n",
       "4      204054 2019-09-12           0\n",
       "...       ...        ...         ...\n",
       "39226  283124 2019-09-12           0\n",
       "39227  283126 2019-09-12           0\n",
       "39228  283129 2019-09-12          46\n",
       "39229  283131 2019-09-12           0\n",
       "39230  283135 2019-09-12           0\n",
       "\n",
       "[39231 rows x 3 columns],\n",
       "  fkey_col_to_pkey_table={'PostId': 'posts'},\n",
       "  pkey_col=None,\n",
       "  time_col=timestamp)"
      ]
     },
     "execution_count": 7,
     "metadata": {},
     "output_type": "execute_result"
    }
   ],
   "source": [
    "task.val_table"
   ]
  },
  {
   "cell_type": "code",
   "execution_count": 12,
   "id": "e0bd3c9b-967a-4e24-b11e-e4a6bd40d987",
   "metadata": {},
   "outputs": [
    {
     "name": "stderr",
     "output_type": "stream",
     "text": [
      "100%|██████████████████████████████████████████████████████████████████████████████████████████████████████████| 1/1 [00:00<00:00,  1.44it/s]\n"
     ]
    },
    {
     "data": {
      "text/plain": [
       "Table(df=\n",
       "       timestamp  PostId\n",
       "0     2021-09-12  283261\n",
       "1     2021-09-12  283262\n",
       "2     2021-09-12  283263\n",
       "3     2021-09-12  283264\n",
       "4     2021-09-12  283269\n",
       "...          ...     ...\n",
       "38553 2021-09-12  357185\n",
       "38554 2021-09-12  357188\n",
       "38555 2021-09-12  357190\n",
       "38556 2021-09-12  357193\n",
       "38557 2021-09-12  357195\n",
       "\n",
       "[38558 rows x 2 columns],\n",
       "  fkey_col_to_pkey_table={'PostId': 'posts'},\n",
       "  pkey_col=None,\n",
       "  time_col=timestamp)"
      ]
     },
     "execution_count": 12,
     "metadata": {},
     "output_type": "execute_result"
    }
   ],
   "source": [
    "task.test_table"
   ]
  },
  {
   "cell_type": "code",
   "execution_count": 13,
   "id": "0fc14a74-c9bc-45b9-912b-5252ff204f58",
   "metadata": {},
   "outputs": [
    {
     "name": "stdout",
     "output_type": "stream",
     "text": [
      "upload: /tmp/staging_data/stack_exchange/tasks/question_popularity.zip\n",
      "sha256: de4bacb7c31d23733aedf99999fe859977c3d1f5b54d0a7af644d1b2a4c60f41\n"
     ]
    },
    {
     "name": "stderr",
     "output_type": "stream",
     "text": [
      "/dfs/user/kexinh/miniconda3/envs/rtb/lib/python3.10/site-packages/pyarrow/pandas_compat.py:373: FutureWarning: is_sparse is deprecated and will be removed in a future version. Check `isinstance(dtype, pd.SparseDtype)` instead.\n",
      "  if _pandas_api.is_sparse(col):\n"
     ]
    }
   ],
   "source": [
    "task.pack_tables(\"/tmp/staging_data\")"
   ]
  },
  {
   "cell_type": "code",
   "execution_count": 4,
   "id": "a3406056-8d91-40a0-9d50-6e3dc84a5514",
   "metadata": {},
   "outputs": [
    {
     "data": {
      "text/plain": [
       "UserContributionTask(dataset=StackExchangeDataset())"
      ]
     },
     "execution_count": 4,
     "metadata": {},
     "output_type": "execute_result"
    }
   ],
   "source": [
    "task = dataset.get_task(\"user_contribution\", process=True)\n",
    "task"
   ]
  },
  {
   "cell_type": "code",
   "execution_count": 5,
   "id": "58960838-8805-4021-a43e-d439ae6ccb94",
   "metadata": {},
   "outputs": [
    {
     "name": "stderr",
     "output_type": "stream",
     "text": [
      "100%|██████████████████████████████████████████████████████████████████████████████████████████████████████████| 5/5 [00:26<00:00,  5.37s/it]\n"
     ]
    },
    {
     "data": {
      "text/plain": [
       "Timestamp('2017-09-12 00:00:00')"
      ]
     },
     "execution_count": 5,
     "metadata": {},
     "output_type": "execute_result"
    }
   ],
   "source": [
    "task.train_table.df.timestamp.max()"
   ]
  },
  {
   "cell_type": "code",
   "execution_count": 6,
   "id": "30ec6bed-3871-4c94-8ed6-af79e9507774",
   "metadata": {},
   "outputs": [
    {
     "name": "stderr",
     "output_type": "stream",
     "text": [
      "100%|██████████████████████████████████████████████████████████████████████████████████████████████████████████| 1/1 [00:19<00:00, 19.76s/it]\n"
     ]
    },
    {
     "data": {
      "text/plain": [
       "Table(df=\n",
       "      OwnerUserId  timestamp  contribution\n",
       "0               0 2019-09-12             1\n",
       "1               2 2019-09-12             0\n",
       "2               4 2019-09-12             0\n",
       "3               5 2019-09-12             0\n",
       "4               6 2019-09-12             0\n",
       "...           ...        ...           ...\n",
       "74859      225161 2019-09-12             1\n",
       "74860      241823 2019-09-12             1\n",
       "74861      247436 2019-09-12             1\n",
       "74862      268097 2019-09-12             1\n",
       "74863      290585 2019-09-12             0\n",
       "\n",
       "[74864 rows x 3 columns],\n",
       "  fkey_col_to_pkey_table={'OwnerUserId': 'users'},\n",
       "  pkey_col=None,\n",
       "  time_col=timestamp)"
      ]
     },
     "execution_count": 6,
     "metadata": {},
     "output_type": "execute_result"
    }
   ],
   "source": [
    "task.val_table"
   ]
  },
  {
   "cell_type": "code",
   "execution_count": 7,
   "id": "2fd8fb88-70d7-4a8e-8759-6b07725299a1",
   "metadata": {},
   "outputs": [
    {
     "name": "stderr",
     "output_type": "stream",
     "text": [
      "100%|██████████████████████████████████████████████████████████████████████████████████████████████████████████| 1/1 [00:21<00:00, 21.74s/it]\n"
     ]
    },
    {
     "data": {
      "text/plain": [
       "Table(df=\n",
       "       timestamp OwnerUserId\n",
       "0     2021-09-12           0\n",
       "1     2021-09-12           2\n",
       "2     2021-09-12           4\n",
       "3     2021-09-12           5\n",
       "4     2021-09-12           6\n",
       "...          ...         ...\n",
       "94675 2021-09-12      278332\n",
       "94676 2021-09-12      278333\n",
       "94677 2021-09-12      278663\n",
       "94678 2021-09-12      280795\n",
       "94679 2021-09-12      290585\n",
       "\n",
       "[94680 rows x 2 columns],\n",
       "  fkey_col_to_pkey_table={'OwnerUserId': 'users'},\n",
       "  pkey_col=None,\n",
       "  time_col=timestamp)"
      ]
     },
     "execution_count": 7,
     "metadata": {},
     "output_type": "execute_result"
    }
   ],
   "source": [
    "task.test_table"
   ]
  },
  {
   "cell_type": "code",
   "execution_count": 8,
   "id": "ca6fb898-c45c-4a9c-af5b-6d27d8c08976",
   "metadata": {},
   "outputs": [
    {
     "data": {
      "text/plain": [
       "contribution\n",
       "0    0.839924\n",
       "1    0.160076\n",
       "Name: proportion, dtype: float64"
      ]
     },
     "execution_count": 8,
     "metadata": {},
     "output_type": "execute_result"
    }
   ],
   "source": [
    "task.train_table.df.contribution.value_counts(normalize = True)"
   ]
  },
  {
   "cell_type": "code",
   "execution_count": 9,
   "id": "2bba63c8-9f20-430c-aac2-412d03d17385",
   "metadata": {},
   "outputs": [
    {
     "name": "stderr",
     "output_type": "stream",
     "text": [
      "/dfs/user/kexinh/miniconda3/envs/rtb/lib/python3.10/site-packages/pyarrow/pandas_compat.py:373: FutureWarning: is_sparse is deprecated and will be removed in a future version. Check `isinstance(dtype, pd.SparseDtype)` instead.\n",
      "  if _pandas_api.is_sparse(col):\n"
     ]
    },
    {
     "name": "stdout",
     "output_type": "stream",
     "text": [
      "upload: /tmp/staging_data/stack_exchange/tasks/user_contribution.zip\n",
      "sha256: c9c6a7554dd788c4272e7035bbb6391428b20fc1e10e8065cad554a6c75df5e1\n"
     ]
    }
   ],
   "source": [
    "task.pack_tables(\"/tmp/staging_data\")"
   ]
  },
  {
   "cell_type": "code",
   "execution_count": null,
   "id": "67cbaf97-e244-41dd-8516-911be960cc57",
   "metadata": {},
   "outputs": [],
   "source": []
  }
 ],
 "metadata": {
  "kernelspec": {
   "display_name": "Python 3 (ipykernel)",
   "language": "python",
   "name": "python3"
  },
  "language_info": {
   "codemirror_mode": {
    "name": "ipython",
    "version": 3
   },
   "file_extension": ".py",
   "mimetype": "text/x-python",
   "name": "python",
   "nbconvert_exporter": "python",
   "pygments_lexer": "ipython3",
   "version": "3.10.13"
  }
 },
 "nbformat": 4,
 "nbformat_minor": 5
}
