{
 "cells": [
  {
   "cell_type": "code",
   "execution_count": 1,
   "id": "f328220d-6d96-447b-9da6-18ae0069025a",
   "metadata": {
    "execution": {
     "iopub.execute_input": "2023-11-25T01:20:41.863739Z",
     "iopub.status.busy": "2023-11-25T01:20:41.863339Z",
     "iopub.status.idle": "2023-11-25T01:20:41.888923Z",
     "shell.execute_reply": "2023-11-25T01:20:41.887895Z",
     "shell.execute_reply.started": "2023-11-25T01:20:41.863701Z"
    }
   },
   "outputs": [],
   "source": [
    "%load_ext autoreload\n",
    "%autoreload 2"
   ]
  },
  {
   "cell_type": "code",
   "execution_count": 2,
   "id": "6f3dac79-b7aa-46e7-9f60-7728da8bc263",
   "metadata": {
    "execution": {
     "iopub.execute_input": "2023-11-25T01:20:44.975011Z",
     "iopub.status.busy": "2023-11-25T01:20:44.974640Z",
     "iopub.status.idle": "2023-11-25T01:20:45.375614Z",
     "shell.execute_reply": "2023-11-25T01:20:45.374545Z",
     "shell.execute_reply.started": "2023-11-25T01:20:44.974975Z"
    }
   },
   "outputs": [],
   "source": [
    "from rtb.datasets import get_dataset\n",
    "from rtb.utils import rolling_window_sampler, one_window_sampler"
   ]
  },
  {
   "cell_type": "code",
   "execution_count": 3,
   "id": "7c9d1987-1582-4115-92e2-23d4e9da3a98",
   "metadata": {
    "execution": {
     "iopub.execute_input": "2023-11-25T01:20:50.306358Z",
     "iopub.status.busy": "2023-11-25T01:20:50.305748Z",
     "iopub.status.idle": "2023-11-25T01:24:16.658231Z",
     "shell.execute_reply": "2023-11-25T01:24:16.657347Z",
     "shell.execute_reply.started": "2023-11-25T01:20:50.306320Z"
    }
   },
   "outputs": [
    {
     "name": "stderr",
     "output_type": "stream",
     "text": [
      "100%|██████████████████████████████████████████████████████████████| 7.10G/7.10G [01:44<00:00, 67.7MiB/s]\n"
     ]
    },
    {
     "name": "stdout",
     "output_type": "stream",
     "text": [
      "loading table ../../data/rtb-product-books_5_core/processed/db/customer.parquet...\n",
      "done in 0.57 seconds.\n",
      "loading table ../../data/rtb-product-books_5_core/processed/db/product.parquet...\n",
      "done in 1.49 seconds.\n",
      "loading table ../../data/rtb-product-books_5_core/processed/db/review.parquet...\n",
      "done in 44.43 seconds.\n"
     ]
    }
   ],
   "source": [
    "ds = get_dataset(\n",
    "    name=\"rtb-product\",\n",
    "    root=\"../../data\",\n",
    "    # default is books-5-core\n",
    "    # category=\"fashion\",\n",
    "    # use_5_core=False,\n",
    "    # process=True,\n",
    ")"
   ]
  },
  {
   "cell_type": "code",
   "execution_count": 4,
   "id": "999cf3cc-a470-4413-af3c-1e1e7a32adb4",
   "metadata": {
    "execution": {
     "iopub.execute_input": "2023-11-25T01:27:06.008350Z",
     "iopub.status.busy": "2023-11-25T01:27:06.007875Z",
     "iopub.status.idle": "2023-11-25T01:27:06.026217Z",
     "shell.execute_reply": "2023-11-25T01:27:06.025542Z",
     "shell.execute_reply.started": "2023-11-25T01:27:06.008313Z"
    }
   },
   "outputs": [],
   "source": [
    "db = ds._db"
   ]
  },
  {
   "cell_type": "code",
   "execution_count": 5,
   "id": "1ea16577-ca56-4edb-b459-e506f3c3f6b4",
   "metadata": {
    "execution": {
     "iopub.execute_input": "2023-11-25T01:27:19.888724Z",
     "iopub.status.busy": "2023-11-25T01:27:19.888328Z",
     "iopub.status.idle": "2023-11-25T01:27:19.905338Z",
     "shell.execute_reply": "2023-11-25T01:27:19.904588Z",
     "shell.execute_reply.started": "2023-11-25T01:27:19.888687Z"
    }
   },
   "outputs": [],
   "source": [
    "customer = db.tables[\"customer\"].df\n",
    "product = db.tables[\"product\"].df\n",
    "review = db.tables[\"review\"].df"
   ]
  },
  {
   "cell_type": "code",
   "execution_count": 6,
   "id": "559e16ec-8d0f-4ae0-8721-a254af40509a",
   "metadata": {
    "execution": {
     "iopub.execute_input": "2023-11-25T01:27:20.943542Z",
     "iopub.status.busy": "2023-11-25T01:27:20.943082Z",
     "iopub.status.idle": "2023-11-25T01:27:20.966924Z",
     "shell.execute_reply": "2023-11-25T01:27:20.966173Z",
     "shell.execute_reply.started": "2023-11-25T01:27:20.943505Z"
    }
   },
   "outputs": [
    {
     "data": {
      "text/html": [
       "<div>\n",
       "<style scoped>\n",
       "    .dataframe tbody tr th:only-of-type {\n",
       "        vertical-align: middle;\n",
       "    }\n",
       "\n",
       "    .dataframe tbody tr th {\n",
       "        vertical-align: top;\n",
       "    }\n",
       "\n",
       "    .dataframe thead th {\n",
       "        text-align: right;\n",
       "    }\n",
       "</style>\n",
       "<table border=\"1\" class=\"dataframe\">\n",
       "  <thead>\n",
       "    <tr style=\"text-align: right;\">\n",
       "      <th></th>\n",
       "      <th>customer_id</th>\n",
       "      <th>customer_name</th>\n",
       "    </tr>\n",
       "  </thead>\n",
       "  <tbody>\n",
       "    <tr>\n",
       "      <th>0</th>\n",
       "      <td>0</td>\n",
       "      <td>TW Ervin II</td>\n",
       "    </tr>\n",
       "    <tr>\n",
       "      <th>1</th>\n",
       "      <td>1</td>\n",
       "      <td>Amazon Customer</td>\n",
       "    </tr>\n",
       "    <tr>\n",
       "      <th>2</th>\n",
       "      <td>2</td>\n",
       "      <td>Tekla Borner</td>\n",
       "    </tr>\n",
       "    <tr>\n",
       "      <th>3</th>\n",
       "      <td>3</td>\n",
       "      <td>Deborah K Woroniecki</td>\n",
       "    </tr>\n",
       "    <tr>\n",
       "      <th>4</th>\n",
       "      <td>4</td>\n",
       "      <td>E</td>\n",
       "    </tr>\n",
       "    <tr>\n",
       "      <th>...</th>\n",
       "      <td>...</td>\n",
       "      <td>...</td>\n",
       "    </tr>\n",
       "    <tr>\n",
       "      <th>1850188</th>\n",
       "      <td>1850188</td>\n",
       "      <td>Amazon Customer</td>\n",
       "    </tr>\n",
       "    <tr>\n",
       "      <th>1850189</th>\n",
       "      <td>1850189</td>\n",
       "      <td>AmizoP</td>\n",
       "    </tr>\n",
       "    <tr>\n",
       "      <th>1850190</th>\n",
       "      <td>1850190</td>\n",
       "      <td>JuicyBeans</td>\n",
       "    </tr>\n",
       "    <tr>\n",
       "      <th>1850191</th>\n",
       "      <td>1850191</td>\n",
       "      <td>Halley Cortez</td>\n",
       "    </tr>\n",
       "    <tr>\n",
       "      <th>1850192</th>\n",
       "      <td>1850192</td>\n",
       "      <td>RNqueen</td>\n",
       "    </tr>\n",
       "  </tbody>\n",
       "</table>\n",
       "<p>1850193 rows × 2 columns</p>\n",
       "</div>"
      ],
      "text/plain": [
       "         customer_id         customer_name\n",
       "0                  0           TW Ervin II\n",
       "1                  1       Amazon Customer\n",
       "2                  2          Tekla Borner\n",
       "3                  3  Deborah K Woroniecki\n",
       "4                  4                     E\n",
       "...              ...                   ...\n",
       "1850188      1850188       Amazon Customer\n",
       "1850189      1850189                AmizoP\n",
       "1850190      1850190            JuicyBeans\n",
       "1850191      1850191         Halley Cortez\n",
       "1850192      1850192               RNqueen\n",
       "\n",
       "[1850193 rows x 2 columns]"
      ]
     },
     "execution_count": 6,
     "metadata": {},
     "output_type": "execute_result"
    }
   ],
   "source": [
    "db.tables[\"customer\"].df"
   ]
  },
  {
   "cell_type": "code",
   "execution_count": 7,
   "id": "a5115f80-4c86-4131-8ad4-f32af815041d",
   "metadata": {
    "execution": {
     "iopub.execute_input": "2023-11-25T01:27:22.348167Z",
     "iopub.status.busy": "2023-11-25T01:27:22.347305Z",
     "iopub.status.idle": "2023-11-25T01:27:22.370107Z",
     "shell.execute_reply": "2023-11-25T01:27:22.369214Z",
     "shell.execute_reply.started": "2023-11-25T01:27:22.348126Z"
    }
   },
   "outputs": [
    {
     "data": {
      "text/html": [
       "<div>\n",
       "<style scoped>\n",
       "    .dataframe tbody tr th:only-of-type {\n",
       "        vertical-align: middle;\n",
       "    }\n",
       "\n",
       "    .dataframe tbody tr th {\n",
       "        vertical-align: top;\n",
       "    }\n",
       "\n",
       "    .dataframe thead th {\n",
       "        text-align: right;\n",
       "    }\n",
       "</style>\n",
       "<table border=\"1\" class=\"dataframe\">\n",
       "  <thead>\n",
       "    <tr style=\"text-align: right;\">\n",
       "      <th></th>\n",
       "      <th>product_id</th>\n",
       "      <th>category</th>\n",
       "      <th>brand</th>\n",
       "      <th>title</th>\n",
       "      <th>description</th>\n",
       "      <th>price</th>\n",
       "    </tr>\n",
       "  </thead>\n",
       "  <tbody>\n",
       "    <tr>\n",
       "      <th>0</th>\n",
       "      <td>0</td>\n",
       "      <td>[Books, Literature &amp; Fiction, Dramas &amp; Plays]</td>\n",
       "      <td>Visit Amazon's William Shakespeare Page</td>\n",
       "      <td>Love's Labour's Lost: Performed by Derek Jacob...</td>\n",
       "      <td>William Shakespeare is widely regarded as the ...</td>\n",
       "      <td>20.93</td>\n",
       "    </tr>\n",
       "    <tr>\n",
       "      <th>1</th>\n",
       "      <td>1</td>\n",
       "      <td>[Books, Children's Books, Literature &amp; Fiction]</td>\n",
       "      <td>Louis (ed) UNTERMEYER</td>\n",
       "      <td>The golden treasury of poetry</td>\n",
       "      <td>Collection of Poetry</td>\n",
       "      <td>23.98</td>\n",
       "    </tr>\n",
       "    <tr>\n",
       "      <th>2</th>\n",
       "      <td>2</td>\n",
       "      <td>[Books, Mystery, Thriller &amp; Suspense]</td>\n",
       "      <td>Visit Amazon's Agatha Christie Page</td>\n",
       "      <td>The Blue Geranium (Miss Marple)</td>\n",
       "      <td>None</td>\n",
       "      <td>8.82</td>\n",
       "    </tr>\n",
       "    <tr>\n",
       "      <th>3</th>\n",
       "      <td>3</td>\n",
       "      <td>[Books, Humor &amp; Entertainment]</td>\n",
       "      <td>Visit Amazon's Tom Baker Page</td>\n",
       "      <td>Who on Earth Is Tom Baker?</td>\n",
       "      <td>Tom Baker's autobiography covers his childhood...</td>\n",
       "      <td>159.95</td>\n",
       "    </tr>\n",
       "    <tr>\n",
       "      <th>4</th>\n",
       "      <td>4</td>\n",
       "      <td>[Books, Christian Books &amp; Bibles, Bible Study ...</td>\n",
       "      <td>Visit Amazon's Clarence Larkin Page</td>\n",
       "      <td>The Greatest Book on &amp;quot;Dispensational Trut...</td>\n",
       "      <td>The Greatest Book on Dispensational Truth in t...</td>\n",
       "      <td>44.76</td>\n",
       "    </tr>\n",
       "    <tr>\n",
       "      <th>...</th>\n",
       "      <td>...</td>\n",
       "      <td>...</td>\n",
       "      <td>...</td>\n",
       "      <td>...</td>\n",
       "      <td>...</td>\n",
       "      <td>...</td>\n",
       "    </tr>\n",
       "    <tr>\n",
       "      <th>506007</th>\n",
       "      <td>506007</td>\n",
       "      <td>None</td>\n",
       "      <td>Tricia &amp; Putman, Cara Goyer</td>\n",
       "      <td>Mason Jar Mayhem</td>\n",
       "      <td>Spring has come to Sugarcreek, and the communi...</td>\n",
       "      <td>15.05</td>\n",
       "    </tr>\n",
       "    <tr>\n",
       "      <th>506008</th>\n",
       "      <td>506008</td>\n",
       "      <td>None</td>\n",
       "      <td>Author</td>\n",
       "      <td>The Little Book of Pussy (2013-06-16) [Paperback]</td>\n",
       "      <td>From the time The Big Penis Book was published...</td>\n",
       "      <td>17.00</td>\n",
       "    </tr>\n",
       "    <tr>\n",
       "      <th>506009</th>\n",
       "      <td>506009</td>\n",
       "      <td>None</td>\n",
       "      <td></td>\n",
       "      <td>The Age of Not Believing: A Christmas Tale by ...</td>\n",
       "      <td>None</td>\n",
       "      <td>42.93</td>\n",
       "    </tr>\n",
       "    <tr>\n",
       "      <th>506010</th>\n",
       "      <td>506010</td>\n",
       "      <td>None</td>\n",
       "      <td></td>\n",
       "      <td>The Charlies Angels' Casebook</td>\n",
       "      <td>None</td>\n",
       "      <td>17.87</td>\n",
       "    </tr>\n",
       "    <tr>\n",
       "      <th>506011</th>\n",
       "      <td>506011</td>\n",
       "      <td>None</td>\n",
       "      <td></td>\n",
       "      <td>Underwater Photography Masterclass by Alex Mus...</td>\n",
       "      <td>None</td>\n",
       "      <td>46.62</td>\n",
       "    </tr>\n",
       "  </tbody>\n",
       "</table>\n",
       "<p>506012 rows × 6 columns</p>\n",
       "</div>"
      ],
      "text/plain": [
       "        product_id                                           category  \\\n",
       "0                0      [Books, Literature & Fiction, Dramas & Plays]   \n",
       "1                1    [Books, Children's Books, Literature & Fiction]   \n",
       "2                2              [Books, Mystery, Thriller & Suspense]   \n",
       "3                3                     [Books, Humor & Entertainment]   \n",
       "4                4  [Books, Christian Books & Bibles, Bible Study ...   \n",
       "...            ...                                                ...   \n",
       "506007      506007                                               None   \n",
       "506008      506008                                               None   \n",
       "506009      506009                                               None   \n",
       "506010      506010                                               None   \n",
       "506011      506011                                               None   \n",
       "\n",
       "                                          brand  \\\n",
       "0       Visit Amazon's William Shakespeare Page   \n",
       "1                         Louis (ed) UNTERMEYER   \n",
       "2           Visit Amazon's Agatha Christie Page   \n",
       "3                 Visit Amazon's Tom Baker Page   \n",
       "4           Visit Amazon's Clarence Larkin Page   \n",
       "...                                         ...   \n",
       "506007              Tricia & Putman, Cara Goyer   \n",
       "506008                                   Author   \n",
       "506009                                            \n",
       "506010                                            \n",
       "506011                                            \n",
       "\n",
       "                                                    title  \\\n",
       "0       Love's Labour's Lost: Performed by Derek Jacob...   \n",
       "1                           The golden treasury of poetry   \n",
       "2                         The Blue Geranium (Miss Marple)   \n",
       "3                              Who on Earth Is Tom Baker?   \n",
       "4       The Greatest Book on &quot;Dispensational Trut...   \n",
       "...                                                   ...   \n",
       "506007                                   Mason Jar Mayhem   \n",
       "506008  The Little Book of Pussy (2013-06-16) [Paperback]   \n",
       "506009  The Age of Not Believing: A Christmas Tale by ...   \n",
       "506010                      The Charlies Angels' Casebook   \n",
       "506011  Underwater Photography Masterclass by Alex Mus...   \n",
       "\n",
       "                                              description   price  \n",
       "0       William Shakespeare is widely regarded as the ...   20.93  \n",
       "1                                    Collection of Poetry   23.98  \n",
       "2                                                    None    8.82  \n",
       "3       Tom Baker's autobiography covers his childhood...  159.95  \n",
       "4       The Greatest Book on Dispensational Truth in t...   44.76  \n",
       "...                                                   ...     ...  \n",
       "506007  Spring has come to Sugarcreek, and the communi...   15.05  \n",
       "506008  From the time The Big Penis Book was published...   17.00  \n",
       "506009                                               None   42.93  \n",
       "506010                                               None   17.87  \n",
       "506011                                               None   46.62  \n",
       "\n",
       "[506012 rows x 6 columns]"
      ]
     },
     "execution_count": 7,
     "metadata": {},
     "output_type": "execute_result"
    }
   ],
   "source": [
    "product"
   ]
  },
  {
   "cell_type": "code",
   "execution_count": 8,
   "id": "39bd3e12-68c4-4e7a-9f5e-ce7ae0f4ca9a",
   "metadata": {
    "execution": {
     "iopub.execute_input": "2023-11-25T01:27:23.148931Z",
     "iopub.status.busy": "2023-11-25T01:27:23.148676Z",
     "iopub.status.idle": "2023-11-25T01:27:23.167177Z",
     "shell.execute_reply": "2023-11-25T01:27:23.166437Z",
     "shell.execute_reply.started": "2023-11-25T01:27:23.148914Z"
    }
   },
   "outputs": [
    {
     "data": {
      "text/html": [
       "<div>\n",
       "<style scoped>\n",
       "    .dataframe tbody tr th:only-of-type {\n",
       "        vertical-align: middle;\n",
       "    }\n",
       "\n",
       "    .dataframe tbody tr th {\n",
       "        vertical-align: top;\n",
       "    }\n",
       "\n",
       "    .dataframe thead th {\n",
       "        text-align: right;\n",
       "    }\n",
       "</style>\n",
       "<table border=\"1\" class=\"dataframe\">\n",
       "  <thead>\n",
       "    <tr style=\"text-align: right;\">\n",
       "      <th></th>\n",
       "      <th>review_time</th>\n",
       "      <th>customer_id</th>\n",
       "      <th>product_id</th>\n",
       "      <th>rating</th>\n",
       "      <th>verified</th>\n",
       "      <th>review_text</th>\n",
       "      <th>summary</th>\n",
       "    </tr>\n",
       "  </thead>\n",
       "  <tbody>\n",
       "    <tr>\n",
       "      <th>0</th>\n",
       "      <td>2005-03-30</td>\n",
       "      <td>0</td>\n",
       "      <td>14</td>\n",
       "      <td>5.0</td>\n",
       "      <td>False</td>\n",
       "      <td>The King, the Mice and the Cheese by Nancy Gur...</td>\n",
       "      <td>A story children will love and learn from</td>\n",
       "    </tr>\n",
       "    <tr>\n",
       "      <th>1</th>\n",
       "      <td>2016-06-20</td>\n",
       "      <td>1</td>\n",
       "      <td>14</td>\n",
       "      <td>5.0</td>\n",
       "      <td>True</td>\n",
       "      <td>The kids loved it!</td>\n",
       "      <td>Five Stars</td>\n",
       "    </tr>\n",
       "    <tr>\n",
       "      <th>2</th>\n",
       "      <td>2016-01-24</td>\n",
       "      <td>2</td>\n",
       "      <td>14</td>\n",
       "      <td>5.0</td>\n",
       "      <td>True</td>\n",
       "      <td>My students (3 &amp; 4 year olds) loved this book!...</td>\n",
       "      <td>Five Stars</td>\n",
       "    </tr>\n",
       "    <tr>\n",
       "      <th>3</th>\n",
       "      <td>2015-07-09</td>\n",
       "      <td>3</td>\n",
       "      <td>14</td>\n",
       "      <td>5.0</td>\n",
       "      <td>False</td>\n",
       "      <td>LOVE IT</td>\n",
       "      <td>Five Stars</td>\n",
       "    </tr>\n",
       "    <tr>\n",
       "      <th>4</th>\n",
       "      <td>2015-01-18</td>\n",
       "      <td>4</td>\n",
       "      <td>14</td>\n",
       "      <td>5.0</td>\n",
       "      <td>True</td>\n",
       "      <td>Great!</td>\n",
       "      <td>Five Stars</td>\n",
       "    </tr>\n",
       "    <tr>\n",
       "      <th>...</th>\n",
       "      <td>...</td>\n",
       "      <td>...</td>\n",
       "      <td>...</td>\n",
       "      <td>...</td>\n",
       "      <td>...</td>\n",
       "      <td>...</td>\n",
       "      <td>...</td>\n",
       "    </tr>\n",
       "    <tr>\n",
       "      <th>21935279</th>\n",
       "      <td>2012-12-02</td>\n",
       "      <td>319196</td>\n",
       "      <td>506010</td>\n",
       "      <td>5.0</td>\n",
       "      <td>False</td>\n",
       "      <td>This past year fans of \"Charlie's Angels\" were...</td>\n",
       "      <td>\"NOW THIS IS THE COMPANION TO THE \"CHARLIE'S A...</td>\n",
       "    </tr>\n",
       "    <tr>\n",
       "      <th>21935280</th>\n",
       "      <td>2008-12-15</td>\n",
       "      <td>1407251</td>\n",
       "      <td>506010</td>\n",
       "      <td>5.0</td>\n",
       "      <td>True</td>\n",
       "      <td>For any fan of Charlie's Angels, this book is ...</td>\n",
       "      <td>An Excellent Case!</td>\n",
       "    </tr>\n",
       "    <tr>\n",
       "      <th>21935281</th>\n",
       "      <td>2007-06-15</td>\n",
       "      <td>1373107</td>\n",
       "      <td>506010</td>\n",
       "      <td>3.0</td>\n",
       "      <td>False</td>\n",
       "      <td>To review this book I will divide it into two ...</td>\n",
       "      <td>Great Stories But A Little One-Sided</td>\n",
       "    </tr>\n",
       "    <tr>\n",
       "      <th>21935282</th>\n",
       "      <td>2018-05-27</td>\n",
       "      <td>319324</td>\n",
       "      <td>506011</td>\n",
       "      <td>3.0</td>\n",
       "      <td>True</td>\n",
       "      <td>Great pictures, good recommendations but not t...</td>\n",
       "      <td>Don't buy if your looking for details and sett...</td>\n",
       "    </tr>\n",
       "    <tr>\n",
       "      <th>21935283</th>\n",
       "      <td>2017-09-11</td>\n",
       "      <td>1703463</td>\n",
       "      <td>506011</td>\n",
       "      <td>5.0</td>\n",
       "      <td>True</td>\n",
       "      <td>Superb book. Very useful.</td>\n",
       "      <td>Superb book.</td>\n",
       "    </tr>\n",
       "  </tbody>\n",
       "</table>\n",
       "<p>21935284 rows × 7 columns</p>\n",
       "</div>"
      ],
      "text/plain": [
       "         review_time  customer_id  product_id  rating  verified  \\\n",
       "0         2005-03-30            0          14     5.0     False   \n",
       "1         2016-06-20            1          14     5.0      True   \n",
       "2         2016-01-24            2          14     5.0      True   \n",
       "3         2015-07-09            3          14     5.0     False   \n",
       "4         2015-01-18            4          14     5.0      True   \n",
       "...              ...          ...         ...     ...       ...   \n",
       "21935279  2012-12-02       319196      506010     5.0     False   \n",
       "21935280  2008-12-15      1407251      506010     5.0      True   \n",
       "21935281  2007-06-15      1373107      506010     3.0     False   \n",
       "21935282  2018-05-27       319324      506011     3.0      True   \n",
       "21935283  2017-09-11      1703463      506011     5.0      True   \n",
       "\n",
       "                                                review_text  \\\n",
       "0         The King, the Mice and the Cheese by Nancy Gur...   \n",
       "1                                        The kids loved it!   \n",
       "2         My students (3 & 4 year olds) loved this book!...   \n",
       "3                                                   LOVE IT   \n",
       "4                                                    Great!   \n",
       "...                                                     ...   \n",
       "21935279  This past year fans of \"Charlie's Angels\" were...   \n",
       "21935280  For any fan of Charlie's Angels, this book is ...   \n",
       "21935281  To review this book I will divide it into two ...   \n",
       "21935282  Great pictures, good recommendations but not t...   \n",
       "21935283                          Superb book. Very useful.   \n",
       "\n",
       "                                                    summary  \n",
       "0                 A story children will love and learn from  \n",
       "1                                                Five Stars  \n",
       "2                                                Five Stars  \n",
       "3                                                Five Stars  \n",
       "4                                                Five Stars  \n",
       "...                                                     ...  \n",
       "21935279  \"NOW THIS IS THE COMPANION TO THE \"CHARLIE'S A...  \n",
       "21935280                                 An Excellent Case!  \n",
       "21935281               Great Stories But A Little One-Sided  \n",
       "21935282  Don't buy if your looking for details and sett...  \n",
       "21935283                                       Superb book.  \n",
       "\n",
       "[21935284 rows x 7 columns]"
      ]
     },
     "execution_count": 8,
     "metadata": {},
     "output_type": "execute_result"
    }
   ],
   "source": [
    "review"
   ]
  },
  {
   "cell_type": "markdown",
   "id": "647c4d05-007e-4584-b2a4-98565a8f737e",
   "metadata": {},
   "source": [
    "## LTV"
   ]
  },
  {
   "cell_type": "code",
   "execution_count": 9,
   "id": "7541c166-af62-4915-9815-54af96dc7006",
   "metadata": {
    "execution": {
     "iopub.execute_input": "2023-11-25T01:27:24.548995Z",
     "iopub.status.busy": "2023-11-25T01:27:24.548576Z",
     "iopub.status.idle": "2023-11-25T01:27:24.565582Z",
     "shell.execute_reply": "2023-11-25T01:27:24.564861Z",
     "shell.execute_reply.started": "2023-11-25T01:27:24.548958Z"
    }
   },
   "outputs": [
    {
     "data": {
      "text/plain": [
       "Timedelta('730 days 00:00:00')"
      ]
     },
     "execution_count": 9,
     "metadata": {},
     "output_type": "execute_result"
    }
   ],
   "source": [
    "window_size = ds.tasks[\"ltv\"].window_sizes[0]\n",
    "window_size"
   ]
  },
  {
   "cell_type": "markdown",
   "id": "e029889c-e6b0-4cc0-ad87-680bb39c897c",
   "metadata": {
    "execution": {
     "iopub.execute_input": "2023-11-15T05:58:40.530507Z",
     "iopub.status.busy": "2023-11-15T05:58:40.530055Z",
     "iopub.status.idle": "2023-11-15T05:58:40.557811Z",
     "shell.execute_reply": "2023-11-15T05:58:40.557146Z",
     "shell.execute_reply.started": "2023-11-15T05:58:40.530470Z"
    }
   },
   "source": [
    "### train table"
   ]
  },
  {
   "cell_type": "code",
   "execution_count": 10,
   "id": "709463e5-6c36-40d9-8f6e-e50e983ecd7e",
   "metadata": {
    "execution": {
     "iopub.execute_input": "2023-11-25T01:27:25.966577Z",
     "iopub.status.busy": "2023-11-25T01:27:25.966155Z",
     "iopub.status.idle": "2023-11-25T01:27:25.986492Z",
     "shell.execute_reply": "2023-11-25T01:27:25.985591Z",
     "shell.execute_reply.started": "2023-11-25T01:27:25.966542Z"
    }
   },
   "outputs": [
    {
     "data": {
      "text/html": [
       "<div>\n",
       "<style scoped>\n",
       "    .dataframe tbody tr th:only-of-type {\n",
       "        vertical-align: middle;\n",
       "    }\n",
       "\n",
       "    .dataframe tbody tr th {\n",
       "        vertical-align: top;\n",
       "    }\n",
       "\n",
       "    .dataframe thead th {\n",
       "        text-align: right;\n",
       "    }\n",
       "</style>\n",
       "<table border=\"1\" class=\"dataframe\">\n",
       "  <thead>\n",
       "    <tr style=\"text-align: right;\">\n",
       "      <th></th>\n",
       "      <th>window_min_time</th>\n",
       "      <th>window_max_time</th>\n",
       "    </tr>\n",
       "  </thead>\n",
       "  <tbody>\n",
       "    <tr>\n",
       "      <th>0</th>\n",
       "      <td>2011-01-02</td>\n",
       "      <td>2013-01-01</td>\n",
       "    </tr>\n",
       "    <tr>\n",
       "      <th>1</th>\n",
       "      <td>2009-01-02</td>\n",
       "      <td>2011-01-02</td>\n",
       "    </tr>\n",
       "    <tr>\n",
       "      <th>2</th>\n",
       "      <td>2007-01-03</td>\n",
       "      <td>2009-01-02</td>\n",
       "    </tr>\n",
       "    <tr>\n",
       "      <th>3</th>\n",
       "      <td>2005-01-03</td>\n",
       "      <td>2007-01-03</td>\n",
       "    </tr>\n",
       "    <tr>\n",
       "      <th>4</th>\n",
       "      <td>2003-01-04</td>\n",
       "      <td>2005-01-03</td>\n",
       "    </tr>\n",
       "    <tr>\n",
       "      <th>5</th>\n",
       "      <td>2001-01-04</td>\n",
       "      <td>2003-01-04</td>\n",
       "    </tr>\n",
       "    <tr>\n",
       "      <th>6</th>\n",
       "      <td>1999-01-05</td>\n",
       "      <td>2001-01-04</td>\n",
       "    </tr>\n",
       "  </tbody>\n",
       "</table>\n",
       "</div>"
      ],
      "text/plain": [
       "  window_min_time window_max_time\n",
       "0      2011-01-02      2013-01-01\n",
       "1      2009-01-02      2011-01-02\n",
       "2      2007-01-03      2009-01-02\n",
       "3      2005-01-03      2007-01-03\n",
       "4      2003-01-04      2005-01-03\n",
       "5      2001-01-04      2003-01-04\n",
       "6      1999-01-05      2001-01-04"
      ]
     },
     "execution_count": 10,
     "metadata": {},
     "output_type": "execute_result"
    }
   ],
   "source": [
    "# default time window sampler used inside make_train_table\n",
    "time_window_df = rolling_window_sampler(\n",
    "    ds.min_time, ds.train_max_time, window_size, window_size\n",
    ")\n",
    "time_window_df"
   ]
  },
  {
   "cell_type": "code",
   "execution_count": 11,
   "id": "c3a070ed-9423-4ce7-99c0-2699f78c9f58",
   "metadata": {
    "execution": {
     "iopub.execute_input": "2023-11-25T01:27:26.800492Z",
     "iopub.status.busy": "2023-11-25T01:27:26.800064Z",
     "iopub.status.idle": "2023-11-25T01:27:35.038415Z",
     "shell.execute_reply": "2023-11-25T01:27:35.037843Z",
     "shell.execute_reply.started": "2023-11-25T01:27:26.800455Z"
    }
   },
   "outputs": [],
   "source": [
    "train_table = ds.make_train_table(\"ltv\", window_size)"
   ]
  },
  {
   "cell_type": "code",
   "execution_count": 12,
   "id": "1023c4d7-48c7-414d-bfcc-4cb601ce6e00",
   "metadata": {
    "execution": {
     "iopub.execute_input": "2023-11-25T01:27:37.941253Z",
     "iopub.status.busy": "2023-11-25T01:27:37.940767Z",
     "iopub.status.idle": "2023-11-25T01:27:37.963866Z",
     "shell.execute_reply": "2023-11-25T01:27:37.962960Z",
     "shell.execute_reply.started": "2023-11-25T01:27:37.941211Z"
    }
   },
   "outputs": [
    {
     "data": {
      "text/html": [
       "<div>\n",
       "<style scoped>\n",
       "    .dataframe tbody tr th:only-of-type {\n",
       "        vertical-align: middle;\n",
       "    }\n",
       "\n",
       "    .dataframe tbody tr th {\n",
       "        vertical-align: top;\n",
       "    }\n",
       "\n",
       "    .dataframe thead th {\n",
       "        text-align: right;\n",
       "    }\n",
       "</style>\n",
       "<table border=\"1\" class=\"dataframe\">\n",
       "  <thead>\n",
       "    <tr style=\"text-align: right;\">\n",
       "      <th></th>\n",
       "      <th>window_min_time</th>\n",
       "      <th>window_max_time</th>\n",
       "      <th>customer_id</th>\n",
       "      <th>ltv</th>\n",
       "      <th>count_</th>\n",
       "    </tr>\n",
       "  </thead>\n",
       "  <tbody>\n",
       "    <tr>\n",
       "      <th>0</th>\n",
       "      <td>2011-01-02</td>\n",
       "      <td>2013-01-01</td>\n",
       "      <td>1843206</td>\n",
       "      <td>30.95</td>\n",
       "      <td>2</td>\n",
       "    </tr>\n",
       "    <tr>\n",
       "      <th>1</th>\n",
       "      <td>2011-01-02</td>\n",
       "      <td>2013-01-01</td>\n",
       "      <td>1843212</td>\n",
       "      <td>0.00</td>\n",
       "      <td>0</td>\n",
       "    </tr>\n",
       "    <tr>\n",
       "      <th>2</th>\n",
       "      <td>2011-01-02</td>\n",
       "      <td>2013-01-01</td>\n",
       "      <td>1843346</td>\n",
       "      <td>28.48</td>\n",
       "      <td>1</td>\n",
       "    </tr>\n",
       "    <tr>\n",
       "      <th>3</th>\n",
       "      <td>2011-01-02</td>\n",
       "      <td>2013-01-01</td>\n",
       "      <td>1843357</td>\n",
       "      <td>0.00</td>\n",
       "      <td>0</td>\n",
       "    </tr>\n",
       "    <tr>\n",
       "      <th>4</th>\n",
       "      <td>2011-01-02</td>\n",
       "      <td>2013-01-01</td>\n",
       "      <td>1843368</td>\n",
       "      <td>0.00</td>\n",
       "      <td>0</td>\n",
       "    </tr>\n",
       "    <tr>\n",
       "      <th>...</th>\n",
       "      <td>...</td>\n",
       "      <td>...</td>\n",
       "      <td>...</td>\n",
       "      <td>...</td>\n",
       "      <td>...</td>\n",
       "    </tr>\n",
       "    <tr>\n",
       "      <th>573737</th>\n",
       "      <td>1999-01-05</td>\n",
       "      <td>2001-01-04</td>\n",
       "      <td>1227678</td>\n",
       "      <td>0.00</td>\n",
       "      <td>0</td>\n",
       "    </tr>\n",
       "    <tr>\n",
       "      <th>573738</th>\n",
       "      <td>2011-01-02</td>\n",
       "      <td>2013-01-01</td>\n",
       "      <td>1227883</td>\n",
       "      <td>0.00</td>\n",
       "      <td>0</td>\n",
       "    </tr>\n",
       "    <tr>\n",
       "      <th>573739</th>\n",
       "      <td>2011-01-02</td>\n",
       "      <td>2013-01-01</td>\n",
       "      <td>1228351</td>\n",
       "      <td>0.00</td>\n",
       "      <td>0</td>\n",
       "    </tr>\n",
       "    <tr>\n",
       "      <th>573740</th>\n",
       "      <td>2009-01-02</td>\n",
       "      <td>2011-01-02</td>\n",
       "      <td>1228209</td>\n",
       "      <td>37.59</td>\n",
       "      <td>2</td>\n",
       "    </tr>\n",
       "    <tr>\n",
       "      <th>573741</th>\n",
       "      <td>2003-01-04</td>\n",
       "      <td>2005-01-03</td>\n",
       "      <td>1228295</td>\n",
       "      <td>12.80</td>\n",
       "      <td>1</td>\n",
       "    </tr>\n",
       "  </tbody>\n",
       "</table>\n",
       "<p>573742 rows × 5 columns</p>\n",
       "</div>"
      ],
      "text/plain": [
       "       window_min_time window_max_time  customer_id    ltv  count_\n",
       "0           2011-01-02      2013-01-01      1843206  30.95       2\n",
       "1           2011-01-02      2013-01-01      1843212   0.00       0\n",
       "2           2011-01-02      2013-01-01      1843346  28.48       1\n",
       "3           2011-01-02      2013-01-01      1843357   0.00       0\n",
       "4           2011-01-02      2013-01-01      1843368   0.00       0\n",
       "...                ...             ...          ...    ...     ...\n",
       "573737      1999-01-05      2001-01-04      1227678   0.00       0\n",
       "573738      2011-01-02      2013-01-01      1227883   0.00       0\n",
       "573739      2011-01-02      2013-01-01      1228351   0.00       0\n",
       "573740      2009-01-02      2011-01-02      1228209  37.59       2\n",
       "573741      2003-01-04      2005-01-03      1228295  12.80       1\n",
       "\n",
       "[573742 rows x 5 columns]"
      ]
     },
     "execution_count": 12,
     "metadata": {},
     "output_type": "execute_result"
    }
   ],
   "source": [
    "# here count is the number of products which contributed to the sum aggregation in ltv\n",
    "train_table.df"
   ]
  },
  {
   "cell_type": "code",
   "execution_count": 13,
   "id": "22e4c326-03ea-4542-b3ae-e8e4c6d1e5e3",
   "metadata": {
    "execution": {
     "iopub.execute_input": "2023-11-25T01:27:39.269109Z",
     "iopub.status.busy": "2023-11-25T01:27:39.268228Z",
     "iopub.status.idle": "2023-11-25T01:27:39.293660Z",
     "shell.execute_reply": "2023-11-25T01:27:39.292588Z",
     "shell.execute_reply.started": "2023-11-25T01:27:39.269054Z"
    }
   },
   "outputs": [
    {
     "data": {
      "text/plain": [
       "count_\n",
       "0       0.517581\n",
       "1       0.186038\n",
       "2       0.096230\n",
       "3       0.054913\n",
       "4       0.033184\n",
       "          ...   \n",
       "996     0.000002\n",
       "1088    0.000002\n",
       "1114    0.000002\n",
       "1130    0.000002\n",
       "1541    0.000002\n",
       "Name: proportion, Length: 377, dtype: float64"
      ]
     },
     "execution_count": 13,
     "metadata": {},
     "output_type": "execute_result"
    }
   ],
   "source": [
    "# frequency of counts\n",
    "train_table.df[\"count_\"].value_counts(normalize=True).sort_index()"
   ]
  },
  {
   "cell_type": "markdown",
   "id": "b446dd02-4114-4410-bccc-0e02305ac0d0",
   "metadata": {},
   "source": [
    "## val table"
   ]
  },
  {
   "cell_type": "code",
   "execution_count": 14,
   "id": "7959cdc8-c2ed-4d99-9c80-6ed9fb1653bd",
   "metadata": {
    "execution": {
     "iopub.execute_input": "2023-11-25T01:27:43.401835Z",
     "iopub.status.busy": "2023-11-25T01:27:43.401383Z",
     "iopub.status.idle": "2023-11-25T01:27:43.423727Z",
     "shell.execute_reply": "2023-11-25T01:27:43.422810Z",
     "shell.execute_reply.started": "2023-11-25T01:27:43.401797Z"
    }
   },
   "outputs": [
    {
     "data": {
      "text/html": [
       "<div>\n",
       "<style scoped>\n",
       "    .dataframe tbody tr th:only-of-type {\n",
       "        vertical-align: middle;\n",
       "    }\n",
       "\n",
       "    .dataframe tbody tr th {\n",
       "        vertical-align: top;\n",
       "    }\n",
       "\n",
       "    .dataframe thead th {\n",
       "        text-align: right;\n",
       "    }\n",
       "</style>\n",
       "<table border=\"1\" class=\"dataframe\">\n",
       "  <thead>\n",
       "    <tr style=\"text-align: right;\">\n",
       "      <th></th>\n",
       "      <th>window_min_time</th>\n",
       "      <th>window_max_time</th>\n",
       "    </tr>\n",
       "  </thead>\n",
       "  <tbody>\n",
       "    <tr>\n",
       "      <th>0</th>\n",
       "      <td>2015-01-01</td>\n",
       "      <td>2016-12-31</td>\n",
       "    </tr>\n",
       "  </tbody>\n",
       "</table>\n",
       "</div>"
      ],
      "text/plain": [
       "  window_min_time window_max_time\n",
       "0      2015-01-01      2016-12-31"
      ]
     },
     "execution_count": 14,
     "metadata": {},
     "output_type": "execute_result"
    }
   ],
   "source": [
    "# time sampler used inside make_val_table\n",
    "time_window_df = one_window_sampler(ds.val_max_time, window_size)\n",
    "time_window_df"
   ]
  },
  {
   "cell_type": "code",
   "execution_count": 15,
   "id": "64f96a10-a2e6-47a2-a35b-c724c9c22725",
   "metadata": {
    "execution": {
     "iopub.execute_input": "2023-11-25T01:27:44.574693Z",
     "iopub.status.busy": "2023-11-25T01:27:44.574456Z",
     "iopub.status.idle": "2023-11-25T01:27:47.389963Z",
     "shell.execute_reply": "2023-11-25T01:27:47.389360Z",
     "shell.execute_reply.started": "2023-11-25T01:27:44.574677Z"
    }
   },
   "outputs": [],
   "source": [
    "val_table = ds.make_val_table(\"ltv\", window_size)"
   ]
  },
  {
   "cell_type": "code",
   "execution_count": 16,
   "id": "650f3400-7327-4a56-bb28-710f049783cf",
   "metadata": {
    "execution": {
     "iopub.execute_input": "2023-11-25T01:27:47.391025Z",
     "iopub.status.busy": "2023-11-25T01:27:47.390811Z",
     "iopub.status.idle": "2023-11-25T01:27:47.410535Z",
     "shell.execute_reply": "2023-11-25T01:27:47.409680Z",
     "shell.execute_reply.started": "2023-11-25T01:27:47.391008Z"
    }
   },
   "outputs": [
    {
     "data": {
      "text/html": [
       "<div>\n",
       "<style scoped>\n",
       "    .dataframe tbody tr th:only-of-type {\n",
       "        vertical-align: middle;\n",
       "    }\n",
       "\n",
       "    .dataframe tbody tr th {\n",
       "        vertical-align: top;\n",
       "    }\n",
       "\n",
       "    .dataframe thead th {\n",
       "        text-align: right;\n",
       "    }\n",
       "</style>\n",
       "<table border=\"1\" class=\"dataframe\">\n",
       "  <thead>\n",
       "    <tr style=\"text-align: right;\">\n",
       "      <th></th>\n",
       "      <th>window_min_time</th>\n",
       "      <th>window_max_time</th>\n",
       "      <th>customer_id</th>\n",
       "      <th>ltv</th>\n",
       "      <th>count_</th>\n",
       "    </tr>\n",
       "  </thead>\n",
       "  <tbody>\n",
       "    <tr>\n",
       "      <th>0</th>\n",
       "      <td>2013-01-01</td>\n",
       "      <td>2015-01-01</td>\n",
       "      <td>307203</td>\n",
       "      <td>37.96</td>\n",
       "      <td>2</td>\n",
       "    </tr>\n",
       "    <tr>\n",
       "      <th>1</th>\n",
       "      <td>2013-01-01</td>\n",
       "      <td>2015-01-01</td>\n",
       "      <td>307206</td>\n",
       "      <td>0.00</td>\n",
       "      <td>0</td>\n",
       "    </tr>\n",
       "    <tr>\n",
       "      <th>2</th>\n",
       "      <td>2013-01-01</td>\n",
       "      <td>2015-01-01</td>\n",
       "      <td>307209</td>\n",
       "      <td>1311.63</td>\n",
       "      <td>104</td>\n",
       "    </tr>\n",
       "    <tr>\n",
       "      <th>3</th>\n",
       "      <td>2013-01-01</td>\n",
       "      <td>2015-01-01</td>\n",
       "      <td>307219</td>\n",
       "      <td>64.76</td>\n",
       "      <td>3</td>\n",
       "    </tr>\n",
       "    <tr>\n",
       "      <th>4</th>\n",
       "      <td>2013-01-01</td>\n",
       "      <td>2015-01-01</td>\n",
       "      <td>307220</td>\n",
       "      <td>0.00</td>\n",
       "      <td>0</td>\n",
       "    </tr>\n",
       "    <tr>\n",
       "      <th>...</th>\n",
       "      <td>...</td>\n",
       "      <td>...</td>\n",
       "      <td>...</td>\n",
       "      <td>...</td>\n",
       "      <td>...</td>\n",
       "    </tr>\n",
       "    <tr>\n",
       "      <th>441579</th>\n",
       "      <td>2013-01-01</td>\n",
       "      <td>2015-01-01</td>\n",
       "      <td>1839020</td>\n",
       "      <td>0.00</td>\n",
       "      <td>0</td>\n",
       "    </tr>\n",
       "    <tr>\n",
       "      <th>441580</th>\n",
       "      <td>2013-01-01</td>\n",
       "      <td>2015-01-01</td>\n",
       "      <td>1837576</td>\n",
       "      <td>0.00</td>\n",
       "      <td>0</td>\n",
       "    </tr>\n",
       "    <tr>\n",
       "      <th>441581</th>\n",
       "      <td>2013-01-01</td>\n",
       "      <td>2015-01-01</td>\n",
       "      <td>1837770</td>\n",
       "      <td>0.00</td>\n",
       "      <td>0</td>\n",
       "    </tr>\n",
       "    <tr>\n",
       "      <th>441582</th>\n",
       "      <td>2013-01-01</td>\n",
       "      <td>2015-01-01</td>\n",
       "      <td>1837854</td>\n",
       "      <td>0.00</td>\n",
       "      <td>0</td>\n",
       "    </tr>\n",
       "    <tr>\n",
       "      <th>441583</th>\n",
       "      <td>2013-01-01</td>\n",
       "      <td>2015-01-01</td>\n",
       "      <td>1837905</td>\n",
       "      <td>0.00</td>\n",
       "      <td>0</td>\n",
       "    </tr>\n",
       "  </tbody>\n",
       "</table>\n",
       "<p>441584 rows × 5 columns</p>\n",
       "</div>"
      ],
      "text/plain": [
       "       window_min_time window_max_time  customer_id      ltv  count_\n",
       "0           2013-01-01      2015-01-01       307203    37.96       2\n",
       "1           2013-01-01      2015-01-01       307206     0.00       0\n",
       "2           2013-01-01      2015-01-01       307209  1311.63     104\n",
       "3           2013-01-01      2015-01-01       307219    64.76       3\n",
       "4           2013-01-01      2015-01-01       307220     0.00       0\n",
       "...                ...             ...          ...      ...     ...\n",
       "441579      2013-01-01      2015-01-01      1839020     0.00       0\n",
       "441580      2013-01-01      2015-01-01      1837576     0.00       0\n",
       "441581      2013-01-01      2015-01-01      1837770     0.00       0\n",
       "441582      2013-01-01      2015-01-01      1837854     0.00       0\n",
       "441583      2013-01-01      2015-01-01      1837905     0.00       0\n",
       "\n",
       "[441584 rows x 5 columns]"
      ]
     },
     "execution_count": 16,
     "metadata": {},
     "output_type": "execute_result"
    }
   ],
   "source": [
    "val_table.df"
   ]
  },
  {
   "cell_type": "code",
   "execution_count": 17,
   "id": "623906f8-2ef5-460e-9a1c-9b3155dd4a60",
   "metadata": {
    "execution": {
     "iopub.execute_input": "2023-11-25T01:27:48.067225Z",
     "iopub.status.busy": "2023-11-25T01:27:48.066884Z",
     "iopub.status.idle": "2023-11-25T01:27:48.085014Z",
     "shell.execute_reply": "2023-11-25T01:27:48.084148Z",
     "shell.execute_reply.started": "2023-11-25T01:27:48.067198Z"
    }
   },
   "outputs": [
    {
     "data": {
      "text/plain": [
       "count_\n",
       "0       0.234166\n",
       "1       0.165880\n",
       "2       0.134926\n",
       "3       0.104857\n",
       "4       0.076488\n",
       "          ...   \n",
       "1055    0.000002\n",
       "1171    0.000002\n",
       "1400    0.000002\n",
       "1778    0.000002\n",
       "2038    0.000002\n",
       "Name: proportion, Length: 403, dtype: float64"
      ]
     },
     "execution_count": 17,
     "metadata": {},
     "output_type": "execute_result"
    }
   ],
   "source": [
    "val_table.df[\"count_\"].value_counts(normalize=True).sort_index()"
   ]
  },
  {
   "cell_type": "markdown",
   "id": "dcfd6722-53b3-4a71-a0c4-18a3de928449",
   "metadata": {},
   "source": [
    "## Churn"
   ]
  },
  {
   "cell_type": "code",
   "execution_count": 18,
   "id": "020f21e4-c076-4c84-971f-658a7b9578a8",
   "metadata": {
    "execution": {
     "iopub.execute_input": "2023-11-25T01:27:49.752937Z",
     "iopub.status.busy": "2023-11-25T01:27:49.752517Z",
     "iopub.status.idle": "2023-11-25T01:27:49.767683Z",
     "shell.execute_reply": "2023-11-25T01:27:49.766851Z",
     "shell.execute_reply.started": "2023-11-25T01:27:49.752901Z"
    }
   },
   "outputs": [
    {
     "data": {
      "text/plain": [
       "Timedelta('730 days 00:00:00')"
      ]
     },
     "execution_count": 18,
     "metadata": {},
     "output_type": "execute_result"
    }
   ],
   "source": [
    "window_size = ds.tasks[\"churn\"].window_sizes[0]\n",
    "window_size"
   ]
  },
  {
   "cell_type": "markdown",
   "id": "04dc5000-3bc7-4ee4-b3bb-514bfb7f5d8f",
   "metadata": {
    "execution": {
     "iopub.execute_input": "2023-11-15T05:58:40.530507Z",
     "iopub.status.busy": "2023-11-15T05:58:40.530055Z",
     "iopub.status.idle": "2023-11-15T05:58:40.557811Z",
     "shell.execute_reply": "2023-11-15T05:58:40.557146Z",
     "shell.execute_reply.started": "2023-11-15T05:58:40.530470Z"
    }
   },
   "source": [
    "### train table"
   ]
  },
  {
   "cell_type": "code",
   "execution_count": 19,
   "id": "ca0b1659-272e-46ac-99c2-b59cea702d60",
   "metadata": {
    "execution": {
     "iopub.execute_input": "2023-11-25T01:27:50.720180Z",
     "iopub.status.busy": "2023-11-25T01:27:50.719377Z",
     "iopub.status.idle": "2023-11-25T01:27:50.733745Z",
     "shell.execute_reply": "2023-11-25T01:27:50.732971Z",
     "shell.execute_reply.started": "2023-11-25T01:27:50.720156Z"
    }
   },
   "outputs": [
    {
     "data": {
      "text/html": [
       "<div>\n",
       "<style scoped>\n",
       "    .dataframe tbody tr th:only-of-type {\n",
       "        vertical-align: middle;\n",
       "    }\n",
       "\n",
       "    .dataframe tbody tr th {\n",
       "        vertical-align: top;\n",
       "    }\n",
       "\n",
       "    .dataframe thead th {\n",
       "        text-align: right;\n",
       "    }\n",
       "</style>\n",
       "<table border=\"1\" class=\"dataframe\">\n",
       "  <thead>\n",
       "    <tr style=\"text-align: right;\">\n",
       "      <th></th>\n",
       "      <th>window_min_time</th>\n",
       "      <th>window_max_time</th>\n",
       "    </tr>\n",
       "  </thead>\n",
       "  <tbody>\n",
       "    <tr>\n",
       "      <th>0</th>\n",
       "      <td>2011-01-02</td>\n",
       "      <td>2013-01-01</td>\n",
       "    </tr>\n",
       "    <tr>\n",
       "      <th>1</th>\n",
       "      <td>2009-01-02</td>\n",
       "      <td>2011-01-02</td>\n",
       "    </tr>\n",
       "    <tr>\n",
       "      <th>2</th>\n",
       "      <td>2007-01-03</td>\n",
       "      <td>2009-01-02</td>\n",
       "    </tr>\n",
       "    <tr>\n",
       "      <th>3</th>\n",
       "      <td>2005-01-03</td>\n",
       "      <td>2007-01-03</td>\n",
       "    </tr>\n",
       "    <tr>\n",
       "      <th>4</th>\n",
       "      <td>2003-01-04</td>\n",
       "      <td>2005-01-03</td>\n",
       "    </tr>\n",
       "    <tr>\n",
       "      <th>5</th>\n",
       "      <td>2001-01-04</td>\n",
       "      <td>2003-01-04</td>\n",
       "    </tr>\n",
       "    <tr>\n",
       "      <th>6</th>\n",
       "      <td>1999-01-05</td>\n",
       "      <td>2001-01-04</td>\n",
       "    </tr>\n",
       "  </tbody>\n",
       "</table>\n",
       "</div>"
      ],
      "text/plain": [
       "  window_min_time window_max_time\n",
       "0      2011-01-02      2013-01-01\n",
       "1      2009-01-02      2011-01-02\n",
       "2      2007-01-03      2009-01-02\n",
       "3      2005-01-03      2007-01-03\n",
       "4      2003-01-04      2005-01-03\n",
       "5      2001-01-04      2003-01-04\n",
       "6      1999-01-05      2001-01-04"
      ]
     },
     "execution_count": 19,
     "metadata": {},
     "output_type": "execute_result"
    }
   ],
   "source": [
    "# default time window sampler used inside make_train_table\n",
    "time_window_df = rolling_window_sampler(\n",
    "    ds.min_time, ds.train_max_time, window_size, window_size\n",
    ")\n",
    "time_window_df"
   ]
  },
  {
   "cell_type": "code",
   "execution_count": 20,
   "id": "6c5890ba-4b67-4f30-a936-a017a9cc040e",
   "metadata": {
    "execution": {
     "iopub.execute_input": "2023-11-25T01:27:51.286907Z",
     "iopub.status.busy": "2023-11-25T01:27:51.286660Z",
     "iopub.status.idle": "2023-11-25T01:27:53.854045Z",
     "shell.execute_reply": "2023-11-25T01:27:53.853202Z",
     "shell.execute_reply.started": "2023-11-25T01:27:51.286889Z"
    }
   },
   "outputs": [],
   "source": [
    "train_table = ds.make_train_table(\"churn\", window_size)"
   ]
  },
  {
   "cell_type": "code",
   "execution_count": 21,
   "id": "10e23102-707b-449a-b6db-5f32847089ab",
   "metadata": {
    "execution": {
     "iopub.execute_input": "2023-11-25T01:27:53.855164Z",
     "iopub.status.busy": "2023-11-25T01:27:53.855022Z",
     "iopub.status.idle": "2023-11-25T01:27:53.874099Z",
     "shell.execute_reply": "2023-11-25T01:27:53.873241Z",
     "shell.execute_reply.started": "2023-11-25T01:27:53.855147Z"
    }
   },
   "outputs": [
    {
     "data": {
      "text/html": [
       "<div>\n",
       "<style scoped>\n",
       "    .dataframe tbody tr th:only-of-type {\n",
       "        vertical-align: middle;\n",
       "    }\n",
       "\n",
       "    .dataframe tbody tr th {\n",
       "        vertical-align: top;\n",
       "    }\n",
       "\n",
       "    .dataframe thead th {\n",
       "        text-align: right;\n",
       "    }\n",
       "</style>\n",
       "<table border=\"1\" class=\"dataframe\">\n",
       "  <thead>\n",
       "    <tr style=\"text-align: right;\">\n",
       "      <th></th>\n",
       "      <th>window_min_time</th>\n",
       "      <th>window_max_time</th>\n",
       "      <th>customer_id</th>\n",
       "      <th>churn</th>\n",
       "    </tr>\n",
       "  </thead>\n",
       "  <tbody>\n",
       "    <tr>\n",
       "      <th>0</th>\n",
       "      <td>2011-01-02</td>\n",
       "      <td>2013-01-01</td>\n",
       "      <td>1843206</td>\n",
       "      <td>0</td>\n",
       "    </tr>\n",
       "    <tr>\n",
       "      <th>1</th>\n",
       "      <td>2011-01-02</td>\n",
       "      <td>2013-01-01</td>\n",
       "      <td>1843212</td>\n",
       "      <td>1</td>\n",
       "    </tr>\n",
       "    <tr>\n",
       "      <th>2</th>\n",
       "      <td>2011-01-02</td>\n",
       "      <td>2013-01-01</td>\n",
       "      <td>1843341</td>\n",
       "      <td>1</td>\n",
       "    </tr>\n",
       "    <tr>\n",
       "      <th>3</th>\n",
       "      <td>2011-01-02</td>\n",
       "      <td>2013-01-01</td>\n",
       "      <td>1843344</td>\n",
       "      <td>1</td>\n",
       "    </tr>\n",
       "    <tr>\n",
       "      <th>4</th>\n",
       "      <td>2011-01-02</td>\n",
       "      <td>2013-01-01</td>\n",
       "      <td>1843346</td>\n",
       "      <td>0</td>\n",
       "    </tr>\n",
       "    <tr>\n",
       "      <th>...</th>\n",
       "      <td>...</td>\n",
       "      <td>...</td>\n",
       "      <td>...</td>\n",
       "      <td>...</td>\n",
       "    </tr>\n",
       "    <tr>\n",
       "      <th>573737</th>\n",
       "      <td>2001-01-04</td>\n",
       "      <td>2003-01-04</td>\n",
       "      <td>1330343</td>\n",
       "      <td>1</td>\n",
       "    </tr>\n",
       "    <tr>\n",
       "      <th>573738</th>\n",
       "      <td>2001-01-04</td>\n",
       "      <td>2003-01-04</td>\n",
       "      <td>1330450</td>\n",
       "      <td>1</td>\n",
       "    </tr>\n",
       "    <tr>\n",
       "      <th>573739</th>\n",
       "      <td>2001-01-04</td>\n",
       "      <td>2003-01-04</td>\n",
       "      <td>1330457</td>\n",
       "      <td>1</td>\n",
       "    </tr>\n",
       "    <tr>\n",
       "      <th>573740</th>\n",
       "      <td>2001-01-04</td>\n",
       "      <td>2003-01-04</td>\n",
       "      <td>1331029</td>\n",
       "      <td>1</td>\n",
       "    </tr>\n",
       "    <tr>\n",
       "      <th>573741</th>\n",
       "      <td>2001-01-04</td>\n",
       "      <td>2003-01-04</td>\n",
       "      <td>1331031</td>\n",
       "      <td>1</td>\n",
       "    </tr>\n",
       "  </tbody>\n",
       "</table>\n",
       "<p>573742 rows × 4 columns</p>\n",
       "</div>"
      ],
      "text/plain": [
       "       window_min_time window_max_time  customer_id  churn\n",
       "0           2011-01-02      2013-01-01      1843206      0\n",
       "1           2011-01-02      2013-01-01      1843212      1\n",
       "2           2011-01-02      2013-01-01      1843341      1\n",
       "3           2011-01-02      2013-01-01      1843344      1\n",
       "4           2011-01-02      2013-01-01      1843346      0\n",
       "...                ...             ...          ...    ...\n",
       "573737      2001-01-04      2003-01-04      1330343      1\n",
       "573738      2001-01-04      2003-01-04      1330450      1\n",
       "573739      2001-01-04      2003-01-04      1330457      1\n",
       "573740      2001-01-04      2003-01-04      1331029      1\n",
       "573741      2001-01-04      2003-01-04      1331031      1\n",
       "\n",
       "[573742 rows x 4 columns]"
      ]
     },
     "execution_count": 21,
     "metadata": {},
     "output_type": "execute_result"
    }
   ],
   "source": [
    "train_table.df"
   ]
  },
  {
   "cell_type": "code",
   "execution_count": 22,
   "id": "3596c7e2-b59c-4030-b31f-a1c25786bce7",
   "metadata": {
    "execution": {
     "iopub.execute_input": "2023-11-25T01:27:53.875113Z",
     "iopub.status.busy": "2023-11-25T01:27:53.874885Z",
     "iopub.status.idle": "2023-11-25T01:27:53.998594Z",
     "shell.execute_reply": "2023-11-25T01:27:53.997551Z",
     "shell.execute_reply.started": "2023-11-25T01:27:53.875098Z"
    }
   },
   "outputs": [
    {
     "data": {
      "text/plain": [
       "churn\n",
       "1    0.517581\n",
       "0    0.482419\n",
       "Name: proportion, dtype: float64"
      ]
     },
     "execution_count": 22,
     "metadata": {},
     "output_type": "execute_result"
    }
   ],
   "source": [
    "# frequency of churn\n",
    "train_table.df[\"churn\"].value_counts(normalize=True)"
   ]
  },
  {
   "cell_type": "markdown",
   "id": "65f15e81-da66-4f33-9656-eb15cc7814f3",
   "metadata": {},
   "source": [
    "## val table"
   ]
  },
  {
   "cell_type": "code",
   "execution_count": 23,
   "id": "5d950571-948e-403d-b9e6-4056361db274",
   "metadata": {
    "execution": {
     "iopub.execute_input": "2023-11-25T01:27:54.000646Z",
     "iopub.status.busy": "2023-11-25T01:27:54.000413Z",
     "iopub.status.idle": "2023-11-25T01:27:54.046135Z",
     "shell.execute_reply": "2023-11-25T01:27:54.045369Z",
     "shell.execute_reply.started": "2023-11-25T01:27:54.000619Z"
    }
   },
   "outputs": [
    {
     "data": {
      "text/html": [
       "<div>\n",
       "<style scoped>\n",
       "    .dataframe tbody tr th:only-of-type {\n",
       "        vertical-align: middle;\n",
       "    }\n",
       "\n",
       "    .dataframe tbody tr th {\n",
       "        vertical-align: top;\n",
       "    }\n",
       "\n",
       "    .dataframe thead th {\n",
       "        text-align: right;\n",
       "    }\n",
       "</style>\n",
       "<table border=\"1\" class=\"dataframe\">\n",
       "  <thead>\n",
       "    <tr style=\"text-align: right;\">\n",
       "      <th></th>\n",
       "      <th>window_min_time</th>\n",
       "      <th>window_max_time</th>\n",
       "    </tr>\n",
       "  </thead>\n",
       "  <tbody>\n",
       "    <tr>\n",
       "      <th>0</th>\n",
       "      <td>2013-01-01</td>\n",
       "      <td>2015-01-01</td>\n",
       "    </tr>\n",
       "  </tbody>\n",
       "</table>\n",
       "</div>"
      ],
      "text/plain": [
       "  window_min_time window_max_time\n",
       "0      2013-01-01      2015-01-01"
      ]
     },
     "execution_count": 23,
     "metadata": {},
     "output_type": "execute_result"
    }
   ],
   "source": [
    "# time sampler used inside make_val_table\n",
    "time_window_df = one_window_sampler(ds.train_max_time, window_size)\n",
    "time_window_df"
   ]
  },
  {
   "cell_type": "code",
   "execution_count": 24,
   "id": "33a31916-60da-49be-b4b7-4f4a47d31b52",
   "metadata": {
    "execution": {
     "iopub.execute_input": "2023-11-25T01:27:54.047078Z",
     "iopub.status.busy": "2023-11-25T01:27:54.046846Z",
     "iopub.status.idle": "2023-11-25T01:27:55.716696Z",
     "shell.execute_reply": "2023-11-25T01:27:55.715836Z",
     "shell.execute_reply.started": "2023-11-25T01:27:54.047062Z"
    }
   },
   "outputs": [],
   "source": [
    "val_table = ds.make_val_table(\"churn\", window_size)"
   ]
  },
  {
   "cell_type": "code",
   "execution_count": 25,
   "id": "26b15b3a-78c5-4499-bd75-d938c2d4334e",
   "metadata": {
    "execution": {
     "iopub.execute_input": "2023-11-25T01:27:55.718113Z",
     "iopub.status.busy": "2023-11-25T01:27:55.717885Z",
     "iopub.status.idle": "2023-11-25T01:27:55.736635Z",
     "shell.execute_reply": "2023-11-25T01:27:55.735931Z",
     "shell.execute_reply.started": "2023-11-25T01:27:55.718097Z"
    }
   },
   "outputs": [
    {
     "data": {
      "text/html": [
       "<div>\n",
       "<style scoped>\n",
       "    .dataframe tbody tr th:only-of-type {\n",
       "        vertical-align: middle;\n",
       "    }\n",
       "\n",
       "    .dataframe tbody tr th {\n",
       "        vertical-align: top;\n",
       "    }\n",
       "\n",
       "    .dataframe thead th {\n",
       "        text-align: right;\n",
       "    }\n",
       "</style>\n",
       "<table border=\"1\" class=\"dataframe\">\n",
       "  <thead>\n",
       "    <tr style=\"text-align: right;\">\n",
       "      <th></th>\n",
       "      <th>window_min_time</th>\n",
       "      <th>window_max_time</th>\n",
       "      <th>customer_id</th>\n",
       "      <th>churn</th>\n",
       "    </tr>\n",
       "  </thead>\n",
       "  <tbody>\n",
       "    <tr>\n",
       "      <th>0</th>\n",
       "      <td>2013-01-01</td>\n",
       "      <td>2015-01-01</td>\n",
       "      <td>1843206</td>\n",
       "      <td>0</td>\n",
       "    </tr>\n",
       "    <tr>\n",
       "      <th>1</th>\n",
       "      <td>2013-01-01</td>\n",
       "      <td>2015-01-01</td>\n",
       "      <td>1843211</td>\n",
       "      <td>0</td>\n",
       "    </tr>\n",
       "    <tr>\n",
       "      <th>2</th>\n",
       "      <td>2013-01-01</td>\n",
       "      <td>2015-01-01</td>\n",
       "      <td>1843213</td>\n",
       "      <td>1</td>\n",
       "    </tr>\n",
       "    <tr>\n",
       "      <th>3</th>\n",
       "      <td>2013-01-01</td>\n",
       "      <td>2015-01-01</td>\n",
       "      <td>1843233</td>\n",
       "      <td>1</td>\n",
       "    </tr>\n",
       "    <tr>\n",
       "      <th>4</th>\n",
       "      <td>2013-01-01</td>\n",
       "      <td>2015-01-01</td>\n",
       "      <td>1843235</td>\n",
       "      <td>1</td>\n",
       "    </tr>\n",
       "    <tr>\n",
       "      <th>...</th>\n",
       "      <td>...</td>\n",
       "      <td>...</td>\n",
       "      <td>...</td>\n",
       "      <td>...</td>\n",
       "    </tr>\n",
       "    <tr>\n",
       "      <th>441579</th>\n",
       "      <td>2013-01-01</td>\n",
       "      <td>2015-01-01</td>\n",
       "      <td>1832903</td>\n",
       "      <td>0</td>\n",
       "    </tr>\n",
       "    <tr>\n",
       "      <th>441580</th>\n",
       "      <td>2013-01-01</td>\n",
       "      <td>2015-01-01</td>\n",
       "      <td>1832921</td>\n",
       "      <td>0</td>\n",
       "    </tr>\n",
       "    <tr>\n",
       "      <th>441581</th>\n",
       "      <td>2013-01-01</td>\n",
       "      <td>2015-01-01</td>\n",
       "      <td>1832923</td>\n",
       "      <td>0</td>\n",
       "    </tr>\n",
       "    <tr>\n",
       "      <th>441582</th>\n",
       "      <td>2013-01-01</td>\n",
       "      <td>2015-01-01</td>\n",
       "      <td>1832934</td>\n",
       "      <td>0</td>\n",
       "    </tr>\n",
       "    <tr>\n",
       "      <th>441583</th>\n",
       "      <td>2013-01-01</td>\n",
       "      <td>2015-01-01</td>\n",
       "      <td>1832936</td>\n",
       "      <td>0</td>\n",
       "    </tr>\n",
       "  </tbody>\n",
       "</table>\n",
       "<p>441584 rows × 4 columns</p>\n",
       "</div>"
      ],
      "text/plain": [
       "       window_min_time window_max_time  customer_id  churn\n",
       "0           2013-01-01      2015-01-01      1843206      0\n",
       "1           2013-01-01      2015-01-01      1843211      0\n",
       "2           2013-01-01      2015-01-01      1843213      1\n",
       "3           2013-01-01      2015-01-01      1843233      1\n",
       "4           2013-01-01      2015-01-01      1843235      1\n",
       "...                ...             ...          ...    ...\n",
       "441579      2013-01-01      2015-01-01      1832903      0\n",
       "441580      2013-01-01      2015-01-01      1832921      0\n",
       "441581      2013-01-01      2015-01-01      1832923      0\n",
       "441582      2013-01-01      2015-01-01      1832934      0\n",
       "441583      2013-01-01      2015-01-01      1832936      0\n",
       "\n",
       "[441584 rows x 4 columns]"
      ]
     },
     "execution_count": 25,
     "metadata": {},
     "output_type": "execute_result"
    }
   ],
   "source": [
    "val_table.df"
   ]
  },
  {
   "cell_type": "code",
   "execution_count": 26,
   "id": "488f2ef5-009c-432a-9872-6e629839b429",
   "metadata": {
    "execution": {
     "iopub.execute_input": "2023-11-25T01:27:55.737613Z",
     "iopub.status.busy": "2023-11-25T01:27:55.737384Z",
     "iopub.status.idle": "2023-11-25T01:27:55.799256Z",
     "shell.execute_reply": "2023-11-25T01:27:55.798338Z",
     "shell.execute_reply.started": "2023-11-25T01:27:55.737597Z"
    }
   },
   "outputs": [
    {
     "data": {
      "text/plain": [
       "churn\n",
       "0    76.583391\n",
       "1    23.416609\n",
       "Name: proportion, dtype: float64"
      ]
     },
     "execution_count": 26,
     "metadata": {},
     "output_type": "execute_result"
    }
   ],
   "source": [
    "val_table.df[\"churn\"].value_counts(normalize=True) * 100"
   ]
  },
  {
   "cell_type": "code",
   "execution_count": null,
   "id": "350cef28-206b-46dd-a4db-e0b48bf5ad24",
   "metadata": {},
   "outputs": [],
   "source": []
  }
 ],
 "metadata": {
  "kernelspec": {
   "display_name": "Python [conda env:rtb]",
   "language": "python",
   "name": "conda-env-rtb-py"
  },
  "language_info": {
   "codemirror_mode": {
    "name": "ipython",
    "version": 3
   },
   "file_extension": ".py",
   "mimetype": "text/x-python",
   "name": "python",
   "nbconvert_exporter": "python",
   "pygments_lexer": "ipython3",
   "version": "3.8.18"
  }
 },
 "nbformat": 4,
 "nbformat_minor": 5
}
