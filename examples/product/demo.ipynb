{
 "cells": [
  {
   "cell_type": "code",
   "execution_count": 1,
   "id": "f328220d-6d96-447b-9da6-18ae0069025a",
   "metadata": {
    "execution": {
     "iopub.execute_input": "2023-11-15T05:55:16.696310Z",
     "iopub.status.busy": "2023-11-15T05:55:16.695876Z",
     "iopub.status.idle": "2023-11-15T05:55:16.714139Z",
     "shell.execute_reply": "2023-11-15T05:55:16.713581Z",
     "shell.execute_reply.started": "2023-11-15T05:55:16.696273Z"
    }
   },
   "outputs": [],
   "source": [
    "%load_ext autoreload\n",
    "%autoreload 2"
   ]
  },
  {
   "cell_type": "code",
   "execution_count": 13,
   "id": "6f3dac79-b7aa-46e7-9f60-7728da8bc263",
   "metadata": {
    "execution": {
     "iopub.execute_input": "2023-11-15T05:59:46.717676Z",
     "iopub.status.busy": "2023-11-15T05:59:46.717196Z",
     "iopub.status.idle": "2023-11-15T05:59:46.743244Z",
     "shell.execute_reply": "2023-11-15T05:59:46.742556Z",
     "shell.execute_reply.started": "2023-11-15T05:59:46.717639Z"
    }
   },
   "outputs": [],
   "source": [
    "from rtb.datasets import get_dataset\n",
    "from rtb.utils import rolling_window_sampler, one_window_sampler"
   ]
  },
  {
   "cell_type": "code",
   "execution_count": 4,
   "id": "7c9d1987-1582-4115-92e2-23d4e9da3a98",
   "metadata": {
    "execution": {
     "iopub.execute_input": "2023-11-15T05:57:11.190886Z",
     "iopub.status.busy": "2023-11-15T05:57:11.190086Z",
     "iopub.status.idle": "2023-11-15T05:57:57.368224Z",
     "shell.execute_reply": "2023-11-15T05:57:57.367249Z",
     "shell.execute_reply.started": "2023-11-15T05:57:11.190839Z"
    }
   },
   "outputs": [
    {
     "name": "stdout",
     "output_type": "stream",
     "text": [
      "loading table ../../data/rtb-product/books-5-core/processed/db/customer.parquet...\n",
      "done in 0.57 seconds.\n",
      "loading table ../../data/rtb-product/books-5-core/processed/db/product.parquet...\n",
      "done in 1.78 seconds.\n",
      "loading table ../../data/rtb-product/books-5-core/processed/db/review.parquet...\n",
      "done in 43.70 seconds.\n"
     ]
    }
   ],
   "source": [
    "ds = get_dataset(\n",
    "    name=\"rtb-product\",\n",
    "    root=\"../../data\",\n",
    "    # default is books-5-core\n",
    "    # category=\"fashion\",\n",
    "    # use_5_core=False,\n",
    "    # process=True,\n",
    ")"
   ]
  },
  {
   "cell_type": "code",
   "execution_count": 5,
   "id": "999cf3cc-a470-4413-af3c-1e1e7a32adb4",
   "metadata": {
    "execution": {
     "iopub.execute_input": "2023-11-15T05:58:18.193797Z",
     "iopub.status.busy": "2023-11-15T05:58:18.193317Z",
     "iopub.status.idle": "2023-11-15T05:58:18.226171Z",
     "shell.execute_reply": "2023-11-15T05:58:18.225358Z",
     "shell.execute_reply.started": "2023-11-15T05:58:18.193759Z"
    }
   },
   "outputs": [],
   "source": [
    "db = ds._db"
   ]
  },
  {
   "cell_type": "code",
   "execution_count": 6,
   "id": "1ea16577-ca56-4edb-b459-e506f3c3f6b4",
   "metadata": {
    "execution": {
     "iopub.execute_input": "2023-11-15T05:58:19.420928Z",
     "iopub.status.busy": "2023-11-15T05:58:19.420580Z",
     "iopub.status.idle": "2023-11-15T05:58:19.446817Z",
     "shell.execute_reply": "2023-11-15T05:58:19.446027Z",
     "shell.execute_reply.started": "2023-11-15T05:58:19.420892Z"
    }
   },
   "outputs": [],
   "source": [
    "customer = db.tables[\"customer\"].df\n",
    "product = db.tables[\"product\"].df\n",
    "review = db.tables[\"review\"].df"
   ]
  },
  {
   "cell_type": "code",
   "execution_count": 7,
   "id": "559e16ec-8d0f-4ae0-8721-a254af40509a",
   "metadata": {
    "execution": {
     "iopub.execute_input": "2023-11-15T05:58:19.979592Z",
     "iopub.status.busy": "2023-11-15T05:58:19.979179Z",
     "iopub.status.idle": "2023-11-15T05:58:20.011237Z",
     "shell.execute_reply": "2023-11-15T05:58:20.010475Z",
     "shell.execute_reply.started": "2023-11-15T05:58:19.979556Z"
    }
   },
   "outputs": [
    {
     "data": {
      "text/html": [
       "<div>\n",
       "<style scoped>\n",
       "    .dataframe tbody tr th:only-of-type {\n",
       "        vertical-align: middle;\n",
       "    }\n",
       "\n",
       "    .dataframe tbody tr th {\n",
       "        vertical-align: top;\n",
       "    }\n",
       "\n",
       "    .dataframe thead th {\n",
       "        text-align: right;\n",
       "    }\n",
       "</style>\n",
       "<table border=\"1\" class=\"dataframe\">\n",
       "  <thead>\n",
       "    <tr style=\"text-align: right;\">\n",
       "      <th></th>\n",
       "      <th>customer_id</th>\n",
       "      <th>customer_name</th>\n",
       "    </tr>\n",
       "  </thead>\n",
       "  <tbody>\n",
       "    <tr>\n",
       "      <th>0</th>\n",
       "      <td>0</td>\n",
       "      <td>TW Ervin II</td>\n",
       "    </tr>\n",
       "    <tr>\n",
       "      <th>1</th>\n",
       "      <td>1</td>\n",
       "      <td>Amazon Customer</td>\n",
       "    </tr>\n",
       "    <tr>\n",
       "      <th>2</th>\n",
       "      <td>2</td>\n",
       "      <td>Tekla Borner</td>\n",
       "    </tr>\n",
       "    <tr>\n",
       "      <th>3</th>\n",
       "      <td>3</td>\n",
       "      <td>Deborah K Woroniecki</td>\n",
       "    </tr>\n",
       "    <tr>\n",
       "      <th>4</th>\n",
       "      <td>4</td>\n",
       "      <td>E</td>\n",
       "    </tr>\n",
       "    <tr>\n",
       "      <th>...</th>\n",
       "      <td>...</td>\n",
       "      <td>...</td>\n",
       "    </tr>\n",
       "    <tr>\n",
       "      <th>1850188</th>\n",
       "      <td>1850188</td>\n",
       "      <td>Amazon Customer</td>\n",
       "    </tr>\n",
       "    <tr>\n",
       "      <th>1850189</th>\n",
       "      <td>1850189</td>\n",
       "      <td>AmizoP</td>\n",
       "    </tr>\n",
       "    <tr>\n",
       "      <th>1850190</th>\n",
       "      <td>1850190</td>\n",
       "      <td>JuicyBeans</td>\n",
       "    </tr>\n",
       "    <tr>\n",
       "      <th>1850191</th>\n",
       "      <td>1850191</td>\n",
       "      <td>Halley Cortez</td>\n",
       "    </tr>\n",
       "    <tr>\n",
       "      <th>1850192</th>\n",
       "      <td>1850192</td>\n",
       "      <td>RNqueen</td>\n",
       "    </tr>\n",
       "  </tbody>\n",
       "</table>\n",
       "<p>1850193 rows × 2 columns</p>\n",
       "</div>"
      ],
      "text/plain": [
       "         customer_id         customer_name\n",
       "0                  0           TW Ervin II\n",
       "1                  1       Amazon Customer\n",
       "2                  2          Tekla Borner\n",
       "3                  3  Deborah K Woroniecki\n",
       "4                  4                     E\n",
       "...              ...                   ...\n",
       "1850188      1850188       Amazon Customer\n",
       "1850189      1850189                AmizoP\n",
       "1850190      1850190            JuicyBeans\n",
       "1850191      1850191         Halley Cortez\n",
       "1850192      1850192               RNqueen\n",
       "\n",
       "[1850193 rows x 2 columns]"
      ]
     },
     "execution_count": 7,
     "metadata": {},
     "output_type": "execute_result"
    }
   ],
   "source": [
    "db.tables[\"customer\"].df"
   ]
  },
  {
   "cell_type": "code",
   "execution_count": 8,
   "id": "a5115f80-4c86-4131-8ad4-f32af815041d",
   "metadata": {
    "execution": {
     "iopub.execute_input": "2023-11-15T05:58:20.716893Z",
     "iopub.status.busy": "2023-11-15T05:58:20.716071Z",
     "iopub.status.idle": "2023-11-15T05:58:20.749851Z",
     "shell.execute_reply": "2023-11-15T05:58:20.749097Z",
     "shell.execute_reply.started": "2023-11-15T05:58:20.716853Z"
    }
   },
   "outputs": [
    {
     "data": {
      "text/html": [
       "<div>\n",
       "<style scoped>\n",
       "    .dataframe tbody tr th:only-of-type {\n",
       "        vertical-align: middle;\n",
       "    }\n",
       "\n",
       "    .dataframe tbody tr th {\n",
       "        vertical-align: top;\n",
       "    }\n",
       "\n",
       "    .dataframe thead th {\n",
       "        text-align: right;\n",
       "    }\n",
       "</style>\n",
       "<table border=\"1\" class=\"dataframe\">\n",
       "  <thead>\n",
       "    <tr style=\"text-align: right;\">\n",
       "      <th></th>\n",
       "      <th>product_id</th>\n",
       "      <th>category</th>\n",
       "      <th>brand</th>\n",
       "      <th>title</th>\n",
       "      <th>description</th>\n",
       "      <th>price</th>\n",
       "    </tr>\n",
       "  </thead>\n",
       "  <tbody>\n",
       "    <tr>\n",
       "      <th>0</th>\n",
       "      <td>0</td>\n",
       "      <td>[Books, Literature &amp; Fiction, Dramas &amp; Plays]</td>\n",
       "      <td>Visit Amazon's William Shakespeare Page</td>\n",
       "      <td>Love's Labour's Lost: Performed by Derek Jacob...</td>\n",
       "      <td>William Shakespeare is widely regarded as the ...</td>\n",
       "      <td>20.93</td>\n",
       "    </tr>\n",
       "    <tr>\n",
       "      <th>1</th>\n",
       "      <td>1</td>\n",
       "      <td>[Books, Children's Books, Literature &amp; Fiction]</td>\n",
       "      <td>Louis (ed) UNTERMEYER</td>\n",
       "      <td>The golden treasury of poetry</td>\n",
       "      <td>Collection of Poetry</td>\n",
       "      <td>23.98</td>\n",
       "    </tr>\n",
       "    <tr>\n",
       "      <th>2</th>\n",
       "      <td>2</td>\n",
       "      <td>[Books, Mystery, Thriller &amp; Suspense]</td>\n",
       "      <td>Visit Amazon's Agatha Christie Page</td>\n",
       "      <td>The Blue Geranium (Miss Marple)</td>\n",
       "      <td>None</td>\n",
       "      <td>8.82</td>\n",
       "    </tr>\n",
       "    <tr>\n",
       "      <th>3</th>\n",
       "      <td>3</td>\n",
       "      <td>[Books, Humor &amp; Entertainment]</td>\n",
       "      <td>Visit Amazon's Tom Baker Page</td>\n",
       "      <td>Who on Earth Is Tom Baker?</td>\n",
       "      <td>Tom Baker's autobiography covers his childhood...</td>\n",
       "      <td>159.95</td>\n",
       "    </tr>\n",
       "    <tr>\n",
       "      <th>4</th>\n",
       "      <td>4</td>\n",
       "      <td>[Books, Christian Books &amp; Bibles, Bible Study ...</td>\n",
       "      <td>Visit Amazon's Clarence Larkin Page</td>\n",
       "      <td>The Greatest Book on &amp;quot;Dispensational Trut...</td>\n",
       "      <td>The Greatest Book on Dispensational Truth in t...</td>\n",
       "      <td>44.76</td>\n",
       "    </tr>\n",
       "    <tr>\n",
       "      <th>...</th>\n",
       "      <td>...</td>\n",
       "      <td>...</td>\n",
       "      <td>...</td>\n",
       "      <td>...</td>\n",
       "      <td>...</td>\n",
       "      <td>...</td>\n",
       "    </tr>\n",
       "    <tr>\n",
       "      <th>506201</th>\n",
       "      <td>506201</td>\n",
       "      <td>None</td>\n",
       "      <td>Tricia &amp; Putman, Cara Goyer</td>\n",
       "      <td>Mason Jar Mayhem</td>\n",
       "      <td>Spring has come to Sugarcreek, and the communi...</td>\n",
       "      <td>15.05</td>\n",
       "    </tr>\n",
       "    <tr>\n",
       "      <th>506202</th>\n",
       "      <td>506202</td>\n",
       "      <td>None</td>\n",
       "      <td>Author</td>\n",
       "      <td>The Little Book of Pussy (2013-06-16) [Paperback]</td>\n",
       "      <td>From the time The Big Penis Book was published...</td>\n",
       "      <td>17.00</td>\n",
       "    </tr>\n",
       "    <tr>\n",
       "      <th>506203</th>\n",
       "      <td>506203</td>\n",
       "      <td>None</td>\n",
       "      <td></td>\n",
       "      <td>The Age of Not Believing: A Christmas Tale by ...</td>\n",
       "      <td>None</td>\n",
       "      <td>42.93</td>\n",
       "    </tr>\n",
       "    <tr>\n",
       "      <th>506204</th>\n",
       "      <td>506204</td>\n",
       "      <td>None</td>\n",
       "      <td></td>\n",
       "      <td>The Charlies Angels' Casebook</td>\n",
       "      <td>None</td>\n",
       "      <td>17.87</td>\n",
       "    </tr>\n",
       "    <tr>\n",
       "      <th>506205</th>\n",
       "      <td>506205</td>\n",
       "      <td>None</td>\n",
       "      <td></td>\n",
       "      <td>Underwater Photography Masterclass by Alex Mus...</td>\n",
       "      <td>None</td>\n",
       "      <td>46.62</td>\n",
       "    </tr>\n",
       "  </tbody>\n",
       "</table>\n",
       "<p>506206 rows × 6 columns</p>\n",
       "</div>"
      ],
      "text/plain": [
       "        product_id                                           category  \\\n",
       "0                0      [Books, Literature & Fiction, Dramas & Plays]   \n",
       "1                1    [Books, Children's Books, Literature & Fiction]   \n",
       "2                2              [Books, Mystery, Thriller & Suspense]   \n",
       "3                3                     [Books, Humor & Entertainment]   \n",
       "4                4  [Books, Christian Books & Bibles, Bible Study ...   \n",
       "...            ...                                                ...   \n",
       "506201      506201                                               None   \n",
       "506202      506202                                               None   \n",
       "506203      506203                                               None   \n",
       "506204      506204                                               None   \n",
       "506205      506205                                               None   \n",
       "\n",
       "                                          brand  \\\n",
       "0       Visit Amazon's William Shakespeare Page   \n",
       "1                         Louis (ed) UNTERMEYER   \n",
       "2           Visit Amazon's Agatha Christie Page   \n",
       "3                 Visit Amazon's Tom Baker Page   \n",
       "4           Visit Amazon's Clarence Larkin Page   \n",
       "...                                         ...   \n",
       "506201              Tricia & Putman, Cara Goyer   \n",
       "506202                                   Author   \n",
       "506203                                            \n",
       "506204                                            \n",
       "506205                                            \n",
       "\n",
       "                                                    title  \\\n",
       "0       Love's Labour's Lost: Performed by Derek Jacob...   \n",
       "1                           The golden treasury of poetry   \n",
       "2                         The Blue Geranium (Miss Marple)   \n",
       "3                              Who on Earth Is Tom Baker?   \n",
       "4       The Greatest Book on &quot;Dispensational Trut...   \n",
       "...                                                   ...   \n",
       "506201                                   Mason Jar Mayhem   \n",
       "506202  The Little Book of Pussy (2013-06-16) [Paperback]   \n",
       "506203  The Age of Not Believing: A Christmas Tale by ...   \n",
       "506204                      The Charlies Angels' Casebook   \n",
       "506205  Underwater Photography Masterclass by Alex Mus...   \n",
       "\n",
       "                                              description   price  \n",
       "0       William Shakespeare is widely regarded as the ...   20.93  \n",
       "1                                    Collection of Poetry   23.98  \n",
       "2                                                    None    8.82  \n",
       "3       Tom Baker's autobiography covers his childhood...  159.95  \n",
       "4       The Greatest Book on Dispensational Truth in t...   44.76  \n",
       "...                                                   ...     ...  \n",
       "506201  Spring has come to Sugarcreek, and the communi...   15.05  \n",
       "506202  From the time The Big Penis Book was published...   17.00  \n",
       "506203                                               None   42.93  \n",
       "506204                                               None   17.87  \n",
       "506205                                               None   46.62  \n",
       "\n",
       "[506206 rows x 6 columns]"
      ]
     },
     "execution_count": 8,
     "metadata": {},
     "output_type": "execute_result"
    }
   ],
   "source": [
    "product"
   ]
  },
  {
   "cell_type": "code",
   "execution_count": 9,
   "id": "39bd3e12-68c4-4e7a-9f5e-ce7ae0f4ca9a",
   "metadata": {
    "execution": {
     "iopub.execute_input": "2023-11-15T05:58:21.423239Z",
     "iopub.status.busy": "2023-11-15T05:58:21.423012Z",
     "iopub.status.idle": "2023-11-15T05:58:21.450782Z",
     "shell.execute_reply": "2023-11-15T05:58:21.450019Z",
     "shell.execute_reply.started": "2023-11-15T05:58:21.423223Z"
    }
   },
   "outputs": [
    {
     "data": {
      "text/html": [
       "<div>\n",
       "<style scoped>\n",
       "    .dataframe tbody tr th:only-of-type {\n",
       "        vertical-align: middle;\n",
       "    }\n",
       "\n",
       "    .dataframe tbody tr th {\n",
       "        vertical-align: top;\n",
       "    }\n",
       "\n",
       "    .dataframe thead th {\n",
       "        text-align: right;\n",
       "    }\n",
       "</style>\n",
       "<table border=\"1\" class=\"dataframe\">\n",
       "  <thead>\n",
       "    <tr style=\"text-align: right;\">\n",
       "      <th></th>\n",
       "      <th>review_time</th>\n",
       "      <th>rating</th>\n",
       "      <th>verified</th>\n",
       "      <th>review_text</th>\n",
       "      <th>summary</th>\n",
       "      <th>customer_id</th>\n",
       "      <th>product_id</th>\n",
       "    </tr>\n",
       "  </thead>\n",
       "  <tbody>\n",
       "    <tr>\n",
       "      <th>0</th>\n",
       "      <td>2005-03-30</td>\n",
       "      <td>5.0</td>\n",
       "      <td>False</td>\n",
       "      <td>The King, the Mice and the Cheese by Nancy Gur...</td>\n",
       "      <td>A story children will love and learn from</td>\n",
       "      <td>0</td>\n",
       "      <td>14</td>\n",
       "    </tr>\n",
       "    <tr>\n",
       "      <th>1</th>\n",
       "      <td>2016-06-20</td>\n",
       "      <td>5.0</td>\n",
       "      <td>True</td>\n",
       "      <td>The kids loved it!</td>\n",
       "      <td>Five Stars</td>\n",
       "      <td>1</td>\n",
       "      <td>14</td>\n",
       "    </tr>\n",
       "    <tr>\n",
       "      <th>2</th>\n",
       "      <td>2016-01-24</td>\n",
       "      <td>5.0</td>\n",
       "      <td>True</td>\n",
       "      <td>My students (3 &amp; 4 year olds) loved this book!...</td>\n",
       "      <td>Five Stars</td>\n",
       "      <td>2</td>\n",
       "      <td>14</td>\n",
       "    </tr>\n",
       "    <tr>\n",
       "      <th>3</th>\n",
       "      <td>2015-07-09</td>\n",
       "      <td>5.0</td>\n",
       "      <td>False</td>\n",
       "      <td>LOVE IT</td>\n",
       "      <td>Five Stars</td>\n",
       "      <td>3</td>\n",
       "      <td>14</td>\n",
       "    </tr>\n",
       "    <tr>\n",
       "      <th>4</th>\n",
       "      <td>2015-01-18</td>\n",
       "      <td>5.0</td>\n",
       "      <td>True</td>\n",
       "      <td>Great!</td>\n",
       "      <td>Five Stars</td>\n",
       "      <td>4</td>\n",
       "      <td>14</td>\n",
       "    </tr>\n",
       "    <tr>\n",
       "      <th>...</th>\n",
       "      <td>...</td>\n",
       "      <td>...</td>\n",
       "      <td>...</td>\n",
       "      <td>...</td>\n",
       "      <td>...</td>\n",
       "      <td>...</td>\n",
       "      <td>...</td>\n",
       "    </tr>\n",
       "    <tr>\n",
       "      <th>21940283</th>\n",
       "      <td>2015-02-01</td>\n",
       "      <td>5.0</td>\n",
       "      <td>False</td>\n",
       "      <td>Testimonials\\n\\nPerhaps once in a decade, or e...</td>\n",
       "      <td>a book like YOUR POWER GIVES YOU THE WINGS TO ...</td>\n",
       "      <td>1850154</td>\n",
       "      <td>337213</td>\n",
       "    </tr>\n",
       "    <tr>\n",
       "      <th>21940284</th>\n",
       "      <td>2015-01-25</td>\n",
       "      <td>5.0</td>\n",
       "      <td>False</td>\n",
       "      <td>Testimonials\\nWhen I need to dig deeper, push ...</td>\n",
       "      <td>Coman has accomplished amazing things, but it ...</td>\n",
       "      <td>1850155</td>\n",
       "      <td>337213</td>\n",
       "    </tr>\n",
       "    <tr>\n",
       "      <th>21940285</th>\n",
       "      <td>2014-10-09</td>\n",
       "      <td>5.0</td>\n",
       "      <td>False</td>\n",
       "      <td>Best book in Feng Shui and I recommend on buyi...</td>\n",
       "      <td>Feng-Shui - The Art to Succeed, Conquer and Ov...</td>\n",
       "      <td>1850156</td>\n",
       "      <td>337213</td>\n",
       "    </tr>\n",
       "    <tr>\n",
       "      <th>21940286</th>\n",
       "      <td>2014-10-04</td>\n",
       "      <td>5.0</td>\n",
       "      <td>False</td>\n",
       "      <td>MASTER JUDO AND FENG SHUI DUMITRU D.COMAN  Wit...</td>\n",
       "      <td>MASTER JUDO AND FENG SHUI DUMITRU D. COMAN Wit...</td>\n",
       "      <td>1850157</td>\n",
       "      <td>337213</td>\n",
       "    </tr>\n",
       "    <tr>\n",
       "      <th>21940287</th>\n",
       "      <td>2014-10-22</td>\n",
       "      <td>5.0</td>\n",
       "      <td>False</td>\n",
       "      <td>A great book! Highly recommended!</td>\n",
       "      <td>Five Stars</td>\n",
       "      <td>1850158</td>\n",
       "      <td>337213</td>\n",
       "    </tr>\n",
       "  </tbody>\n",
       "</table>\n",
       "<p>21940288 rows × 7 columns</p>\n",
       "</div>"
      ],
      "text/plain": [
       "         review_time  rating  verified  \\\n",
       "0         2005-03-30     5.0     False   \n",
       "1         2016-06-20     5.0      True   \n",
       "2         2016-01-24     5.0      True   \n",
       "3         2015-07-09     5.0     False   \n",
       "4         2015-01-18     5.0      True   \n",
       "...              ...     ...       ...   \n",
       "21940283  2015-02-01     5.0     False   \n",
       "21940284  2015-01-25     5.0     False   \n",
       "21940285  2014-10-09     5.0     False   \n",
       "21940286  2014-10-04     5.0     False   \n",
       "21940287  2014-10-22     5.0     False   \n",
       "\n",
       "                                                review_text  \\\n",
       "0         The King, the Mice and the Cheese by Nancy Gur...   \n",
       "1                                        The kids loved it!   \n",
       "2         My students (3 & 4 year olds) loved this book!...   \n",
       "3                                                   LOVE IT   \n",
       "4                                                    Great!   \n",
       "...                                                     ...   \n",
       "21940283  Testimonials\\n\\nPerhaps once in a decade, or e...   \n",
       "21940284  Testimonials\\nWhen I need to dig deeper, push ...   \n",
       "21940285  Best book in Feng Shui and I recommend on buyi...   \n",
       "21940286  MASTER JUDO AND FENG SHUI DUMITRU D.COMAN  Wit...   \n",
       "21940287                  A great book! Highly recommended!   \n",
       "\n",
       "                                                    summary  customer_id  \\\n",
       "0                 A story children will love and learn from            0   \n",
       "1                                                Five Stars            1   \n",
       "2                                                Five Stars            2   \n",
       "3                                                Five Stars            3   \n",
       "4                                                Five Stars            4   \n",
       "...                                                     ...          ...   \n",
       "21940283  a book like YOUR POWER GIVES YOU THE WINGS TO ...      1850154   \n",
       "21940284  Coman has accomplished amazing things, but it ...      1850155   \n",
       "21940285  Feng-Shui - The Art to Succeed, Conquer and Ov...      1850156   \n",
       "21940286  MASTER JUDO AND FENG SHUI DUMITRU D. COMAN Wit...      1850157   \n",
       "21940287                                         Five Stars      1850158   \n",
       "\n",
       "          product_id  \n",
       "0                 14  \n",
       "1                 14  \n",
       "2                 14  \n",
       "3                 14  \n",
       "4                 14  \n",
       "...              ...  \n",
       "21940283      337213  \n",
       "21940284      337213  \n",
       "21940285      337213  \n",
       "21940286      337213  \n",
       "21940287      337213  \n",
       "\n",
       "[21940288 rows x 7 columns]"
      ]
     },
     "execution_count": 9,
     "metadata": {},
     "output_type": "execute_result"
    }
   ],
   "source": [
    "review"
   ]
  },
  {
   "cell_type": "markdown",
   "id": "647c4d05-007e-4584-b2a4-98565a8f737e",
   "metadata": {},
   "source": [
    "## LTV"
   ]
  },
  {
   "cell_type": "code",
   "execution_count": 27,
   "id": "7541c166-af62-4915-9815-54af96dc7006",
   "metadata": {
    "execution": {
     "iopub.execute_input": "2023-11-15T06:07:39.102649Z",
     "iopub.status.busy": "2023-11-15T06:07:39.101793Z",
     "iopub.status.idle": "2023-11-15T06:07:39.131474Z",
     "shell.execute_reply": "2023-11-15T06:07:39.130706Z",
     "shell.execute_reply.started": "2023-11-15T06:07:39.102608Z"
    }
   },
   "outputs": [
    {
     "data": {
      "text/plain": [
       "Timedelta('364 days 00:00:00')"
      ]
     },
     "execution_count": 27,
     "metadata": {},
     "output_type": "execute_result"
    }
   ],
   "source": [
    "window_size = ds.tasks[\"ltv\"].window_sizes[0]\n",
    "window_size"
   ]
  },
  {
   "cell_type": "markdown",
   "id": "e029889c-e6b0-4cc0-ad87-680bb39c897c",
   "metadata": {
    "execution": {
     "iopub.execute_input": "2023-11-15T05:58:40.530507Z",
     "iopub.status.busy": "2023-11-15T05:58:40.530055Z",
     "iopub.status.idle": "2023-11-15T05:58:40.557811Z",
     "shell.execute_reply": "2023-11-15T05:58:40.557146Z",
     "shell.execute_reply.started": "2023-11-15T05:58:40.530470Z"
    }
   },
   "source": [
    "### train table"
   ]
  },
  {
   "cell_type": "code",
   "execution_count": 14,
   "id": "709463e5-6c36-40d9-8f6e-e50e983ecd7e",
   "metadata": {
    "execution": {
     "iopub.execute_input": "2023-11-15T05:59:51.439851Z",
     "iopub.status.busy": "2023-11-15T05:59:51.439606Z",
     "iopub.status.idle": "2023-11-15T05:59:51.470920Z",
     "shell.execute_reply": "2023-11-15T05:59:51.470086Z",
     "shell.execute_reply.started": "2023-11-15T05:59:51.439835Z"
    }
   },
   "outputs": [
    {
     "data": {
      "text/html": [
       "<div>\n",
       "<style scoped>\n",
       "    .dataframe tbody tr th:only-of-type {\n",
       "        vertical-align: middle;\n",
       "    }\n",
       "\n",
       "    .dataframe tbody tr th {\n",
       "        vertical-align: top;\n",
       "    }\n",
       "\n",
       "    .dataframe thead th {\n",
       "        text-align: right;\n",
       "    }\n",
       "</style>\n",
       "<table border=\"1\" class=\"dataframe\">\n",
       "  <thead>\n",
       "    <tr style=\"text-align: right;\">\n",
       "      <th></th>\n",
       "      <th>window_min_time</th>\n",
       "      <th>window_max_time</th>\n",
       "    </tr>\n",
       "  </thead>\n",
       "  <tbody>\n",
       "    <tr>\n",
       "      <th>0</th>\n",
       "      <td>1996-06-25 00:00:01</td>\n",
       "      <td>1997-06-24 00:00:01</td>\n",
       "    </tr>\n",
       "    <tr>\n",
       "      <th>1</th>\n",
       "      <td>1997-06-24 00:00:01</td>\n",
       "      <td>1998-06-23 00:00:01</td>\n",
       "    </tr>\n",
       "    <tr>\n",
       "      <th>2</th>\n",
       "      <td>1998-06-23 00:00:01</td>\n",
       "      <td>1999-06-22 00:00:01</td>\n",
       "    </tr>\n",
       "    <tr>\n",
       "      <th>3</th>\n",
       "      <td>1999-06-22 00:00:01</td>\n",
       "      <td>2000-06-20 00:00:01</td>\n",
       "    </tr>\n",
       "    <tr>\n",
       "      <th>4</th>\n",
       "      <td>2000-06-20 00:00:01</td>\n",
       "      <td>2001-06-19 00:00:01</td>\n",
       "    </tr>\n",
       "    <tr>\n",
       "      <th>5</th>\n",
       "      <td>2001-06-19 00:00:01</td>\n",
       "      <td>2002-06-18 00:00:01</td>\n",
       "    </tr>\n",
       "    <tr>\n",
       "      <th>6</th>\n",
       "      <td>2002-06-18 00:00:01</td>\n",
       "      <td>2003-06-17 00:00:01</td>\n",
       "    </tr>\n",
       "    <tr>\n",
       "      <th>7</th>\n",
       "      <td>2003-06-17 00:00:01</td>\n",
       "      <td>2004-06-15 00:00:01</td>\n",
       "    </tr>\n",
       "    <tr>\n",
       "      <th>8</th>\n",
       "      <td>2004-06-15 00:00:01</td>\n",
       "      <td>2005-06-14 00:00:01</td>\n",
       "    </tr>\n",
       "    <tr>\n",
       "      <th>9</th>\n",
       "      <td>2005-06-14 00:00:01</td>\n",
       "      <td>2006-06-13 00:00:01</td>\n",
       "    </tr>\n",
       "    <tr>\n",
       "      <th>10</th>\n",
       "      <td>2006-06-13 00:00:01</td>\n",
       "      <td>2007-06-12 00:00:01</td>\n",
       "    </tr>\n",
       "    <tr>\n",
       "      <th>11</th>\n",
       "      <td>2007-06-12 00:00:01</td>\n",
       "      <td>2008-06-10 00:00:01</td>\n",
       "    </tr>\n",
       "    <tr>\n",
       "      <th>12</th>\n",
       "      <td>2008-06-10 00:00:01</td>\n",
       "      <td>2009-06-09 00:00:01</td>\n",
       "    </tr>\n",
       "    <tr>\n",
       "      <th>13</th>\n",
       "      <td>2009-06-09 00:00:01</td>\n",
       "      <td>2010-06-08 00:00:01</td>\n",
       "    </tr>\n",
       "    <tr>\n",
       "      <th>14</th>\n",
       "      <td>2010-06-08 00:00:01</td>\n",
       "      <td>2011-06-07 00:00:01</td>\n",
       "    </tr>\n",
       "    <tr>\n",
       "      <th>15</th>\n",
       "      <td>2011-06-07 00:00:01</td>\n",
       "      <td>2012-06-05 00:00:01</td>\n",
       "    </tr>\n",
       "    <tr>\n",
       "      <th>16</th>\n",
       "      <td>2012-06-05 00:00:01</td>\n",
       "      <td>2013-06-04 00:00:01</td>\n",
       "    </tr>\n",
       "  </tbody>\n",
       "</table>\n",
       "</div>"
      ],
      "text/plain": [
       "       window_min_time     window_max_time\n",
       "0  1996-06-25 00:00:01 1997-06-24 00:00:01\n",
       "1  1997-06-24 00:00:01 1998-06-23 00:00:01\n",
       "2  1998-06-23 00:00:01 1999-06-22 00:00:01\n",
       "3  1999-06-22 00:00:01 2000-06-20 00:00:01\n",
       "4  2000-06-20 00:00:01 2001-06-19 00:00:01\n",
       "5  2001-06-19 00:00:01 2002-06-18 00:00:01\n",
       "6  2002-06-18 00:00:01 2003-06-17 00:00:01\n",
       "7  2003-06-17 00:00:01 2004-06-15 00:00:01\n",
       "8  2004-06-15 00:00:01 2005-06-14 00:00:01\n",
       "9  2005-06-14 00:00:01 2006-06-13 00:00:01\n",
       "10 2006-06-13 00:00:01 2007-06-12 00:00:01\n",
       "11 2007-06-12 00:00:01 2008-06-10 00:00:01\n",
       "12 2008-06-10 00:00:01 2009-06-09 00:00:01\n",
       "13 2009-06-09 00:00:01 2010-06-08 00:00:01\n",
       "14 2010-06-08 00:00:01 2011-06-07 00:00:01\n",
       "15 2011-06-07 00:00:01 2012-06-05 00:00:01\n",
       "16 2012-06-05 00:00:01 2013-06-04 00:00:01"
      ]
     },
     "execution_count": 14,
     "metadata": {},
     "output_type": "execute_result"
    }
   ],
   "source": [
    "# default time window sampler used inside make_train_table\n",
    "time_window_df = rolling_window_sampler(\n",
    "    ds.min_time, ds.train_max_time, window_size, window_size\n",
    ")\n",
    "time_window_df"
   ]
  },
  {
   "cell_type": "code",
   "execution_count": 16,
   "id": "c3a070ed-9423-4ce7-99c0-2699f78c9f58",
   "metadata": {
    "execution": {
     "iopub.execute_input": "2023-11-15T06:01:29.326370Z",
     "iopub.status.busy": "2023-11-15T06:01:29.325929Z",
     "iopub.status.idle": "2023-11-15T06:01:40.284743Z",
     "shell.execute_reply": "2023-11-15T06:01:40.283791Z",
     "shell.execute_reply.started": "2023-11-15T06:01:29.326333Z"
    }
   },
   "outputs": [
    {
     "data": {
      "application/vnd.jupyter.widget-view+json": {
       "model_id": "2f4c114d1ba340049748e9c58daa1167",
       "version_major": 2,
       "version_minor": 0
      },
      "text/plain": [
       "FloatProgress(value=0.0, layout=Layout(width='auto'), style=ProgressStyle(bar_color='black'))"
      ]
     },
     "metadata": {},
     "output_type": "display_data"
    }
   ],
   "source": [
    "train_table = ds.make_train_table(\"ltv\", window_size)"
   ]
  },
  {
   "cell_type": "code",
   "execution_count": 18,
   "id": "1023c4d7-48c7-414d-bfcc-4cb601ce6e00",
   "metadata": {
    "execution": {
     "iopub.execute_input": "2023-11-15T06:02:02.543099Z",
     "iopub.status.busy": "2023-11-15T06:02:02.542644Z",
     "iopub.status.idle": "2023-11-15T06:02:02.574026Z",
     "shell.execute_reply": "2023-11-15T06:02:02.573369Z",
     "shell.execute_reply.started": "2023-11-15T06:02:02.543063Z"
    }
   },
   "outputs": [
    {
     "data": {
      "text/html": [
       "<div>\n",
       "<style scoped>\n",
       "    .dataframe tbody tr th:only-of-type {\n",
       "        vertical-align: middle;\n",
       "    }\n",
       "\n",
       "    .dataframe tbody tr th {\n",
       "        vertical-align: top;\n",
       "    }\n",
       "\n",
       "    .dataframe thead th {\n",
       "        text-align: right;\n",
       "    }\n",
       "</style>\n",
       "<table border=\"1\" class=\"dataframe\">\n",
       "  <thead>\n",
       "    <tr style=\"text-align: right;\">\n",
       "      <th></th>\n",
       "      <th>window_min_time</th>\n",
       "      <th>window_max_time</th>\n",
       "      <th>customer_id</th>\n",
       "      <th>ltv</th>\n",
       "      <th>count</th>\n",
       "    </tr>\n",
       "  </thead>\n",
       "  <tbody>\n",
       "    <tr>\n",
       "      <th>0</th>\n",
       "      <td>1996-06-25 00:00:01</td>\n",
       "      <td>1997-06-24 00:00:01</td>\n",
       "      <td>1843200</td>\n",
       "      <td>0.00</td>\n",
       "      <td>0</td>\n",
       "    </tr>\n",
       "    <tr>\n",
       "      <th>1</th>\n",
       "      <td>1996-06-25 00:00:01</td>\n",
       "      <td>1997-06-24 00:00:01</td>\n",
       "      <td>1843201</td>\n",
       "      <td>0.00</td>\n",
       "      <td>0</td>\n",
       "    </tr>\n",
       "    <tr>\n",
       "      <th>2</th>\n",
       "      <td>1996-06-25 00:00:01</td>\n",
       "      <td>1997-06-24 00:00:01</td>\n",
       "      <td>1843203</td>\n",
       "      <td>0.00</td>\n",
       "      <td>0</td>\n",
       "    </tr>\n",
       "    <tr>\n",
       "      <th>3</th>\n",
       "      <td>1996-06-25 00:00:01</td>\n",
       "      <td>1997-06-24 00:00:01</td>\n",
       "      <td>1843205</td>\n",
       "      <td>0.00</td>\n",
       "      <td>0</td>\n",
       "    </tr>\n",
       "    <tr>\n",
       "      <th>4</th>\n",
       "      <td>1996-06-25 00:00:01</td>\n",
       "      <td>1997-06-24 00:00:01</td>\n",
       "      <td>1843206</td>\n",
       "      <td>0.00</td>\n",
       "      <td>0</td>\n",
       "    </tr>\n",
       "    <tr>\n",
       "      <th>...</th>\n",
       "      <td>...</td>\n",
       "      <td>...</td>\n",
       "      <td>...</td>\n",
       "      <td>...</td>\n",
       "      <td>...</td>\n",
       "    </tr>\n",
       "    <tr>\n",
       "      <th>31453276</th>\n",
       "      <td>2012-06-05 00:00:01</td>\n",
       "      <td>2013-06-04 00:00:01</td>\n",
       "      <td>306154</td>\n",
       "      <td>24.82</td>\n",
       "      <td>2</td>\n",
       "    </tr>\n",
       "    <tr>\n",
       "      <th>31453277</th>\n",
       "      <td>2012-06-05 00:00:01</td>\n",
       "      <td>2013-06-04 00:00:01</td>\n",
       "      <td>306262</td>\n",
       "      <td>30.35</td>\n",
       "      <td>2</td>\n",
       "    </tr>\n",
       "    <tr>\n",
       "      <th>31453278</th>\n",
       "      <td>2012-06-05 00:00:01</td>\n",
       "      <td>2013-06-04 00:00:01</td>\n",
       "      <td>307022</td>\n",
       "      <td>0.00</td>\n",
       "      <td>0</td>\n",
       "    </tr>\n",
       "    <tr>\n",
       "      <th>31453279</th>\n",
       "      <td>2012-06-05 00:00:01</td>\n",
       "      <td>2013-06-04 00:00:01</td>\n",
       "      <td>307037</td>\n",
       "      <td>0.00</td>\n",
       "      <td>0</td>\n",
       "    </tr>\n",
       "    <tr>\n",
       "      <th>31453280</th>\n",
       "      <td>2012-06-05 00:00:01</td>\n",
       "      <td>2013-06-04 00:00:01</td>\n",
       "      <td>305350</td>\n",
       "      <td>0.00</td>\n",
       "      <td>0</td>\n",
       "    </tr>\n",
       "  </tbody>\n",
       "</table>\n",
       "<p>31453281 rows × 5 columns</p>\n",
       "</div>"
      ],
      "text/plain": [
       "             window_min_time     window_max_time  customer_id    ltv  count\n",
       "0        1996-06-25 00:00:01 1997-06-24 00:00:01      1843200   0.00      0\n",
       "1        1996-06-25 00:00:01 1997-06-24 00:00:01      1843201   0.00      0\n",
       "2        1996-06-25 00:00:01 1997-06-24 00:00:01      1843203   0.00      0\n",
       "3        1996-06-25 00:00:01 1997-06-24 00:00:01      1843205   0.00      0\n",
       "4        1996-06-25 00:00:01 1997-06-24 00:00:01      1843206   0.00      0\n",
       "...                      ...                 ...          ...    ...    ...\n",
       "31453276 2012-06-05 00:00:01 2013-06-04 00:00:01       306154  24.82      2\n",
       "31453277 2012-06-05 00:00:01 2013-06-04 00:00:01       306262  30.35      2\n",
       "31453278 2012-06-05 00:00:01 2013-06-04 00:00:01       307022   0.00      0\n",
       "31453279 2012-06-05 00:00:01 2013-06-04 00:00:01       307037   0.00      0\n",
       "31453280 2012-06-05 00:00:01 2013-06-04 00:00:01       305350   0.00      0\n",
       "\n",
       "[31453281 rows x 5 columns]"
      ]
     },
     "execution_count": 18,
     "metadata": {},
     "output_type": "execute_result"
    }
   ],
   "source": [
    "# here count is the number of products which contributed to the sum aggregation in ltv\n",
    "train_table.df"
   ]
  },
  {
   "cell_type": "code",
   "execution_count": 19,
   "id": "22e4c326-03ea-4542-b3ae-e8e4c6d1e5e3",
   "metadata": {
    "execution": {
     "iopub.execute_input": "2023-11-15T06:03:19.931487Z",
     "iopub.status.busy": "2023-11-15T06:03:19.931057Z",
     "iopub.status.idle": "2023-11-15T06:03:20.089071Z",
     "shell.execute_reply": "2023-11-15T06:03:20.088399Z",
     "shell.execute_reply.started": "2023-11-15T06:03:19.931451Z"
    }
   },
   "outputs": [
    {
     "data": {
      "text/plain": [
       "count\n",
       "0      95.140863\n",
       "1       2.509268\n",
       "2       0.923754\n",
       "3       0.471935\n",
       "4       0.286215\n",
       "         ...    \n",
       "433     0.000003\n",
       "295     0.000003\n",
       "770     0.000003\n",
       "701     0.000003\n",
       "339     0.000003\n",
       "Name: proportion, Length: 335, dtype: float64"
      ]
     },
     "execution_count": 19,
     "metadata": {},
     "output_type": "execute_result"
    }
   ],
   "source": [
    "# frequency of counts in percent\n",
    "train_table.df[\"count\"].value_counts(normalize=True) * 100"
   ]
  },
  {
   "cell_type": "markdown",
   "id": "cdd94afe-7389-40b6-a8eb-984f50bb2f23",
   "metadata": {},
   "source": [
    "_Note: this is very skewed! Test table is not this skewed (95% 0-counts vs 47%)._"
   ]
  },
  {
   "cell_type": "markdown",
   "id": "b446dd02-4114-4410-bccc-0e02305ac0d0",
   "metadata": {},
   "source": [
    "## val table"
   ]
  },
  {
   "cell_type": "code",
   "execution_count": 40,
   "id": "7959cdc8-c2ed-4d99-9c80-6ed9fb1653bd",
   "metadata": {
    "execution": {
     "iopub.execute_input": "2023-11-15T06:13:38.618281Z",
     "iopub.status.busy": "2023-11-15T06:13:38.617562Z",
     "iopub.status.idle": "2023-11-15T06:13:38.648830Z",
     "shell.execute_reply": "2023-11-15T06:13:38.648057Z",
     "shell.execute_reply.started": "2023-11-15T06:13:38.618240Z"
    }
   },
   "outputs": [
    {
     "data": {
      "text/html": [
       "<div>\n",
       "<style scoped>\n",
       "    .dataframe tbody tr th:only-of-type {\n",
       "        vertical-align: middle;\n",
       "    }\n",
       "\n",
       "    .dataframe tbody tr th {\n",
       "        vertical-align: top;\n",
       "    }\n",
       "\n",
       "    .dataframe thead th {\n",
       "        text-align: right;\n",
       "    }\n",
       "</style>\n",
       "<table border=\"1\" class=\"dataframe\">\n",
       "  <thead>\n",
       "    <tr style=\"text-align: right;\">\n",
       "      <th></th>\n",
       "      <th>window_min_time</th>\n",
       "      <th>window_max_time</th>\n",
       "    </tr>\n",
       "  </thead>\n",
       "  <tbody>\n",
       "    <tr>\n",
       "      <th>0</th>\n",
       "      <td>2016-07-07 00:00:01</td>\n",
       "      <td>2017-07-06</td>\n",
       "    </tr>\n",
       "  </tbody>\n",
       "</table>\n",
       "</div>"
      ],
      "text/plain": [
       "      window_min_time window_max_time\n",
       "0 2016-07-07 00:00:01      2017-07-06"
      ]
     },
     "execution_count": 40,
     "metadata": {},
     "output_type": "execute_result"
    }
   ],
   "source": [
    "# time sampler used inside make_val_table\n",
    "time_window_df = one_window_sampler(ds.val_max_time, window_size)\n",
    "time_window_df"
   ]
  },
  {
   "cell_type": "code",
   "execution_count": 41,
   "id": "64f96a10-a2e6-47a2-a35b-c724c9c22725",
   "metadata": {
    "execution": {
     "iopub.execute_input": "2023-11-15T06:13:44.354764Z",
     "iopub.status.busy": "2023-11-15T06:13:44.354334Z",
     "iopub.status.idle": "2023-11-15T06:13:47.915437Z",
     "shell.execute_reply": "2023-11-15T06:13:47.914612Z",
     "shell.execute_reply.started": "2023-11-15T06:13:44.354727Z"
    }
   },
   "outputs": [],
   "source": [
    "val_table = ds.make_val_table(\"ltv\", window_size)"
   ]
  },
  {
   "cell_type": "code",
   "execution_count": 42,
   "id": "650f3400-7327-4a56-bb28-710f049783cf",
   "metadata": {
    "execution": {
     "iopub.execute_input": "2023-11-15T06:13:58.059969Z",
     "iopub.status.busy": "2023-11-15T06:13:58.059421Z",
     "iopub.status.idle": "2023-11-15T06:13:58.096502Z",
     "shell.execute_reply": "2023-11-15T06:13:58.095680Z",
     "shell.execute_reply.started": "2023-11-15T06:13:58.059930Z"
    }
   },
   "outputs": [
    {
     "data": {
      "text/html": [
       "<div>\n",
       "<style scoped>\n",
       "    .dataframe tbody tr th:only-of-type {\n",
       "        vertical-align: middle;\n",
       "    }\n",
       "\n",
       "    .dataframe tbody tr th {\n",
       "        vertical-align: top;\n",
       "    }\n",
       "\n",
       "    .dataframe thead th {\n",
       "        text-align: right;\n",
       "    }\n",
       "</style>\n",
       "<table border=\"1\" class=\"dataframe\">\n",
       "  <thead>\n",
       "    <tr style=\"text-align: right;\">\n",
       "      <th></th>\n",
       "      <th>window_min_time</th>\n",
       "      <th>window_max_time</th>\n",
       "      <th>customer_id</th>\n",
       "      <th>ltv</th>\n",
       "      <th>count</th>\n",
       "    </tr>\n",
       "  </thead>\n",
       "  <tbody>\n",
       "    <tr>\n",
       "      <th>0</th>\n",
       "      <td>2014-04-16 00:00:01</td>\n",
       "      <td>2015-04-15</td>\n",
       "      <td>1843201</td>\n",
       "      <td>0.00</td>\n",
       "      <td>0</td>\n",
       "    </tr>\n",
       "    <tr>\n",
       "      <th>1</th>\n",
       "      <td>2014-04-16 00:00:01</td>\n",
       "      <td>2015-04-15</td>\n",
       "      <td>1843202</td>\n",
       "      <td>0.00</td>\n",
       "      <td>0</td>\n",
       "    </tr>\n",
       "    <tr>\n",
       "      <th>2</th>\n",
       "      <td>2014-04-16 00:00:01</td>\n",
       "      <td>2015-04-15</td>\n",
       "      <td>1843203</td>\n",
       "      <td>0.00</td>\n",
       "      <td>0</td>\n",
       "    </tr>\n",
       "    <tr>\n",
       "      <th>3</th>\n",
       "      <td>2014-04-16 00:00:01</td>\n",
       "      <td>2015-04-15</td>\n",
       "      <td>1843204</td>\n",
       "      <td>0.00</td>\n",
       "      <td>0</td>\n",
       "    </tr>\n",
       "    <tr>\n",
       "      <th>4</th>\n",
       "      <td>2014-04-16 00:00:01</td>\n",
       "      <td>2015-04-15</td>\n",
       "      <td>1843205</td>\n",
       "      <td>0.00</td>\n",
       "      <td>0</td>\n",
       "    </tr>\n",
       "    <tr>\n",
       "      <th>...</th>\n",
       "      <td>...</td>\n",
       "      <td>...</td>\n",
       "      <td>...</td>\n",
       "      <td>...</td>\n",
       "      <td>...</td>\n",
       "    </tr>\n",
       "    <tr>\n",
       "      <th>1850188</th>\n",
       "      <td>2014-04-16 00:00:01</td>\n",
       "      <td>2015-04-15</td>\n",
       "      <td>1636118</td>\n",
       "      <td>21.88</td>\n",
       "      <td>2</td>\n",
       "    </tr>\n",
       "    <tr>\n",
       "      <th>1850189</th>\n",
       "      <td>2014-04-16 00:00:01</td>\n",
       "      <td>2015-04-15</td>\n",
       "      <td>1636647</td>\n",
       "      <td>0.00</td>\n",
       "      <td>0</td>\n",
       "    </tr>\n",
       "    <tr>\n",
       "      <th>1850190</th>\n",
       "      <td>2014-04-16 00:00:01</td>\n",
       "      <td>2015-04-15</td>\n",
       "      <td>1636780</td>\n",
       "      <td>0.00</td>\n",
       "      <td>0</td>\n",
       "    </tr>\n",
       "    <tr>\n",
       "      <th>1850191</th>\n",
       "      <td>2014-04-16 00:00:01</td>\n",
       "      <td>2015-04-15</td>\n",
       "      <td>1637589</td>\n",
       "      <td>0.00</td>\n",
       "      <td>0</td>\n",
       "    </tr>\n",
       "    <tr>\n",
       "      <th>1850192</th>\n",
       "      <td>2014-04-16 00:00:01</td>\n",
       "      <td>2015-04-15</td>\n",
       "      <td>1638132</td>\n",
       "      <td>0.00</td>\n",
       "      <td>0</td>\n",
       "    </tr>\n",
       "  </tbody>\n",
       "</table>\n",
       "<p>1850193 rows × 5 columns</p>\n",
       "</div>"
      ],
      "text/plain": [
       "            window_min_time window_max_time  customer_id    ltv  count\n",
       "0       2014-04-16 00:00:01      2015-04-15      1843201   0.00      0\n",
       "1       2014-04-16 00:00:01      2015-04-15      1843202   0.00      0\n",
       "2       2014-04-16 00:00:01      2015-04-15      1843203   0.00      0\n",
       "3       2014-04-16 00:00:01      2015-04-15      1843204   0.00      0\n",
       "4       2014-04-16 00:00:01      2015-04-15      1843205   0.00      0\n",
       "...                     ...             ...          ...    ...    ...\n",
       "1850188 2014-04-16 00:00:01      2015-04-15      1636118  21.88      2\n",
       "1850189 2014-04-16 00:00:01      2015-04-15      1636647   0.00      0\n",
       "1850190 2014-04-16 00:00:01      2015-04-15      1636780   0.00      0\n",
       "1850191 2014-04-16 00:00:01      2015-04-15      1637589   0.00      0\n",
       "1850192 2014-04-16 00:00:01      2015-04-15      1638132   0.00      0\n",
       "\n",
       "[1850193 rows x 5 columns]"
      ]
     },
     "execution_count": 42,
     "metadata": {},
     "output_type": "execute_result"
    }
   ],
   "source": [
    "val_table.df"
   ]
  },
  {
   "cell_type": "code",
   "execution_count": 43,
   "id": "623906f8-2ef5-460e-9a1c-9b3155dd4a60",
   "metadata": {
    "execution": {
     "iopub.execute_input": "2023-11-15T06:14:05.147090Z",
     "iopub.status.busy": "2023-11-15T06:14:05.146270Z",
     "iopub.status.idle": "2023-11-15T06:14:05.182803Z",
     "shell.execute_reply": "2023-11-15T06:14:05.181966Z",
     "shell.execute_reply.started": "2023-11-15T06:14:05.147048Z"
    }
   },
   "outputs": [
    {
     "data": {
      "text/plain": [
       "count\n",
       "0       47.376679\n",
       "1       17.256470\n",
       "2       11.010797\n",
       "3        7.313994\n",
       "4        4.936296\n",
       "          ...    \n",
       "1171     0.000054\n",
       "232      0.000054\n",
       "228      0.000054\n",
       "284      0.000054\n",
       "304      0.000054\n",
       "Name: proportion, Length: 303, dtype: float64"
      ]
     },
     "execution_count": 43,
     "metadata": {},
     "output_type": "execute_result"
    }
   ],
   "source": [
    "val_table.df[\"count\"].value_counts(normalize=True) * 100"
   ]
  },
  {
   "cell_type": "markdown",
   "id": "dcfd6722-53b3-4a71-a0c4-18a3de928449",
   "metadata": {},
   "source": [
    "## Churn"
   ]
  },
  {
   "cell_type": "code",
   "execution_count": 26,
   "id": "020f21e4-c076-4c84-971f-658a7b9578a8",
   "metadata": {
    "execution": {
     "iopub.execute_input": "2023-11-15T06:07:21.718569Z",
     "iopub.status.busy": "2023-11-15T06:07:21.718210Z",
     "iopub.status.idle": "2023-11-15T06:07:21.747458Z",
     "shell.execute_reply": "2023-11-15T06:07:21.746756Z",
     "shell.execute_reply.started": "2023-11-15T06:07:21.718533Z"
    }
   },
   "outputs": [
    {
     "data": {
      "text/plain": [
       "Timedelta('364 days 00:00:00')"
      ]
     },
     "execution_count": 26,
     "metadata": {},
     "output_type": "execute_result"
    }
   ],
   "source": [
    "window_size = ds.tasks[\"churn\"].window_sizes[0]\n",
    "window_size"
   ]
  },
  {
   "cell_type": "markdown",
   "id": "04dc5000-3bc7-4ee4-b3bb-514bfb7f5d8f",
   "metadata": {
    "execution": {
     "iopub.execute_input": "2023-11-15T05:58:40.530507Z",
     "iopub.status.busy": "2023-11-15T05:58:40.530055Z",
     "iopub.status.idle": "2023-11-15T05:58:40.557811Z",
     "shell.execute_reply": "2023-11-15T05:58:40.557146Z",
     "shell.execute_reply.started": "2023-11-15T05:58:40.530470Z"
    }
   },
   "source": [
    "### train table"
   ]
  },
  {
   "cell_type": "code",
   "execution_count": 28,
   "id": "ca0b1659-272e-46ac-99c2-b59cea702d60",
   "metadata": {
    "execution": {
     "iopub.execute_input": "2023-11-15T06:08:23.057035Z",
     "iopub.status.busy": "2023-11-15T06:08:23.056610Z",
     "iopub.status.idle": "2023-11-15T06:08:23.088438Z",
     "shell.execute_reply": "2023-11-15T06:08:23.087640Z",
     "shell.execute_reply.started": "2023-11-15T06:08:23.056999Z"
    }
   },
   "outputs": [
    {
     "data": {
      "text/html": [
       "<div>\n",
       "<style scoped>\n",
       "    .dataframe tbody tr th:only-of-type {\n",
       "        vertical-align: middle;\n",
       "    }\n",
       "\n",
       "    .dataframe tbody tr th {\n",
       "        vertical-align: top;\n",
       "    }\n",
       "\n",
       "    .dataframe thead th {\n",
       "        text-align: right;\n",
       "    }\n",
       "</style>\n",
       "<table border=\"1\" class=\"dataframe\">\n",
       "  <thead>\n",
       "    <tr style=\"text-align: right;\">\n",
       "      <th></th>\n",
       "      <th>window_min_time</th>\n",
       "      <th>window_max_time</th>\n",
       "    </tr>\n",
       "  </thead>\n",
       "  <tbody>\n",
       "    <tr>\n",
       "      <th>0</th>\n",
       "      <td>1996-06-25 00:00:01</td>\n",
       "      <td>1997-06-24 00:00:01</td>\n",
       "    </tr>\n",
       "    <tr>\n",
       "      <th>1</th>\n",
       "      <td>1997-06-24 00:00:01</td>\n",
       "      <td>1998-06-23 00:00:01</td>\n",
       "    </tr>\n",
       "    <tr>\n",
       "      <th>2</th>\n",
       "      <td>1998-06-23 00:00:01</td>\n",
       "      <td>1999-06-22 00:00:01</td>\n",
       "    </tr>\n",
       "    <tr>\n",
       "      <th>3</th>\n",
       "      <td>1999-06-22 00:00:01</td>\n",
       "      <td>2000-06-20 00:00:01</td>\n",
       "    </tr>\n",
       "    <tr>\n",
       "      <th>4</th>\n",
       "      <td>2000-06-20 00:00:01</td>\n",
       "      <td>2001-06-19 00:00:01</td>\n",
       "    </tr>\n",
       "    <tr>\n",
       "      <th>5</th>\n",
       "      <td>2001-06-19 00:00:01</td>\n",
       "      <td>2002-06-18 00:00:01</td>\n",
       "    </tr>\n",
       "    <tr>\n",
       "      <th>6</th>\n",
       "      <td>2002-06-18 00:00:01</td>\n",
       "      <td>2003-06-17 00:00:01</td>\n",
       "    </tr>\n",
       "    <tr>\n",
       "      <th>7</th>\n",
       "      <td>2003-06-17 00:00:01</td>\n",
       "      <td>2004-06-15 00:00:01</td>\n",
       "    </tr>\n",
       "    <tr>\n",
       "      <th>8</th>\n",
       "      <td>2004-06-15 00:00:01</td>\n",
       "      <td>2005-06-14 00:00:01</td>\n",
       "    </tr>\n",
       "    <tr>\n",
       "      <th>9</th>\n",
       "      <td>2005-06-14 00:00:01</td>\n",
       "      <td>2006-06-13 00:00:01</td>\n",
       "    </tr>\n",
       "    <tr>\n",
       "      <th>10</th>\n",
       "      <td>2006-06-13 00:00:01</td>\n",
       "      <td>2007-06-12 00:00:01</td>\n",
       "    </tr>\n",
       "    <tr>\n",
       "      <th>11</th>\n",
       "      <td>2007-06-12 00:00:01</td>\n",
       "      <td>2008-06-10 00:00:01</td>\n",
       "    </tr>\n",
       "    <tr>\n",
       "      <th>12</th>\n",
       "      <td>2008-06-10 00:00:01</td>\n",
       "      <td>2009-06-09 00:00:01</td>\n",
       "    </tr>\n",
       "    <tr>\n",
       "      <th>13</th>\n",
       "      <td>2009-06-09 00:00:01</td>\n",
       "      <td>2010-06-08 00:00:01</td>\n",
       "    </tr>\n",
       "    <tr>\n",
       "      <th>14</th>\n",
       "      <td>2010-06-08 00:00:01</td>\n",
       "      <td>2011-06-07 00:00:01</td>\n",
       "    </tr>\n",
       "    <tr>\n",
       "      <th>15</th>\n",
       "      <td>2011-06-07 00:00:01</td>\n",
       "      <td>2012-06-05 00:00:01</td>\n",
       "    </tr>\n",
       "    <tr>\n",
       "      <th>16</th>\n",
       "      <td>2012-06-05 00:00:01</td>\n",
       "      <td>2013-06-04 00:00:01</td>\n",
       "    </tr>\n",
       "  </tbody>\n",
       "</table>\n",
       "</div>"
      ],
      "text/plain": [
       "       window_min_time     window_max_time\n",
       "0  1996-06-25 00:00:01 1997-06-24 00:00:01\n",
       "1  1997-06-24 00:00:01 1998-06-23 00:00:01\n",
       "2  1998-06-23 00:00:01 1999-06-22 00:00:01\n",
       "3  1999-06-22 00:00:01 2000-06-20 00:00:01\n",
       "4  2000-06-20 00:00:01 2001-06-19 00:00:01\n",
       "5  2001-06-19 00:00:01 2002-06-18 00:00:01\n",
       "6  2002-06-18 00:00:01 2003-06-17 00:00:01\n",
       "7  2003-06-17 00:00:01 2004-06-15 00:00:01\n",
       "8  2004-06-15 00:00:01 2005-06-14 00:00:01\n",
       "9  2005-06-14 00:00:01 2006-06-13 00:00:01\n",
       "10 2006-06-13 00:00:01 2007-06-12 00:00:01\n",
       "11 2007-06-12 00:00:01 2008-06-10 00:00:01\n",
       "12 2008-06-10 00:00:01 2009-06-09 00:00:01\n",
       "13 2009-06-09 00:00:01 2010-06-08 00:00:01\n",
       "14 2010-06-08 00:00:01 2011-06-07 00:00:01\n",
       "15 2011-06-07 00:00:01 2012-06-05 00:00:01\n",
       "16 2012-06-05 00:00:01 2013-06-04 00:00:01"
      ]
     },
     "execution_count": 28,
     "metadata": {},
     "output_type": "execute_result"
    }
   ],
   "source": [
    "# default time window sampler used inside make_train_table\n",
    "time_window_df = rolling_window_sampler(\n",
    "    ds.min_time, ds.train_max_time, window_size, window_size\n",
    ")\n",
    "time_window_df"
   ]
  },
  {
   "cell_type": "code",
   "execution_count": 29,
   "id": "6c5890ba-4b67-4f30-a936-a017a9cc040e",
   "metadata": {
    "execution": {
     "iopub.execute_input": "2023-11-15T06:08:48.928572Z",
     "iopub.status.busy": "2023-11-15T06:08:48.928088Z",
     "iopub.status.idle": "2023-11-15T06:08:54.654798Z",
     "shell.execute_reply": "2023-11-15T06:08:54.653708Z",
     "shell.execute_reply.started": "2023-11-15T06:08:48.928533Z"
    }
   },
   "outputs": [
    {
     "data": {
      "application/vnd.jupyter.widget-view+json": {
       "model_id": "c0d8741ef5064a6ba83e07dfce8d9712",
       "version_major": 2,
       "version_minor": 0
      },
      "text/plain": [
       "FloatProgress(value=0.0, layout=Layout(width='auto'), style=ProgressStyle(bar_color='black'))"
      ]
     },
     "metadata": {},
     "output_type": "display_data"
    }
   ],
   "source": [
    "train_table = ds.make_train_table(\"churn\", window_size)"
   ]
  },
  {
   "cell_type": "code",
   "execution_count": 30,
   "id": "10e23102-707b-449a-b6db-5f32847089ab",
   "metadata": {
    "execution": {
     "iopub.execute_input": "2023-11-15T06:09:27.466685Z",
     "iopub.status.busy": "2023-11-15T06:09:27.466156Z",
     "iopub.status.idle": "2023-11-15T06:09:27.498186Z",
     "shell.execute_reply": "2023-11-15T06:09:27.497499Z",
     "shell.execute_reply.started": "2023-11-15T06:09:27.466646Z"
    }
   },
   "outputs": [
    {
     "data": {
      "text/html": [
       "<div>\n",
       "<style scoped>\n",
       "    .dataframe tbody tr th:only-of-type {\n",
       "        vertical-align: middle;\n",
       "    }\n",
       "\n",
       "    .dataframe tbody tr th {\n",
       "        vertical-align: top;\n",
       "    }\n",
       "\n",
       "    .dataframe thead th {\n",
       "        text-align: right;\n",
       "    }\n",
       "</style>\n",
       "<table border=\"1\" class=\"dataframe\">\n",
       "  <thead>\n",
       "    <tr style=\"text-align: right;\">\n",
       "      <th></th>\n",
       "      <th>window_min_time</th>\n",
       "      <th>window_max_time</th>\n",
       "      <th>customer_id</th>\n",
       "      <th>churn</th>\n",
       "    </tr>\n",
       "  </thead>\n",
       "  <tbody>\n",
       "    <tr>\n",
       "      <th>0</th>\n",
       "      <td>1996-06-25 00:00:01</td>\n",
       "      <td>1997-06-24 00:00:01</td>\n",
       "      <td>1843200</td>\n",
       "      <td>True</td>\n",
       "    </tr>\n",
       "    <tr>\n",
       "      <th>1</th>\n",
       "      <td>1996-06-25 00:00:01</td>\n",
       "      <td>1997-06-24 00:00:01</td>\n",
       "      <td>1843201</td>\n",
       "      <td>True</td>\n",
       "    </tr>\n",
       "    <tr>\n",
       "      <th>2</th>\n",
       "      <td>1996-06-25 00:00:01</td>\n",
       "      <td>1997-06-24 00:00:01</td>\n",
       "      <td>1843202</td>\n",
       "      <td>True</td>\n",
       "    </tr>\n",
       "    <tr>\n",
       "      <th>3</th>\n",
       "      <td>1996-06-25 00:00:01</td>\n",
       "      <td>1997-06-24 00:00:01</td>\n",
       "      <td>1843203</td>\n",
       "      <td>True</td>\n",
       "    </tr>\n",
       "    <tr>\n",
       "      <th>4</th>\n",
       "      <td>1996-06-25 00:00:01</td>\n",
       "      <td>1997-06-24 00:00:01</td>\n",
       "      <td>1843204</td>\n",
       "      <td>True</td>\n",
       "    </tr>\n",
       "    <tr>\n",
       "      <th>...</th>\n",
       "      <td>...</td>\n",
       "      <td>...</td>\n",
       "      <td>...</td>\n",
       "      <td>...</td>\n",
       "    </tr>\n",
       "    <tr>\n",
       "      <th>31453276</th>\n",
       "      <td>2012-06-05 00:00:01</td>\n",
       "      <td>2013-06-04 00:00:01</td>\n",
       "      <td>921595</td>\n",
       "      <td>False</td>\n",
       "    </tr>\n",
       "    <tr>\n",
       "      <th>31453277</th>\n",
       "      <td>2012-06-05 00:00:01</td>\n",
       "      <td>2013-06-04 00:00:01</td>\n",
       "      <td>921596</td>\n",
       "      <td>False</td>\n",
       "    </tr>\n",
       "    <tr>\n",
       "      <th>31453278</th>\n",
       "      <td>2012-06-05 00:00:01</td>\n",
       "      <td>2013-06-04 00:00:01</td>\n",
       "      <td>921597</td>\n",
       "      <td>True</td>\n",
       "    </tr>\n",
       "    <tr>\n",
       "      <th>31453279</th>\n",
       "      <td>2012-06-05 00:00:01</td>\n",
       "      <td>2013-06-04 00:00:01</td>\n",
       "      <td>921598</td>\n",
       "      <td>True</td>\n",
       "    </tr>\n",
       "    <tr>\n",
       "      <th>31453280</th>\n",
       "      <td>2012-06-05 00:00:01</td>\n",
       "      <td>2013-06-04 00:00:01</td>\n",
       "      <td>921599</td>\n",
       "      <td>True</td>\n",
       "    </tr>\n",
       "  </tbody>\n",
       "</table>\n",
       "<p>31453281 rows × 4 columns</p>\n",
       "</div>"
      ],
      "text/plain": [
       "             window_min_time     window_max_time  customer_id  churn\n",
       "0        1996-06-25 00:00:01 1997-06-24 00:00:01      1843200   True\n",
       "1        1996-06-25 00:00:01 1997-06-24 00:00:01      1843201   True\n",
       "2        1996-06-25 00:00:01 1997-06-24 00:00:01      1843202   True\n",
       "3        1996-06-25 00:00:01 1997-06-24 00:00:01      1843203   True\n",
       "4        1996-06-25 00:00:01 1997-06-24 00:00:01      1843204   True\n",
       "...                      ...                 ...          ...    ...\n",
       "31453276 2012-06-05 00:00:01 2013-06-04 00:00:01       921595  False\n",
       "31453277 2012-06-05 00:00:01 2013-06-04 00:00:01       921596  False\n",
       "31453278 2012-06-05 00:00:01 2013-06-04 00:00:01       921597   True\n",
       "31453279 2012-06-05 00:00:01 2013-06-04 00:00:01       921598   True\n",
       "31453280 2012-06-05 00:00:01 2013-06-04 00:00:01       921599   True\n",
       "\n",
       "[31453281 rows x 4 columns]"
      ]
     },
     "execution_count": 30,
     "metadata": {},
     "output_type": "execute_result"
    }
   ],
   "source": [
    "# here count is the number of products which contributed to the sum aggregation in ltv\n",
    "train_table.df"
   ]
  },
  {
   "cell_type": "code",
   "execution_count": 31,
   "id": "3596c7e2-b59c-4030-b31f-a1c25786bce7",
   "metadata": {
    "execution": {
     "iopub.execute_input": "2023-11-15T06:09:44.457489Z",
     "iopub.status.busy": "2023-11-15T06:09:44.457106Z",
     "iopub.status.idle": "2023-11-15T06:09:44.590033Z",
     "shell.execute_reply": "2023-11-15T06:09:44.589237Z",
     "shell.execute_reply.started": "2023-11-15T06:09:44.457453Z"
    }
   },
   "outputs": [
    {
     "data": {
      "text/plain": [
       "churn\n",
       "True     95.140863\n",
       "False     4.859137\n",
       "Name: proportion, dtype: float64"
      ]
     },
     "execution_count": 31,
     "metadata": {},
     "output_type": "execute_result"
    }
   ],
   "source": [
    "# frequency of churn in percent\n",
    "train_table.df[\"churn\"].value_counts(normalize=True) * 100"
   ]
  },
  {
   "cell_type": "markdown",
   "id": "8f178dce-3ff3-4222-84e9-ba8842e4a2a6",
   "metadata": {},
   "source": [
    "_Note: this is very skewed! Val table is not this skewed (95% 0-counts vs 52%)._"
   ]
  },
  {
   "cell_type": "markdown",
   "id": "65f15e81-da66-4f33-9656-eb15cc7814f3",
   "metadata": {},
   "source": [
    "## val table"
   ]
  },
  {
   "cell_type": "code",
   "execution_count": 36,
   "id": "5d950571-948e-403d-b9e6-4056361db274",
   "metadata": {
    "execution": {
     "iopub.execute_input": "2023-11-15T06:12:24.762079Z",
     "iopub.status.busy": "2023-11-15T06:12:24.761566Z",
     "iopub.status.idle": "2023-11-15T06:12:24.850949Z",
     "shell.execute_reply": "2023-11-15T06:12:24.850272Z",
     "shell.execute_reply.started": "2023-11-15T06:12:24.762041Z"
    }
   },
   "outputs": [
    {
     "data": {
      "text/html": [
       "<div>\n",
       "<style scoped>\n",
       "    .dataframe tbody tr th:only-of-type {\n",
       "        vertical-align: middle;\n",
       "    }\n",
       "\n",
       "    .dataframe tbody tr th {\n",
       "        vertical-align: top;\n",
       "    }\n",
       "\n",
       "    .dataframe thead th {\n",
       "        text-align: right;\n",
       "    }\n",
       "</style>\n",
       "<table border=\"1\" class=\"dataframe\">\n",
       "  <thead>\n",
       "    <tr style=\"text-align: right;\">\n",
       "      <th></th>\n",
       "      <th>window_min_time</th>\n",
       "      <th>window_max_time</th>\n",
       "    </tr>\n",
       "  </thead>\n",
       "  <tbody>\n",
       "    <tr>\n",
       "      <th>0</th>\n",
       "      <td>2014-04-16 00:00:01</td>\n",
       "      <td>2015-04-15</td>\n",
       "    </tr>\n",
       "  </tbody>\n",
       "</table>\n",
       "</div>"
      ],
      "text/plain": [
       "      window_min_time window_max_time\n",
       "0 2014-04-16 00:00:01      2015-04-15"
      ]
     },
     "execution_count": 36,
     "metadata": {},
     "output_type": "execute_result"
    }
   ],
   "source": [
    "# time sampler used inside make_val_table\n",
    "time_window_df = one_window_sampler(ds.train_max_time, window_size)\n",
    "time_window_df"
   ]
  },
  {
   "cell_type": "code",
   "execution_count": 37,
   "id": "33a31916-60da-49be-b4b7-4f4a47d31b52",
   "metadata": {
    "execution": {
     "iopub.execute_input": "2023-11-15T06:12:32.940387Z",
     "iopub.status.busy": "2023-11-15T06:12:32.939917Z",
     "iopub.status.idle": "2023-11-15T06:12:35.297839Z",
     "shell.execute_reply": "2023-11-15T06:12:35.296921Z",
     "shell.execute_reply.started": "2023-11-15T06:12:32.940350Z"
    }
   },
   "outputs": [],
   "source": [
    "val_table = ds.make_val_table(\"churn\", window_size)"
   ]
  },
  {
   "cell_type": "code",
   "execution_count": 38,
   "id": "26b15b3a-78c5-4499-bd75-d938c2d4334e",
   "metadata": {
    "execution": {
     "iopub.execute_input": "2023-11-15T06:12:41.829264Z",
     "iopub.status.busy": "2023-11-15T06:12:41.828475Z",
     "iopub.status.idle": "2023-11-15T06:12:41.863921Z",
     "shell.execute_reply": "2023-11-15T06:12:41.863094Z",
     "shell.execute_reply.started": "2023-11-15T06:12:41.829221Z"
    }
   },
   "outputs": [
    {
     "data": {
      "text/html": [
       "<div>\n",
       "<style scoped>\n",
       "    .dataframe tbody tr th:only-of-type {\n",
       "        vertical-align: middle;\n",
       "    }\n",
       "\n",
       "    .dataframe tbody tr th {\n",
       "        vertical-align: top;\n",
       "    }\n",
       "\n",
       "    .dataframe thead th {\n",
       "        text-align: right;\n",
       "    }\n",
       "</style>\n",
       "<table border=\"1\" class=\"dataframe\">\n",
       "  <thead>\n",
       "    <tr style=\"text-align: right;\">\n",
       "      <th></th>\n",
       "      <th>window_min_time</th>\n",
       "      <th>window_max_time</th>\n",
       "      <th>customer_id</th>\n",
       "      <th>churn</th>\n",
       "    </tr>\n",
       "  </thead>\n",
       "  <tbody>\n",
       "    <tr>\n",
       "      <th>0</th>\n",
       "      <td>2014-04-16 00:00:01</td>\n",
       "      <td>2015-04-15</td>\n",
       "      <td>0</td>\n",
       "      <td>False</td>\n",
       "    </tr>\n",
       "    <tr>\n",
       "      <th>1</th>\n",
       "      <td>2014-04-16 00:00:01</td>\n",
       "      <td>2015-04-15</td>\n",
       "      <td>1</td>\n",
       "      <td>True</td>\n",
       "    </tr>\n",
       "    <tr>\n",
       "      <th>2</th>\n",
       "      <td>2014-04-16 00:00:01</td>\n",
       "      <td>2015-04-15</td>\n",
       "      <td>2</td>\n",
       "      <td>False</td>\n",
       "    </tr>\n",
       "    <tr>\n",
       "      <th>3</th>\n",
       "      <td>2014-04-16 00:00:01</td>\n",
       "      <td>2015-04-15</td>\n",
       "      <td>3</td>\n",
       "      <td>True</td>\n",
       "    </tr>\n",
       "    <tr>\n",
       "      <th>4</th>\n",
       "      <td>2014-04-16 00:00:01</td>\n",
       "      <td>2015-04-15</td>\n",
       "      <td>4</td>\n",
       "      <td>False</td>\n",
       "    </tr>\n",
       "    <tr>\n",
       "      <th>...</th>\n",
       "      <td>...</td>\n",
       "      <td>...</td>\n",
       "      <td>...</td>\n",
       "      <td>...</td>\n",
       "    </tr>\n",
       "    <tr>\n",
       "      <th>1850188</th>\n",
       "      <td>2014-04-16 00:00:01</td>\n",
       "      <td>2015-04-15</td>\n",
       "      <td>1843195</td>\n",
       "      <td>True</td>\n",
       "    </tr>\n",
       "    <tr>\n",
       "      <th>1850189</th>\n",
       "      <td>2014-04-16 00:00:01</td>\n",
       "      <td>2015-04-15</td>\n",
       "      <td>1843196</td>\n",
       "      <td>True</td>\n",
       "    </tr>\n",
       "    <tr>\n",
       "      <th>1850190</th>\n",
       "      <td>2014-04-16 00:00:01</td>\n",
       "      <td>2015-04-15</td>\n",
       "      <td>1843197</td>\n",
       "      <td>True</td>\n",
       "    </tr>\n",
       "    <tr>\n",
       "      <th>1850191</th>\n",
       "      <td>2014-04-16 00:00:01</td>\n",
       "      <td>2015-04-15</td>\n",
       "      <td>1843198</td>\n",
       "      <td>True</td>\n",
       "    </tr>\n",
       "    <tr>\n",
       "      <th>1850192</th>\n",
       "      <td>2014-04-16 00:00:01</td>\n",
       "      <td>2015-04-15</td>\n",
       "      <td>1843199</td>\n",
       "      <td>True</td>\n",
       "    </tr>\n",
       "  </tbody>\n",
       "</table>\n",
       "<p>1850193 rows × 4 columns</p>\n",
       "</div>"
      ],
      "text/plain": [
       "            window_min_time window_max_time  customer_id  churn\n",
       "0       2014-04-16 00:00:01      2015-04-15            0  False\n",
       "1       2014-04-16 00:00:01      2015-04-15            1   True\n",
       "2       2014-04-16 00:00:01      2015-04-15            2  False\n",
       "3       2014-04-16 00:00:01      2015-04-15            3   True\n",
       "4       2014-04-16 00:00:01      2015-04-15            4  False\n",
       "...                     ...             ...          ...    ...\n",
       "1850188 2014-04-16 00:00:01      2015-04-15      1843195   True\n",
       "1850189 2014-04-16 00:00:01      2015-04-15      1843196   True\n",
       "1850190 2014-04-16 00:00:01      2015-04-15      1843197   True\n",
       "1850191 2014-04-16 00:00:01      2015-04-15      1843198   True\n",
       "1850192 2014-04-16 00:00:01      2015-04-15      1843199   True\n",
       "\n",
       "[1850193 rows x 4 columns]"
      ]
     },
     "execution_count": 38,
     "metadata": {},
     "output_type": "execute_result"
    }
   ],
   "source": [
    "val_table.df"
   ]
  },
  {
   "cell_type": "code",
   "execution_count": 39,
   "id": "488f2ef5-009c-432a-9872-6e629839b429",
   "metadata": {
    "execution": {
     "iopub.execute_input": "2023-11-15T06:12:48.514384Z",
     "iopub.status.busy": "2023-11-15T06:12:48.513646Z",
     "iopub.status.idle": "2023-11-15T06:12:48.548658Z",
     "shell.execute_reply": "2023-11-15T06:12:48.547874Z",
     "shell.execute_reply.started": "2023-11-15T06:12:48.514347Z"
    }
   },
   "outputs": [
    {
     "data": {
      "text/plain": [
       "churn\n",
       "False    52.623321\n",
       "True     47.376679\n",
       "Name: proportion, dtype: float64"
      ]
     },
     "execution_count": 39,
     "metadata": {},
     "output_type": "execute_result"
    }
   ],
   "source": [
    "val_table.df[\"churn\"].value_counts(normalize=True) * 100"
   ]
  },
  {
   "cell_type": "code",
   "execution_count": null,
   "id": "350cef28-206b-46dd-a4db-e0b48bf5ad24",
   "metadata": {},
   "outputs": [],
   "source": []
  }
 ],
 "metadata": {
  "kernelspec": {
   "display_name": "Python [conda env:rtb]",
   "language": "python",
   "name": "conda-env-rtb-py"
  },
  "language_info": {
   "codemirror_mode": {
    "name": "ipython",
    "version": 3
   },
   "file_extension": ".py",
   "mimetype": "text/x-python",
   "name": "python",
   "nbconvert_exporter": "python",
   "pygments_lexer": "ipython3",
   "version": "3.10.13"
  }
 },
 "nbformat": 4,
 "nbformat_minor": 5
}
