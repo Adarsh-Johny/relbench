{
 "cells": [
  {
   "cell_type": "code",
   "execution_count": 1,
   "id": "f328220d-6d96-447b-9da6-18ae0069025a",
   "metadata": {
    "execution": {
     "iopub.execute_input": "2023-11-14T18:42:11.597760Z",
     "iopub.status.busy": "2023-11-14T18:42:11.597412Z",
     "iopub.status.idle": "2023-11-14T18:42:11.624524Z",
     "shell.execute_reply": "2023-11-14T18:42:11.623710Z",
     "shell.execute_reply.started": "2023-11-14T18:42:11.597722Z"
    }
   },
   "outputs": [],
   "source": [
    "%load_ext autoreload\n",
    "%autoreload 2"
   ]
  },
  {
   "cell_type": "code",
   "execution_count": 2,
   "id": "6f3dac79-b7aa-46e7-9f60-7728da8bc263",
   "metadata": {
    "execution": {
     "iopub.execute_input": "2023-11-14T18:42:13.294037Z",
     "iopub.status.busy": "2023-11-14T18:42:13.293414Z",
     "iopub.status.idle": "2023-11-14T18:42:15.937071Z",
     "shell.execute_reply": "2023-11-14T18:42:15.935782Z",
     "shell.execute_reply.started": "2023-11-14T18:42:13.294001Z"
    }
   },
   "outputs": [],
   "source": [
    "import tqdm\n",
    "import duckdb\n",
    "import matplotlib.pyplot as plt\n",
    "import pandas as pd\n",
    "\n",
    "from rtb.datasets import get_dataset\n",
    "from rtb.utils import one_window_sampler, rolling_window_sampler"
   ]
  },
  {
   "cell_type": "code",
   "execution_count": 4,
   "id": "7c9d1987-1582-4115-92e2-23d4e9da3a98",
   "metadata": {
    "execution": {
     "iopub.execute_input": "2023-11-14T17:21:07.368699Z",
     "iopub.status.busy": "2023-11-14T17:21:07.368210Z",
     "iopub.status.idle": "2023-11-14T17:23:21.982741Z",
     "shell.execute_reply": "2023-11-14T17:23:21.981498Z",
     "shell.execute_reply.started": "2023-11-14T17:21:07.368660Z"
    }
   },
   "outputs": [
    {
     "name": "stdout",
     "output_type": "stream",
     "text": [
      "loading table ../../data/rtb-product/processed/db/customer.parquet...\n",
      "done in 18.31 seconds.\n",
      "loading table ../../data/rtb-product/processed/db/product.parquet...\n",
      "done in 4.69 seconds.\n",
      "loading table ../../data/rtb-product/processed/db/review.parquet...\n",
      "done in 107.67 seconds.\n"
     ]
    }
   ],
   "source": [
    "ds = get_dataset(name=\"rtb-product\", root=\"../../data\")"
   ]
  },
  {
   "cell_type": "code",
   "execution_count": 5,
   "id": "999cf3cc-a470-4413-af3c-1e1e7a32adb4",
   "metadata": {
    "execution": {
     "iopub.execute_input": "2023-11-14T17:25:58.857256Z",
     "iopub.status.busy": "2023-11-14T17:25:58.856823Z",
     "iopub.status.idle": "2023-11-14T17:25:58.905583Z",
     "shell.execute_reply": "2023-11-14T17:25:58.904703Z",
     "shell.execute_reply.started": "2023-11-14T17:25:58.857220Z"
    }
   },
   "outputs": [],
   "source": [
    "db = ds._db"
   ]
  },
  {
   "cell_type": "code",
   "execution_count": 6,
   "id": "1ea16577-ca56-4edb-b459-e506f3c3f6b4",
   "metadata": {
    "execution": {
     "iopub.execute_input": "2023-11-14T17:26:00.074309Z",
     "iopub.status.busy": "2023-11-14T17:26:00.073914Z",
     "iopub.status.idle": "2023-11-14T17:26:00.103709Z",
     "shell.execute_reply": "2023-11-14T17:26:00.102796Z",
     "shell.execute_reply.started": "2023-11-14T17:26:00.074274Z"
    }
   },
   "outputs": [],
   "source": [
    "customer = db.tables[\"customer\"].df\n",
    "product = db.tables[\"product\"].df\n",
    "review = db.tables[\"review\"].df"
   ]
  },
  {
   "cell_type": "code",
   "execution_count": 7,
   "id": "762b073e-bc7c-4477-aacf-a5fde00192bd",
   "metadata": {
    "execution": {
     "iopub.execute_input": "2023-11-14T17:26:02.113023Z",
     "iopub.status.busy": "2023-11-14T17:26:02.112475Z",
     "iopub.status.idle": "2023-11-14T17:26:02.149283Z",
     "shell.execute_reply": "2023-11-14T17:26:02.148486Z",
     "shell.execute_reply.started": "2023-11-14T17:26:02.112986Z"
    }
   },
   "outputs": [
    {
     "data": {
      "text/html": [
       "<div>\n",
       "<style scoped>\n",
       "    .dataframe tbody tr th:only-of-type {\n",
       "        vertical-align: middle;\n",
       "    }\n",
       "\n",
       "    .dataframe tbody tr th {\n",
       "        vertical-align: top;\n",
       "    }\n",
       "\n",
       "    .dataframe thead th {\n",
       "        text-align: right;\n",
       "    }\n",
       "</style>\n",
       "<table border=\"1\" class=\"dataframe\">\n",
       "  <thead>\n",
       "    <tr style=\"text-align: right;\">\n",
       "      <th></th>\n",
       "      <th>customer_id</th>\n",
       "      <th>customer_name</th>\n",
       "    </tr>\n",
       "  </thead>\n",
       "  <tbody>\n",
       "    <tr>\n",
       "      <th>0</th>\n",
       "      <td>A2B1GZIRD6W646</td>\n",
       "      <td>David W. Nicholas</td>\n",
       "    </tr>\n",
       "    <tr>\n",
       "      <th>1</th>\n",
       "      <td>A1K1JW1C5CUSUZ</td>\n",
       "      <td>Donald Mitchell</td>\n",
       "    </tr>\n",
       "    <tr>\n",
       "      <th>2</th>\n",
       "      <td>AVP0HXC9FG790</td>\n",
       "      <td>Amazon Customer</td>\n",
       "    </tr>\n",
       "    <tr>\n",
       "      <th>3</th>\n",
       "      <td>A1DNVU9ZPA66AO</td>\n",
       "      <td>Jane R</td>\n",
       "    </tr>\n",
       "    <tr>\n",
       "      <th>4</th>\n",
       "      <td>A1TMAVN4CEM8U8</td>\n",
       "      <td>the gunner</td>\n",
       "    </tr>\n",
       "    <tr>\n",
       "      <th>...</th>\n",
       "      <td>...</td>\n",
       "      <td>...</td>\n",
       "    </tr>\n",
       "    <tr>\n",
       "      <th>35948997</th>\n",
       "      <td>A2RXWEXESDH2NX</td>\n",
       "      <td>ButtonsMom2003</td>\n",
       "    </tr>\n",
       "    <tr>\n",
       "      <th>35948998</th>\n",
       "      <td>A1V4LZS4HHHH6K</td>\n",
       "      <td>TS</td>\n",
       "    </tr>\n",
       "    <tr>\n",
       "      <th>35948999</th>\n",
       "      <td>A1UHQN8U9DUS6S</td>\n",
       "      <td>Tracy Morris</td>\n",
       "    </tr>\n",
       "    <tr>\n",
       "      <th>35949000</th>\n",
       "      <td>A26Q9T9G9MTX9S</td>\n",
       "      <td>Kindle Customer</td>\n",
       "    </tr>\n",
       "    <tr>\n",
       "      <th>35949001</th>\n",
       "      <td>A7J9KA8SAL0MA</td>\n",
       "      <td>Amazon Customer</td>\n",
       "    </tr>\n",
       "  </tbody>\n",
       "</table>\n",
       "<p>35949002 rows × 2 columns</p>\n",
       "</div>"
      ],
      "text/plain": [
       "             customer_id      customer_name\n",
       "0         A2B1GZIRD6W646  David W. Nicholas\n",
       "1         A1K1JW1C5CUSUZ    Donald Mitchell\n",
       "2          AVP0HXC9FG790    Amazon Customer\n",
       "3         A1DNVU9ZPA66AO             Jane R\n",
       "4         A1TMAVN4CEM8U8         the gunner\n",
       "...                  ...                ...\n",
       "35948997  A2RXWEXESDH2NX     ButtonsMom2003\n",
       "35948998  A1V4LZS4HHHH6K                 TS\n",
       "35948999  A1UHQN8U9DUS6S       Tracy Morris\n",
       "35949000  A26Q9T9G9MTX9S    Kindle Customer\n",
       "35949001   A7J9KA8SAL0MA    Amazon Customer\n",
       "\n",
       "[35949002 rows x 2 columns]"
      ]
     },
     "execution_count": 7,
     "metadata": {},
     "output_type": "execute_result"
    }
   ],
   "source": [
    "customer"
   ]
  },
  {
   "cell_type": "code",
   "execution_count": 8,
   "id": "709463e5-6c36-40d9-8f6e-e50e983ecd7e",
   "metadata": {
    "execution": {
     "iopub.execute_input": "2023-11-14T17:26:13.127016Z",
     "iopub.status.busy": "2023-11-14T17:26:13.126609Z",
     "iopub.status.idle": "2023-11-14T17:26:13.154911Z",
     "shell.execute_reply": "2023-11-14T17:26:13.153924Z",
     "shell.execute_reply.started": "2023-11-14T17:26:13.126981Z"
    }
   },
   "outputs": [],
   "source": [
    "time_window_df = rolling_window_sampler(ds.min_time, ds.train_max_time, pd.Timedelta(\"52W\"), pd.Timedelta(\"52W\"))"
   ]
  },
  {
   "cell_type": "code",
   "execution_count": 9,
   "id": "6261aaae-ec3e-4ae4-8c02-adec7eea1d66",
   "metadata": {
    "execution": {
     "iopub.execute_input": "2023-11-14T17:26:14.133554Z",
     "iopub.status.busy": "2023-11-14T17:26:14.133265Z",
     "iopub.status.idle": "2023-11-14T17:26:14.161539Z",
     "shell.execute_reply": "2023-11-14T17:26:14.160750Z",
     "shell.execute_reply.started": "2023-11-14T17:26:14.133537Z"
    }
   },
   "outputs": [
    {
     "data": {
      "text/html": [
       "<div>\n",
       "<style scoped>\n",
       "    .dataframe tbody tr th:only-of-type {\n",
       "        vertical-align: middle;\n",
       "    }\n",
       "\n",
       "    .dataframe tbody tr th {\n",
       "        vertical-align: top;\n",
       "    }\n",
       "\n",
       "    .dataframe thead th {\n",
       "        text-align: right;\n",
       "    }\n",
       "</style>\n",
       "<table border=\"1\" class=\"dataframe\">\n",
       "  <thead>\n",
       "    <tr style=\"text-align: right;\">\n",
       "      <th></th>\n",
       "      <th>window_min_time</th>\n",
       "      <th>window_max_time</th>\n",
       "    </tr>\n",
       "  </thead>\n",
       "  <tbody>\n",
       "    <tr>\n",
       "      <th>0</th>\n",
       "      <td>1996-05-20 00:00:01</td>\n",
       "      <td>1997-05-19 00:00:01</td>\n",
       "    </tr>\n",
       "    <tr>\n",
       "      <th>1</th>\n",
       "      <td>1997-05-19 00:00:01</td>\n",
       "      <td>1998-05-18 00:00:01</td>\n",
       "    </tr>\n",
       "    <tr>\n",
       "      <th>2</th>\n",
       "      <td>1998-05-18 00:00:01</td>\n",
       "      <td>1999-05-17 00:00:01</td>\n",
       "    </tr>\n",
       "    <tr>\n",
       "      <th>3</th>\n",
       "      <td>1999-05-17 00:00:01</td>\n",
       "      <td>2000-05-15 00:00:01</td>\n",
       "    </tr>\n",
       "    <tr>\n",
       "      <th>4</th>\n",
       "      <td>2000-05-15 00:00:01</td>\n",
       "      <td>2001-05-14 00:00:01</td>\n",
       "    </tr>\n",
       "    <tr>\n",
       "      <th>5</th>\n",
       "      <td>2001-05-14 00:00:01</td>\n",
       "      <td>2002-05-13 00:00:01</td>\n",
       "    </tr>\n",
       "    <tr>\n",
       "      <th>6</th>\n",
       "      <td>2002-05-13 00:00:01</td>\n",
       "      <td>2003-05-12 00:00:01</td>\n",
       "    </tr>\n",
       "    <tr>\n",
       "      <th>7</th>\n",
       "      <td>2003-05-12 00:00:01</td>\n",
       "      <td>2004-05-10 00:00:01</td>\n",
       "    </tr>\n",
       "    <tr>\n",
       "      <th>8</th>\n",
       "      <td>2004-05-10 00:00:01</td>\n",
       "      <td>2005-05-09 00:00:01</td>\n",
       "    </tr>\n",
       "    <tr>\n",
       "      <th>9</th>\n",
       "      <td>2005-05-09 00:00:01</td>\n",
       "      <td>2006-05-08 00:00:01</td>\n",
       "    </tr>\n",
       "    <tr>\n",
       "      <th>10</th>\n",
       "      <td>2006-05-08 00:00:01</td>\n",
       "      <td>2007-05-07 00:00:01</td>\n",
       "    </tr>\n",
       "    <tr>\n",
       "      <th>11</th>\n",
       "      <td>2007-05-07 00:00:01</td>\n",
       "      <td>2008-05-05 00:00:01</td>\n",
       "    </tr>\n",
       "    <tr>\n",
       "      <th>12</th>\n",
       "      <td>2008-05-05 00:00:01</td>\n",
       "      <td>2009-05-04 00:00:01</td>\n",
       "    </tr>\n",
       "    <tr>\n",
       "      <th>13</th>\n",
       "      <td>2009-05-04 00:00:01</td>\n",
       "      <td>2010-05-03 00:00:01</td>\n",
       "    </tr>\n",
       "    <tr>\n",
       "      <th>14</th>\n",
       "      <td>2010-05-03 00:00:01</td>\n",
       "      <td>2011-05-02 00:00:01</td>\n",
       "    </tr>\n",
       "    <tr>\n",
       "      <th>15</th>\n",
       "      <td>2011-05-02 00:00:01</td>\n",
       "      <td>2012-04-30 00:00:01</td>\n",
       "    </tr>\n",
       "    <tr>\n",
       "      <th>16</th>\n",
       "      <td>2012-04-30 00:00:01</td>\n",
       "      <td>2013-04-29 00:00:01</td>\n",
       "    </tr>\n",
       "  </tbody>\n",
       "</table>\n",
       "</div>"
      ],
      "text/plain": [
       "       window_min_time     window_max_time\n",
       "0  1996-05-20 00:00:01 1997-05-19 00:00:01\n",
       "1  1997-05-19 00:00:01 1998-05-18 00:00:01\n",
       "2  1998-05-18 00:00:01 1999-05-17 00:00:01\n",
       "3  1999-05-17 00:00:01 2000-05-15 00:00:01\n",
       "4  2000-05-15 00:00:01 2001-05-14 00:00:01\n",
       "5  2001-05-14 00:00:01 2002-05-13 00:00:01\n",
       "6  2002-05-13 00:00:01 2003-05-12 00:00:01\n",
       "7  2003-05-12 00:00:01 2004-05-10 00:00:01\n",
       "8  2004-05-10 00:00:01 2005-05-09 00:00:01\n",
       "9  2005-05-09 00:00:01 2006-05-08 00:00:01\n",
       "10 2006-05-08 00:00:01 2007-05-07 00:00:01\n",
       "11 2007-05-07 00:00:01 2008-05-05 00:00:01\n",
       "12 2008-05-05 00:00:01 2009-05-04 00:00:01\n",
       "13 2009-05-04 00:00:01 2010-05-03 00:00:01\n",
       "14 2010-05-03 00:00:01 2011-05-02 00:00:01\n",
       "15 2011-05-02 00:00:01 2012-04-30 00:00:01\n",
       "16 2012-04-30 00:00:01 2013-04-29 00:00:01"
      ]
     },
     "execution_count": 9,
     "metadata": {},
     "output_type": "execute_result"
    }
   ],
   "source": [
    "time_window_df"
   ]
  },
  {
   "cell_type": "code",
   "execution_count": 10,
   "id": "7959cdc8-c2ed-4d99-9c80-6ed9fb1653bd",
   "metadata": {
    "execution": {
     "iopub.execute_input": "2023-11-14T17:26:32.047248Z",
     "iopub.status.busy": "2023-11-14T17:26:32.046443Z",
     "iopub.status.idle": "2023-11-14T17:26:32.074188Z",
     "shell.execute_reply": "2023-11-14T17:26:32.073182Z",
     "shell.execute_reply.started": "2023-11-14T17:26:32.047206Z"
    }
   },
   "outputs": [],
   "source": [
    "time_window_df = one_window_sampler(ds.val_max_time, pd.Timedelta(\"52W\"))"
   ]
  },
  {
   "cell_type": "code",
   "execution_count": 11,
   "id": "64f96a10-a2e6-47a2-a35b-c724c9c22725",
   "metadata": {
    "execution": {
     "iopub.execute_input": "2023-11-14T17:26:33.803582Z",
     "iopub.status.busy": "2023-11-14T17:26:33.802699Z",
     "iopub.status.idle": "2023-11-14T17:26:33.831150Z",
     "shell.execute_reply": "2023-11-14T17:26:33.830141Z",
     "shell.execute_reply.started": "2023-11-14T17:26:33.803540Z"
    }
   },
   "outputs": [
    {
     "data": {
      "text/html": [
       "<div>\n",
       "<style scoped>\n",
       "    .dataframe tbody tr th:only-of-type {\n",
       "        vertical-align: middle;\n",
       "    }\n",
       "\n",
       "    .dataframe tbody tr th {\n",
       "        vertical-align: top;\n",
       "    }\n",
       "\n",
       "    .dataframe thead th {\n",
       "        text-align: right;\n",
       "    }\n",
       "</style>\n",
       "<table border=\"1\" class=\"dataframe\">\n",
       "  <thead>\n",
       "    <tr style=\"text-align: right;\">\n",
       "      <th></th>\n",
       "      <th>window_min_time</th>\n",
       "      <th>window_max_time</th>\n",
       "    </tr>\n",
       "  </thead>\n",
       "  <tbody>\n",
       "    <tr>\n",
       "      <th>0</th>\n",
       "      <td>2016-07-07 00:00:01</td>\n",
       "      <td>2017-07-06</td>\n",
       "    </tr>\n",
       "  </tbody>\n",
       "</table>\n",
       "</div>"
      ],
      "text/plain": [
       "      window_min_time window_max_time\n",
       "0 2016-07-07 00:00:01      2017-07-06"
      ]
     },
     "execution_count": 11,
     "metadata": {},
     "output_type": "execute_result"
    }
   ],
   "source": [
    "time_window_df"
   ]
  },
  {
   "cell_type": "code",
   "execution_count": 12,
   "id": "87f47111-d018-4636-80b0-6077799a468e",
   "metadata": {
    "execution": {
     "iopub.execute_input": "2023-11-14T17:26:37.718634Z",
     "iopub.status.busy": "2023-11-14T17:26:37.718278Z",
     "iopub.status.idle": "2023-11-14T17:26:41.404353Z",
     "shell.execute_reply": "2023-11-14T17:26:41.403370Z",
     "shell.execute_reply.started": "2023-11-14T17:26:37.718599Z"
    }
   },
   "outputs": [
    {
     "data": {
      "text/html": [
       "<div>\n",
       "<style scoped>\n",
       "    .dataframe tbody tr th:only-of-type {\n",
       "        vertical-align: middle;\n",
       "    }\n",
       "\n",
       "    .dataframe tbody tr th {\n",
       "        vertical-align: top;\n",
       "    }\n",
       "\n",
       "    .dataframe thead th {\n",
       "        text-align: right;\n",
       "    }\n",
       "</style>\n",
       "<table border=\"1\" class=\"dataframe\">\n",
       "  <thead>\n",
       "    <tr style=\"text-align: right;\">\n",
       "      <th></th>\n",
       "      <th>window_min_time</th>\n",
       "      <th>window_max_time</th>\n",
       "      <th>customer_id</th>\n",
       "    </tr>\n",
       "  </thead>\n",
       "  <tbody>\n",
       "    <tr>\n",
       "      <th>0</th>\n",
       "      <td>2016-07-07 00:00:01</td>\n",
       "      <td>2017-07-06</td>\n",
       "      <td>A2B1GZIRD6W646</td>\n",
       "    </tr>\n",
       "    <tr>\n",
       "      <th>1</th>\n",
       "      <td>2016-07-07 00:00:01</td>\n",
       "      <td>2017-07-06</td>\n",
       "      <td>A1K1JW1C5CUSUZ</td>\n",
       "    </tr>\n",
       "    <tr>\n",
       "      <th>2</th>\n",
       "      <td>2016-07-07 00:00:01</td>\n",
       "      <td>2017-07-06</td>\n",
       "      <td>AVP0HXC9FG790</td>\n",
       "    </tr>\n",
       "    <tr>\n",
       "      <th>3</th>\n",
       "      <td>2016-07-07 00:00:01</td>\n",
       "      <td>2017-07-06</td>\n",
       "      <td>A1DNVU9ZPA66AO</td>\n",
       "    </tr>\n",
       "    <tr>\n",
       "      <th>4</th>\n",
       "      <td>2016-07-07 00:00:01</td>\n",
       "      <td>2017-07-06</td>\n",
       "      <td>A1TMAVN4CEM8U8</td>\n",
       "    </tr>\n",
       "    <tr>\n",
       "      <th>...</th>\n",
       "      <td>...</td>\n",
       "      <td>...</td>\n",
       "      <td>...</td>\n",
       "    </tr>\n",
       "    <tr>\n",
       "      <th>35948997</th>\n",
       "      <td>2016-07-07 00:00:01</td>\n",
       "      <td>2017-07-06</td>\n",
       "      <td>A2RXWEXESDH2NX</td>\n",
       "    </tr>\n",
       "    <tr>\n",
       "      <th>35948998</th>\n",
       "      <td>2016-07-07 00:00:01</td>\n",
       "      <td>2017-07-06</td>\n",
       "      <td>A1V4LZS4HHHH6K</td>\n",
       "    </tr>\n",
       "    <tr>\n",
       "      <th>35948999</th>\n",
       "      <td>2016-07-07 00:00:01</td>\n",
       "      <td>2017-07-06</td>\n",
       "      <td>A1UHQN8U9DUS6S</td>\n",
       "    </tr>\n",
       "    <tr>\n",
       "      <th>35949000</th>\n",
       "      <td>2016-07-07 00:00:01</td>\n",
       "      <td>2017-07-06</td>\n",
       "      <td>A26Q9T9G9MTX9S</td>\n",
       "    </tr>\n",
       "    <tr>\n",
       "      <th>35949001</th>\n",
       "      <td>2016-07-07 00:00:01</td>\n",
       "      <td>2017-07-06</td>\n",
       "      <td>A7J9KA8SAL0MA</td>\n",
       "    </tr>\n",
       "  </tbody>\n",
       "</table>\n",
       "<p>35949002 rows × 3 columns</p>\n",
       "</div>"
      ],
      "text/plain": [
       "             window_min_time window_max_time     customer_id\n",
       "0        2016-07-07 00:00:01      2017-07-06  A2B1GZIRD6W646\n",
       "1        2016-07-07 00:00:01      2017-07-06  A1K1JW1C5CUSUZ\n",
       "2        2016-07-07 00:00:01      2017-07-06   AVP0HXC9FG790\n",
       "3        2016-07-07 00:00:01      2017-07-06  A1DNVU9ZPA66AO\n",
       "4        2016-07-07 00:00:01      2017-07-06  A1TMAVN4CEM8U8\n",
       "...                      ...             ...             ...\n",
       "35948997 2016-07-07 00:00:01      2017-07-06  A2RXWEXESDH2NX\n",
       "35948998 2016-07-07 00:00:01      2017-07-06  A1V4LZS4HHHH6K\n",
       "35948999 2016-07-07 00:00:01      2017-07-06  A1UHQN8U9DUS6S\n",
       "35949000 2016-07-07 00:00:01      2017-07-06  A26Q9T9G9MTX9S\n",
       "35949001 2016-07-07 00:00:01      2017-07-06   A7J9KA8SAL0MA\n",
       "\n",
       "[35949002 rows x 3 columns]"
      ]
     },
     "execution_count": 12,
     "metadata": {},
     "output_type": "execute_result"
    }
   ],
   "source": [
    "duckdb.sql(\"\"\"\n",
    "SELECT\n",
    "    window_min_time,\n",
    "    window_max_time,\n",
    "    customer_id\n",
    "FROM\n",
    "    time_window_df,\n",
    "    customer\n",
    "\"\"\").df()"
   ]
  },
  {
   "cell_type": "code",
   "execution_count": 13,
   "id": "a3caa4a1-3695-46c0-8855-177e5f930410",
   "metadata": {
    "execution": {
     "iopub.execute_input": "2023-11-14T17:26:46.523463Z",
     "iopub.status.busy": "2023-11-14T17:26:46.522907Z",
     "iopub.status.idle": "2023-11-14T17:26:47.424602Z",
     "shell.execute_reply": "2023-11-14T17:26:47.423742Z",
     "shell.execute_reply.started": "2023-11-14T17:26:46.523423Z"
    }
   },
   "outputs": [
    {
     "data": {
      "text/html": [
       "<div>\n",
       "<style scoped>\n",
       "    .dataframe tbody tr th:only-of-type {\n",
       "        vertical-align: middle;\n",
       "    }\n",
       "\n",
       "    .dataframe tbody tr th {\n",
       "        vertical-align: top;\n",
       "    }\n",
       "\n",
       "    .dataframe thead th {\n",
       "        text-align: right;\n",
       "    }\n",
       "</style>\n",
       "<table border=\"1\" class=\"dataframe\">\n",
       "  <thead>\n",
       "    <tr style=\"text-align: right;\">\n",
       "      <th></th>\n",
       "      <th>window_min_time</th>\n",
       "      <th>window_max_time</th>\n",
       "      <th>customer_id</th>\n",
       "      <th>price</th>\n",
       "    </tr>\n",
       "  </thead>\n",
       "  <tbody>\n",
       "    <tr>\n",
       "      <th>0</th>\n",
       "      <td>2016-07-07 00:00:01</td>\n",
       "      <td>2017-07-06</td>\n",
       "      <td>A1CDSEV1EM84PI</td>\n",
       "      <td>15.66</td>\n",
       "    </tr>\n",
       "    <tr>\n",
       "      <th>1</th>\n",
       "      <td>2016-07-07 00:00:01</td>\n",
       "      <td>2017-07-06</td>\n",
       "      <td>A3DTW33GIYATEK</td>\n",
       "      <td>15.66</td>\n",
       "    </tr>\n",
       "    <tr>\n",
       "      <th>2</th>\n",
       "      <td>2016-07-07 00:00:01</td>\n",
       "      <td>2017-07-06</td>\n",
       "      <td>A35U3XZ52U12RS</td>\n",
       "      <td>15.66</td>\n",
       "    </tr>\n",
       "    <tr>\n",
       "      <th>3</th>\n",
       "      <td>2016-07-07 00:00:01</td>\n",
       "      <td>2017-07-06</td>\n",
       "      <td>A1IC4NNRTY3JB</td>\n",
       "      <td>15.66</td>\n",
       "    </tr>\n",
       "    <tr>\n",
       "      <th>4</th>\n",
       "      <td>2016-07-07 00:00:01</td>\n",
       "      <td>2017-07-06</td>\n",
       "      <td>A140IT9UXUB86U</td>\n",
       "      <td>15.66</td>\n",
       "    </tr>\n",
       "    <tr>\n",
       "      <th>...</th>\n",
       "      <td>...</td>\n",
       "      <td>...</td>\n",
       "      <td>...</td>\n",
       "      <td>...</td>\n",
       "    </tr>\n",
       "    <tr>\n",
       "      <th>6276038</th>\n",
       "      <td>2016-07-07 00:00:01</td>\n",
       "      <td>2017-07-06</td>\n",
       "      <td>A1FH9W9C71JWRE</td>\n",
       "      <td>7.19</td>\n",
       "    </tr>\n",
       "    <tr>\n",
       "      <th>6276039</th>\n",
       "      <td>2016-07-07 00:00:01</td>\n",
       "      <td>2017-07-06</td>\n",
       "      <td>ARJSGQE1LTNMV</td>\n",
       "      <td>7.19</td>\n",
       "    </tr>\n",
       "    <tr>\n",
       "      <th>6276040</th>\n",
       "      <td>2016-07-07 00:00:01</td>\n",
       "      <td>2017-07-06</td>\n",
       "      <td>A35TINPMLQGT65</td>\n",
       "      <td>7.19</td>\n",
       "    </tr>\n",
       "    <tr>\n",
       "      <th>6276041</th>\n",
       "      <td>2016-07-07 00:00:01</td>\n",
       "      <td>2017-07-06</td>\n",
       "      <td>A1KXCZ4PY9U164</td>\n",
       "      <td>7.19</td>\n",
       "    </tr>\n",
       "    <tr>\n",
       "      <th>6276042</th>\n",
       "      <td>2016-07-07 00:00:01</td>\n",
       "      <td>2017-07-06</td>\n",
       "      <td>A35KJ952MJP206</td>\n",
       "      <td>7.19</td>\n",
       "    </tr>\n",
       "  </tbody>\n",
       "</table>\n",
       "<p>6276043 rows × 4 columns</p>\n",
       "</div>"
      ],
      "text/plain": [
       "            window_min_time window_max_time     customer_id  price\n",
       "0       2016-07-07 00:00:01      2017-07-06  A1CDSEV1EM84PI  15.66\n",
       "1       2016-07-07 00:00:01      2017-07-06  A3DTW33GIYATEK  15.66\n",
       "2       2016-07-07 00:00:01      2017-07-06  A35U3XZ52U12RS  15.66\n",
       "3       2016-07-07 00:00:01      2017-07-06   A1IC4NNRTY3JB  15.66\n",
       "4       2016-07-07 00:00:01      2017-07-06  A140IT9UXUB86U  15.66\n",
       "...                     ...             ...             ...    ...\n",
       "6276038 2016-07-07 00:00:01      2017-07-06  A1FH9W9C71JWRE   7.19\n",
       "6276039 2016-07-07 00:00:01      2017-07-06   ARJSGQE1LTNMV   7.19\n",
       "6276040 2016-07-07 00:00:01      2017-07-06  A35TINPMLQGT65   7.19\n",
       "6276041 2016-07-07 00:00:01      2017-07-06  A1KXCZ4PY9U164   7.19\n",
       "6276042 2016-07-07 00:00:01      2017-07-06  A35KJ952MJP206   7.19\n",
       "\n",
       "[6276043 rows x 4 columns]"
      ]
     },
     "execution_count": 13,
     "metadata": {},
     "output_type": "execute_result"
    }
   ],
   "source": [
    "duckdb.sql(\"\"\"\n",
    "SELECT\n",
    "    window_min_time,\n",
    "    window_max_time,\n",
    "    customer_id,\n",
    "    price\n",
    "FROM\n",
    "    time_window_df, review, product\n",
    "WHERE\n",
    "    review.product_id = product.product_id AND\n",
    "    review_time BETWEEN window_min_time AND window_max_time\n",
    "\"\"\").df()"
   ]
  },
  {
   "cell_type": "code",
   "execution_count": 14,
   "id": "95750834-398a-4dc9-a50a-0c0973c83a6d",
   "metadata": {
    "execution": {
     "iopub.execute_input": "2023-11-14T17:26:55.235940Z",
     "iopub.status.busy": "2023-11-14T17:26:55.235369Z",
     "iopub.status.idle": "2023-11-14T17:26:56.267369Z",
     "shell.execute_reply": "2023-11-14T17:26:56.266438Z",
     "shell.execute_reply.started": "2023-11-14T17:26:55.235902Z"
    }
   },
   "outputs": [],
   "source": [
    "df = duckdb.sql(\"\"\"\n",
    "SELECT\n",
    "    window_min_time,\n",
    "    window_max_time,\n",
    "    customer_id,\n",
    "    SUM(price) AS ltv,\n",
    "    COUNT(price) as count\n",
    "FROM\n",
    "    time_window_df, review, product\n",
    "WHERE\n",
    "    review.product_id = product.product_id AND\n",
    "    review_time BETWEEN window_min_time AND window_max_time\n",
    "GROUP BY\n",
    "    window_min_time, window_max_time, customer_id\n",
    "\"\"\").df()"
   ]
  },
  {
   "cell_type": "code",
   "execution_count": 71,
   "id": "62b7796e-060d-428d-937e-5ec71344c8ee",
   "metadata": {
    "execution": {
     "iopub.execute_input": "2023-11-14T01:12:18.782221Z",
     "iopub.status.busy": "2023-11-14T01:12:18.781368Z",
     "iopub.status.idle": "2023-11-14T01:12:18.823311Z",
     "shell.execute_reply": "2023-11-14T01:12:18.822461Z",
     "shell.execute_reply.started": "2023-11-14T01:12:18.782190Z"
    }
   },
   "outputs": [
    {
     "data": {
      "text/html": [
       "<div>\n",
       "<style scoped>\n",
       "    .dataframe tbody tr th:only-of-type {\n",
       "        vertical-align: middle;\n",
       "    }\n",
       "\n",
       "    .dataframe tbody tr th {\n",
       "        vertical-align: top;\n",
       "    }\n",
       "\n",
       "    .dataframe thead th {\n",
       "        text-align: right;\n",
       "    }\n",
       "</style>\n",
       "<table border=\"1\" class=\"dataframe\">\n",
       "  <thead>\n",
       "    <tr style=\"text-align: right;\">\n",
       "      <th></th>\n",
       "      <th>window_min_time</th>\n",
       "      <th>window_max_time</th>\n",
       "      <th>customer_id</th>\n",
       "      <th>ltv</th>\n",
       "      <th>count</th>\n",
       "    </tr>\n",
       "  </thead>\n",
       "  <tbody>\n",
       "    <tr>\n",
       "      <th>34818</th>\n",
       "      <td>2017-01-28 02:24:01</td>\n",
       "      <td>2017-07-29 02:24:00</td>\n",
       "      <td>A3EBDYA3SGMEL1</td>\n",
       "      <td>17.87</td>\n",
       "      <td>1</td>\n",
       "    </tr>\n",
       "    <tr>\n",
       "      <th>37433</th>\n",
       "      <td>2017-01-28 02:24:01</td>\n",
       "      <td>2017-07-29 02:24:00</td>\n",
       "      <td>A29BX6AK5CKL4I</td>\n",
       "      <td>15.04</td>\n",
       "      <td>1</td>\n",
       "    </tr>\n",
       "    <tr>\n",
       "      <th>37437</th>\n",
       "      <td>2017-01-28 02:24:01</td>\n",
       "      <td>2017-07-29 02:24:00</td>\n",
       "      <td>A2Z456J21TUBRG</td>\n",
       "      <td>5.53</td>\n",
       "      <td>1</td>\n",
       "    </tr>\n",
       "    <tr>\n",
       "      <th>37448</th>\n",
       "      <td>2017-01-28 02:24:01</td>\n",
       "      <td>2017-07-29 02:24:00</td>\n",
       "      <td>ACXDD2PPXWT45</td>\n",
       "      <td>36.10</td>\n",
       "      <td>1</td>\n",
       "    </tr>\n",
       "    <tr>\n",
       "      <th>37449</th>\n",
       "      <td>2017-01-28 02:24:01</td>\n",
       "      <td>2017-07-29 02:24:00</td>\n",
       "      <td>A195T9XQL2ZK5W</td>\n",
       "      <td>36.10</td>\n",
       "      <td>1</td>\n",
       "    </tr>\n",
       "    <tr>\n",
       "      <th>...</th>\n",
       "      <td>...</td>\n",
       "      <td>...</td>\n",
       "      <td>...</td>\n",
       "      <td>...</td>\n",
       "      <td>...</td>\n",
       "    </tr>\n",
       "    <tr>\n",
       "      <th>26698</th>\n",
       "      <td>2017-01-28 02:24:01</td>\n",
       "      <td>2017-07-29 02:24:00</td>\n",
       "      <td>A1O2XZ9FN8I67V</td>\n",
       "      <td>597.31</td>\n",
       "      <td>43</td>\n",
       "    </tr>\n",
       "    <tr>\n",
       "      <th>17582</th>\n",
       "      <td>2017-01-28 02:24:01</td>\n",
       "      <td>2017-07-29 02:24:00</td>\n",
       "      <td>A16D575EB8KEAL</td>\n",
       "      <td>935.30</td>\n",
       "      <td>43</td>\n",
       "    </tr>\n",
       "    <tr>\n",
       "      <th>36725</th>\n",
       "      <td>2017-01-28 02:24:01</td>\n",
       "      <td>2017-07-29 02:24:00</td>\n",
       "      <td>A11OTLEDSW8ZXD</td>\n",
       "      <td>985.76</td>\n",
       "      <td>45</td>\n",
       "    </tr>\n",
       "    <tr>\n",
       "      <th>17676</th>\n",
       "      <td>2017-01-28 02:24:01</td>\n",
       "      <td>2017-07-29 02:24:00</td>\n",
       "      <td>A37I59EHEWZOC</td>\n",
       "      <td>588.93</td>\n",
       "      <td>47</td>\n",
       "    </tr>\n",
       "    <tr>\n",
       "      <th>43642</th>\n",
       "      <td>2017-01-28 02:24:01</td>\n",
       "      <td>2017-07-29 02:24:00</td>\n",
       "      <td>A1BV7JS2VQUANN</td>\n",
       "      <td>1232.78</td>\n",
       "      <td>71</td>\n",
       "    </tr>\n",
       "  </tbody>\n",
       "</table>\n",
       "<p>69637 rows × 5 columns</p>\n",
       "</div>"
      ],
      "text/plain": [
       "          window_min_time     window_max_time     customer_id      ltv  count\n",
       "34818 2017-01-28 02:24:01 2017-07-29 02:24:00  A3EBDYA3SGMEL1    17.87      1\n",
       "37433 2017-01-28 02:24:01 2017-07-29 02:24:00  A29BX6AK5CKL4I    15.04      1\n",
       "37437 2017-01-28 02:24:01 2017-07-29 02:24:00  A2Z456J21TUBRG     5.53      1\n",
       "37448 2017-01-28 02:24:01 2017-07-29 02:24:00   ACXDD2PPXWT45    36.10      1\n",
       "37449 2017-01-28 02:24:01 2017-07-29 02:24:00  A195T9XQL2ZK5W    36.10      1\n",
       "...                   ...                 ...             ...      ...    ...\n",
       "26698 2017-01-28 02:24:01 2017-07-29 02:24:00  A1O2XZ9FN8I67V   597.31     43\n",
       "17582 2017-01-28 02:24:01 2017-07-29 02:24:00  A16D575EB8KEAL   935.30     43\n",
       "36725 2017-01-28 02:24:01 2017-07-29 02:24:00  A11OTLEDSW8ZXD   985.76     45\n",
       "17676 2017-01-28 02:24:01 2017-07-29 02:24:00   A37I59EHEWZOC   588.93     47\n",
       "43642 2017-01-28 02:24:01 2017-07-29 02:24:00  A1BV7JS2VQUANN  1232.78     71\n",
       "\n",
       "[69637 rows x 5 columns]"
      ]
     },
     "execution_count": 71,
     "metadata": {},
     "output_type": "execute_result"
    }
   ],
   "source": [
    "df.sort_values(\"count\")"
   ]
  },
  {
   "cell_type": "code",
   "execution_count": 76,
   "id": "623906f8-2ef5-460e-9a1c-9b3155dd4a60",
   "metadata": {
    "execution": {
     "iopub.execute_input": "2023-11-14T01:14:35.596851Z",
     "iopub.status.busy": "2023-11-14T01:14:35.596384Z",
     "iopub.status.idle": "2023-11-14T01:14:35.790753Z",
     "shell.execute_reply": "2023-11-14T01:14:35.789951Z",
     "shell.execute_reply.started": "2023-11-14T01:14:35.596813Z"
    }
   },
   "outputs": [
    {
     "data": {
      "text/plain": [
       "<Axes: >"
      ]
     },
     "execution_count": 76,
     "metadata": {},
     "output_type": "execute_result"
    },
    {
     "data": {
      "image/png": "[encoded data removed]",
      "text/plain": [
       "<Figure size 640x480 with 1 Axes>"
      ]
     },
     "metadata": {},
     "output_type": "display_data"
    }
   ],
   "source": [
    "df[\"count\"].hist(bins=80)"
   ]
  },
  {
   "cell_type": "code",
   "execution_count": null,
   "id": "4db413f0-a84d-4cff-8d1e-d2370b5a7f43",
   "metadata": {
    "execution": {
     "iopub.execute_input": "2023-11-13T23:47:26.063603Z",
     "iopub.status.busy": "2023-11-13T23:47:26.063062Z"
    }
   },
   "outputs": [],
   "source": [
    "duckdb.sql(\n",
    "    r\"\"\"\n",
    "    SELECT\n",
    "        window_min_time,\n",
    "        window_max_time,\n",
    "        customer_id,\n",
    "        (\n",
    "            SELECT COALESCE(SUM(price), 0)\n",
    "            FROM review, product\n",
    "            WHERE\n",
    "                review.customer_id = customer.customer_id AND\n",
    "                review.product_id = product.product_id AND\n",
    "                review.review_time BETWEEN window_min_time AND window_max_time\n",
    "        ) AS ltv\n",
    "    FROM\n",
    "        time_window_df,\n",
    "        customer\n",
    "    \"\"\"\n",
    ")"
   ]
  },
  {
   "cell_type": "code",
   "execution_count": 36,
   "id": "b9c4035d-c1c9-4c5a-a8f2-0ebf6029b9ab",
   "metadata": {
    "execution": {
     "iopub.execute_input": "2023-11-13T23:34:18.720042Z",
     "iopub.status.busy": "2023-11-13T23:34:18.719779Z",
     "iopub.status.idle": "2023-11-13T23:34:18.831401Z",
     "shell.execute_reply": "2023-11-13T23:34:18.830299Z",
     "shell.execute_reply.started": "2023-11-13T23:34:18.720013Z"
    }
   },
   "outputs": [
    {
     "data": {
      "text/plain": [
       "┌─────────────────────┬─────────────────────┬────────────────┬────────┐\n",
       "│   window_min_time   │   window_max_time   │  customer_id   │  ltv   │\n",
       "│     timestamp_s     │     timestamp_s     │    varchar     │ double │\n",
       "├─────────────────────┼─────────────────────┼────────────────┼────────┤\n",
       "│ 2015-07-28 09:36:01 │ 2015-08-04 09:36:00 │ A35DD4A0THPHKP │    0.0 │\n",
       "│ 2015-07-28 09:36:01 │ 2015-08-04 09:36:00 │ AJMN59GMKPTB3  │    0.0 │\n",
       "│ 2015-07-28 09:36:01 │ 2015-08-04 09:36:00 │ A6WQ1M7QD0VLZ  │    0.0 │\n",
       "│ 2015-07-28 09:36:01 │ 2015-08-04 09:36:00 │ ACCLIRVPQRVV1  │    0.0 │\n",
       "│ 2015-07-28 09:36:01 │ 2015-08-04 09:36:00 │ A2Q8I9LG6MH452 │    0.0 │\n",
       "│ 2015-07-28 09:36:01 │ 2015-08-04 09:36:00 │ A2C754QTYOS2SE │    0.0 │\n",
       "│ 2015-07-28 09:36:01 │ 2015-08-04 09:36:00 │ AQDPBAO2CPMDO  │    0.0 │\n",
       "│ 2015-07-28 09:36:01 │ 2015-08-04 09:36:00 │ A1C9BE0OC095O8 │    0.0 │\n",
       "│ 2015-07-28 09:36:01 │ 2015-08-04 09:36:00 │ A1MHUPNNK8Q6RX │    0.0 │\n",
       "│ 2015-07-28 09:36:01 │ 2015-08-04 09:36:00 │ AC40JPFDZ5EOL  │    0.0 │\n",
       "│          ·          │          ·          │       ·        │     ·  │\n",
       "│          ·          │          ·          │       ·        │     ·  │\n",
       "│          ·          │          ·          │       ·        │     ·  │\n",
       "│ 2015-07-28 09:36:01 │ 2015-08-04 09:36:00 │ A2FXR4DALH11J0 │    0.0 │\n",
       "│ 2015-07-28 09:36:01 │ 2015-08-04 09:36:00 │ A24SV534XZ6U7F │    0.0 │\n",
       "│ 2015-07-28 09:36:01 │ 2015-08-04 09:36:00 │ A3UB3NJ6ZBU2AQ │    0.0 │\n",
       "│ 2015-07-28 09:36:01 │ 2015-08-04 09:36:00 │ A39529JJJEEDP5 │    0.0 │\n",
       "│ 2015-07-28 09:36:01 │ 2015-08-04 09:36:00 │ A1F5TQS7T9WUC0 │    0.0 │\n",
       "│ 2015-07-28 09:36:01 │ 2015-08-04 09:36:00 │ A1IP8XZ7630Z3B │    0.0 │\n",
       "│ 2015-07-28 09:36:01 │ 2015-08-04 09:36:00 │ A2Q5WR6SH05LMB │    0.0 │\n",
       "│ 2015-07-28 09:36:01 │ 2015-08-04 09:36:00 │ AV309ROB00KDQ  │    0.0 │\n",
       "│ 2015-07-28 09:36:01 │ 2015-08-04 09:36:00 │ A1GY5I6Y2OBFC5 │    0.0 │\n",
       "│ 2015-07-28 09:36:01 │ 2015-08-04 09:36:00 │ A1NI83JLIMKLUE │    0.0 │\n",
       "├─────────────────────┴─────────────────────┴────────────────┴────────┤\n",
       "│ ? rows (>9999 rows, 20 shown)                             4 columns │\n",
       "└─────────────────────────────────────────────────────────────────────┘"
      ]
     },
     "execution_count": 36,
     "metadata": {},
     "output_type": "execute_result"
    }
   ],
   "source": [
    "duckdb.sql(\n",
    "    r\"\"\"\n",
    "    SELECT *\n",
    "    FROM ltv\n",
    "    \"\"\"\n",
    ")"
   ]
  },
  {
   "cell_type": "code",
   "execution_count": 49,
   "id": "3d527e9b-add0-4f4e-9ef7-cc109bc9ac6d",
   "metadata": {
    "execution": {
     "iopub.execute_input": "2023-11-14T01:09:08.565049Z",
     "iopub.status.busy": "2023-11-14T01:09:08.564594Z",
     "iopub.status.idle": "2023-11-14T01:09:09.203682Z",
     "shell.execute_reply": "2023-11-14T01:09:09.202667Z",
     "shell.execute_reply.started": "2023-11-14T01:09:08.565011Z"
    }
   },
   "outputs": [],
   "source": [
    "df = duckdb.sql(\n",
    "    r\"\"\"\n",
    "    SELECT\n",
    "        window_min_time,\n",
    "        window_max_time,\n",
    "        customer_id,\n",
    "        NOT EXISTS (\n",
    "            SELECT 1\n",
    "            FROM review\n",
    "            WHERE\n",
    "                review.customer_id = customer.customer_id AND\n",
    "                review.review_time BETWEEN window_min_time AND window_max_time\n",
    "        ) AS churn\n",
    "    FROM\n",
    "        time_window_df,\n",
    "        customer\n",
    "    \"\"\"\n",
    ").df()"
   ]
  },
  {
   "cell_type": "code",
   "execution_count": 51,
   "id": "6a357d46-0c23-44e5-b1e9-29b274c1c8c9",
   "metadata": {
    "execution": {
     "iopub.execute_input": "2023-11-14T01:10:15.758675Z",
     "iopub.status.busy": "2023-11-14T01:10:15.757974Z",
     "iopub.status.idle": "2023-11-14T01:10:15.871206Z",
     "shell.execute_reply": "2023-11-14T01:10:15.870463Z",
     "shell.execute_reply.started": "2023-11-14T01:10:15.758634Z"
    }
   },
   "outputs": [
    {
     "data": {
      "text/plain": [
       "<Axes: xlabel='churn'>"
      ]
     },
     "execution_count": 51,
     "metadata": {},
     "output_type": "execute_result"
    },
    {
     "data": {
      "image/png": "[encoded data removed]",
      "text/plain": [
       "<Figure size 640x480 with 1 Axes>"
      ]
     },
     "metadata": {},
     "output_type": "display_data"
    }
   ],
   "source": [
    "df[\"churn\"].value_counts().plot(kind=\"bar\")"
   ]
  },
  {
   "cell_type": "code",
   "execution_count": 21,
   "id": "4561e8ff-5c1a-44a1-9989-44731a512bbb",
   "metadata": {
    "execution": {
     "iopub.execute_input": "2023-11-13T23:25:59.811796Z",
     "iopub.status.busy": "2023-11-13T23:25:59.811393Z",
     "iopub.status.idle": "2023-11-13T23:25:59.910389Z",
     "shell.execute_reply": "2023-11-13T23:25:59.909463Z",
     "shell.execute_reply.started": "2023-11-13T23:25:59.811727Z"
    }
   },
   "outputs": [
    {
     "data": {
      "text/plain": [
       "┌──────────────┐\n",
       "│ count_star() │\n",
       "│    int64     │\n",
       "├──────────────┤\n",
       "│       132805 │\n",
       "└──────────────┘"
      ]
     },
     "execution_count": 21,
     "metadata": {},
     "output_type": "execute_result"
    }
   ],
   "source": [
    "duckdb.sql(\n",
    "    r\"\"\"\n",
    "    SELECT COUNT(*)\n",
    "    FROM churn\n",
    "    WHERE churn = true\n",
    "    \"\"\"\n",
    ")"
   ]
  },
  {
   "cell_type": "code",
   "execution_count": 22,
   "id": "5e4a7644-77b1-45de-b6d4-2357513cbf7b",
   "metadata": {
    "execution": {
     "iopub.execute_input": "2023-11-13T23:26:27.341972Z",
     "iopub.status.busy": "2023-11-13T23:26:27.341550Z",
     "iopub.status.idle": "2023-11-13T23:26:27.550044Z",
     "shell.execute_reply": "2023-11-13T23:26:27.548939Z",
     "shell.execute_reply.started": "2023-11-13T23:26:27.341934Z"
    }
   },
   "outputs": [
    {
     "data": {
      "text/plain": [
       "┌──────────────┐\n",
       "│ count_star() │\n",
       "│    int64     │\n",
       "├──────────────┤\n",
       "│       134403 │\n",
       "└──────────────┘"
      ]
     },
     "execution_count": 22,
     "metadata": {},
     "output_type": "execute_result"
    }
   ],
   "source": [
    "duckdb.sql(\n",
    "    r\"\"\"\n",
    "    SELECT COUNT(*)\n",
    "    FROM customer\n",
    "    \"\"\"\n",
    ")"
   ]
  },
  {
   "cell_type": "code",
   "execution_count": 48,
   "id": "f75d303b-1461-4ccb-bd68-c6f14e278a8d",
   "metadata": {
    "execution": {
     "iopub.execute_input": "2023-11-14T01:07:27.350146Z",
     "iopub.status.busy": "2023-11-14T01:07:27.349666Z",
     "iopub.status.idle": "2023-11-14T01:07:27.385828Z",
     "shell.execute_reply": "2023-11-14T01:07:27.384836Z",
     "shell.execute_reply.started": "2023-11-14T01:07:27.350106Z"
    }
   },
   "outputs": [
    {
     "data": {
      "text/html": [
       "<div>\n",
       "<style scoped>\n",
       "    .dataframe tbody tr th:only-of-type {\n",
       "        vertical-align: middle;\n",
       "    }\n",
       "\n",
       "    .dataframe tbody tr th {\n",
       "        vertical-align: top;\n",
       "    }\n",
       "\n",
       "    .dataframe thead th {\n",
       "        text-align: right;\n",
       "    }\n",
       "</style>\n",
       "<table border=\"1\" class=\"dataframe\">\n",
       "  <thead>\n",
       "    <tr style=\"text-align: right;\">\n",
       "      <th></th>\n",
       "      <th>product_id</th>\n",
       "      <th>category</th>\n",
       "      <th>brand</th>\n",
       "      <th>title</th>\n",
       "      <th>description</th>\n",
       "      <th>price</th>\n",
       "    </tr>\n",
       "  </thead>\n",
       "  <tbody>\n",
       "    <tr>\n",
       "      <th>0</th>\n",
       "      <td>0972585419</td>\n",
       "      <td>[Pet Supplies, Top Selection from AmazonPets]</td>\n",
       "      <td>Pet Media</td>\n",
       "      <td>Pet Media Feathered Phonics The Easy Way To Te...</td>\n",
       "      <td>Volume 1: 96 Words &amp;amp; Phrases! This is the ...</td>\n",
       "      <td>6.97</td>\n",
       "    </tr>\n",
       "    <tr>\n",
       "      <th>1</th>\n",
       "      <td>0978619404</td>\n",
       "      <td>[Pet Supplies, Fish &amp; Aquatic Pets, Aquarium D...</td>\n",
       "      <td>James W. Fatherree</td>\n",
       "      <td>Giant Clams in the Sea and the Aquarium</td>\n",
       "      <td>...James Fatherree has brought together the mo...</td>\n",
       "      <td>34.95</td>\n",
       "    </tr>\n",
       "    <tr>\n",
       "      <th>2</th>\n",
       "      <td>1300450991</td>\n",
       "      <td>[Pet Supplies, Dogs, Health Supplies, Suppleme...</td>\n",
       "      <td>VetVittles</td>\n",
       "      <td>Puppy Booster Herbal Supplement for Dogs</td>\n",
       "      <td>VetVittles tm Puppy Booster. (improved formula...</td>\n",
       "      <td>12.07</td>\n",
       "    </tr>\n",
       "    <tr>\n",
       "      <th>3</th>\n",
       "      <td>1440572828</td>\n",
       "      <td>[Pet Supplies, Dogs, Treats]</td>\n",
       "      <td>Visit Amazon's Paris Permenter Page</td>\n",
       "      <td>The Healthy Hound Cookbook: Over 125 Easy Reci...</td>\n",
       "      <td>\"You won't want to miss this one from Paris Pe...</td>\n",
       "      <td>14.75</td>\n",
       "    </tr>\n",
       "    <tr>\n",
       "      <th>4</th>\n",
       "      <td>1612231977</td>\n",
       "      <td>[Pet Supplies, Dogs, Health Supplies, Hip &amp;amp...</td>\n",
       "      <td>DR.REXY</td>\n",
       "      <td>DR.REXY Hemp Oil for Dogs and Cats - 100% Orga...</td>\n",
       "      <td>Dr. Rexy hemp oil has powerful anti-inflammato...</td>\n",
       "      <td>19.90</td>\n",
       "    </tr>\n",
       "    <tr>\n",
       "      <th>...</th>\n",
       "      <td>...</td>\n",
       "      <td>...</td>\n",
       "      <td>...</td>\n",
       "      <td>...</td>\n",
       "      <td>...</td>\n",
       "      <td>...</td>\n",
       "    </tr>\n",
       "    <tr>\n",
       "      <th>27852</th>\n",
       "      <td>B01H0R2Z1M</td>\n",
       "      <td>[Pet Supplies, Small Animals, Collars, Harness...</td>\n",
       "      <td>FastEngle</td>\n",
       "      <td>FastEngle Pet LED Bone-shape Lights Pendant, D...</td>\n",
       "      <td>The lightweight bone shape LED pendants are fi...</td>\n",
       "      <td>4.69</td>\n",
       "    </tr>\n",
       "    <tr>\n",
       "      <th>27853</th>\n",
       "      <td>B01HCSNBHG</td>\n",
       "      <td>[Pet Supplies, Fish &amp; Aquatic Pets, Aquarium D...</td>\n",
       "      <td>Greenpro</td>\n",
       "      <td>GreenPro 3-Bundles Echinodorus Hadi Red Pearl ...</td>\n",
       "      <td>&lt;b&gt;- You get 3 bundles of Hadi Red Pearl.The p...</td>\n",
       "      <td>19.99</td>\n",
       "    </tr>\n",
       "    <tr>\n",
       "      <th>27854</th>\n",
       "      <td>B01HDY0AWS</td>\n",
       "      <td>[Pet Supplies, Fish &amp; Aquatic Pets, Aquarium P...</td>\n",
       "      <td>Eheim</td>\n",
       "      <td>EHEIM Coarse Filter Pad (Blue) for Classic Ext...</td>\n",
       "      <td>EHEIM Coarse Filter Pad (Blue) for Classic Ext...</td>\n",
       "      <td>28.18</td>\n",
       "    </tr>\n",
       "    <tr>\n",
       "      <th>27855</th>\n",
       "      <td>B01HGD9HG6</td>\n",
       "      <td>[Pet Supplies, Dogs, Training &amp; Behavior Aids,...</td>\n",
       "      <td>Mimibox</td>\n",
       "      <td>Mimibox Sturdy Dog Leash 6FT Reflective Nylon ...</td>\n",
       "      <td>&lt;b&gt;Design From Animal Anthropomorphic Idea&lt;/B&gt;...</td>\n",
       "      <td>12.95</td>\n",
       "    </tr>\n",
       "    <tr>\n",
       "      <th>27856</th>\n",
       "      <td>B01HHB1IS2</td>\n",
       "      <td>None</td>\n",
       "      <td>Scratch and Peck Feeds</td>\n",
       "      <td>Cluckin' Good Corn, Organic and Non-GMO Projec...</td>\n",
       "      <td>Our Cluckin' Good Corn is Certified Organic an...</td>\n",
       "      <td>22.99</td>\n",
       "    </tr>\n",
       "  </tbody>\n",
       "</table>\n",
       "<p>27857 rows × 6 columns</p>\n",
       "</div>"
      ],
      "text/plain": [
       "       product_id                                           category  \\\n",
       "0      0972585419      [Pet Supplies, Top Selection from AmazonPets]   \n",
       "1      0978619404  [Pet Supplies, Fish & Aquatic Pets, Aquarium D...   \n",
       "2      1300450991  [Pet Supplies, Dogs, Health Supplies, Suppleme...   \n",
       "3      1440572828                       [Pet Supplies, Dogs, Treats]   \n",
       "4      1612231977  [Pet Supplies, Dogs, Health Supplies, Hip &amp...   \n",
       "...           ...                                                ...   \n",
       "27852  B01H0R2Z1M  [Pet Supplies, Small Animals, Collars, Harness...   \n",
       "27853  B01HCSNBHG  [Pet Supplies, Fish & Aquatic Pets, Aquarium D...   \n",
       "27854  B01HDY0AWS  [Pet Supplies, Fish & Aquatic Pets, Aquarium P...   \n",
       "27855  B01HGD9HG6  [Pet Supplies, Dogs, Training & Behavior Aids,...   \n",
       "27856  B01HHB1IS2                                               None   \n",
       "\n",
       "                                     brand  \\\n",
       "0                                Pet Media   \n",
       "1                       James W. Fatherree   \n",
       "2                               VetVittles   \n",
       "3      Visit Amazon's Paris Permenter Page   \n",
       "4                                  DR.REXY   \n",
       "...                                    ...   \n",
       "27852                            FastEngle   \n",
       "27853                             Greenpro   \n",
       "27854                                Eheim   \n",
       "27855                              Mimibox   \n",
       "27856               Scratch and Peck Feeds   \n",
       "\n",
       "                                                   title  \\\n",
       "0      Pet Media Feathered Phonics The Easy Way To Te...   \n",
       "1                Giant Clams in the Sea and the Aquarium   \n",
       "2               Puppy Booster Herbal Supplement for Dogs   \n",
       "3      The Healthy Hound Cookbook: Over 125 Easy Reci...   \n",
       "4      DR.REXY Hemp Oil for Dogs and Cats - 100% Orga...   \n",
       "...                                                  ...   \n",
       "27852  FastEngle Pet LED Bone-shape Lights Pendant, D...   \n",
       "27853  GreenPro 3-Bundles Echinodorus Hadi Red Pearl ...   \n",
       "27854  EHEIM Coarse Filter Pad (Blue) for Classic Ext...   \n",
       "27855  Mimibox Sturdy Dog Leash 6FT Reflective Nylon ...   \n",
       "27856  Cluckin' Good Corn, Organic and Non-GMO Projec...   \n",
       "\n",
       "                                             description  price  \n",
       "0      Volume 1: 96 Words &amp; Phrases! This is the ...   6.97  \n",
       "1      ...James Fatherree has brought together the mo...  34.95  \n",
       "2      VetVittles tm Puppy Booster. (improved formula...  12.07  \n",
       "3      \"You won't want to miss this one from Paris Pe...  14.75  \n",
       "4      Dr. Rexy hemp oil has powerful anti-inflammato...  19.90  \n",
       "...                                                  ...    ...  \n",
       "27852  The lightweight bone shape LED pendants are fi...   4.69  \n",
       "27853  <b>- You get 3 bundles of Hadi Red Pearl.The p...  19.99  \n",
       "27854  EHEIM Coarse Filter Pad (Blue) for Classic Ext...  28.18  \n",
       "27855  <b>Design From Animal Anthropomorphic Idea</B>...  12.95  \n",
       "27856  Our Cluckin' Good Corn is Certified Organic an...  22.99  \n",
       "\n",
       "[27857 rows x 6 columns]"
      ]
     },
     "execution_count": 48,
     "metadata": {},
     "output_type": "execute_result"
    }
   ],
   "source": [
    "product"
   ]
  },
  {
   "cell_type": "code",
   "execution_count": null,
   "id": "a54dcfca-2ed9-4f6e-9e44-6ad46d27238f",
   "metadata": {},
   "outputs": [],
   "source": []
  }
 ],
 "metadata": {
  "kernelspec": {
   "display_name": "Python [conda env:rtb]",
   "language": "python",
   "name": "conda-env-rtb-py"
  },
  "language_info": {
   "codemirror_mode": {
    "name": "ipython",
    "version": 3
   },
   "file_extension": ".py",
   "mimetype": "text/x-python",
   "name": "python",
   "nbconvert_exporter": "python",
   "pygments_lexer": "ipython3",
   "version": "3.10.13"
  }
 },
 "nbformat": 4,
 "nbformat_minor": 5
}
